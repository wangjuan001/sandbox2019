{
  "nbformat": 4,
  "nbformat_minor": 0,
  "metadata": {
    "colab": {
      "name": "BMMB554_homework2.ipynb",
      "version": "0.3.2",
      "provenance": [],
      "collapsed_sections": [],
      "include_colab_link": true
    },
    "kernelspec": {
      "name": "python3",
      "display_name": "Python 3"
    }
  },
  "cells": [
    {
      "cell_type": "markdown",
      "metadata": {
        "id": "view-in-github",
        "colab_type": "text"
      },
      "source": [
        "<a href=\"https://colab.research.google.com/github/wangjuan001/sandbox2019/blob/master/BMMB554_homework2.ipynb\" target=\"_parent\"><img src=\"https://colab.research.google.com/assets/colab-badge.svg\" alt=\"Open In Colab\"/></a>"
      ]
    },
    {
      "metadata": {
        "id": "elGnUDBJrFn4",
        "colab_type": "code",
        "colab": {}
      },
      "cell_type": "code",
      "source": [
        "from random import choice\n",
        "from operator import itemgetter\n",
        "\n",
        "## generate a random DNA sequence.\n",
        "\n",
        "def String(length):\n",
        "\n",
        "       DNA=\"\"\n",
        "       for count in range(length):\n",
        "          DNA+=choice(\"CGTA\")\n",
        "       return(DNA)\n"
      ],
      "execution_count": 0,
      "outputs": []
    },
    {
      "metadata": {
        "id": "XznrNQp4uZGB",
        "colab_type": "code",
        "colab": {
          "base_uri": "https://localhost:8080/",
          "height": 34
        },
        "outputId": "34e21fcf-06a2-4a09-a4e4-5393b3004184"
      },
      "cell_type": "code",
      "source": [
        "Seq = String(10)\n",
        "print(Seq)"
      ],
      "execution_count": 21,
      "outputs": [
        {
          "output_type": "stream",
          "text": [
            "CTAAACGGCT\n"
          ],
          "name": "stdout"
        }
      ]
    },
    {
      "metadata": {
        "id": "JzvTrjhmuQHN",
        "colab_type": "code",
        "colab": {}
      },
      "cell_type": "code",
      "source": [
        "## BWTransformation. sort every rotated sequence and get the last column of the seqs. \n",
        "def bw_transform(s):\n",
        "    n = len(s)\n",
        "    m = sorted([s[i:n]+s[0:i] for i in range(n)])\n",
        "    I = m.index(s)\n",
        "    print(I)\n",
        "    L = ''.join([q[-1] for q in m])\n",
        "    return((I, L))\n",
        "  \n"
      ],
      "execution_count": 0,
      "outputs": []
    },
    {
      "metadata": {
        "id": "GnOci91esQm7",
        "colab_type": "code",
        "colab": {
          "base_uri": "https://localhost:8080/",
          "height": 51
        },
        "outputId": "16fe371b-cbb7-4ad3-8545-b48c0e453e8f"
      },
      "cell_type": "code",
      "source": [
        "BWT = bw_transform(Seq)\n",
        "print(BWT)"
      ],
      "execution_count": 23,
      "outputs": [
        {
          "output_type": "stream",
          "text": [
            "4\n",
            "(4, 'TAAATGGCCC')\n"
          ],
          "name": "stdout"
        }
      ]
    }
  ]
}