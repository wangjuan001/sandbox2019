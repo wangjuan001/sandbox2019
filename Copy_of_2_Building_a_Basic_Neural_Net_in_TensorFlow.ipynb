{
  "nbformat": 4,
  "nbformat_minor": 0,
  "metadata": {
    "colab": {
      "name": "Copy of 2: Building a Basic Neural Net in TensorFlow",
      "provenance": [],
      "collapsed_sections": [],
      "include_colab_link": true
    },
    "kernelspec": {
      "name": "python3",
      "display_name": "Python 3"
    }
  },
  "cells": [
    {
      "cell_type": "markdown",
      "metadata": {
        "id": "view-in-github",
        "colab_type": "text"
      },
      "source": [
        "<a href=\"https://colab.research.google.com/github/wangjuan001/sandbox2019/blob/master/Copy_of_2_Building_a_Basic_Neural_Net_in_TensorFlow.ipynb\" target=\"_parent\"><img src=\"https://colab.research.google.com/assets/colab-badge.svg\" alt=\"Open In Colab\"/></a>"
      ]
    },
    {
      "cell_type": "markdown",
      "metadata": {
        "id": "8dJlEEGhE5_t",
        "colab_type": "text"
      },
      "source": [
        "# __2: Building a Basic Neural Net in TensorFlow__\n",
        "\n",
        "## Learning Objectives\n",
        "\n",
        "In this notebook, we'll learn...\n",
        "- the basic components of a deep neural network\n",
        "- how to express and combine them into a model in TensorFlow\n",
        "- how to visualize a declared model\n",
        "- how to compile and fit a neural network"
      ]
    },
    {
      "cell_type": "markdown",
      "metadata": {
        "id": "M6or-5BxPYHG",
        "colab_type": "text"
      },
      "source": [
        "## __The Sequential Model__\n",
        "\n",
        "The vast majority of deep learning applications employ a [sequential structure](https://keras.io/getting-started/sequential-model-guide/), meaning that layers are stacked in order from the input to output layers. In the example below, the input layer passes to hidden layer 1, layer 1 to hidden layer 2, and finally layer 2 to the output layer.\n",
        "\n",
        "<img src=\"https://github.com/allemanau/NUIT_tensorflow/blob/master/images/sequential_model.png?raw=1\">\n",
        "\n",
        "We build sequential models progressively by adding layers to a model object. To start adding layers, though, we need an empty model to start. Using Keras, a sequential model can be declared as follows:\n",
        "```\n",
        "model = Sequential()\n",
        "```\n",
        "Let's load up TensorFlow and actually declare an empty model."
      ]
    },
    {
      "cell_type": "code",
      "metadata": {
        "id": "Z24-ocMnSmqf",
        "colab_type": "code",
        "colab": {}
      },
      "source": [
        "# Import latest TensorFlow 2 release\n",
        "# Until 2.x is the default in Colab, stipulates that we want to load the latest version of TensorFlow 2.0, not 1.x.\n",
        "%tensorflow_version 2.x\n",
        "import tensorflow as tf\n",
        "from tensorflow.keras.models import Sequential\n",
        "from tensorflow.keras.layers import Dense, Activation, Dropout, Input, Reshape, Flatten\n",
        "from tensorflow.keras.utils import plot_model, to_categorical\n",
        "\n",
        "# For simulating data and plotting results.\n",
        "import numpy as np\n",
        "import matplotlib.pyplot as plt"
      ],
      "execution_count": null,
      "outputs": []
    },
    {
      "cell_type": "markdown",
      "metadata": {
        "id": "IVSJzsphSzII",
        "colab_type": "text"
      },
      "source": [
        "Since we've expressly imported the `tensorflow.keras.models` module, we instantiate the model as below. We can visualize the structure of model using a utility from `tensorflow.keras.utils`:"
      ]
    },
    {
      "cell_type": "code",
      "metadata": {
        "id": "RNZd3_4LS0yM",
        "colab_type": "code",
        "colab": {
          "base_uri": "https://localhost:8080/",
          "height": 77
        },
        "outputId": "d6f53cc1-a406-4ca0-f134-2d3d9f3479bd"
      },
      "source": [
        "my_model = Sequential()\n",
        "\n",
        "# We can use the plot_model function from tensorflow.keras.utils to visualize our empty model\n",
        "plot_model(my_model, show_shapes = True)"
      ],
      "execution_count": null,
      "outputs": [
        {
          "output_type": "execute_result",
          "data": {
            "image/png": "[encoded data removed]",
            "text/plain": [
              "<IPython.core.display.Image object>"
            ]
          },
          "metadata": {
            "tags": []
          },
          "execution_count": 2
        }
      ]
    },
    {
      "cell_type": "markdown",
      "metadata": {
        "id": "kdFJlrjLX-Dl",
        "colab_type": "text"
      },
      "source": [
        "### Adding layers to a model\n",
        "\n",
        "Once a model is instantiated, you can add a layer of neurons to it using the `add()` method:\n",
        "```\n",
        "my_model = Sequential()\n",
        "my_model.add(...)\n",
        "```\n",
        "But before we actually try this, we should discuss the types of layers available to add!"
      ]
    },
    {
      "cell_type": "markdown",
      "metadata": {
        "id": "uU4viTpSJF07",
        "colab_type": "text"
      },
      "source": [
        "## __Core Layers__\n",
        "\n",
        "TensorFlow offers a collection of so-called [core layers](https://keras.io/layers/core/). These constructs are the building blocks of most neural networks. Let's discuss the ones that will get us up and running."
      ]
    },
    {
      "cell_type": "markdown",
      "metadata": {
        "colab_type": "text",
        "id": "EuNhO7cTj4W1"
      },
      "source": [
        "### Input layer\n",
        "\n",
        "Input layers __explicitly__ specify the input shape (excluding number of examples) of the input. For example, if our inputs were vectors of length 3, we could do the following:"
      ]
    },
    {
      "cell_type": "code",
      "metadata": {
        "id": "-44pmGdUkgnt",
        "colab_type": "code",
        "colab": {
          "base_uri": "https://localhost:8080/",
          "height": 90
        },
        "outputId": "96d330d7-99ab-46c2-cdc3-eea10f659bef"
      },
      "source": [
        "my_model = Sequential()\n",
        "my_model.add(Input(shape = (3,)))\n",
        "\n",
        "# We can use the plot_model function from tensorflow.keras.utils to visualize our empty model.\n",
        "# show_shapes = True ensures the input and output dimensions for each layer are reported.\n",
        "plot_model(my_model, show_shapes = True)"
      ],
      "execution_count": null,
      "outputs": [
        {
          "output_type": "execute_result",
          "data": {
            "image/png": "[encoded data removed]",
            "text/plain": [
              "<IPython.core.display.Image object>"
            ]
          },
          "metadata": {
            "tags": []
          },
          "execution_count": 3
        }
      ]
    },
    {
      "cell_type": "markdown",
      "metadata": {
        "id": "ugkjc_VKkhsJ",
        "colab_type": "text"
      },
      "source": [
        "Now we have the very first layer of a model. The '?' in the `plot_model` output indicates that the number of examples varies. Each example is a 1D tensor of size 3. Thus, if we have `n` examples, our input data is a 2D tensor of size `(n, 3)`. "
      ]
    },
    {
      "cell_type": "markdown",
      "metadata": {
        "id": "gqNFr-XPLYaS",
        "colab_type": "text"
      },
      "source": [
        "### Dense layer\n",
        "\n",
        "`Dense` layers are the hidden layers you might be familiar with in standard neural networks. They are fully connected to inputs in the preceding layer, and outputs in the following layer. This small example is composed only of `Dense` layers:\n",
        "\n",
        "<img src=\"https://github.com/allemanau/NUIT_tensorflow/blob/master/images/larger_example_network.png?raw=1\">\n",
        "\n"
      ]
    },
    {
      "cell_type": "markdown",
      "metadata": {
        "id": "yI-1PMKskA-G",
        "colab_type": "text"
      },
      "source": [
        "__Hidden layer 1__ is a `Dense` layer with 4 units. We could add it to a model with an existing `Input` layer like so:"
      ]
    },
    {
      "cell_type": "code",
      "metadata": {
        "id": "IN1DNoFdk6Oo",
        "colab_type": "code",
        "colab": {
          "base_uri": "https://localhost:8080/",
          "height": 201
        },
        "outputId": "c1bdcf65-6fdb-4a56-b3f6-d3c8754407a9"
      },
      "source": [
        "# From before, just to reiterate.\n",
        "my_model = Sequential()\n",
        "my_model.add(Input(shape = (3,)))\n",
        "\n",
        "# Add hidden layer 1\n",
        "my_model.add(Dense(units = 4))\n",
        "\n",
        "plot_model(my_model, show_shapes = True)"
      ],
      "execution_count": null,
      "outputs": [
        {
          "output_type": "execute_result",
          "data": {
            "image/png": "[encoded data removed]",
            "text/plain": [
              "<IPython.core.display.Image object>"
            ]
          },
          "metadata": {
            "tags": []
          },
          "execution_count": 4
        }
      ]
    },
    {
      "cell_type": "markdown",
      "metadata": {
        "colab_type": "text",
        "id": "Kj5DMzzAj6t7"
      },
      "source": [
        "If we haven't specified `Input` we can use the `input_shape` argument to implicitly define it:"
      ]
    },
    {
      "cell_type": "code",
      "metadata": {
        "id": "d6tr0hsVlPAo",
        "colab_type": "code",
        "colab": {
          "base_uri": "https://localhost:8080/",
          "height": 201
        },
        "outputId": "467e6b77-3d43-4004-a6e4-39f19f2fd7b7"
      },
      "source": [
        "# Redeclare empty my_model. Notice no input layer is explicitly specified.\n",
        "my_model = Sequential()\n",
        "my_model.add(Dense(units = 4, input_shape = (3,)))\n",
        "\n",
        "plot_model(my_model, show_shapes = True)"
      ],
      "execution_count": null,
      "outputs": [
        {
          "output_type": "execute_result",
          "data": {
            "image/png": "[encoded data removed]",
            "text/plain": [
              "<IPython.core.display.Image object>"
            ]
          },
          "metadata": {
            "tags": []
          },
          "execution_count": 5
        }
      ]
    },
    {
      "cell_type": "markdown",
      "metadata": {
        "id": "GZ4AS2zwkqm5",
        "colab_type": "text"
      },
      "source": [
        "In a sequential model in TensorFlow, __hidden layer 2__ is aware of hidden layer 1's shape, so assuming we've already added hidden layer 1 we just declare hidden layer 2 as:"
      ]
    },
    {
      "cell_type": "code",
      "metadata": {
        "id": "bILpkJBWm-ag",
        "colab_type": "code",
        "colab": {}
      },
      "source": [
        "my_model.add(Dense(4))"
      ],
      "execution_count": null,
      "outputs": []
    },
    {
      "cell_type": "markdown",
      "metadata": {
        "id": "4n5IehwkmVNC",
        "colab_type": "text"
      },
      "source": [
        "In general classification problems, the output layer will be a `Dense` layer of the same size as the number of possible classes. (__Note:__ binary problems have an equivalent representation with one neuron in the output layer. For consistency, we'll ignore this case.) In this layer, the node with the highest activation value for a given input determines the class:"
      ]
    },
    {
      "cell_type": "code",
      "metadata": {
        "id": "Oc38DxKjm00s",
        "colab_type": "code",
        "colab": {}
      },
      "source": [
        "my_model.add(Dense(2))"
      ],
      "execution_count": null,
      "outputs": []
    },
    {
      "cell_type": "markdown",
      "metadata": {
        "id": "zxKfcJESnDt2",
        "colab_type": "text"
      },
      "source": [
        "Let's take a look at the model diagram."
      ]
    },
    {
      "cell_type": "code",
      "metadata": {
        "id": "0UCmFZJinHWc",
        "colab_type": "code",
        "colab": {
          "base_uri": "https://localhost:8080/",
          "height": 422
        },
        "outputId": "be679732-811a-4ba4-dd26-5d1da0beaa71"
      },
      "source": [
        "plot_model(my_model, show_shapes = True)"
      ],
      "execution_count": null,
      "outputs": [
        {
          "output_type": "execute_result",
          "data": {
            "image/png": "[encoded data removed]",
            "text/plain": [
              "<IPython.core.display.Image object>"
            ]
          },
          "metadata": {
            "tags": []
          },
          "execution_count": 8
        }
      ]
    },
    {
      "cell_type": "markdown",
      "metadata": {
        "id": "UjY1kuQTOJOG",
        "colab_type": "text"
      },
      "source": [
        "### Activation\n",
        "\n",
        "The choice of activation function at each layer determines network performance and convergence of the weights in the training process. In the previous exercise, notice no mention was made of activation functions; in this case, a linear activation function is assumed. To change the activation function for a layer, we can sandwich in `Activation` layers, for example:"
      ]
    },
    {
      "cell_type": "code",
      "metadata": {
        "id": "JmTlm1rYlmQ7",
        "colab_type": "code",
        "colab": {
          "base_uri": "https://localhost:8080/",
          "height": 312
        },
        "outputId": "d5fdd3e0-f570-4549-bf05-37125b4a9f61"
      },
      "source": [
        "# Redeclare empty my_model.\n",
        "my_model = Sequential()\n",
        "my_model.add(Dense(units = 4, input_shape = (3,)))\n",
        "my_model.add(Activation(\"relu\"))\n",
        "\n",
        "plot_model(my_model, show_shapes = True)"
      ],
      "execution_count": null,
      "outputs": [
        {
          "output_type": "execute_result",
          "data": {
            "image/png": "[encoded data removed]",
            "text/plain": [
              "<IPython.core.display.Image object>"
            ]
          },
          "metadata": {
            "tags": []
          },
          "execution_count": 9
        }
      ]
    },
    {
      "cell_type": "markdown",
      "metadata": {
        "id": "WCbXkcGsn5pS",
        "colab_type": "text"
      },
      "source": [
        "A more concise way to layer in activation is just to use the `activation` argument in the `Dense()` call, as below. But be careful -- notice the visualization does not display an `Activation` layer in this case, so be careful in assembling your model! "
      ]
    },
    {
      "cell_type": "code",
      "metadata": {
        "id": "hFQ_l4PFoprd",
        "colab_type": "code",
        "colab": {
          "base_uri": "https://localhost:8080/",
          "height": 201
        },
        "outputId": "4ffe1a1a-6542-403c-aca7-f0d71cc0810d"
      },
      "source": [
        "# Redeclare empty my_model.\n",
        "my_model = Sequential()\n",
        "my_model.add(Dense(units = 4, input_shape = (3,), activation = \"relu\"))\n",
        "\n",
        "plot_model(my_model, show_shapes = True)"
      ],
      "execution_count": null,
      "outputs": [
        {
          "output_type": "execute_result",
          "data": {
            "image/png": "[encoded data removed]",
            "text/plain": [
              "<IPython.core.display.Image object>"
            ]
          },
          "metadata": {
            "tags": []
          },
          "execution_count": 10
        }
      ]
    },
    {
      "cell_type": "markdown",
      "metadata": {
        "id": "5M3CkHcapB-a",
        "colab_type": "text"
      },
      "source": [
        "As with all the various components of deep learning, there's an art and a science to choosing activation functions. A full list of available activations can be found in the [documentation](https://keras.io/activations/)."
      ]
    },
    {
      "cell_type": "markdown",
      "metadata": {
        "id": "1K0KBpm5cBty",
        "colab_type": "text"
      },
      "source": [
        "### Combining Dense and Activation Layers\n",
        "\n",
        "Let's build a quick model. Here's a network diagram for binary classification. Assume the hidden layer is activated by a sigmoid, and the output layer a softmax.\n",
        "\n",
        "<img src=\"https://github.com/allemanau/NUIT_tensorflow/blob/master/images/exercise_1.png?raw=1\">\n",
        "\n",
        "In TensorFlow, this model could be built as follows:"
      ]
    },
    {
      "cell_type": "code",
      "metadata": {
        "id": "Ve06ud8kcSdO",
        "colab_type": "code",
        "colab": {
          "base_uri": "https://localhost:8080/",
          "height": 533
        },
        "outputId": "6b2b5783-f6cf-44c4-fbc2-280b94218c3d"
      },
      "source": [
        "# Declare empty model.\n",
        "my_model = Sequential()\n",
        "\n",
        "# Add the input layer.\n",
        "my_model.add(Input(shape = (2,)))\n",
        "\n",
        "# Add a dense layer after the input layer.\n",
        "my_model.add(Dense(units = 3))\n",
        "\n",
        "# Activate the previous layer using sigmoids.\n",
        "my_model.add(Activation(activation = \"sigmoid\"))\n",
        "\n",
        "# Add an output layer. Our output layer has two classes, and hence is of size 2.\n",
        "my_model.add(Dense(units = 2))\n",
        "\n",
        "# Activate the output layer using softmax.\n",
        "my_model.add(Activation(activation = \"softmax\"))\n",
        "\n",
        "plot_model(my_model, show_shapes = True)"
      ],
      "execution_count": null,
      "outputs": [
        {
          "output_type": "execute_result",
          "data": {
            "image/png": "[encoded data removed]",
            "text/plain": [
              "<IPython.core.display.Image object>"
            ]
          },
          "metadata": {
            "tags": []
          },
          "execution_count": 11
        }
      ]
    },
    {
      "cell_type": "markdown",
      "metadata": {
        "id": "ZQPEwIQJUeAm",
        "colab_type": "text"
      },
      "source": [
        "### __Exercise 1: building a sequential model (~10 min)__\n",
        "\n",
        "Build a version of the network we've been referencing as an example: \n",
        "\n",
        "<img src=\"https://github.com/allemanau/NUIT_tensorflow/blob/master/images/larger_example_network.png?raw=1\">\n",
        "\n",
        "The hidden layers should be sigmoid (\"sigmoid\") activated, and the last layer should be softmax (\"softmax\") activated. First, do it with `Activation` layer calls. Then, do it with the `activation` argument in `Dense()` calls (`Dense(..., activation = \"blah\")`). In both cases, use `plot_model` to visualize.\n",
        "\n",
        "### Ex 1a: using `Dense` and `Activation` layers"
      ]
    },
    {
      "cell_type": "code",
      "metadata": {
        "id": "jHb4zU-_bUUD",
        "colab_type": "code",
        "colab": {
          "base_uri": "https://localhost:8080/",
          "height": 754
        },
        "outputId": "0693a6ca-aa95-43c9-8ad4-a5b53a8daf85"
      },
      "source": [
        "# Declare empty model.\n",
        "ex1a = Sequential()\n",
        "\n",
        "### Add layers here.\n",
        "ex1a.add(Input(shape=(3,)))\n",
        "\n",
        "ex1a.add(Dense(units=4))\n",
        "\n",
        "ex1a.add(Activation(activation='sigmoid'))\n",
        "\n",
        "ex1a.add(Dense(units=4))\n",
        "\n",
        "ex1a.add(Activation(activation='sigmoid'))\n",
        "\n",
        "ex1a.add(Dense(units=2))\n",
        "\n",
        "ex1a.add(Activation(activation='softmax'))\n",
        "\n",
        "\n",
        "\n",
        "###\n",
        "\n",
        "plot_model(ex1a, show_shapes = True)"
      ],
      "execution_count": null,
      "outputs": [
        {
          "output_type": "execute_result",
          "data": {
            "image/png": "[encoded data removed]",
            "text/plain": [
              "<IPython.core.display.Image object>"
            ]
          },
          "metadata": {
            "tags": []
          },
          "execution_count": 16
        }
      ]
    },
    {
      "cell_type": "markdown",
      "metadata": {
        "colab_type": "text",
        "id": "7G4Vcdwkj3-S"
      },
      "source": [
        "### Ex 1b: using `activation = ` arguments in `Dense()` calls"
      ]
    },
    {
      "cell_type": "code",
      "metadata": {
        "colab_type": "code",
        "id": "oik6SYKbj3oO",
        "colab": {
          "base_uri": "https://localhost:8080/",
          "height": 422
        },
        "outputId": "48de4aed-1e8b-4b23-a497-46667df3853a"
      },
      "source": [
        "# Declare empty model.\n",
        "ex1b = Sequential()\n",
        "\n",
        "### Add layers here.\n",
        "ex1b.add(Input(shape=(3,)))\n",
        "\n",
        "ex1b.add(Dense(units=4,activation='sigmoid'))\n",
        "\n",
        "\n",
        "ex1b.add(Dense(units=4,activation='sigmoid'))\n",
        "\n",
        "\n",
        "ex1b.add(Dense(units=2,activation='softmax'))\n",
        "\n",
        "\n",
        "###\n",
        "\n",
        "plot_model(ex1b, show_shapes = True)"
      ],
      "execution_count": null,
      "outputs": [
        {
          "output_type": "execute_result",
          "data": {
            "image/png": "[encoded data removed]",
            "text/plain": [
              "<IPython.core.display.Image object>"
            ]
          },
          "metadata": {
            "tags": []
          },
          "execution_count": 17
        }
      ]
    },
    {
      "cell_type": "markdown",
      "metadata": {
        "id": "d2ExNF4oLVoP",
        "colab_type": "text"
      },
      "source": [
        "### Dropout Layers\n",
        "\n",
        "Dropout is one efficient way to avoid overfitting as part of the training process. Dropout randomly deactivates a fraction of the nodes in a layer during each iteration of the training process. If you'd like to know how dropout helps to prevent overfitting, see this [gentle but detailed introduction](https://machinelearningmastery.com/dropout-for-regularizing-deep-neural-networks/).\n",
        "\n",
        "![](https://miro.medium.com/proxy/1*iWQzxhVlvadk6VAJjsgXgg.png)\n",
        "\n",
        "Like `Activation`, `Dropout` applies to the preceding layer. In actuality, dropout doesn't make a lot of sense for this particular network, but for larger, more complex architectures, we could use it to improve performance."
      ]
    },
    {
      "cell_type": "code",
      "metadata": {
        "id": "Kg3uRzhNxiIr",
        "colab_type": "code",
        "colab": {
          "base_uri": "https://localhost:8080/",
          "height": 644
        },
        "outputId": "9bfb1da4-751c-47c8-c121-e6d542e3ae71"
      },
      "source": [
        "my_model = Sequential()\n",
        "my_model.add(Input(shape = (2,)))\n",
        "my_model.add(Dense(units = 3))\n",
        "my_model.add(Activation(activation = \"sigmoid\"))\n",
        "\n",
        "# Add a dropout layer\n",
        "my_model.add(Dropout(rate = 0.33))\n",
        "\n",
        "my_model.add(Dense(units = 2))\n",
        "my_model.add(Activation(activation = \"softmax\"))\n",
        "\n",
        "plot_model(my_model, show_shapes = True)"
      ],
      "execution_count": null,
      "outputs": [
        {
          "output_type": "execute_result",
          "data": {
            "image/png": "[encoded data removed]",
            "text/plain": [
              "<IPython.core.display.Image object>"
            ]
          },
          "metadata": {
            "tags": []
          },
          "execution_count": 18
        }
      ]
    },
    {
      "cell_type": "markdown",
      "metadata": {
        "id": "QV-vv8LhyxIY",
        "colab_type": "text"
      },
      "source": [
        "### Flatten and Reshape\n",
        "\n",
        "\n",
        "`Reshape` converts a tensor of given dimension into one of another. In order for `Reshape` to work, the dimensions have to agree.\n",
        "\n",
        "`Flatten` simply converts a layer with more than one dimension to a 1D tensor. Useful for transforming input or hidden layers of dimension greater than one. If there is a special ordering in which the data should be flattened, the `data_format` argument can be used (although we won't use it).\n",
        "\n",
        "Here's an example using a `Flatten` layer to undo a `Reshape` layer:"
      ]
    },
    {
      "cell_type": "code",
      "metadata": {
        "id": "PBkpcZV9zuZI",
        "colab_type": "code",
        "colab": {
          "base_uri": "https://localhost:8080/",
          "height": 312
        },
        "outputId": "ce0e76ae-074a-4def-82ab-559d618bfb3c"
      },
      "source": [
        "my_model = Sequential()\n",
        "my_model.add(Input(shape = (8,)))\n",
        "\n",
        "# Here, reshape converts 1D length-10 tensor into a 3D 2x2x2 tensor:\n",
        "my_model.add(Reshape(target_shape = (2,2,2)))\n",
        "\n",
        "# Flatten undoes the works Reshape just did:\n",
        "my_model.add(Flatten())\n",
        "\n",
        "plot_model(my_model, show_shapes = True)"
      ],
      "execution_count": null,
      "outputs": [
        {
          "output_type": "execute_result",
          "data": {
            "image/png": "[encoded data removed]",
            "text/plain": [
              "<IPython.core.display.Image object>"
            ]
          },
          "metadata": {
            "tags": []
          },
          "execution_count": 19
        }
      ]
    },
    {
      "cell_type": "markdown",
      "metadata": {
        "id": "cGmhwLUP07sQ",
        "colab_type": "text"
      },
      "source": [
        "## __Compiling a Model__\n",
        "\n",
        "In order to train a model and use it to make predictions, the model needs to be \"compiled\", or configured for training. In this phase, we also specify some important components of the model such as [__loss function(s)__](https://keras.io/losses/) to minimize, [__metric(s)__](https://keras.io/metrics/) to report, and an [__optimizer__](https://keras.io/optimizers/) to use, among other options. This is a simple step if you know how to specify these options:"
      ]
    },
    {
      "cell_type": "code",
      "metadata": {
        "id": "qIRSXfOM2M4w",
        "colab_type": "code",
        "colab": {}
      },
      "source": [
        "my_model = Sequential()\n",
        "my_model.add(Input(shape = (3,)))\n",
        "my_model.add(Dense(units = 4))\n",
        "my_model.add(Activation(activation = \"sigmoid\"))\n",
        "my_model.add(Dense(units = 4))\n",
        "my_model.add(Activation(activation = \"sigmoid\"))\n",
        "my_model.add(Dense(units = 2))\n",
        "my_model.add(Activation(activation = \"softmax\"))\n",
        "\n",
        "# Train the network for binary classification using the following options:\n",
        "# Optimization routine = Stochastic Gradient Descent ('sgd')\n",
        "# Loss = binary cross-entropy (for multi-class problems, use 'categorical_crossentropy')\n",
        "# Metric = classification accuracy. Can be a list of multiple metrics if desired.\n",
        "my_model.compile(optimizer = 'adam',\n",
        "                 loss = 'binary_crossentropy',\n",
        "                 metrics = ['accuracy'])\n",
        "\n",
        "# No errors means our model compiled fine."
      ],
      "execution_count": null,
      "outputs": []
    },
    {
      "cell_type": "markdown",
      "metadata": {
        "id": "XTldkO9i4wSS",
        "colab_type": "text"
      },
      "source": [
        "Aside from the fact that you have to make sure the options make sense for your problem, the only trick here is that any time you change your model architecture or options, __it needs to be rebuilt and recompiled before training.__"
      ]
    },
    {
      "cell_type": "markdown",
      "metadata": {
        "id": "Cv8yT0Cp4rv2",
        "colab_type": "text"
      },
      "source": [
        "## __Training and Evaluating a Compiled Network__\n",
        "\n",
        "Only one step left before we have a fully operational Death Star -- err, model -- the __training phase__. Like model compilation, this is a straightforward step if you know some specifics:\n",
        "\n",
        "- `epochs`: how long should the model be trained for? \n",
        "- `batch_size`: how many examples should the model analyze and update on at a time?\n",
        "\n",
        "Let's start by simulating a binary classification problem for a network we've already built:"
      ]
    },
    {
      "cell_type": "code",
      "metadata": {
        "id": "xdgQJ3mv4Boj",
        "colab_type": "code",
        "colab": {
          "base_uri": "https://localhost:8080/",
          "height": 306
        },
        "outputId": "b71d0f55-5df2-48fb-a197-5cb7997988fb"
      },
      "source": [
        "# Set random initial seed, so we all have the same data.\n",
        "np.random.seed(2020)\n",
        "\n",
        "# Generate 1000 3-D points distributed in [0,1]x[0,1]x[0,1]\n",
        "x_train = np.random.random((1000, 3))\n",
        "\n",
        "# Generate nonlinear labels correlated with the random values in data.\n",
        "def label_gen(x):\n",
        "  return (x[0]*x[1] + np.random.normal(scale = .1)) > .5\n",
        "\n",
        "# Run the label_gen function for each row of x_train.\n",
        "labels = np.apply_along_axis(label_gen, 1, x_train)\n",
        "\n",
        "# Convert labels to categorical one-hot encoding\n",
        "y_train = to_categorical(labels, num_classes=2)\n",
        "\n",
        "print(\"Training data:\")\n",
        "print(x_train)\n",
        "print(\"\\nOne-hot encoded training labels:\")\n",
        "print(y_train)"
      ],
      "execution_count": null,
      "outputs": [
        {
          "output_type": "stream",
          "text": [
            "Training data:\n",
            "[[0.98627683 0.87339195 0.50974552]\n",
            " [0.27183571 0.33691873 0.21695427]\n",
            " [0.27647714 0.34331559 0.86215894]\n",
            " ...\n",
            " [0.29907663 0.28539503 0.32548271]\n",
            " [0.73633066 0.38508647 0.22415546]\n",
            " [0.90946914 0.84397851 0.3874555 ]]\n",
            "\n",
            "One-hot encoded training labels:\n",
            "[[0. 1.]\n",
            " [1. 0.]\n",
            " [1. 0.]\n",
            " ...\n",
            " [1. 0.]\n",
            " [1. 0.]\n",
            " [0. 1.]]\n"
          ],
          "name": "stdout"
        }
      ]
    },
    {
      "cell_type": "markdown",
      "metadata": {
        "id": "WiqLlfz786gv",
        "colab_type": "text"
      },
      "source": [
        "Now, training the model is as simple as feeding the training and test data to the `fit()` method. We'll let it go for 500 epochs and see what happens.\n",
        "\n",
        "__Note 1:__ `my_model` itself is permanently modified by the training process.\n",
        "\n",
        "__Note 2:__ although it may sound strange given how the code looks, `history` is not the trained model! It is a history of the training process, and offers many useful analysis and visualization tools. We'll see one in a second."
      ]
    },
    {
      "cell_type": "code",
      "metadata": {
        "id": "IaTqzI3O4Fgl",
        "colab_type": "code",
        "colab": {
          "base_uri": "https://localhost:8080/",
          "height": 1000
        },
        "outputId": "08afc69d-4789-48bf-cab7-833bbf4729f5"
      },
      "source": [
        "history = my_model.fit(x = x_train, \n",
        "                       y = y_train,\n",
        "                       epochs = 500)"
      ],
      "execution_count": null,
      "outputs": [
        {
          "output_type": "stream",
          "text": [
            "Epoch 1/500\n",
            "32/32 [==============================] - 0s 1ms/step - loss: 0.6999 - accuracy: 0.4540\n",
            "Epoch 2/500\n",
            "32/32 [==============================] - 0s 1ms/step - loss: 0.6337 - accuracy: 0.8160\n",
            "Epoch 3/500\n",
            "32/32 [==============================] - 0s 1ms/step - loss: 0.5839 - accuracy: 0.8160\n",
            "Epoch 4/500\n",
            "32/32 [==============================] - 0s 1ms/step - loss: 0.5472 - accuracy: 0.8160\n",
            "Epoch 5/500\n",
            "32/32 [==============================] - 0s 1ms/step - loss: 0.5219 - accuracy: 0.8160\n",
            "Epoch 6/500\n",
            "32/32 [==============================] - 0s 1ms/step - loss: 0.5059 - accuracy: 0.8160\n",
            "Epoch 7/500\n",
            "32/32 [==============================] - 0s 1ms/step - loss: 0.4954 - accuracy: 0.8160\n",
            "Epoch 8/500\n",
            "32/32 [==============================] - 0s 1ms/step - loss: 0.4893 - accuracy: 0.8160\n",
            "Epoch 9/500\n",
            "32/32 [==============================] - 0s 1ms/step - loss: 0.4855 - accuracy: 0.8160\n",
            "Epoch 10/500\n",
            "32/32 [==============================] - 0s 1ms/step - loss: 0.4836 - accuracy: 0.8160\n",
            "Epoch 11/500\n",
            "32/32 [==============================] - 0s 1ms/step - loss: 0.4821 - accuracy: 0.8160\n",
            "Epoch 12/500\n",
            "32/32 [==============================] - 0s 1ms/step - loss: 0.4815 - accuracy: 0.8160\n",
            "Epoch 13/500\n",
            "32/32 [==============================] - 0s 1ms/step - loss: 0.4807 - accuracy: 0.8160\n",
            "Epoch 14/500\n",
            "32/32 [==============================] - 0s 1ms/step - loss: 0.4803 - accuracy: 0.8160\n",
            "Epoch 15/500\n",
            "32/32 [==============================] - 0s 1ms/step - loss: 0.4800 - accuracy: 0.8160\n",
            "Epoch 16/500\n",
            "32/32 [==============================] - 0s 1ms/step - loss: 0.4797 - accuracy: 0.8160\n",
            "Epoch 17/500\n",
            "32/32 [==============================] - 0s 1ms/step - loss: 0.4794 - accuracy: 0.8160\n",
            "Epoch 18/500\n",
            "32/32 [==============================] - 0s 1ms/step - loss: 0.4792 - accuracy: 0.8160\n",
            "Epoch 19/500\n",
            "32/32 [==============================] - 0s 1ms/step - loss: 0.4790 - accuracy: 0.8160\n",
            "Epoch 20/500\n",
            "32/32 [==============================] - 0s 1ms/step - loss: 0.4787 - accuracy: 0.8160\n",
            "Epoch 21/500\n",
            "32/32 [==============================] - 0s 1ms/step - loss: 0.4786 - accuracy: 0.8160\n",
            "Epoch 22/500\n",
            "32/32 [==============================] - 0s 1ms/step - loss: 0.4783 - accuracy: 0.8160\n",
            "Epoch 23/500\n",
            "32/32 [==============================] - 0s 1ms/step - loss: 0.4782 - accuracy: 0.8160\n",
            "Epoch 24/500\n",
            "32/32 [==============================] - 0s 1ms/step - loss: 0.4780 - accuracy: 0.8160\n",
            "Epoch 25/500\n",
            "32/32 [==============================] - 0s 1ms/step - loss: 0.4778 - accuracy: 0.8160\n",
            "Epoch 26/500\n",
            "32/32 [==============================] - 0s 1ms/step - loss: 0.4776 - accuracy: 0.8160\n",
            "Epoch 27/500\n",
            "32/32 [==============================] - 0s 2ms/step - loss: 0.4774 - accuracy: 0.8160\n",
            "Epoch 28/500\n",
            "32/32 [==============================] - 0s 1ms/step - loss: 0.4772 - accuracy: 0.8160\n",
            "Epoch 29/500\n",
            "32/32 [==============================] - 0s 1ms/step - loss: 0.4770 - accuracy: 0.8160\n",
            "Epoch 30/500\n",
            "32/32 [==============================] - 0s 1ms/step - loss: 0.4767 - accuracy: 0.8160\n",
            "Epoch 31/500\n",
            "32/32 [==============================] - 0s 1ms/step - loss: 0.4768 - accuracy: 0.8160\n",
            "Epoch 32/500\n",
            "32/32 [==============================] - 0s 1ms/step - loss: 0.4766 - accuracy: 0.8160\n",
            "Epoch 33/500\n",
            "32/32 [==============================] - 0s 1ms/step - loss: 0.4761 - accuracy: 0.8160\n",
            "Epoch 34/500\n",
            "32/32 [==============================] - 0s 1ms/step - loss: 0.4758 - accuracy: 0.8160\n",
            "Epoch 35/500\n",
            "32/32 [==============================] - 0s 1ms/step - loss: 0.4755 - accuracy: 0.8160\n",
            "Epoch 36/500\n",
            "32/32 [==============================] - 0s 1ms/step - loss: 0.4752 - accuracy: 0.8160\n",
            "Epoch 37/500\n",
            "32/32 [==============================] - 0s 1ms/step - loss: 0.4748 - accuracy: 0.8160\n",
            "Epoch 38/500\n",
            "32/32 [==============================] - 0s 1ms/step - loss: 0.4745 - accuracy: 0.8160\n",
            "Epoch 39/500\n",
            "32/32 [==============================] - 0s 1ms/step - loss: 0.4742 - accuracy: 0.8160\n",
            "Epoch 40/500\n",
            "32/32 [==============================] - 0s 1ms/step - loss: 0.4739 - accuracy: 0.8160\n",
            "Epoch 41/500\n",
            "32/32 [==============================] - 0s 1ms/step - loss: 0.4733 - accuracy: 0.8160\n",
            "Epoch 42/500\n",
            "32/32 [==============================] - 0s 1ms/step - loss: 0.4729 - accuracy: 0.8160\n",
            "Epoch 43/500\n",
            "32/32 [==============================] - 0s 1ms/step - loss: 0.4723 - accuracy: 0.8160\n",
            "Epoch 44/500\n",
            "32/32 [==============================] - 0s 2ms/step - loss: 0.4717 - accuracy: 0.8160\n",
            "Epoch 45/500\n",
            "32/32 [==============================] - 0s 1ms/step - loss: 0.4711 - accuracy: 0.8160\n",
            "Epoch 46/500\n",
            "32/32 [==============================] - 0s 1ms/step - loss: 0.4705 - accuracy: 0.8160\n",
            "Epoch 47/500\n",
            "32/32 [==============================] - 0s 1ms/step - loss: 0.4699 - accuracy: 0.8160\n",
            "Epoch 48/500\n",
            "32/32 [==============================] - 0s 1ms/step - loss: 0.4691 - accuracy: 0.8160\n",
            "Epoch 49/500\n",
            "32/32 [==============================] - 0s 1ms/step - loss: 0.4685 - accuracy: 0.8160\n",
            "Epoch 50/500\n",
            "32/32 [==============================] - 0s 1ms/step - loss: 0.4674 - accuracy: 0.8160\n",
            "Epoch 51/500\n",
            "32/32 [==============================] - 0s 1ms/step - loss: 0.4667 - accuracy: 0.8160\n",
            "Epoch 52/500\n",
            "32/32 [==============================] - 0s 1ms/step - loss: 0.4654 - accuracy: 0.8160\n",
            "Epoch 53/500\n",
            "32/32 [==============================] - 0s 1ms/step - loss: 0.4644 - accuracy: 0.8160\n",
            "Epoch 54/500\n",
            "32/32 [==============================] - 0s 1ms/step - loss: 0.4631 - accuracy: 0.8160\n",
            "Epoch 55/500\n",
            "32/32 [==============================] - 0s 1ms/step - loss: 0.4619 - accuracy: 0.8160\n",
            "Epoch 56/500\n",
            "32/32 [==============================] - 0s 1ms/step - loss: 0.4610 - accuracy: 0.8160\n",
            "Epoch 57/500\n",
            "32/32 [==============================] - 0s 1ms/step - loss: 0.4593 - accuracy: 0.8160\n",
            "Epoch 58/500\n",
            "32/32 [==============================] - 0s 1ms/step - loss: 0.4577 - accuracy: 0.8160\n",
            "Epoch 59/500\n",
            "32/32 [==============================] - 0s 1ms/step - loss: 0.4561 - accuracy: 0.8160\n",
            "Epoch 60/500\n",
            "32/32 [==============================] - 0s 1ms/step - loss: 0.4547 - accuracy: 0.8160\n",
            "Epoch 61/500\n",
            "32/32 [==============================] - 0s 1ms/step - loss: 0.4527 - accuracy: 0.8160\n",
            "Epoch 62/500\n",
            "32/32 [==============================] - 0s 1ms/step - loss: 0.4508 - accuracy: 0.8160\n",
            "Epoch 63/500\n",
            "32/32 [==============================] - 0s 1ms/step - loss: 0.4488 - accuracy: 0.8160\n",
            "Epoch 64/500\n",
            "32/32 [==============================] - 0s 1ms/step - loss: 0.4467 - accuracy: 0.8160\n",
            "Epoch 65/500\n",
            "32/32 [==============================] - 0s 1ms/step - loss: 0.4444 - accuracy: 0.8160\n",
            "Epoch 66/500\n",
            "32/32 [==============================] - 0s 1ms/step - loss: 0.4421 - accuracy: 0.8160\n",
            "Epoch 67/500\n",
            "32/32 [==============================] - 0s 1ms/step - loss: 0.4396 - accuracy: 0.8160\n",
            "Epoch 68/500\n",
            "32/32 [==============================] - 0s 1ms/step - loss: 0.4371 - accuracy: 0.8160\n",
            "Epoch 69/500\n",
            "32/32 [==============================] - 0s 1ms/step - loss: 0.4343 - accuracy: 0.8160\n",
            "Epoch 70/500\n",
            "32/32 [==============================] - 0s 1ms/step - loss: 0.4317 - accuracy: 0.8160\n",
            "Epoch 71/500\n",
            "32/32 [==============================] - 0s 1ms/step - loss: 0.4287 - accuracy: 0.8160\n",
            "Epoch 72/500\n",
            "32/32 [==============================] - 0s 1ms/step - loss: 0.4255 - accuracy: 0.8160\n",
            "Epoch 73/500\n",
            "32/32 [==============================] - 0s 1ms/step - loss: 0.4222 - accuracy: 0.8160\n",
            "Epoch 74/500\n",
            "32/32 [==============================] - 0s 1ms/step - loss: 0.4189 - accuracy: 0.8160\n",
            "Epoch 75/500\n",
            "32/32 [==============================] - 0s 1ms/step - loss: 0.4155 - accuracy: 0.8160\n",
            "Epoch 76/500\n",
            "32/32 [==============================] - 0s 1ms/step - loss: 0.4119 - accuracy: 0.8160\n",
            "Epoch 77/500\n",
            "32/32 [==============================] - 0s 1ms/step - loss: 0.4081 - accuracy: 0.8160\n",
            "Epoch 78/500\n",
            "32/32 [==============================] - 0s 1ms/step - loss: 0.4043 - accuracy: 0.8160\n",
            "Epoch 79/500\n",
            "32/32 [==============================] - 0s 1ms/step - loss: 0.4005 - accuracy: 0.8160\n",
            "Epoch 80/500\n",
            "32/32 [==============================] - 0s 1ms/step - loss: 0.3967 - accuracy: 0.8160\n",
            "Epoch 81/500\n",
            "32/32 [==============================] - 0s 1ms/step - loss: 0.3926 - accuracy: 0.8160\n",
            "Epoch 82/500\n",
            "32/32 [==============================] - 0s 1ms/step - loss: 0.3885 - accuracy: 0.8160\n",
            "Epoch 83/500\n",
            "32/32 [==============================] - 0s 1ms/step - loss: 0.3844 - accuracy: 0.8160\n",
            "Epoch 84/500\n",
            "32/32 [==============================] - 0s 1ms/step - loss: 0.3802 - accuracy: 0.8160\n",
            "Epoch 85/500\n",
            "32/32 [==============================] - 0s 1ms/step - loss: 0.3759 - accuracy: 0.8160\n",
            "Epoch 86/500\n",
            "32/32 [==============================] - 0s 1ms/step - loss: 0.3715 - accuracy: 0.8160\n",
            "Epoch 87/500\n",
            "32/32 [==============================] - 0s 1ms/step - loss: 0.3671 - accuracy: 0.8160\n",
            "Epoch 88/500\n",
            "32/32 [==============================] - 0s 1ms/step - loss: 0.3627 - accuracy: 0.8160\n",
            "Epoch 89/500\n",
            "32/32 [==============================] - 0s 1ms/step - loss: 0.3583 - accuracy: 0.8160\n",
            "Epoch 90/500\n",
            "32/32 [==============================] - 0s 1ms/step - loss: 0.3537 - accuracy: 0.8160\n",
            "Epoch 91/500\n",
            "32/32 [==============================] - 0s 1ms/step - loss: 0.3494 - accuracy: 0.8160\n",
            "Epoch 92/500\n",
            "32/32 [==============================] - 0s 1ms/step - loss: 0.3449 - accuracy: 0.8160\n",
            "Epoch 93/500\n",
            "32/32 [==============================] - 0s 1ms/step - loss: 0.3405 - accuracy: 0.8160\n",
            "Epoch 94/500\n",
            "32/32 [==============================] - 0s 1ms/step - loss: 0.3361 - accuracy: 0.8160\n",
            "Epoch 95/500\n",
            "32/32 [==============================] - 0s 1ms/step - loss: 0.3318 - accuracy: 0.8160\n",
            "Epoch 96/500\n",
            "32/32 [==============================] - 0s 1ms/step - loss: 0.3276 - accuracy: 0.8160\n",
            "Epoch 97/500\n",
            "32/32 [==============================] - 0s 1ms/step - loss: 0.3231 - accuracy: 0.8160\n",
            "Epoch 98/500\n",
            "32/32 [==============================] - 0s 1ms/step - loss: 0.3190 - accuracy: 0.8160\n",
            "Epoch 99/500\n",
            "32/32 [==============================] - 0s 1ms/step - loss: 0.3149 - accuracy: 0.8160\n",
            "Epoch 100/500\n",
            "32/32 [==============================] - 0s 1ms/step - loss: 0.3109 - accuracy: 0.8160\n",
            "Epoch 101/500\n",
            "32/32 [==============================] - 0s 1ms/step - loss: 0.3071 - accuracy: 0.8160\n",
            "Epoch 102/500\n",
            "32/32 [==============================] - 0s 1ms/step - loss: 0.3030 - accuracy: 0.8160\n",
            "Epoch 103/500\n",
            "32/32 [==============================] - 0s 1ms/step - loss: 0.2992 - accuracy: 0.8160\n",
            "Epoch 104/500\n",
            "32/32 [==============================] - 0s 1ms/step - loss: 0.2954 - accuracy: 0.8160\n",
            "Epoch 105/500\n",
            "32/32 [==============================] - 0s 1ms/step - loss: 0.2916 - accuracy: 0.8160\n",
            "Epoch 106/500\n",
            "32/32 [==============================] - 0s 1ms/step - loss: 0.2882 - accuracy: 0.8160\n",
            "Epoch 107/500\n",
            "32/32 [==============================] - 0s 1ms/step - loss: 0.2848 - accuracy: 0.8160\n",
            "Epoch 108/500\n",
            "32/32 [==============================] - 0s 1ms/step - loss: 0.2811 - accuracy: 0.8160\n",
            "Epoch 109/500\n",
            "32/32 [==============================] - 0s 1ms/step - loss: 0.2777 - accuracy: 0.8160\n",
            "Epoch 110/500\n",
            "32/32 [==============================] - 0s 1ms/step - loss: 0.2744 - accuracy: 0.8170\n",
            "Epoch 111/500\n",
            "32/32 [==============================] - 0s 1ms/step - loss: 0.2713 - accuracy: 0.8210\n",
            "Epoch 112/500\n",
            "32/32 [==============================] - 0s 1ms/step - loss: 0.2679 - accuracy: 0.8250\n",
            "Epoch 113/500\n",
            "32/32 [==============================] - 0s 1ms/step - loss: 0.2648 - accuracy: 0.8310\n",
            "Epoch 114/500\n",
            "32/32 [==============================] - 0s 1ms/step - loss: 0.2616 - accuracy: 0.8340\n",
            "Epoch 115/500\n",
            "32/32 [==============================] - 0s 1ms/step - loss: 0.2586 - accuracy: 0.8370\n",
            "Epoch 116/500\n",
            "32/32 [==============================] - 0s 1ms/step - loss: 0.2558 - accuracy: 0.8530\n",
            "Epoch 117/500\n",
            "32/32 [==============================] - 0s 1ms/step - loss: 0.2530 - accuracy: 0.8510\n",
            "Epoch 118/500\n",
            "32/32 [==============================] - 0s 1ms/step - loss: 0.2502 - accuracy: 0.8590\n",
            "Epoch 119/500\n",
            "32/32 [==============================] - 0s 1ms/step - loss: 0.2476 - accuracy: 0.8680\n",
            "Epoch 120/500\n",
            "32/32 [==============================] - 0s 1ms/step - loss: 0.2448 - accuracy: 0.8670\n",
            "Epoch 121/500\n",
            "32/32 [==============================] - 0s 1ms/step - loss: 0.2420 - accuracy: 0.8710\n",
            "Epoch 122/500\n",
            "32/32 [==============================] - 0s 1ms/step - loss: 0.2397 - accuracy: 0.8790\n",
            "Epoch 123/500\n",
            "32/32 [==============================] - 0s 1ms/step - loss: 0.2369 - accuracy: 0.8830\n",
            "Epoch 124/500\n",
            "32/32 [==============================] - 0s 1ms/step - loss: 0.2346 - accuracy: 0.8880\n",
            "Epoch 125/500\n",
            "32/32 [==============================] - 0s 1ms/step - loss: 0.2324 - accuracy: 0.8900\n",
            "Epoch 126/500\n",
            "32/32 [==============================] - 0s 1ms/step - loss: 0.2297 - accuracy: 0.8940\n",
            "Epoch 127/500\n",
            "32/32 [==============================] - 0s 1ms/step - loss: 0.2273 - accuracy: 0.9010\n",
            "Epoch 128/500\n",
            "32/32 [==============================] - 0s 1ms/step - loss: 0.2253 - accuracy: 0.9080\n",
            "Epoch 129/500\n",
            "32/32 [==============================] - 0s 1ms/step - loss: 0.2228 - accuracy: 0.9080\n",
            "Epoch 130/500\n",
            "32/32 [==============================] - 0s 1ms/step - loss: 0.2208 - accuracy: 0.9100\n",
            "Epoch 131/500\n",
            "32/32 [==============================] - 0s 1ms/step - loss: 0.2189 - accuracy: 0.9090\n",
            "Epoch 132/500\n",
            "32/32 [==============================] - 0s 1ms/step - loss: 0.2166 - accuracy: 0.9180\n",
            "Epoch 133/500\n",
            "32/32 [==============================] - 0s 1ms/step - loss: 0.2146 - accuracy: 0.9200\n",
            "Epoch 134/500\n",
            "32/32 [==============================] - 0s 1ms/step - loss: 0.2131 - accuracy: 0.9210\n",
            "Epoch 135/500\n",
            "32/32 [==============================] - 0s 1ms/step - loss: 0.2108 - accuracy: 0.9230\n",
            "Epoch 136/500\n",
            "32/32 [==============================] - 0s 1ms/step - loss: 0.2090 - accuracy: 0.9280\n",
            "Epoch 137/500\n",
            "32/32 [==============================] - 0s 1ms/step - loss: 0.2071 - accuracy: 0.9280\n",
            "Epoch 138/500\n",
            "32/32 [==============================] - 0s 1ms/step - loss: 0.2054 - accuracy: 0.9270\n",
            "Epoch 139/500\n",
            "32/32 [==============================] - 0s 1ms/step - loss: 0.2036 - accuracy: 0.9260\n",
            "Epoch 140/500\n",
            "32/32 [==============================] - 0s 1ms/step - loss: 0.2021 - accuracy: 0.9260\n",
            "Epoch 141/500\n",
            "32/32 [==============================] - 0s 1ms/step - loss: 0.2005 - accuracy: 0.9290\n",
            "Epoch 142/500\n",
            "32/32 [==============================] - 0s 1ms/step - loss: 0.1989 - accuracy: 0.9280\n",
            "Epoch 143/500\n",
            "32/32 [==============================] - 0s 1ms/step - loss: 0.1974 - accuracy: 0.9320\n",
            "Epoch 144/500\n",
            "32/32 [==============================] - 0s 1ms/step - loss: 0.1958 - accuracy: 0.9320\n",
            "Epoch 145/500\n",
            "32/32 [==============================] - 0s 1ms/step - loss: 0.1944 - accuracy: 0.9280\n",
            "Epoch 146/500\n",
            "32/32 [==============================] - 0s 1ms/step - loss: 0.1935 - accuracy: 0.9380\n",
            "Epoch 147/500\n",
            "32/32 [==============================] - 0s 1ms/step - loss: 0.1916 - accuracy: 0.9340\n",
            "Epoch 148/500\n",
            "32/32 [==============================] - 0s 1ms/step - loss: 0.1901 - accuracy: 0.9350\n",
            "Epoch 149/500\n",
            "32/32 [==============================] - 0s 1ms/step - loss: 0.1891 - accuracy: 0.9390\n",
            "Epoch 150/500\n",
            "32/32 [==============================] - 0s 1ms/step - loss: 0.1876 - accuracy: 0.9390\n",
            "Epoch 151/500\n",
            "32/32 [==============================] - 0s 1ms/step - loss: 0.1863 - accuracy: 0.9390\n",
            "Epoch 152/500\n",
            "32/32 [==============================] - 0s 1ms/step - loss: 0.1852 - accuracy: 0.9410\n",
            "Epoch 153/500\n",
            "32/32 [==============================] - 0s 1ms/step - loss: 0.1838 - accuracy: 0.9410\n",
            "Epoch 154/500\n",
            "32/32 [==============================] - 0s 1ms/step - loss: 0.1826 - accuracy: 0.9410\n",
            "Epoch 155/500\n",
            "32/32 [==============================] - 0s 1ms/step - loss: 0.1816 - accuracy: 0.9410\n",
            "Epoch 156/500\n",
            "32/32 [==============================] - 0s 1ms/step - loss: 0.1806 - accuracy: 0.9390\n",
            "Epoch 157/500\n",
            "32/32 [==============================] - 0s 1ms/step - loss: 0.1795 - accuracy: 0.9370\n",
            "Epoch 158/500\n",
            "32/32 [==============================] - 0s 1ms/step - loss: 0.1785 - accuracy: 0.9380\n",
            "Epoch 159/500\n",
            "32/32 [==============================] - 0s 1ms/step - loss: 0.1776 - accuracy: 0.9380\n",
            "Epoch 160/500\n",
            "32/32 [==============================] - 0s 1ms/step - loss: 0.1764 - accuracy: 0.9370\n",
            "Epoch 161/500\n",
            "32/32 [==============================] - 0s 1ms/step - loss: 0.1755 - accuracy: 0.9390\n",
            "Epoch 162/500\n",
            "32/32 [==============================] - 0s 1ms/step - loss: 0.1746 - accuracy: 0.9360\n",
            "Epoch 163/500\n",
            "32/32 [==============================] - 0s 1ms/step - loss: 0.1740 - accuracy: 0.9390\n",
            "Epoch 164/500\n",
            "32/32 [==============================] - 0s 1ms/step - loss: 0.1730 - accuracy: 0.9380\n",
            "Epoch 165/500\n",
            "32/32 [==============================] - 0s 1ms/step - loss: 0.1718 - accuracy: 0.9390\n",
            "Epoch 166/500\n",
            "32/32 [==============================] - 0s 1ms/step - loss: 0.1717 - accuracy: 0.9380\n",
            "Epoch 167/500\n",
            "32/32 [==============================] - 0s 1ms/step - loss: 0.1703 - accuracy: 0.9380\n",
            "Epoch 168/500\n",
            "32/32 [==============================] - 0s 1ms/step - loss: 0.1695 - accuracy: 0.9380\n",
            "Epoch 169/500\n",
            "32/32 [==============================] - 0s 1ms/step - loss: 0.1693 - accuracy: 0.9390\n",
            "Epoch 170/500\n",
            "32/32 [==============================] - 0s 1ms/step - loss: 0.1682 - accuracy: 0.9420\n",
            "Epoch 171/500\n",
            "32/32 [==============================] - 0s 1ms/step - loss: 0.1672 - accuracy: 0.9390\n",
            "Epoch 172/500\n",
            "32/32 [==============================] - 0s 1ms/step - loss: 0.1668 - accuracy: 0.9390\n",
            "Epoch 173/500\n",
            "32/32 [==============================] - 0s 1ms/step - loss: 0.1659 - accuracy: 0.9400\n",
            "Epoch 174/500\n",
            "32/32 [==============================] - 0s 1ms/step - loss: 0.1655 - accuracy: 0.9390\n",
            "Epoch 175/500\n",
            "32/32 [==============================] - 0s 1ms/step - loss: 0.1646 - accuracy: 0.9390\n",
            "Epoch 176/500\n",
            "32/32 [==============================] - 0s 1ms/step - loss: 0.1639 - accuracy: 0.9400\n",
            "Epoch 177/500\n",
            "32/32 [==============================] - 0s 1ms/step - loss: 0.1632 - accuracy: 0.9410\n",
            "Epoch 178/500\n",
            "32/32 [==============================] - 0s 1ms/step - loss: 0.1633 - accuracy: 0.9410\n",
            "Epoch 179/500\n",
            "32/32 [==============================] - 0s 1ms/step - loss: 0.1627 - accuracy: 0.9400\n",
            "Epoch 180/500\n",
            "32/32 [==============================] - 0s 1ms/step - loss: 0.1615 - accuracy: 0.9410\n",
            "Epoch 181/500\n",
            "32/32 [==============================] - 0s 1ms/step - loss: 0.1609 - accuracy: 0.9410\n",
            "Epoch 182/500\n",
            "32/32 [==============================] - 0s 1ms/step - loss: 0.1605 - accuracy: 0.9390\n",
            "Epoch 183/500\n",
            "32/32 [==============================] - 0s 1ms/step - loss: 0.1597 - accuracy: 0.9420\n",
            "Epoch 184/500\n",
            "32/32 [==============================] - 0s 1ms/step - loss: 0.1593 - accuracy: 0.9420\n",
            "Epoch 185/500\n",
            "32/32 [==============================] - 0s 1ms/step - loss: 0.1587 - accuracy: 0.9420\n",
            "Epoch 186/500\n",
            "32/32 [==============================] - 0s 1ms/step - loss: 0.1582 - accuracy: 0.9420\n",
            "Epoch 187/500\n",
            "32/32 [==============================] - 0s 1ms/step - loss: 0.1577 - accuracy: 0.9420\n",
            "Epoch 188/500\n",
            "32/32 [==============================] - 0s 1ms/step - loss: 0.1573 - accuracy: 0.9420\n",
            "Epoch 189/500\n",
            "32/32 [==============================] - 0s 1ms/step - loss: 0.1566 - accuracy: 0.9420\n",
            "Epoch 190/500\n",
            "32/32 [==============================] - 0s 1ms/step - loss: 0.1563 - accuracy: 0.9420\n",
            "Epoch 191/500\n",
            "32/32 [==============================] - 0s 1ms/step - loss: 0.1558 - accuracy: 0.9420\n",
            "Epoch 192/500\n",
            "32/32 [==============================] - 0s 1ms/step - loss: 0.1555 - accuracy: 0.9420\n",
            "Epoch 193/500\n",
            "32/32 [==============================] - 0s 1ms/step - loss: 0.1552 - accuracy: 0.9440\n",
            "Epoch 194/500\n",
            "32/32 [==============================] - 0s 1ms/step - loss: 0.1545 - accuracy: 0.9420\n",
            "Epoch 195/500\n",
            "32/32 [==============================] - 0s 1ms/step - loss: 0.1549 - accuracy: 0.9430\n",
            "Epoch 196/500\n",
            "32/32 [==============================] - 0s 1ms/step - loss: 0.1544 - accuracy: 0.9430\n",
            "Epoch 197/500\n",
            "32/32 [==============================] - 0s 1ms/step - loss: 0.1533 - accuracy: 0.9420\n",
            "Epoch 198/500\n",
            "32/32 [==============================] - 0s 1ms/step - loss: 0.1531 - accuracy: 0.9410\n",
            "Epoch 199/500\n",
            "32/32 [==============================] - 0s 2ms/step - loss: 0.1526 - accuracy: 0.9410\n",
            "Epoch 200/500\n",
            "32/32 [==============================] - 0s 1ms/step - loss: 0.1523 - accuracy: 0.9410\n",
            "Epoch 201/500\n",
            "32/32 [==============================] - 0s 1ms/step - loss: 0.1521 - accuracy: 0.9400\n",
            "Epoch 202/500\n",
            "32/32 [==============================] - 0s 1ms/step - loss: 0.1520 - accuracy: 0.9420\n",
            "Epoch 203/500\n",
            "32/32 [==============================] - 0s 1ms/step - loss: 0.1512 - accuracy: 0.9410\n",
            "Epoch 204/500\n",
            "32/32 [==============================] - 0s 1ms/step - loss: 0.1510 - accuracy: 0.9410\n",
            "Epoch 205/500\n",
            "32/32 [==============================] - 0s 1ms/step - loss: 0.1507 - accuracy: 0.9410\n",
            "Epoch 206/500\n",
            "32/32 [==============================] - 0s 1ms/step - loss: 0.1505 - accuracy: 0.9410\n",
            "Epoch 207/500\n",
            "32/32 [==============================] - 0s 1ms/step - loss: 0.1500 - accuracy: 0.9410\n",
            "Epoch 208/500\n",
            "32/32 [==============================] - 0s 1ms/step - loss: 0.1500 - accuracy: 0.9400\n",
            "Epoch 209/500\n",
            "32/32 [==============================] - 0s 1ms/step - loss: 0.1496 - accuracy: 0.9410\n",
            "Epoch 210/500\n",
            "32/32 [==============================] - 0s 1ms/step - loss: 0.1493 - accuracy: 0.9400\n",
            "Epoch 211/500\n",
            "32/32 [==============================] - 0s 1ms/step - loss: 0.1490 - accuracy: 0.9420\n",
            "Epoch 212/500\n",
            "32/32 [==============================] - 0s 1ms/step - loss: 0.1487 - accuracy: 0.9430\n",
            "Epoch 213/500\n",
            "32/32 [==============================] - 0s 1ms/step - loss: 0.1491 - accuracy: 0.9400\n",
            "Epoch 214/500\n",
            "32/32 [==============================] - 0s 1ms/step - loss: 0.1481 - accuracy: 0.9420\n",
            "Epoch 215/500\n",
            "32/32 [==============================] - 0s 1ms/step - loss: 0.1480 - accuracy: 0.9420\n",
            "Epoch 216/500\n",
            "32/32 [==============================] - 0s 1ms/step - loss: 0.1477 - accuracy: 0.9410\n",
            "Epoch 217/500\n",
            "32/32 [==============================] - 0s 1ms/step - loss: 0.1474 - accuracy: 0.9410\n",
            "Epoch 218/500\n",
            "32/32 [==============================] - 0s 1ms/step - loss: 0.1471 - accuracy: 0.9440\n",
            "Epoch 219/500\n",
            "32/32 [==============================] - 0s 1ms/step - loss: 0.1470 - accuracy: 0.9410\n",
            "Epoch 220/500\n",
            "32/32 [==============================] - 0s 1ms/step - loss: 0.1467 - accuracy: 0.9440\n",
            "Epoch 221/500\n",
            "32/32 [==============================] - 0s 1ms/step - loss: 0.1464 - accuracy: 0.9430\n",
            "Epoch 222/500\n",
            "32/32 [==============================] - 0s 1ms/step - loss: 0.1462 - accuracy: 0.9420\n",
            "Epoch 223/500\n",
            "32/32 [==============================] - 0s 1ms/step - loss: 0.1461 - accuracy: 0.9420\n",
            "Epoch 224/500\n",
            "32/32 [==============================] - 0s 1ms/step - loss: 0.1460 - accuracy: 0.9410\n",
            "Epoch 225/500\n",
            "32/32 [==============================] - 0s 1ms/step - loss: 0.1456 - accuracy: 0.9410\n",
            "Epoch 226/500\n",
            "32/32 [==============================] - 0s 1ms/step - loss: 0.1460 - accuracy: 0.9440\n",
            "Epoch 227/500\n",
            "32/32 [==============================] - 0s 1ms/step - loss: 0.1454 - accuracy: 0.9410\n",
            "Epoch 228/500\n",
            "32/32 [==============================] - 0s 1ms/step - loss: 0.1454 - accuracy: 0.9420\n",
            "Epoch 229/500\n",
            "32/32 [==============================] - 0s 1ms/step - loss: 0.1450 - accuracy: 0.9420\n",
            "Epoch 230/500\n",
            "32/32 [==============================] - 0s 1ms/step - loss: 0.1449 - accuracy: 0.9420\n",
            "Epoch 231/500\n",
            "32/32 [==============================] - 0s 1ms/step - loss: 0.1447 - accuracy: 0.9420\n",
            "Epoch 232/500\n",
            "32/32 [==============================] - 0s 1ms/step - loss: 0.1445 - accuracy: 0.9420\n",
            "Epoch 233/500\n",
            "32/32 [==============================] - 0s 1ms/step - loss: 0.1444 - accuracy: 0.9430\n",
            "Epoch 234/500\n",
            "32/32 [==============================] - 0s 1ms/step - loss: 0.1444 - accuracy: 0.9420\n",
            "Epoch 235/500\n",
            "32/32 [==============================] - 0s 1ms/step - loss: 0.1441 - accuracy: 0.9400\n",
            "Epoch 236/500\n",
            "32/32 [==============================] - 0s 1ms/step - loss: 0.1439 - accuracy: 0.9420\n",
            "Epoch 237/500\n",
            "32/32 [==============================] - 0s 1ms/step - loss: 0.1438 - accuracy: 0.9410\n",
            "Epoch 238/500\n",
            "32/32 [==============================] - 0s 1ms/step - loss: 0.1435 - accuracy: 0.9410\n",
            "Epoch 239/500\n",
            "32/32 [==============================] - 0s 1ms/step - loss: 0.1434 - accuracy: 0.9420\n",
            "Epoch 240/500\n",
            "32/32 [==============================] - 0s 1ms/step - loss: 0.1433 - accuracy: 0.9400\n",
            "Epoch 241/500\n",
            "32/32 [==============================] - 0s 1ms/step - loss: 0.1435 - accuracy: 0.9410\n",
            "Epoch 242/500\n",
            "32/32 [==============================] - 0s 1ms/step - loss: 0.1431 - accuracy: 0.9410\n",
            "Epoch 243/500\n",
            "32/32 [==============================] - 0s 1ms/step - loss: 0.1433 - accuracy: 0.9420\n",
            "Epoch 244/500\n",
            "32/32 [==============================] - 0s 1ms/step - loss: 0.1430 - accuracy: 0.9400\n",
            "Epoch 245/500\n",
            "32/32 [==============================] - 0s 1ms/step - loss: 0.1428 - accuracy: 0.9430\n",
            "Epoch 246/500\n",
            "32/32 [==============================] - 0s 1ms/step - loss: 0.1425 - accuracy: 0.9410\n",
            "Epoch 247/500\n",
            "32/32 [==============================] - 0s 1ms/step - loss: 0.1424 - accuracy: 0.9410\n",
            "Epoch 248/500\n",
            "32/32 [==============================] - 0s 1ms/step - loss: 0.1425 - accuracy: 0.9420\n",
            "Epoch 249/500\n",
            "32/32 [==============================] - 0s 1ms/step - loss: 0.1423 - accuracy: 0.9420\n",
            "Epoch 250/500\n",
            "32/32 [==============================] - 0s 2ms/step - loss: 0.1422 - accuracy: 0.9410\n",
            "Epoch 251/500\n",
            "32/32 [==============================] - 0s 1ms/step - loss: 0.1423 - accuracy: 0.9410\n",
            "Epoch 252/500\n",
            "32/32 [==============================] - 0s 1ms/step - loss: 0.1418 - accuracy: 0.9420\n",
            "Epoch 253/500\n",
            "32/32 [==============================] - 0s 1ms/step - loss: 0.1417 - accuracy: 0.9420\n",
            "Epoch 254/500\n",
            "32/32 [==============================] - 0s 1ms/step - loss: 0.1416 - accuracy: 0.9410\n",
            "Epoch 255/500\n",
            "32/32 [==============================] - 0s 1ms/step - loss: 0.1416 - accuracy: 0.9410\n",
            "Epoch 256/500\n",
            "32/32 [==============================] - 0s 1ms/step - loss: 0.1417 - accuracy: 0.9410\n",
            "Epoch 257/500\n",
            "32/32 [==============================] - 0s 1ms/step - loss: 0.1415 - accuracy: 0.9430\n",
            "Epoch 258/500\n",
            "32/32 [==============================] - 0s 1ms/step - loss: 0.1416 - accuracy: 0.9430\n",
            "Epoch 259/500\n",
            "32/32 [==============================] - 0s 1ms/step - loss: 0.1414 - accuracy: 0.9420\n",
            "Epoch 260/500\n",
            "32/32 [==============================] - 0s 1ms/step - loss: 0.1411 - accuracy: 0.9420\n",
            "Epoch 261/500\n",
            "32/32 [==============================] - 0s 1ms/step - loss: 0.1412 - accuracy: 0.9410\n",
            "Epoch 262/500\n",
            "32/32 [==============================] - 0s 1ms/step - loss: 0.1409 - accuracy: 0.9420\n",
            "Epoch 263/500\n",
            "32/32 [==============================] - 0s 1ms/step - loss: 0.1409 - accuracy: 0.9420\n",
            "Epoch 264/500\n",
            "32/32 [==============================] - 0s 1ms/step - loss: 0.1409 - accuracy: 0.9410\n",
            "Epoch 265/500\n",
            "32/32 [==============================] - 0s 1ms/step - loss: 0.1412 - accuracy: 0.9410\n",
            "Epoch 266/500\n",
            "32/32 [==============================] - 0s 1ms/step - loss: 0.1409 - accuracy: 0.9420\n",
            "Epoch 267/500\n",
            "32/32 [==============================] - 0s 1ms/step - loss: 0.1407 - accuracy: 0.9410\n",
            "Epoch 268/500\n",
            "32/32 [==============================] - 0s 1ms/step - loss: 0.1409 - accuracy: 0.9410\n",
            "Epoch 269/500\n",
            "32/32 [==============================] - 0s 1ms/step - loss: 0.1411 - accuracy: 0.9410\n",
            "Epoch 270/500\n",
            "32/32 [==============================] - 0s 1ms/step - loss: 0.1405 - accuracy: 0.9420\n",
            "Epoch 271/500\n",
            "32/32 [==============================] - 0s 1ms/step - loss: 0.1406 - accuracy: 0.9420\n",
            "Epoch 272/500\n",
            "32/32 [==============================] - 0s 1ms/step - loss: 0.1405 - accuracy: 0.9410\n",
            "Epoch 273/500\n",
            "32/32 [==============================] - 0s 1ms/step - loss: 0.1399 - accuracy: 0.9420\n",
            "Epoch 274/500\n",
            "32/32 [==============================] - 0s 1ms/step - loss: 0.1403 - accuracy: 0.9430\n",
            "Epoch 275/500\n",
            "32/32 [==============================] - 0s 1ms/step - loss: 0.1403 - accuracy: 0.9420\n",
            "Epoch 276/500\n",
            "32/32 [==============================] - 0s 1ms/step - loss: 0.1403 - accuracy: 0.9410\n",
            "Epoch 277/500\n",
            "32/32 [==============================] - 0s 1ms/step - loss: 0.1398 - accuracy: 0.9410\n",
            "Epoch 278/500\n",
            "32/32 [==============================] - 0s 1ms/step - loss: 0.1401 - accuracy: 0.9420\n",
            "Epoch 279/500\n",
            "32/32 [==============================] - 0s 1ms/step - loss: 0.1399 - accuracy: 0.9410\n",
            "Epoch 280/500\n",
            "32/32 [==============================] - 0s 1ms/step - loss: 0.1399 - accuracy: 0.9410\n",
            "Epoch 281/500\n",
            "32/32 [==============================] - 0s 1ms/step - loss: 0.1395 - accuracy: 0.9410\n",
            "Epoch 282/500\n",
            "32/32 [==============================] - 0s 1ms/step - loss: 0.1397 - accuracy: 0.9420\n",
            "Epoch 283/500\n",
            "32/32 [==============================] - 0s 1ms/step - loss: 0.1396 - accuracy: 0.9410\n",
            "Epoch 284/500\n",
            "32/32 [==============================] - 0s 1ms/step - loss: 0.1403 - accuracy: 0.9400\n",
            "Epoch 285/500\n",
            "32/32 [==============================] - 0s 1ms/step - loss: 0.1395 - accuracy: 0.9420\n",
            "Epoch 286/500\n",
            "32/32 [==============================] - 0s 1ms/step - loss: 0.1394 - accuracy: 0.9420\n",
            "Epoch 287/500\n",
            "32/32 [==============================] - 0s 1ms/step - loss: 0.1393 - accuracy: 0.9420\n",
            "Epoch 288/500\n",
            "32/32 [==============================] - 0s 1ms/step - loss: 0.1394 - accuracy: 0.9420\n",
            "Epoch 289/500\n",
            "32/32 [==============================] - 0s 1ms/step - loss: 0.1392 - accuracy: 0.9410\n",
            "Epoch 290/500\n",
            "32/32 [==============================] - 0s 1ms/step - loss: 0.1391 - accuracy: 0.9420\n",
            "Epoch 291/500\n",
            "32/32 [==============================] - 0s 1ms/step - loss: 0.1393 - accuracy: 0.9420\n",
            "Epoch 292/500\n",
            "32/32 [==============================] - 0s 1ms/step - loss: 0.1389 - accuracy: 0.9420\n",
            "Epoch 293/500\n",
            "32/32 [==============================] - 0s 1ms/step - loss: 0.1389 - accuracy: 0.9410\n",
            "Epoch 294/500\n",
            "32/32 [==============================] - 0s 1ms/step - loss: 0.1390 - accuracy: 0.9420\n",
            "Epoch 295/500\n",
            "32/32 [==============================] - 0s 1ms/step - loss: 0.1390 - accuracy: 0.9410\n",
            "Epoch 296/500\n",
            "32/32 [==============================] - 0s 1ms/step - loss: 0.1388 - accuracy: 0.9410\n",
            "Epoch 297/500\n",
            "32/32 [==============================] - 0s 1ms/step - loss: 0.1386 - accuracy: 0.9410\n",
            "Epoch 298/500\n",
            "32/32 [==============================] - 0s 1ms/step - loss: 0.1388 - accuracy: 0.9440\n",
            "Epoch 299/500\n",
            "32/32 [==============================] - 0s 1ms/step - loss: 0.1390 - accuracy: 0.9400\n",
            "Epoch 300/500\n",
            "32/32 [==============================] - 0s 1ms/step - loss: 0.1397 - accuracy: 0.9410\n",
            "Epoch 301/500\n",
            "32/32 [==============================] - 0s 1ms/step - loss: 0.1389 - accuracy: 0.9410\n",
            "Epoch 302/500\n",
            "32/32 [==============================] - 0s 1ms/step - loss: 0.1386 - accuracy: 0.9420\n",
            "Epoch 303/500\n",
            "32/32 [==============================] - 0s 1ms/step - loss: 0.1385 - accuracy: 0.9410\n",
            "Epoch 304/500\n",
            "32/32 [==============================] - 0s 1ms/step - loss: 0.1387 - accuracy: 0.9420\n",
            "Epoch 305/500\n",
            "32/32 [==============================] - 0s 1ms/step - loss: 0.1386 - accuracy: 0.9420\n",
            "Epoch 306/500\n",
            "32/32 [==============================] - 0s 1ms/step - loss: 0.1384 - accuracy: 0.9410\n",
            "Epoch 307/500\n",
            "32/32 [==============================] - 0s 1ms/step - loss: 0.1383 - accuracy: 0.9420\n",
            "Epoch 308/500\n",
            "32/32 [==============================] - 0s 1ms/step - loss: 0.1389 - accuracy: 0.9410\n",
            "Epoch 309/500\n",
            "32/32 [==============================] - 0s 1ms/step - loss: 0.1383 - accuracy: 0.9410\n",
            "Epoch 310/500\n",
            "32/32 [==============================] - 0s 1ms/step - loss: 0.1385 - accuracy: 0.9420\n",
            "Epoch 311/500\n",
            "32/32 [==============================] - 0s 1ms/step - loss: 0.1382 - accuracy: 0.9420\n",
            "Epoch 312/500\n",
            "32/32 [==============================] - 0s 1ms/step - loss: 0.1382 - accuracy: 0.9410\n",
            "Epoch 313/500\n",
            "32/32 [==============================] - 0s 1ms/step - loss: 0.1383 - accuracy: 0.9410\n",
            "Epoch 314/500\n",
            "32/32 [==============================] - 0s 1ms/step - loss: 0.1383 - accuracy: 0.9410\n",
            "Epoch 315/500\n",
            "32/32 [==============================] - 0s 1ms/step - loss: 0.1386 - accuracy: 0.9420\n",
            "Epoch 316/500\n",
            "32/32 [==============================] - 0s 1ms/step - loss: 0.1379 - accuracy: 0.9410\n",
            "Epoch 317/500\n",
            "32/32 [==============================] - 0s 1ms/step - loss: 0.1382 - accuracy: 0.9410\n",
            "Epoch 318/500\n",
            "32/32 [==============================] - 0s 1ms/step - loss: 0.1386 - accuracy: 0.9410\n",
            "Epoch 319/500\n",
            "32/32 [==============================] - 0s 1ms/step - loss: 0.1379 - accuracy: 0.9410\n",
            "Epoch 320/500\n",
            "32/32 [==============================] - 0s 1ms/step - loss: 0.1381 - accuracy: 0.9410\n",
            "Epoch 321/500\n",
            "32/32 [==============================] - 0s 1ms/step - loss: 0.1379 - accuracy: 0.9410\n",
            "Epoch 322/500\n",
            "32/32 [==============================] - 0s 1ms/step - loss: 0.1379 - accuracy: 0.9420\n",
            "Epoch 323/500\n",
            "32/32 [==============================] - 0s 2ms/step - loss: 0.1379 - accuracy: 0.9410\n",
            "Epoch 324/500\n",
            "32/32 [==============================] - 0s 1ms/step - loss: 0.1377 - accuracy: 0.9410\n",
            "Epoch 325/500\n",
            "32/32 [==============================] - 0s 1ms/step - loss: 0.1378 - accuracy: 0.9420\n",
            "Epoch 326/500\n",
            "32/32 [==============================] - 0s 1ms/step - loss: 0.1377 - accuracy: 0.9420\n",
            "Epoch 327/500\n",
            "32/32 [==============================] - 0s 1ms/step - loss: 0.1378 - accuracy: 0.9410\n",
            "Epoch 328/500\n",
            "32/32 [==============================] - 0s 1ms/step - loss: 0.1377 - accuracy: 0.9410\n",
            "Epoch 329/500\n",
            "32/32 [==============================] - 0s 1ms/step - loss: 0.1376 - accuracy: 0.9420\n",
            "Epoch 330/500\n",
            "32/32 [==============================] - 0s 1ms/step - loss: 0.1380 - accuracy: 0.9410\n",
            "Epoch 331/500\n",
            "32/32 [==============================] - 0s 1ms/step - loss: 0.1379 - accuracy: 0.9420\n",
            "Epoch 332/500\n",
            "32/32 [==============================] - 0s 1ms/step - loss: 0.1376 - accuracy: 0.9420\n",
            "Epoch 333/500\n",
            "32/32 [==============================] - 0s 1ms/step - loss: 0.1378 - accuracy: 0.9410\n",
            "Epoch 334/500\n",
            "32/32 [==============================] - 0s 1ms/step - loss: 0.1379 - accuracy: 0.9430\n",
            "Epoch 335/500\n",
            "32/32 [==============================] - 0s 1ms/step - loss: 0.1377 - accuracy: 0.9420\n",
            "Epoch 336/500\n",
            "32/32 [==============================] - 0s 1ms/step - loss: 0.1378 - accuracy: 0.9420\n",
            "Epoch 337/500\n",
            "32/32 [==============================] - 0s 1ms/step - loss: 0.1374 - accuracy: 0.9420\n",
            "Epoch 338/500\n",
            "32/32 [==============================] - 0s 1ms/step - loss: 0.1374 - accuracy: 0.9420\n",
            "Epoch 339/500\n",
            "32/32 [==============================] - 0s 1ms/step - loss: 0.1374 - accuracy: 0.9410\n",
            "Epoch 340/500\n",
            "32/32 [==============================] - 0s 1ms/step - loss: 0.1375 - accuracy: 0.9410\n",
            "Epoch 341/500\n",
            "32/32 [==============================] - 0s 1ms/step - loss: 0.1372 - accuracy: 0.9410\n",
            "Epoch 342/500\n",
            "32/32 [==============================] - 0s 1ms/step - loss: 0.1373 - accuracy: 0.9410\n",
            "Epoch 343/500\n",
            "32/32 [==============================] - 0s 1ms/step - loss: 0.1374 - accuracy: 0.9400\n",
            "Epoch 344/500\n",
            "32/32 [==============================] - 0s 1ms/step - loss: 0.1375 - accuracy: 0.9420\n",
            "Epoch 345/500\n",
            "32/32 [==============================] - 0s 1ms/step - loss: 0.1372 - accuracy: 0.9410\n",
            "Epoch 346/500\n",
            "32/32 [==============================] - 0s 1ms/step - loss: 0.1372 - accuracy: 0.9410\n",
            "Epoch 347/500\n",
            "32/32 [==============================] - 0s 1ms/step - loss: 0.1379 - accuracy: 0.9430\n",
            "Epoch 348/500\n",
            "32/32 [==============================] - 0s 1ms/step - loss: 0.1372 - accuracy: 0.9410\n",
            "Epoch 349/500\n",
            "32/32 [==============================] - 0s 1ms/step - loss: 0.1373 - accuracy: 0.9410\n",
            "Epoch 350/500\n",
            "32/32 [==============================] - 0s 1ms/step - loss: 0.1371 - accuracy: 0.9420\n",
            "Epoch 351/500\n",
            "32/32 [==============================] - 0s 1ms/step - loss: 0.1371 - accuracy: 0.9420\n",
            "Epoch 352/500\n",
            "32/32 [==============================] - 0s 1ms/step - loss: 0.1369 - accuracy: 0.9410\n",
            "Epoch 353/500\n",
            "32/32 [==============================] - 0s 1ms/step - loss: 0.1370 - accuracy: 0.9420\n",
            "Epoch 354/500\n",
            "32/32 [==============================] - 0s 1ms/step - loss: 0.1371 - accuracy: 0.9410\n",
            "Epoch 355/500\n",
            "32/32 [==============================] - 0s 1ms/step - loss: 0.1371 - accuracy: 0.9410\n",
            "Epoch 356/500\n",
            "32/32 [==============================] - 0s 1ms/step - loss: 0.1371 - accuracy: 0.9420\n",
            "Epoch 357/500\n",
            "32/32 [==============================] - 0s 1ms/step - loss: 0.1376 - accuracy: 0.9430\n",
            "Epoch 358/500\n",
            "32/32 [==============================] - 0s 1ms/step - loss: 0.1372 - accuracy: 0.9420\n",
            "Epoch 359/500\n",
            "32/32 [==============================] - 0s 1ms/step - loss: 0.1372 - accuracy: 0.9420\n",
            "Epoch 360/500\n",
            "32/32 [==============================] - 0s 1ms/step - loss: 0.1371 - accuracy: 0.9410\n",
            "Epoch 361/500\n",
            "32/32 [==============================] - 0s 1ms/step - loss: 0.1369 - accuracy: 0.9420\n",
            "Epoch 362/500\n",
            "32/32 [==============================] - 0s 1ms/step - loss: 0.1371 - accuracy: 0.9420\n",
            "Epoch 363/500\n",
            "32/32 [==============================] - 0s 1ms/step - loss: 0.1375 - accuracy: 0.9410\n",
            "Epoch 364/500\n",
            "32/32 [==============================] - 0s 1ms/step - loss: 0.1373 - accuracy: 0.9410\n",
            "Epoch 365/500\n",
            "32/32 [==============================] - 0s 1ms/step - loss: 0.1369 - accuracy: 0.9420\n",
            "Epoch 366/500\n",
            "32/32 [==============================] - 0s 1ms/step - loss: 0.1367 - accuracy: 0.9410\n",
            "Epoch 367/500\n",
            "32/32 [==============================] - 0s 1ms/step - loss: 0.1369 - accuracy: 0.9410\n",
            "Epoch 368/500\n",
            "32/32 [==============================] - 0s 1ms/step - loss: 0.1368 - accuracy: 0.9420\n",
            "Epoch 369/500\n",
            "32/32 [==============================] - 0s 1ms/step - loss: 0.1366 - accuracy: 0.9410\n",
            "Epoch 370/500\n",
            "32/32 [==============================] - 0s 1ms/step - loss: 0.1367 - accuracy: 0.9420\n",
            "Epoch 371/500\n",
            "32/32 [==============================] - 0s 1ms/step - loss: 0.1367 - accuracy: 0.9420\n",
            "Epoch 372/500\n",
            "32/32 [==============================] - 0s 1ms/step - loss: 0.1371 - accuracy: 0.9410\n",
            "Epoch 373/500\n",
            "32/32 [==============================] - 0s 1ms/step - loss: 0.1367 - accuracy: 0.9410\n",
            "Epoch 374/500\n",
            "32/32 [==============================] - 0s 1ms/step - loss: 0.1365 - accuracy: 0.9410\n",
            "Epoch 375/500\n",
            "32/32 [==============================] - 0s 1ms/step - loss: 0.1366 - accuracy: 0.9410\n",
            "Epoch 376/500\n",
            "32/32 [==============================] - 0s 1ms/step - loss: 0.1368 - accuracy: 0.9410\n",
            "Epoch 377/500\n",
            "32/32 [==============================] - 0s 1ms/step - loss: 0.1366 - accuracy: 0.9410\n",
            "Epoch 378/500\n",
            "32/32 [==============================] - 0s 1ms/step - loss: 0.1365 - accuracy: 0.9420\n",
            "Epoch 379/500\n",
            "32/32 [==============================] - 0s 1ms/step - loss: 0.1365 - accuracy: 0.9410\n",
            "Epoch 380/500\n",
            "32/32 [==============================] - 0s 1ms/step - loss: 0.1365 - accuracy: 0.9420\n",
            "Epoch 381/500\n",
            "32/32 [==============================] - 0s 1ms/step - loss: 0.1365 - accuracy: 0.9410\n",
            "Epoch 382/500\n",
            "32/32 [==============================] - 0s 1ms/step - loss: 0.1364 - accuracy: 0.9410\n",
            "Epoch 383/500\n",
            "32/32 [==============================] - 0s 1ms/step - loss: 0.1364 - accuracy: 0.9410\n",
            "Epoch 384/500\n",
            "32/32 [==============================] - 0s 1ms/step - loss: 0.1364 - accuracy: 0.9410\n",
            "Epoch 385/500\n",
            "32/32 [==============================] - 0s 1ms/step - loss: 0.1365 - accuracy: 0.9410\n",
            "Epoch 386/500\n",
            "32/32 [==============================] - 0s 1ms/step - loss: 0.1366 - accuracy: 0.9420\n",
            "Epoch 387/500\n",
            "32/32 [==============================] - 0s 1ms/step - loss: 0.1365 - accuracy: 0.9410\n",
            "Epoch 388/500\n",
            "32/32 [==============================] - 0s 1ms/step - loss: 0.1363 - accuracy: 0.9410\n",
            "Epoch 389/500\n",
            "32/32 [==============================] - 0s 1ms/step - loss: 0.1364 - accuracy: 0.9410\n",
            "Epoch 390/500\n",
            "32/32 [==============================] - 0s 1ms/step - loss: 0.1366 - accuracy: 0.9410\n",
            "Epoch 391/500\n",
            "32/32 [==============================] - 0s 1ms/step - loss: 0.1365 - accuracy: 0.9420\n",
            "Epoch 392/500\n",
            "32/32 [==============================] - 0s 1ms/step - loss: 0.1366 - accuracy: 0.9410\n",
            "Epoch 393/500\n",
            "32/32 [==============================] - 0s 1ms/step - loss: 0.1362 - accuracy: 0.9420\n",
            "Epoch 394/500\n",
            "32/32 [==============================] - 0s 1ms/step - loss: 0.1364 - accuracy: 0.9410\n",
            "Epoch 395/500\n",
            "32/32 [==============================] - 0s 1ms/step - loss: 0.1374 - accuracy: 0.9410\n",
            "Epoch 396/500\n",
            "32/32 [==============================] - 0s 1ms/step - loss: 0.1362 - accuracy: 0.9420\n",
            "Epoch 397/500\n",
            "32/32 [==============================] - 0s 1ms/step - loss: 0.1362 - accuracy: 0.9410\n",
            "Epoch 398/500\n",
            "32/32 [==============================] - 0s 1ms/step - loss: 0.1366 - accuracy: 0.9410\n",
            "Epoch 399/500\n",
            "32/32 [==============================] - 0s 1ms/step - loss: 0.1361 - accuracy: 0.9420\n",
            "Epoch 400/500\n",
            "32/32 [==============================] - 0s 1ms/step - loss: 0.1361 - accuracy: 0.9410\n",
            "Epoch 401/500\n",
            "32/32 [==============================] - 0s 2ms/step - loss: 0.1361 - accuracy: 0.9410\n",
            "Epoch 402/500\n",
            "32/32 [==============================] - 0s 1ms/step - loss: 0.1362 - accuracy: 0.9430\n",
            "Epoch 403/500\n",
            "32/32 [==============================] - 0s 1ms/step - loss: 0.1361 - accuracy: 0.9420\n",
            "Epoch 404/500\n",
            "32/32 [==============================] - 0s 1ms/step - loss: 0.1363 - accuracy: 0.9410\n",
            "Epoch 405/500\n",
            "32/32 [==============================] - 0s 1ms/step - loss: 0.1362 - accuracy: 0.9410\n",
            "Epoch 406/500\n",
            "32/32 [==============================] - 0s 1ms/step - loss: 0.1361 - accuracy: 0.9410\n",
            "Epoch 407/500\n",
            "32/32 [==============================] - 0s 1ms/step - loss: 0.1360 - accuracy: 0.9410\n",
            "Epoch 408/500\n",
            "32/32 [==============================] - 0s 1ms/step - loss: 0.1362 - accuracy: 0.9420\n",
            "Epoch 409/500\n",
            "32/32 [==============================] - 0s 1ms/step - loss: 0.1362 - accuracy: 0.9430\n",
            "Epoch 410/500\n",
            "32/32 [==============================] - 0s 1ms/step - loss: 0.1362 - accuracy: 0.9410\n",
            "Epoch 411/500\n",
            "32/32 [==============================] - 0s 1ms/step - loss: 0.1361 - accuracy: 0.9410\n",
            "Epoch 412/500\n",
            "32/32 [==============================] - 0s 1ms/step - loss: 0.1364 - accuracy: 0.9420\n",
            "Epoch 413/500\n",
            "32/32 [==============================] - 0s 1ms/step - loss: 0.1362 - accuracy: 0.9410\n",
            "Epoch 414/500\n",
            "32/32 [==============================] - 0s 1ms/step - loss: 0.1360 - accuracy: 0.9430\n",
            "Epoch 415/500\n",
            "32/32 [==============================] - 0s 1ms/step - loss: 0.1359 - accuracy: 0.9420\n",
            "Epoch 416/500\n",
            "32/32 [==============================] - 0s 1ms/step - loss: 0.1361 - accuracy: 0.9430\n",
            "Epoch 417/500\n",
            "32/32 [==============================] - 0s 1ms/step - loss: 0.1358 - accuracy: 0.9410\n",
            "Epoch 418/500\n",
            "32/32 [==============================] - 0s 1ms/step - loss: 0.1359 - accuracy: 0.9410\n",
            "Epoch 419/500\n",
            "32/32 [==============================] - 0s 1ms/step - loss: 0.1360 - accuracy: 0.9420\n",
            "Epoch 420/500\n",
            "32/32 [==============================] - 0s 1ms/step - loss: 0.1358 - accuracy: 0.9410\n",
            "Epoch 421/500\n",
            "32/32 [==============================] - 0s 1ms/step - loss: 0.1363 - accuracy: 0.9410\n",
            "Epoch 422/500\n",
            "32/32 [==============================] - 0s 2ms/step - loss: 0.1365 - accuracy: 0.9420\n",
            "Epoch 423/500\n",
            "32/32 [==============================] - 0s 2ms/step - loss: 0.1358 - accuracy: 0.9410\n",
            "Epoch 424/500\n",
            "32/32 [==============================] - 0s 1ms/step - loss: 0.1359 - accuracy: 0.9420\n",
            "Epoch 425/500\n",
            "32/32 [==============================] - 0s 1ms/step - loss: 0.1357 - accuracy: 0.9420\n",
            "Epoch 426/500\n",
            "32/32 [==============================] - 0s 1ms/step - loss: 0.1358 - accuracy: 0.9420\n",
            "Epoch 427/500\n",
            "32/32 [==============================] - 0s 1ms/step - loss: 0.1358 - accuracy: 0.9410\n",
            "Epoch 428/500\n",
            "32/32 [==============================] - 0s 1ms/step - loss: 0.1358 - accuracy: 0.9410\n",
            "Epoch 429/500\n",
            "32/32 [==============================] - 0s 1ms/step - loss: 0.1356 - accuracy: 0.9420\n",
            "Epoch 430/500\n",
            "32/32 [==============================] - 0s 1ms/step - loss: 0.1358 - accuracy: 0.9420\n",
            "Epoch 431/500\n",
            "32/32 [==============================] - 0s 1ms/step - loss: 0.1357 - accuracy: 0.9420\n",
            "Epoch 432/500\n",
            "32/32 [==============================] - 0s 1ms/step - loss: 0.1358 - accuracy: 0.9410\n",
            "Epoch 433/500\n",
            "32/32 [==============================] - 0s 1ms/step - loss: 0.1361 - accuracy: 0.9400\n",
            "Epoch 434/500\n",
            "32/32 [==============================] - 0s 1ms/step - loss: 0.1356 - accuracy: 0.9420\n",
            "Epoch 435/500\n",
            "32/32 [==============================] - 0s 1ms/step - loss: 0.1357 - accuracy: 0.9420\n",
            "Epoch 436/500\n",
            "32/32 [==============================] - 0s 1ms/step - loss: 0.1361 - accuracy: 0.9410\n",
            "Epoch 437/500\n",
            "32/32 [==============================] - 0s 2ms/step - loss: 0.1358 - accuracy: 0.9410\n",
            "Epoch 438/500\n",
            "32/32 [==============================] - 0s 2ms/step - loss: 0.1356 - accuracy: 0.9410\n",
            "Epoch 439/500\n",
            "32/32 [==============================] - 0s 1ms/step - loss: 0.1356 - accuracy: 0.9420\n",
            "Epoch 440/500\n",
            "32/32 [==============================] - 0s 1ms/step - loss: 0.1359 - accuracy: 0.9420\n",
            "Epoch 441/500\n",
            "32/32 [==============================] - 0s 1ms/step - loss: 0.1357 - accuracy: 0.9420\n",
            "Epoch 442/500\n",
            "32/32 [==============================] - 0s 1ms/step - loss: 0.1360 - accuracy: 0.9420\n",
            "Epoch 443/500\n",
            "32/32 [==============================] - 0s 1ms/step - loss: 0.1361 - accuracy: 0.9410\n",
            "Epoch 444/500\n",
            "32/32 [==============================] - 0s 1ms/step - loss: 0.1358 - accuracy: 0.9410\n",
            "Epoch 445/500\n",
            "32/32 [==============================] - 0s 1ms/step - loss: 0.1356 - accuracy: 0.9420\n",
            "Epoch 446/500\n",
            "32/32 [==============================] - 0s 1ms/step - loss: 0.1356 - accuracy: 0.9420\n",
            "Epoch 447/500\n",
            "32/32 [==============================] - 0s 1ms/step - loss: 0.1362 - accuracy: 0.9410\n",
            "Epoch 448/500\n",
            "32/32 [==============================] - 0s 1ms/step - loss: 0.1363 - accuracy: 0.9400\n",
            "Epoch 449/500\n",
            "32/32 [==============================] - 0s 1ms/step - loss: 0.1357 - accuracy: 0.9410\n",
            "Epoch 450/500\n",
            "32/32 [==============================] - 0s 1ms/step - loss: 0.1356 - accuracy: 0.9420\n",
            "Epoch 451/500\n",
            "32/32 [==============================] - 0s 1ms/step - loss: 0.1356 - accuracy: 0.9410\n",
            "Epoch 452/500\n",
            "32/32 [==============================] - 0s 1ms/step - loss: 0.1357 - accuracy: 0.9420\n",
            "Epoch 453/500\n",
            "32/32 [==============================] - 0s 1ms/step - loss: 0.1358 - accuracy: 0.9410\n",
            "Epoch 454/500\n",
            "32/32 [==============================] - 0s 1ms/step - loss: 0.1357 - accuracy: 0.9410\n",
            "Epoch 455/500\n",
            "32/32 [==============================] - 0s 1ms/step - loss: 0.1355 - accuracy: 0.9420\n",
            "Epoch 456/500\n",
            "32/32 [==============================] - 0s 1ms/step - loss: 0.1359 - accuracy: 0.9400\n",
            "Epoch 457/500\n",
            "32/32 [==============================] - 0s 1ms/step - loss: 0.1355 - accuracy: 0.9420\n",
            "Epoch 458/500\n",
            "32/32 [==============================] - 0s 1ms/step - loss: 0.1359 - accuracy: 0.9410\n",
            "Epoch 459/500\n",
            "32/32 [==============================] - 0s 1ms/step - loss: 0.1361 - accuracy: 0.9410\n",
            "Epoch 460/500\n",
            "32/32 [==============================] - 0s 1ms/step - loss: 0.1356 - accuracy: 0.9410\n",
            "Epoch 461/500\n",
            "32/32 [==============================] - 0s 1ms/step - loss: 0.1355 - accuracy: 0.9410\n",
            "Epoch 462/500\n",
            "32/32 [==============================] - 0s 1ms/step - loss: 0.1355 - accuracy: 0.9410\n",
            "Epoch 463/500\n",
            "32/32 [==============================] - 0s 1ms/step - loss: 0.1354 - accuracy: 0.9390\n",
            "Epoch 464/500\n",
            "32/32 [==============================] - 0s 1ms/step - loss: 0.1358 - accuracy: 0.9410\n",
            "Epoch 465/500\n",
            "32/32 [==============================] - 0s 1ms/step - loss: 0.1354 - accuracy: 0.9420\n",
            "Epoch 466/500\n",
            "32/32 [==============================] - 0s 1ms/step - loss: 0.1354 - accuracy: 0.9410\n",
            "Epoch 467/500\n",
            "32/32 [==============================] - 0s 1ms/step - loss: 0.1358 - accuracy: 0.9410\n",
            "Epoch 468/500\n",
            "32/32 [==============================] - 0s 2ms/step - loss: 0.1354 - accuracy: 0.9420\n",
            "Epoch 469/500\n",
            "32/32 [==============================] - 0s 2ms/step - loss: 0.1353 - accuracy: 0.9410\n",
            "Epoch 470/500\n",
            "32/32 [==============================] - 0s 1ms/step - loss: 0.1354 - accuracy: 0.9410\n",
            "Epoch 471/500\n",
            "32/32 [==============================] - 0s 2ms/step - loss: 0.1353 - accuracy: 0.9420\n",
            "Epoch 472/500\n",
            "32/32 [==============================] - 0s 1ms/step - loss: 0.1353 - accuracy: 0.9410\n",
            "Epoch 473/500\n",
            "32/32 [==============================] - 0s 1ms/step - loss: 0.1354 - accuracy: 0.9430\n",
            "Epoch 474/500\n",
            "32/32 [==============================] - 0s 1ms/step - loss: 0.1357 - accuracy: 0.9420\n",
            "Epoch 475/500\n",
            "32/32 [==============================] - 0s 1ms/step - loss: 0.1353 - accuracy: 0.9430\n",
            "Epoch 476/500\n",
            "32/32 [==============================] - 0s 1ms/step - loss: 0.1356 - accuracy: 0.9410\n",
            "Epoch 477/500\n",
            "32/32 [==============================] - 0s 1ms/step - loss: 0.1353 - accuracy: 0.9420\n",
            "Epoch 478/500\n",
            "32/32 [==============================] - 0s 1ms/step - loss: 0.1353 - accuracy: 0.9430\n",
            "Epoch 479/500\n",
            "32/32 [==============================] - 0s 1ms/step - loss: 0.1353 - accuracy: 0.9410\n",
            "Epoch 480/500\n",
            "32/32 [==============================] - 0s 1ms/step - loss: 0.1357 - accuracy: 0.9440\n",
            "Epoch 481/500\n",
            "32/32 [==============================] - 0s 1ms/step - loss: 0.1353 - accuracy: 0.9410\n",
            "Epoch 482/500\n",
            "32/32 [==============================] - 0s 1ms/step - loss: 0.1352 - accuracy: 0.9410\n",
            "Epoch 483/500\n",
            "32/32 [==============================] - 0s 1ms/step - loss: 0.1352 - accuracy: 0.9410\n",
            "Epoch 484/500\n",
            "32/32 [==============================] - 0s 1ms/step - loss: 0.1352 - accuracy: 0.9410\n",
            "Epoch 485/500\n",
            "32/32 [==============================] - 0s 1ms/step - loss: 0.1355 - accuracy: 0.9430\n",
            "Epoch 486/500\n",
            "32/32 [==============================] - 0s 1ms/step - loss: 0.1352 - accuracy: 0.9410\n",
            "Epoch 487/500\n",
            "32/32 [==============================] - 0s 1ms/step - loss: 0.1353 - accuracy: 0.9420\n",
            "Epoch 488/500\n",
            "32/32 [==============================] - 0s 1ms/step - loss: 0.1353 - accuracy: 0.9420\n",
            "Epoch 489/500\n",
            "32/32 [==============================] - 0s 1ms/step - loss: 0.1352 - accuracy: 0.9410\n",
            "Epoch 490/500\n",
            "32/32 [==============================] - 0s 1ms/step - loss: 0.1350 - accuracy: 0.9420\n",
            "Epoch 491/500\n",
            "32/32 [==============================] - 0s 1ms/step - loss: 0.1355 - accuracy: 0.9420\n",
            "Epoch 492/500\n",
            "32/32 [==============================] - 0s 1ms/step - loss: 0.1358 - accuracy: 0.9410\n",
            "Epoch 493/500\n",
            "32/32 [==============================] - 0s 1ms/step - loss: 0.1353 - accuracy: 0.9410\n",
            "Epoch 494/500\n",
            "32/32 [==============================] - 0s 1ms/step - loss: 0.1353 - accuracy: 0.9420\n",
            "Epoch 495/500\n",
            "32/32 [==============================] - 0s 1ms/step - loss: 0.1356 - accuracy: 0.9420\n",
            "Epoch 496/500\n",
            "32/32 [==============================] - 0s 1ms/step - loss: 0.1362 - accuracy: 0.9410\n",
            "Epoch 497/500\n",
            "32/32 [==============================] - 0s 1ms/step - loss: 0.1356 - accuracy: 0.9420\n",
            "Epoch 498/500\n",
            "32/32 [==============================] - 0s 1ms/step - loss: 0.1354 - accuracy: 0.9410\n",
            "Epoch 499/500\n",
            "32/32 [==============================] - 0s 1ms/step - loss: 0.1350 - accuracy: 0.9410\n",
            "Epoch 500/500\n",
            "32/32 [==============================] - 0s 1ms/step - loss: 0.1351 - accuracy: 0.9430\n"
          ],
          "name": "stdout"
        }
      ]
    },
    {
      "cell_type": "markdown",
      "metadata": {
        "id": "DjMfZW8tDzAr",
        "colab_type": "text"
      },
      "source": [
        "The `history` object enables us to plot improvement in training accuracy and loss over our training epochs. If everything's working correctly, we expect to see accuracy increase and loss decrease over time. If not, it's time to do a little detective work."
      ]
    },
    {
      "cell_type": "code",
      "metadata": {
        "id": "d2JWz1_hBNr5",
        "colab_type": "code",
        "colab": {
          "base_uri": "https://localhost:8080/",
          "height": 573
        },
        "outputId": "78bee735-d439-40f6-aa62-433a9ead4f55"
      },
      "source": [
        "plt.plot(history.history['accuracy'])\n",
        "plt.title('Model accuracy')\n",
        "plt.ylabel('Accuracy')\n",
        "plt.xlabel('Epoch')\n",
        "plt.legend(['Train'], loc='upper left')\n",
        "plt.show()\n",
        "\n",
        "plt.plot(history.history['loss'])\n",
        "plt.title('Model loss')\n",
        "plt.ylabel('Loss')\n",
        "plt.xlabel('Epoch')\n",
        "plt.legend(['Train'], loc='upper right')\n",
        "plt.show()"
      ],
      "execution_count": null,
      "outputs": [
        {
          "output_type": "display_data",
          "data": {
            "image/png": "[encoded data removed]",
            "text/plain": [
              "<Figure size 432x288 with 1 Axes>"
            ]
          },
          "metadata": {
            "tags": [],
            "needs_background": "light"
          }
        },
        {
          "output_type": "display_data",
          "data": {
            "image/png": "[encoded data removed]",
            "text/plain": [
              "<Figure size 432x288 with 1 Axes>"
            ]
          },
          "metadata": {
            "tags": [],
            "needs_background": "light"
          }
        }
      ]
    },
    {
      "cell_type": "markdown",
      "metadata": {
        "id": "iMbZGu_0EskI",
        "colab_type": "text"
      },
      "source": [
        "Of course, the purpose of our model is make accurate predictions on data it hasn't yet seen. Let's generate some random test data the same way we did training data."
      ]
    },
    {
      "cell_type": "code",
      "metadata": {
        "id": "ABYACqktBitj",
        "colab_type": "code",
        "colab": {}
      },
      "source": [
        "np.random.seed(2021)\n",
        "\n",
        "# Generate 1000 3-D points distributed in [0,1]x[0,1]x[0,1]\n",
        "x_test = np.random.random((1000, 3))\n",
        "\n",
        "# Generate nonlinear labels correlated with the random values in data.\n",
        "def label_gen(x):\n",
        "  return (x[0]*x[1] + np.random.normal(scale = .1)) > .5\n",
        "\n",
        "# Run the label_gen function for each row of x_test.\n",
        "labels = np.apply_along_axis(label_gen, 1, x_test)\n",
        "\n",
        "# Convert labels to categorical one-hot encoding\n",
        "y_test = to_categorical(labels, num_classes=2)"
      ],
      "execution_count": null,
      "outputs": []
    },
    {
      "cell_type": "markdown",
      "metadata": {
        "id": "mt4ntjezFG4F",
        "colab_type": "text"
      },
      "source": [
        "Now, using the `evaluate()` method, we can determine how well our model does out-of-sample. No seed's been set for the random test data, so everyone will have different results."
      ]
    },
    {
      "cell_type": "code",
      "metadata": {
        "id": "olW7mGpiBtEc",
        "colab_type": "code",
        "colab": {
          "base_uri": "https://localhost:8080/",
          "height": 51
        },
        "outputId": "1e18e478-406f-46b5-95a8-bfbe29d2ac9f"
      },
      "source": [
        "score = my_model.evaluate(x_test, y_test, verbose=0)\n",
        "print(\"Test accuracy:\")\n",
        "print(\"{}%\".format(np.round(100*score[1], 2)))"
      ],
      "execution_count": null,
      "outputs": [
        {
          "output_type": "stream",
          "text": [
            "Test accuracy:\n",
            "92.5%\n"
          ],
          "name": "stdout"
        }
      ]
    },
    {
      "cell_type": "markdown",
      "metadata": {
        "id": "QxcTrLETaXhc",
        "colab_type": "text"
      },
      "source": [
        "Since the test and training data have been generated by the same process, we expect similar accuracy and loss on the test data, although we've done nothing to ensure our model hasn't overfitted the training data (more on this in a bit). Glancing at the training accuracy plot may give you a sense of when it makes sense to stop training the model for efficiency's sake."
      ]
    },
    {
      "cell_type": "markdown",
      "metadata": {
        "id": "gD4PNYeJardb",
        "colab_type": "text"
      },
      "source": [
        "### __Exercise 2: modifying network parameters (~5 min)__\n",
        "\n",
        "Without too much time and effort, you can modify the parameters and network architecture to get $\\ge93\\%$ test accuracy virtually every time you train it.\n",
        "\n",
        "__Try a different activation function in the hidden layers__. For instance, does it make a difference if you use ReLU instead of sigmoid? What if you mix activation functions?\n",
        "\n",
        "__Play around with the hidden layers.__ Do we need both layers? Remove one and see what happens. Does adding more units matter?\n",
        "\n",
        "__Choose a suitable number of epochs to train the model for, based on the prior accuracy and loss plots__. Compare your test accuracy with the accuracy you obtained when training for 500 epochs. (Keep in mind that the training process itself is subject to randomness, so your results may vary fit to fit even if the number of epochs remains the same.)"
      ]
    },
    {
      "cell_type": "code",
      "metadata": {
        "id": "cqlC7-Eia6b1",
        "colab_type": "code",
        "colab": {
          "base_uri": "https://localhost:8080/",
          "height": 51
        },
        "outputId": "5f2c3a00-a6fe-4169-cc7c-2270a2dda61c"
      },
      "source": [
        "num_epochs = 150\n",
        "\n",
        "my_model = Sequential()\n",
        "my_model.add(Input(shape = (3,)))\n",
        "my_model.add(Dense(units = 10))\n",
        "my_model.add(Activation(activation = \"relu\"))\n",
        "#my_model.add(Dense(units = 4))\n",
        "#my_model.add(Activation(activation = \"sigmoid\"))\n",
        "my_model.add(Dense(units = 2))\n",
        "my_model.add(Activation(activation = \"softmax\"))\n",
        "\n",
        "my_model.compile(optimizer = 'adam',\n",
        "                 loss = 'binary_crossentropy',\n",
        "                 metrics = ['accuracy'])\n",
        "\n",
        "history = my_model.fit(x = x_train, \n",
        "                       y = y_train,\n",
        "                       epochs = num_epochs,\n",
        "                       verbose = 0)\n",
        "\n",
        "score = my_model.evaluate(x_test, y_test, verbose=0)\n",
        "print(\"Test accuracy:\")\n",
        "print(\"{}%\".format(np.round(100*score[1], 2)))"
      ],
      "execution_count": null,
      "outputs": [
        {
          "output_type": "stream",
          "text": [
            "Test accuracy:\n",
            "93.1%\n"
          ],
          "name": "stdout"
        }
      ]
    },
    {
      "cell_type": "code",
      "metadata": {
        "id": "sZ9ucvwKcYyw",
        "colab_type": "code",
        "colab": {}
      },
      "source": [
        ""
      ],
      "execution_count": null,
      "outputs": []
    },
    {
      "cell_type": "markdown",
      "metadata": {
        "id": "PVEEERWsJuf8",
        "colab_type": "text"
      },
      "source": [
        "## __Review__\n",
        "\n",
        "Concepts to know:\n",
        "\n",
        "- __The sequential model__\n",
        "  - What does it mean for layers to be sequentially organized?\n",
        "- __Layers__. For each of `Input`, `Dense`, `Activation`, and `Dropout`:\n",
        "  - How are they structured? \n",
        "  - What does each one do?\n",
        "  - What are their input and output sizes? \n",
        "- What do `Flatten` and `Reshape` do?\n",
        "- __Compilation__\n",
        "  - What is the purpose of compilation? \n",
        "  - What important options can you adjust at compilation time? \n",
        "  - Do you ever need to recompile your model?\n",
        "- __Training__\n",
        "  - What does training do to a neural network?\n",
        "  - What is a `history` object useful for?\n",
        "  - What is an epoch?\n",
        "- __Evaluation__\n",
        "  - What is the purpose of evaluation?"
      ]
    },
    {
      "cell_type": "markdown",
      "metadata": {
        "id": "WdSiM2Fo2B6v",
        "colab_type": "text"
      },
      "source": [
        "## __Next__: building a neural network on real data"
      ]
    }
  ]
}