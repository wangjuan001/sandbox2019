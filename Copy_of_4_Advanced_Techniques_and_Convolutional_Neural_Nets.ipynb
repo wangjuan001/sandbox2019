{
  "nbformat": 4,
  "nbformat_minor": 0,
  "metadata": {
    "colab": {
      "name": "Copy of 4: Advanced Techniques and Convolutional Neural Nets",
      "provenance": [],
      "collapsed_sections": [],
      "toc_visible": true,
      "include_colab_link": true
    },
    "kernelspec": {
      "name": "python3",
      "display_name": "Python 3"
    }
  },
  "cells": [
    {
      "cell_type": "markdown",
      "metadata": {
        "id": "view-in-github",
        "colab_type": "text"
      },
      "source": [
        "<a href=\"https://colab.research.google.com/github/wangjuan001/sandbox2019/blob/master/Copy_of_4_Advanced_Techniques_and_Convolutional_Neural_Nets.ipynb\" target=\"_parent\"><img src=\"https://colab.research.google.com/assets/colab-badge.svg\" alt=\"Open In Colab\"/></a>"
      ]
    },
    {
      "cell_type": "markdown",
      "metadata": {
        "id": "1dug7p5MIpi5",
        "colab_type": "text"
      },
      "source": [
        "##__4: Advanced Techniques and Convolutional Neural Nets__\n",
        "\n",
        "## Learning Objectives\n",
        "\n",
        "In this notebook, we'll learn...\n",
        "- what a convolutional layer is, and why they work well for image data;\n",
        "- how to specify and fit a convnet in TensorFlow via the Keras API\n",
        "- use of data augmentation in image analysis"
      ]
    },
    {
      "cell_type": "markdown",
      "metadata": {
        "id": "QpXiKZW1pyEt",
        "colab_type": "text"
      },
      "source": [
        "Although our previous model seems to work pretty well, it regards pixel values as independent features, since we flattened the images. In reality, pixels are spatially related, and by flattening the data, we ignore more complex spatial information beyond pixel-to-pixel relationships that may improve predictive power."
      ]
    },
    {
      "cell_type": "markdown",
      "metadata": {
        "id": "P7w2tPxC4KBW",
        "colab_type": "text"
      },
      "source": [
        "### Using a GPU runtime\n",
        "\n",
        "Convolutional nets are more expensive to train than fully connected neural nets. We will use GPU acceleration for this notebook to speed the process along. GPUs are in favor with machine learning enthusiasts because they are quick to process tensors and convolve images (this is, after all, a GPU's full-time job). You can switch to a GPU runtime by navigating to `Runtime > Change runtime type` in the Colab toolbar above."
      ]
    },
    {
      "cell_type": "markdown",
      "metadata": {
        "id": "Jw7I5CquQ9jY",
        "colab_type": "text"
      },
      "source": [
        "## __What are Convolutional Neural Nets?__\n",
        "\n",
        "The __convolutional neural network__ (or \"convnet\", or \"CNN\") uses alternating convolutional and max pooling layers to extract abstract features from image data.\n",
        "\n",
        "### __Convolutional layer__\n",
        "\n",
        "The workhorse in a CNN is the __convolutional layer__. The convolutional layer is composed of several __convolution filters__ (sometimes called \"kernels\"), which scan an image for certain shapes or features. A simplified example below illustrates how this works. When the \"eye kernel\" passes over an eye in the image, it activates, producing a large feature value:\n",
        "\n",
        "![](https://i.stack.imgur.com/9bi5k.gif)\n",
        "\n",
        "The kernel itself is a small matrix of weights, just a few pixels wide by a few pixels tall, and for color images, it has a depth equal to the number of color channels. It may seem from the example that kernels are complex, and thus need to be specified, but the weights for each kernel in the layer are actually learned by backpropagation.\n",
        "\n",
        "### Convolution operation\n",
        "\n",
        "Consider a  $3\\times3$ filter for an image:\n",
        "\n",
        "<img src=\"https://github.com/allemanau/NUIT_tensorflow/blob/master/images/conv_kernel.png?raw=1\">\n",
        "\n",
        "To get the convolution output, slide the filter over the image in each spot it fits, and take the weighted sum of the pixel values.\n",
        "\n",
        "<br>\n",
        "\n",
        "![](https://miro.medium.com/max/1070/1*Zx-ZMLKab7VOCQTxdZ1OAw.gif)\n",
        "\n",
        "<br>\n",
        "\n",
        "The convolutional output is a tensor of size\n",
        "\n",
        "<br>\n",
        "\\begin{equation*}\n",
        "\\text{(image width - filter width + 1)} \\times \\text{(image height - filter height + 1)} \\times (\\text{number of channels})\n",
        "\\end{equation*}\n",
        "<br>\n",
        "\n",
        "A layer is a collection of filters, each learning different features of the training images. Then, the size of the resulting convolutional layer will be\n",
        "\n",
        "<br>\n",
        "\\begin{equation*}\n",
        "\\text{(image width - filter width + 1)} \\times \\text{(image height - filter height + 1)} \\times (\\text{number of channels} = 1) \\times (\\text{number of filters})\n",
        "\\end{equation*}\n",
        "<br>\n",
        "\n",
        "Organizing convolutional layers is something of an art. In general, the key thing to remember is that __larger filter sizes extract generic global features__, while __smaller filter sizes extract complex local features__. Using smaller filter sizes also enables construction of a deeper network, potentially yielding performance gains at the cost of increased training and prediction time.\n",
        "\n",
        "### __Pooling__\n",
        "\n",
        "One problem with convolutional filters is that they activate precisely where the feature appears. A __pooling layer__ solves this problem by dividing a convolution filter into __patches__ and summarizing the content of the filter in that region. An extrapolation of the simple example above helps to illustrate how a pooling layer captures the same signature from a shifted version of the image:\n",
        "\n",
        "<br>\n",
        "\n",
        "![](https://i0.wp.com/www.thushv.com/wp-content/uploads/2018/05/pooling.gif?resize=1100%2C829)\n",
        "\n",
        "<br>\n",
        "\n",
        "This particular variant of pooling is called __max pooling__; it takes the largest activation value from the convolution patch to be the feature value in the pooling layer.\n",
        "\n",
        "### __Stacking convolutional and pooling layers to learn high level features__\n",
        "\n",
        "With the two primary tools of a CNN in hand, the general principle is to apply a convolutional layer, then a pooling layer, then another convolutional layer, and so on. We will do this for the MNIST data set in a moment.\n",
        "\n",
        "For novel problems, you can treat the layer sizes as parameters and tune them using a validation or cross-validation approach. Alternatively, you can adapt successful architectures others have built, [such as AlexNet](https://towardsdatascience.com/alexnet-the-architecture-that-challenged-cnns-e406d5297951), or even fine-tune the existing model for your problem via transfer learning (see the take-home exercise for more on this).\n",
        "\n"
      ]
    },
    {
      "cell_type": "markdown",
      "metadata": {
        "id": "pkwYwPEiRGS6",
        "colab_type": "text"
      },
      "source": [
        "Although there are a few aspects and tricks of convolutional layers left unexplained, we have enough in hand to apply 2D convolutional and max pooling layers to MNIST."
      ]
    },
    {
      "cell_type": "code",
      "metadata": {
        "id": "eHCKtMQRRG85",
        "colab_type": "code",
        "colab": {
          "base_uri": "https://localhost:8080/",
          "height": 105
        },
        "outputId": "b37c4cb8-a391-44de-d7a3-5707fe94aa9a"
      },
      "source": [
        "# Load libraries\n",
        "%tensorflow_version 2.x\n",
        "import tensorflow as tf\n",
        "from tensorflow.keras.models import Sequential\n",
        "from tensorflow.keras.layers import Dense, Activation, Dropout, ActivityRegularization, Input, Reshape, Flatten, Conv2D, MaxPooling2D\n",
        "from tensorflow.keras.utils import plot_model, to_categorical\n",
        "\n",
        "import numpy as np\n",
        "import matplotlib.pyplot as plt\n",
        "import pandas as pd\n",
        "import seaborn as sns\n",
        "\n",
        "\n",
        "# Load MNIST data\n",
        "mnist = tf.keras.datasets.mnist\n",
        "(x_train, raw_y_train), (x_test, raw_y_test) = mnist.load_data()\n",
        "x_train = x_train.reshape((x_train.shape[0], 28, 28, 1))\n",
        "x_test = x_test.reshape((x_test.shape[0], 28, 28, 1))\n",
        "\n",
        "x_train_scl = x_train / 255.0\n",
        "x_test_scl = x_test / 255.0\n",
        "\n",
        "y_train = to_categorical(raw_y_train, num_classes = 10)\n",
        "y_test = to_categorical(raw_y_test, num_classes = 10)\n",
        "\n",
        "loss_fn = 'categorical_crossentropy'\n",
        "optim = 'adam'\n",
        "batch_size = 500\n",
        "\n",
        "conv_model = Sequential()\n",
        "conv_model.add(Reshape((28, 28, 1)))\n",
        "conv_model.add(Conv2D(32, kernel_size=(3, 3), input_shape=(28,28)))\n",
        "conv_model.add(Conv2D(64, (3, 3)))\n",
        "conv_model.add(Activation('relu'))\n",
        "conv_model.add(MaxPooling2D(pool_size=(2, 2)))\n",
        "conv_model.add(Dropout(0.2))\n",
        "conv_model.add(Flatten())\n",
        "conv_model.add(Dense(128))\n",
        "conv_model.add(Activation('relu'))\n",
        "conv_model.add(Dropout(0.5))\n",
        "conv_model.add(Dense(10))\n",
        "conv_model.add(Activation('softmax'))\n"
      ],
      "execution_count": null,
      "outputs": [
        {
          "output_type": "stream",
          "text": [
            "/usr/local/lib/python3.6/dist-packages/statsmodels/tools/_testing.py:19: FutureWarning: pandas.util.testing is deprecated. Use the functions in the public API at pandas.testing instead.\n",
            "  import pandas.util.testing as tm\n"
          ],
          "name": "stderr"
        },
        {
          "output_type": "stream",
          "text": [
            "Downloading data from https://storage.googleapis.com/tensorflow/tf-keras-datasets/mnist.npz\n",
            "11493376/11490434 [==============================] - 0s 0us/step\n"
          ],
          "name": "stdout"
        }
      ]
    },
    {
      "cell_type": "code",
      "metadata": {
        "id": "x5NXnpGllOaG",
        "colab_type": "code",
        "colab": {
          "base_uri": "https://localhost:8080/",
          "height": 77
        },
        "outputId": "fc6072ae-2b64-4bf4-f263-9ebb088f83f2"
      },
      "source": [
        "conv_model = Sequential()\n",
        "conv_model.add(Reshape((28, 28, 1)))\n",
        "#conv_model.add(Conv2D(32, kernel_size=(3, 3), input_shape=(28,28)))\n",
        "#conv_model.add(Conv2D(64, (3, 3)))\n",
        "#conv_model.add(Activation('relu'))\n",
        "#conv_model.add(MaxPooling2D(pool_size=(2, 2)))\n",
        "#conv_model.add(Dropout(0.2))\n",
        "conv_model.add(Flatten())\n",
        "conv_model.add(Dense(128))\n",
        "conv_model.add(Activation('relu'))\n",
        "conv_model.add(Dropout(0.5))\n",
        "conv_model.add(Dense(10))\n",
        "conv_model.add(Activation('softmax'))\n",
        "plot_model(conv_model)"
      ],
      "execution_count": null,
      "outputs": [
        {
          "output_type": "execute_result",
          "data": {
            "image/png": "[encoded data removed]",
            "text/plain": [
              "<IPython.core.display.Image object>"
            ]
          },
          "metadata": {
            "tags": []
          },
          "execution_count": 8
        }
      ]
    },
    {
      "cell_type": "code",
      "metadata": {
        "id": "thpjieS8RMqd",
        "colab_type": "code",
        "colab": {
          "base_uri": "https://localhost:8080/",
          "height": 734
        },
        "outputId": "5a6e81b1-57a9-4af4-8f09-c3fff054faf7"
      },
      "source": [
        "conv_model.compile(optimizer = optim,\n",
        "              loss = loss_fn,\n",
        "              metrics = ['accuracy'])\n",
        "\n",
        "callback = tf.keras.callbacks.EarlyStopping(monitor='val_accuracy', \n",
        "                                            patience=5, \n",
        "                                            restore_best_weights = True)\n",
        "\n",
        "conv_model.fit(x_train_scl, \n",
        "          y_train, \n",
        "          batch_size = batch_size,\n",
        "          epochs = 50,\n",
        "          validation_split = 0.1,\n",
        "          callbacks = [callback])"
      ],
      "execution_count": null,
      "outputs": [
        {
          "output_type": "stream",
          "text": [
            "Epoch 1/50\n",
            "WARNING:tensorflow:Layer reshape is casting an input tensor from dtype float64 to the layer's dtype of float32, which is new behavior in TensorFlow 2.  The layer has dtype float32 because it's dtype defaults to floatx.\n",
            "\n",
            "If you intended to run this layer in float32, you can safely ignore this warning. If in doubt, this warning is likely only an issue if you are porting a TensorFlow 1.X model to TensorFlow 2.\n",
            "\n",
            "To change all layers to have dtype float64 by default, call `tf.keras.backend.set_floatx('float64')`. To change just this layer, pass dtype='float64' to the layer constructor. If you are the author of this layer, you can disable autocasting by passing autocast=False to the base Layer constructor.\n",
            "\n",
            "108/108 [==============================] - 5s 43ms/step - loss: 0.4030 - accuracy: 0.8758 - val_loss: 0.0757 - val_accuracy: 0.9797\n",
            "Epoch 2/50\n",
            "108/108 [==============================] - 4s 41ms/step - loss: 0.1210 - accuracy: 0.9645 - val_loss: 0.0536 - val_accuracy: 0.9868\n",
            "Epoch 3/50\n",
            "108/108 [==============================] - 4s 40ms/step - loss: 0.0881 - accuracy: 0.9736 - val_loss: 0.0465 - val_accuracy: 0.9877\n",
            "Epoch 4/50\n",
            "108/108 [==============================] - 4s 40ms/step - loss: 0.0710 - accuracy: 0.9789 - val_loss: 0.0407 - val_accuracy: 0.9888\n",
            "Epoch 5/50\n",
            "108/108 [==============================] - 4s 40ms/step - loss: 0.0601 - accuracy: 0.9814 - val_loss: 0.0383 - val_accuracy: 0.9895\n",
            "Epoch 6/50\n",
            "108/108 [==============================] - 4s 40ms/step - loss: 0.0543 - accuracy: 0.9833 - val_loss: 0.0374 - val_accuracy: 0.9898\n",
            "Epoch 7/50\n",
            "108/108 [==============================] - 4s 40ms/step - loss: 0.0460 - accuracy: 0.9856 - val_loss: 0.0376 - val_accuracy: 0.9900\n",
            "Epoch 8/50\n",
            "108/108 [==============================] - 4s 40ms/step - loss: 0.0417 - accuracy: 0.9864 - val_loss: 0.0373 - val_accuracy: 0.9890\n",
            "Epoch 9/50\n",
            "108/108 [==============================] - 4s 40ms/step - loss: 0.0387 - accuracy: 0.9877 - val_loss: 0.0374 - val_accuracy: 0.9912\n",
            "Epoch 10/50\n",
            "108/108 [==============================] - 4s 40ms/step - loss: 0.0358 - accuracy: 0.9879 - val_loss: 0.0392 - val_accuracy: 0.9902\n",
            "Epoch 11/50\n",
            "108/108 [==============================] - 4s 40ms/step - loss: 0.0341 - accuracy: 0.9888 - val_loss: 0.0357 - val_accuracy: 0.9902\n",
            "Epoch 12/50\n",
            "108/108 [==============================] - 4s 40ms/step - loss: 0.0307 - accuracy: 0.9900 - val_loss: 0.0347 - val_accuracy: 0.9918\n",
            "Epoch 13/50\n",
            "108/108 [==============================] - 4s 40ms/step - loss: 0.0288 - accuracy: 0.9904 - val_loss: 0.0382 - val_accuracy: 0.9902\n",
            "Epoch 14/50\n",
            "108/108 [==============================] - 4s 40ms/step - loss: 0.0264 - accuracy: 0.9910 - val_loss: 0.0371 - val_accuracy: 0.9905\n",
            "Epoch 15/50\n",
            "108/108 [==============================] - 4s 40ms/step - loss: 0.0254 - accuracy: 0.9916 - val_loss: 0.0371 - val_accuracy: 0.9902\n",
            "Epoch 16/50\n",
            "108/108 [==============================] - 4s 40ms/step - loss: 0.0244 - accuracy: 0.9916 - val_loss: 0.0358 - val_accuracy: 0.9905\n",
            "Epoch 17/50\n",
            "108/108 [==============================] - 4s 40ms/step - loss: 0.0222 - accuracy: 0.9920 - val_loss: 0.0391 - val_accuracy: 0.9907\n"
          ],
          "name": "stdout"
        },
        {
          "output_type": "execute_result",
          "data": {
            "text/plain": [
              "<tensorflow.python.keras.callbacks.History at 0x7fb7407131d0>"
            ]
          },
          "metadata": {
            "tags": []
          },
          "execution_count": 4
        }
      ]
    },
    {
      "cell_type": "markdown",
      "metadata": {
        "id": "pARa4gW7RWG-",
        "colab_type": "text"
      },
      "source": [
        "Our convolutional model, along with the other improvements made along the way, demonstrates superior performance -- ~99% accurate! For reference, the best kernel on Kaggle for MNIST is 99.75% accurate (and is quite a bit more complicated)."
      ]
    },
    {
      "cell_type": "code",
      "metadata": {
        "id": "N_zVGNzdRW0L",
        "colab_type": "code",
        "colab": {
          "base_uri": "https://localhost:8080/",
          "height": 51
        },
        "outputId": "84644450-ab8b-4918-8e68-fa23e2289ed1"
      },
      "source": [
        "conv_model.evaluate(x_test_scl,\n",
        "               y_test)"
      ],
      "execution_count": null,
      "outputs": [
        {
          "output_type": "stream",
          "text": [
            "313/313 [==============================] - 1s 4ms/step - loss: 0.0359 - accuracy: 0.9895\n"
          ],
          "name": "stdout"
        },
        {
          "output_type": "execute_result",
          "data": {
            "text/plain": [
              "[0.03586503863334656, 0.9894999861717224]"
            ]
          },
          "metadata": {
            "tags": []
          },
          "execution_count": 5
        }
      ]
    },
    {
      "cell_type": "markdown",
      "metadata": {
        "id": "wmtGtbheRd69",
        "colab_type": "text"
      },
      "source": [
        "Again, let's peek at a selection of mistakes. Hard to blame the model for these."
      ]
    },
    {
      "cell_type": "code",
      "metadata": {
        "id": "GKC3VHsqRkH0",
        "colab_type": "code",
        "colab": {
          "base_uri": "https://localhost:8080/",
          "height": 428
        },
        "outputId": "c21b4952-7d0f-4c51-ddfb-6c1717762ac6"
      },
      "source": [
        "# Get predicted classes.\n",
        "preds = conv_model.predict_classes(x_test_scl)\n",
        "\n",
        "# Prepare a figure for subplotting.\n",
        "fig = plt.figure(figsize=(12, 6))\n",
        "\n",
        "# Select one random misclass for each digit in the data set.\n",
        "for i in range(10):\n",
        "    ind = np.random.choice(np.ndarray.flatten(np.argwhere((raw_y_test == i) & (raw_y_test != preds))))\n",
        "    actual = raw_y_test[ind]\n",
        "    predicted = preds[ind]\n",
        "    plottable_image = np.reshape(x_test[ind], (28, 28))\n",
        "    ax = fig.add_subplot(2, 5, i+1)\n",
        "    ax.imshow(plottable_image, cmap='gray_r')\n",
        "    plt.xlabel(\"Actual: \" + \"{}\".format(actual) + \", Predicted: \" + \"{}\".format(predicted))"
      ],
      "execution_count": null,
      "outputs": [
        {
          "output_type": "stream",
          "text": [
            "WARNING:tensorflow:From <ipython-input-6-4fb953343433>:2: Sequential.predict_classes (from tensorflow.python.keras.engine.sequential) is deprecated and will be removed after 2021-01-01.\n",
            "Instructions for updating:\n",
            "Please use instead:* `np.argmax(model.predict(x), axis=-1)`,   if your model does multi-class classification   (e.g. if it uses a `softmax` last-layer activation).* `(model.predict(x) > 0.5).astype(\"int32\")`,   if your model does binary classification   (e.g. if it uses a `sigmoid` last-layer activation).\n"
          ],
          "name": "stdout"
        },
        {
          "output_type": "display_data",
          "data": {
            "image/png": "[encoded data removed]",
            "text/plain": [
              "<Figure size 864x432 with 10 Axes>"
            ]
          },
          "metadata": {
            "tags": [],
            "needs_background": "light"
          }
        }
      ]
    },
    {
      "cell_type": "markdown",
      "metadata": {
        "id": "YTUApur7mHqV",
        "colab_type": "text"
      },
      "source": [
        "## __Data Augmentation__\n",
        "\n",
        "An extremely useful trick to boost performance is to apply random __label-preserving transformations__ to create new training examples. These transformations include shifting and stretching images, adding small perturbations to the pixel values, and so on. This practice, called __data augmentation__, improves the ability of the model to generalize to unseen examples exhibiting these small changes. Keras provides an easy-to-use data augmentation toolkit. Let's explore it a bit on a single image:"
      ]
    },
    {
      "cell_type": "code",
      "metadata": {
        "id": "sWyjpvW2UxUz",
        "colab_type": "code",
        "colab": {}
      },
      "source": [
        "from tensorflow.keras.preprocessing.image import ImageDataGenerator"
      ],
      "execution_count": null,
      "outputs": []
    },
    {
      "cell_type": "markdown",
      "metadata": {
        "id": "HOXRCZg1cqDC",
        "colab_type": "text"
      },
      "source": [
        "The `ImageDataGenerator` object will ultimately replace our training set. The object uses a training set as a source to generate batches of new observations from dynamically. The list of label-preserving transformations are\n",
        "\n",
        "- rotation\n",
        "- positional shift\n",
        "- brightness\n",
        "- shear\n",
        "- zoom\n",
        "- vertical/horizontal flip\n",
        "- others, see [`ImageDataGenerator` docs](https://keras.io/preprocessing/image/#imagedatagenerator-class)\n",
        "\n",
        "Let's try a simple generator that only shifts observations:\n"
      ]
    },
    {
      "cell_type": "code",
      "metadata": {
        "id": "fv9a6laXcqMD",
        "colab_type": "code",
        "colab": {
          "base_uri": "https://localhost:8080/",
          "height": 268
        },
        "outputId": "d784e402-f7ab-4963-bf5e-162d30fdfa2b"
      },
      "source": [
        "# Can specify as a fraction of total width. Let's set to 30% to demonstrate:\n",
        "train_gen = ImageDataGenerator(\n",
        "    width_shift_range=0.3,\n",
        "    height_shift_range=0.3)\n",
        "\n",
        "for x_batch, y_batch in train_gen.flow(x_train, y_train, batch_size=9):\n",
        "\tfor i in range(0, 9):\n",
        "\t\tplt.subplot(330 + 1 + i)\n",
        "\t\tplt.imshow(x_batch[i].reshape(28, 28), cmap = plt.get_cmap('gray'))\n",
        "\tplt.show()\n",
        "\tbreak"
      ],
      "execution_count": null,
      "outputs": [
        {
          "output_type": "display_data",
          "data": {
            "image/png": "[encoded data removed]",
            "text/plain": [
              "<Figure size 432x288 with 9 Axes>"
            ]
          },
          "metadata": {
            "tags": [],
            "needs_background": "light"
          }
        }
      ]
    },
    {
      "cell_type": "markdown",
      "metadata": {
        "id": "HDdnSC9VfeVO",
        "colab_type": "text"
      },
      "source": [
        "We can add rotation and shear if so desired:"
      ]
    },
    {
      "cell_type": "code",
      "metadata": {
        "id": "qtsmLG2tfeet",
        "colab_type": "code",
        "colab": {
          "base_uri": "https://localhost:8080/",
          "height": 268
        },
        "outputId": "369f2d44-8938-431f-f726-8d4ca1a98c58"
      },
      "source": [
        "# Rotation range is in degrees. Shear range is \n",
        "train_gen = ImageDataGenerator(\n",
        "    rotation_range = 20,\n",
        "    shear_range = 30,\n",
        "    width_shift_range=0.15,\n",
        "    height_shift_range=0.15)\n",
        "\n",
        "for x_batch, y_batch in train_gen.flow(x_train, y_train, batch_size=9):\n",
        "\tfor i in range(0, 9):\n",
        "\t\tplt.subplot(330 + 1 + i)\n",
        "\t\tplt.imshow(x_batch[i].reshape(28, 28), cmap = plt.get_cmap('gray'))\n",
        "\tplt.show()\n",
        "\tbreak"
      ],
      "execution_count": null,
      "outputs": [
        {
          "output_type": "display_data",
          "data": {
            "image/png": "[encoded data removed]",
            "text/plain": [
              "<Figure size 432x288 with 9 Axes>"
            ]
          },
          "metadata": {
            "tags": [],
            "needs_background": "light"
          }
        }
      ]
    },
    {
      "cell_type": "markdown",
      "metadata": {
        "id": "RlAYzr2ZhN09",
        "colab_type": "text"
      },
      "source": [
        "Even though flips don't make sense for our data, we could add them:"
      ]
    },
    {
      "cell_type": "code",
      "metadata": {
        "id": "7zcjDknUhSMi",
        "colab_type": "code",
        "colab": {
          "base_uri": "https://localhost:8080/",
          "height": 268
        },
        "outputId": "32479228-0d32-49fa-9f3f-2c7b4ed79e82"
      },
      "source": [
        "# Rotation range is in degrees. Shear range is \n",
        "train_gen = ImageDataGenerator(\n",
        "    rotation_range = 20,\n",
        "    shear_range = 30,\n",
        "    width_shift_range=0.15,\n",
        "    height_shift_range=0.15,\n",
        "    horizontal_flip = True,\n",
        "    vertical_flip = True)\n",
        "\n",
        "for x_batch, y_batch in train_gen.flow(x_train, y_train, batch_size=9):\n",
        "\tfor i in range(0, 9):\n",
        "\t\tplt.subplot(330 + 1 + i)\n",
        "\t\tplt.imshow(x_batch[i].reshape(28, 28), cmap = plt.get_cmap('gray'))\n",
        "\tplt.show()\n",
        "\tbreak"
      ],
      "execution_count": null,
      "outputs": [
        {
          "output_type": "display_data",
          "data": {
            "image/png": "[encoded data removed]",
            "text/plain": [
              "<Figure size 432x288 with 9 Axes>"
            ]
          },
          "metadata": {
            "tags": [],
            "needs_background": "light"
          }
        }
      ]
    },
    {
      "cell_type": "markdown",
      "metadata": {
        "id": "xNCt_JDcwke1",
        "colab_type": "text"
      },
      "source": [
        "Let's set up a generator to transform the training set, and train a model using a random continuous `flow()` of these examples."
      ]
    },
    {
      "cell_type": "code",
      "metadata": {
        "id": "TsVPibFEkGz8",
        "colab_type": "code",
        "colab": {
          "base_uri": "https://localhost:8080/",
          "height": 1000
        },
        "outputId": "23dcd046-84d3-41d5-e9fd-d5804958c495"
      },
      "source": [
        "# Set up a generator. Params:\n",
        "# Random rotation between +/- 8 degrees\n",
        "# Random translations of +/- 8% of total width\n",
        "# Random zooms of +/- 8% of total size.\n",
        "# Random shear of +/- 15 degrees\n",
        "train_gen = ImageDataGenerator(rotation_range = 8, \n",
        "                               width_shift_range = 0.08, \n",
        "                               shear_range = 15, \n",
        "                               height_shift_range = 0.08, \n",
        "                               zoom_range = 0.08 )\n",
        "\n",
        "# Set up a flow from our generator.\n",
        "train_set = train_gen.flow(x_train_scl, y_train, batch_size = batch_size)\n",
        "\n",
        "# Set up a second validation flow from the same generator.\n",
        "val_set = train_gen.flow(x_train_scl, y_train, batch_size=100)\n",
        "\n",
        "# Set up and compile model.\n",
        "conv_model = Sequential()\n",
        "conv_model.add(Reshape((28, 28, 1)))\n",
        "conv_model.add(Conv2D(32, kernel_size=(3, 3), input_shape=(28,28)))\n",
        "conv_model.add(Conv2D(64, (3, 3)))\n",
        "conv_model.add(Activation('relu'))\n",
        "conv_model.add(MaxPooling2D(pool_size=(2, 2)))\n",
        "conv_model.add(Dropout(0.2))\n",
        "conv_model.add(Flatten())\n",
        "conv_model.add(Dense(128))\n",
        "conv_model.add(Activation('relu'))\n",
        "conv_model.add(Dropout(0.5))\n",
        "conv_model.add(Dense(10))\n",
        "conv_model.add(Activation('softmax'))\n",
        "\n",
        "conv_model.compile(optimizer = optim,\n",
        "              loss = loss_fn,\n",
        "              metrics = ['accuracy'])\n",
        "\n",
        "# Validation steps argument only applies when ImageDataGenerator is used.\n",
        "# Since the training data is changing on each epoch, overfitting is difficult.\n",
        "# So, no callback. We'll just train for 40 epochs.\n",
        "conv_model.fit(train_set, \n",
        "                         steps_per_epoch = 60000//batch_size, \n",
        "                         validation_data = val_set, \n",
        "                         validation_steps = 10000//batch_size, \n",
        "                         epochs = 40)"
      ],
      "execution_count": null,
      "outputs": [
        {
          "output_type": "stream",
          "text": [
            "Epoch 1/40\n",
            "120/120 [==============================] - 22s 184ms/step - loss: 0.6009 - accuracy: 0.8091 - val_loss: 0.1913 - val_accuracy: 0.9425\n",
            "Epoch 2/40\n",
            "120/120 [==============================] - 22s 185ms/step - loss: 0.2351 - accuracy: 0.9276 - val_loss: 0.1173 - val_accuracy: 0.9635\n",
            "Epoch 3/40\n",
            "120/120 [==============================] - 22s 183ms/step - loss: 0.1778 - accuracy: 0.9460 - val_loss: 0.0889 - val_accuracy: 0.9720\n",
            "Epoch 4/40\n",
            "120/120 [==============================] - 22s 182ms/step - loss: 0.1574 - accuracy: 0.9537 - val_loss: 0.0630 - val_accuracy: 0.9800\n",
            "Epoch 5/40\n",
            "120/120 [==============================] - 22s 184ms/step - loss: 0.1396 - accuracy: 0.9576 - val_loss: 0.0803 - val_accuracy: 0.9765\n",
            "Epoch 6/40\n",
            "120/120 [==============================] - 22s 184ms/step - loss: 0.1303 - accuracy: 0.9605 - val_loss: 0.0671 - val_accuracy: 0.9750\n",
            "Epoch 7/40\n",
            "120/120 [==============================] - 22s 184ms/step - loss: 0.1253 - accuracy: 0.9623 - val_loss: 0.0592 - val_accuracy: 0.9815\n",
            "Epoch 8/40\n",
            "120/120 [==============================] - 22s 183ms/step - loss: 0.1170 - accuracy: 0.9649 - val_loss: 0.0642 - val_accuracy: 0.9820\n",
            "Epoch 9/40\n",
            "120/120 [==============================] - 22s 186ms/step - loss: 0.1107 - accuracy: 0.9674 - val_loss: 0.0828 - val_accuracy: 0.9765\n",
            "Epoch 10/40\n",
            "120/120 [==============================] - 22s 185ms/step - loss: 0.1075 - accuracy: 0.9676 - val_loss: 0.0558 - val_accuracy: 0.9820\n",
            "Epoch 11/40\n",
            "120/120 [==============================] - 22s 185ms/step - loss: 0.1054 - accuracy: 0.9680 - val_loss: 0.0525 - val_accuracy: 0.9825\n",
            "Epoch 12/40\n",
            "120/120 [==============================] - 22s 183ms/step - loss: 0.1029 - accuracy: 0.9699 - val_loss: 0.0417 - val_accuracy: 0.9850\n",
            "Epoch 13/40\n",
            "120/120 [==============================] - 22s 185ms/step - loss: 0.0974 - accuracy: 0.9714 - val_loss: 0.0416 - val_accuracy: 0.9865\n",
            "Epoch 14/40\n",
            "120/120 [==============================] - 22s 184ms/step - loss: 0.0937 - accuracy: 0.9724 - val_loss: 0.0433 - val_accuracy: 0.9840\n",
            "Epoch 15/40\n",
            "120/120 [==============================] - 22s 184ms/step - loss: 0.0926 - accuracy: 0.9723 - val_loss: 0.0597 - val_accuracy: 0.9835\n",
            "Epoch 16/40\n",
            "120/120 [==============================] - 22s 183ms/step - loss: 0.0853 - accuracy: 0.9741 - val_loss: 0.0488 - val_accuracy: 0.9840\n",
            "Epoch 17/40\n",
            "120/120 [==============================] - 22s 186ms/step - loss: 0.0859 - accuracy: 0.9740 - val_loss: 0.0346 - val_accuracy: 0.9880\n",
            "Epoch 18/40\n",
            "120/120 [==============================] - 22s 184ms/step - loss: 0.0819 - accuracy: 0.9751 - val_loss: 0.0456 - val_accuracy: 0.9870\n",
            "Epoch 19/40\n",
            "120/120 [==============================] - 22s 185ms/step - loss: 0.0802 - accuracy: 0.9757 - val_loss: 0.0394 - val_accuracy: 0.9870\n",
            "Epoch 20/40\n",
            "120/120 [==============================] - 22s 185ms/step - loss: 0.0811 - accuracy: 0.9758 - val_loss: 0.0441 - val_accuracy: 0.9860\n",
            "Epoch 21/40\n",
            "120/120 [==============================] - 22s 185ms/step - loss: 0.0790 - accuracy: 0.9763 - val_loss: 0.0424 - val_accuracy: 0.9885\n",
            "Epoch 22/40\n",
            "120/120 [==============================] - 22s 186ms/step - loss: 0.0785 - accuracy: 0.9758 - val_loss: 0.0243 - val_accuracy: 0.9925\n",
            "Epoch 23/40\n",
            "120/120 [==============================] - 23s 188ms/step - loss: 0.0760 - accuracy: 0.9769 - val_loss: 0.0431 - val_accuracy: 0.9850\n",
            "Epoch 24/40\n",
            "120/120 [==============================] - 22s 184ms/step - loss: 0.0745 - accuracy: 0.9779 - val_loss: 0.0308 - val_accuracy: 0.9905\n",
            "Epoch 25/40\n",
            "120/120 [==============================] - 22s 185ms/step - loss: 0.0723 - accuracy: 0.9779 - val_loss: 0.0340 - val_accuracy: 0.9905\n",
            "Epoch 26/40\n",
            "120/120 [==============================] - 22s 187ms/step - loss: 0.0746 - accuracy: 0.9776 - val_loss: 0.0393 - val_accuracy: 0.9865\n",
            "Epoch 27/40\n",
            "120/120 [==============================] - 22s 186ms/step - loss: 0.0744 - accuracy: 0.9778 - val_loss: 0.0268 - val_accuracy: 0.9910\n",
            "Epoch 28/40\n",
            "120/120 [==============================] - 22s 186ms/step - loss: 0.0689 - accuracy: 0.9798 - val_loss: 0.0289 - val_accuracy: 0.9900\n",
            "Epoch 29/40\n",
            "120/120 [==============================] - 22s 184ms/step - loss: 0.0705 - accuracy: 0.9786 - val_loss: 0.0242 - val_accuracy: 0.9915\n",
            "Epoch 30/40\n",
            "120/120 [==============================] - 22s 184ms/step - loss: 0.0694 - accuracy: 0.9791 - val_loss: 0.0301 - val_accuracy: 0.9895\n",
            "Epoch 31/40\n",
            "120/120 [==============================] - 22s 185ms/step - loss: 0.0659 - accuracy: 0.9807 - val_loss: 0.0199 - val_accuracy: 0.9935\n",
            "Epoch 32/40\n",
            "120/120 [==============================] - 22s 182ms/step - loss: 0.0670 - accuracy: 0.9794 - val_loss: 0.0288 - val_accuracy: 0.9900\n",
            "Epoch 33/40\n",
            "120/120 [==============================] - 22s 183ms/step - loss: 0.0672 - accuracy: 0.9797 - val_loss: 0.0303 - val_accuracy: 0.9910\n",
            "Epoch 34/40\n",
            "120/120 [==============================] - 22s 184ms/step - loss: 0.0671 - accuracy: 0.9804 - val_loss: 0.0268 - val_accuracy: 0.9905\n",
            "Epoch 35/40\n",
            "120/120 [==============================] - 22s 182ms/step - loss: 0.0630 - accuracy: 0.9808 - val_loss: 0.0230 - val_accuracy: 0.9925\n",
            "Epoch 36/40\n",
            "120/120 [==============================] - 22s 183ms/step - loss: 0.0617 - accuracy: 0.9813 - val_loss: 0.0221 - val_accuracy: 0.9900\n",
            "Epoch 37/40\n",
            "120/120 [==============================] - 22s 186ms/step - loss: 0.0625 - accuracy: 0.9813 - val_loss: 0.0240 - val_accuracy: 0.9925\n",
            "Epoch 38/40\n",
            "120/120 [==============================] - 22s 184ms/step - loss: 0.0615 - accuracy: 0.9812 - val_loss: 0.0311 - val_accuracy: 0.9900\n",
            "Epoch 39/40\n",
            "120/120 [==============================] - 22s 185ms/step - loss: 0.0616 - accuracy: 0.9816 - val_loss: 0.0254 - val_accuracy: 0.9915\n",
            "Epoch 40/40\n",
            "120/120 [==============================] - 22s 183ms/step - loss: 0.0599 - accuracy: 0.9815 - val_loss: 0.0206 - val_accuracy: 0.9940\n"
          ],
          "name": "stdout"
        },
        {
          "output_type": "execute_result",
          "data": {
            "text/plain": [
              "<tensorflow.python.keras.callbacks.History at 0x7fb6e71a67f0>"
            ]
          },
          "metadata": {
            "tags": []
          },
          "execution_count": 14
        }
      ]
    },
    {
      "cell_type": "markdown",
      "metadata": {
        "id": "VJgquKHqxZzS",
        "colab_type": "text"
      },
      "source": [
        "Evaluation should yield accuracy of around 99.4%, about 0.4% off the best known classifier. To boost this much higher, complicating the model architecture is the next step. To see how, I encourage you to check out examples on Kaggle; for instance, [this one hits 99.7% accuracy](https://www.kaggle.com/yassineghouzam/introduction-to-cnn-keras-0-997-top-6)."
      ]
    },
    {
      "cell_type": "code",
      "metadata": {
        "id": "CylwaXSpnps8",
        "colab_type": "code",
        "colab": {}
      },
      "source": [
        "conv_model.evaluate(x_test_scl, y_test)"
      ],
      "execution_count": null,
      "outputs": []
    },
    {
      "cell_type": "markdown",
      "metadata": {
        "id": "X6VRzsf_-TYr",
        "colab_type": "text"
      },
      "source": [
        "The unfortunate truth is that some people have poor handwriting:"
      ]
    },
    {
      "cell_type": "code",
      "metadata": {
        "id": "T-GIWjJe-Sj_",
        "colab_type": "code",
        "colab": {}
      },
      "source": [
        "# Get predicted classes.\n",
        "preds = conv_model.predict_classes(x_test_scl)\n",
        "\n",
        "# Prepare a figure for subplotting.\n",
        "fig = plt.figure(figsize=(12, 6))\n",
        "\n",
        "# Select one random misclass for each digit in the data set.\n",
        "for i in range(10):\n",
        "    ind = np.random.choice(np.ndarray.flatten(np.argwhere((raw_y_test == i) & (raw_y_test != preds))))\n",
        "    actual = raw_y_test[ind]\n",
        "    predicted = preds[ind]\n",
        "    plottable_image = np.reshape(x_test[ind], (28, 28))\n",
        "    ax = fig.add_subplot(2, 5, i+1)\n",
        "    ax.imshow(plottable_image, cmap='gray_r')\n",
        "    plt.xlabel(\"Actual: \" + \"{}\".format(actual) + \", Predicted: \" + \"{}\".format(predicted))"
      ],
      "execution_count": null,
      "outputs": []
    },
    {
      "cell_type": "markdown",
      "metadata": {
        "id": "shsRm7RMTvnb",
        "colab_type": "text"
      },
      "source": [
        "## __Conclusion & Recap__\n",
        "\n",
        "Today, we discussed fundamentals of deep learning in TensorFlow, including network architecture, parameter tuning, validation, callbacks, convnets, and data augmentation. As you might guess, though, there's a lot more to learn. Some things we didn't discuss in case you are interested:\n",
        "\n",
        "- __Recurrent__ and __long short-term memory__ networks (RNN, LSTM) for time series or text data\n",
        "- __Transfer learning__ for adapting pretrained models to new problems\n",
        "- __Autoencoders__ and __self-organizing maps__ for unsupervised learning\n",
        "- Using TensorFlow to write __custom layers__ for a learning model\n",
        "\n",
        "Thanks for your time! If you have any questions regarding anything we discussed today, or want help with your own project in TensorFlow, feel free to file a [consultation request with Research Computing Services](https://www.it.northwestern.edu/research/consultation/data-services.html). For more resources and exercises, check out the [Research Computing Services Blog](https://sites.northwestern.edu/researchcomputing/2020/05/01/online-learning-resources-deep-learning-with-tensorflow/)."
      ]
    }
  ]
}