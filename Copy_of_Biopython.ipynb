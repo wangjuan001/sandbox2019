{
  "nbformat": 4,
  "nbformat_minor": 0,
  "metadata": {
    "kernelspec": {
      "display_name": "Python 3",
      "language": "python",
      "name": "python3"
    },
    "language_info": {
      "codemirror_mode": {
        "name": "ipython",
        "version": 3
      },
      "file_extension": ".py",
      "mimetype": "text/x-python",
      "name": "python",
      "nbconvert_exporter": "python",
      "pygments_lexer": "ipython3",
      "version": "3.7.3"
    },
    "colab": {
      "name": "Copy of Biopython.ipynb",
      "provenance": [],
      "include_colab_link": true
    }
  },
  "cells": [
    {
      "cell_type": "markdown",
      "metadata": {
        "id": "view-in-github",
        "colab_type": "text"
      },
      "source": [
        "<a href=\"https://colab.research.google.com/github/wangjuan001/sandbox2019/blob/master/Copy_of_Biopython.ipynb\" target=\"_parent\"><img src=\"https://colab.research.google.com/assets/colab-badge.svg\" alt=\"Open In Colab\"/></a>"
      ]
    },
    {
      "cell_type": "markdown",
      "metadata": {
        "id": "j2wfmxBbk8mN",
        "colab_type": "text"
      },
      "source": [
        "**This is a Jupyter Notebook. To run a gray code cell, click in the cell and either press the \"play\" button (triangle pointing right) or hit shift+enter (or shift+return).**"
      ]
    },
    {
      "cell_type": "code",
      "metadata": {
        "id": "lXcwtAGfk8mO",
        "colab_type": "code",
        "colab": {
          "base_uri": "https://localhost:8080/",
          "height": 34
        },
        "outputId": "62a84b8c-b039-4ccb-a9b1-cb32c82591af"
      },
      "source": [
        "2 + 2"
      ],
      "execution_count": null,
      "outputs": [
        {
          "output_type": "execute_result",
          "data": {
            "text/plain": [
              "4"
            ]
          },
          "metadata": {
            "tags": []
          },
          "execution_count": 1
        }
      ]
    },
    {
      "cell_type": "markdown",
      "metadata": {
        "id": "MthXV4LTk8mR",
        "colab_type": "text"
      },
      "source": [
        "### <br>If you are using Google Colab ONLY:"
      ]
    },
    {
      "cell_type": "markdown",
      "metadata": {
        "id": "VCHWbglJk8mS",
        "colab_type": "text"
      },
      "source": [
        "Colab users need to run the following cell to load the practice files."
      ]
    },
    {
      "cell_type": "code",
      "metadata": {
        "id": "QowLB09mk8mS",
        "colab_type": "code",
        "colab": {}
      },
      "source": [
        "!wget https://raw.githubusercontent.com/aGitHasNoName/Biopython/master/clustalAlignment.aln\n",
        "!wget https://raw.githubusercontent.com/aGitHasNoName/Biopython/master/my_blast.xml\n",
        "!wget https://raw.githubusercontent.com/aGitHasNoName/Biopython/master/sequence.fasta\n",
        "!wget https://raw.githubusercontent.com/aGitHasNoName/Biopython/master/sequence.gb\n"
      ],
      "execution_count": null,
      "outputs": []
    },
    {
      "cell_type": "markdown",
      "metadata": {
        "id": "OzHyDo24k8mV",
        "colab_type": "text"
      },
      "source": [
        "# <br><br>Biopython: Introduction"
      ]
    },
    {
      "cell_type": "markdown",
      "metadata": {
        "id": "Sin60m2lk8mV",
        "colab_type": "text"
      },
      "source": [
        "*An answer key for all exercises is included in this repo, named All.pynb.*"
      ]
    },
    {
      "cell_type": "markdown",
      "metadata": {
        "id": "urMooQy3k8mV",
        "colab_type": "text"
      },
      "source": [
        "## Part 0: A review of object-oriented programming in Python"
      ]
    },
    {
      "cell_type": "markdown",
      "metadata": {
        "id": "K0Zp4SZrk8mW",
        "colab_type": "text"
      },
      "source": [
        "<br>The core of Biopython is built around a few key **_objects_**, so let's take a few minutes to review what that means. \n",
        "\n",
        "<br>In python, when you load in a piece of data, you _label_ your data as a particular object type. When you do that, you can then use a particular set of commands specific to that object, and you cannot use other commands that are only available to different objects.\n",
        "\n",
        "\n",
        "<br>For example, strings and lists are two of the most common objects in Python. They have some things in common, but other commands and attributes are specific to only lists or only strings."
      ]
    },
    {
      "cell_type": "markdown",
      "metadata": {
        "id": "OAWgsrPbk8mW",
        "colab_type": "text"
      },
      "source": [
        "#### Let's say we have a piece of data that looks like this: Welcome <br>We can label this as a list or a string, making two different objects."
      ]
    },
    {
      "cell_type": "code",
      "metadata": {
        "id": "zHRmX_Suk8mX",
        "colab_type": "code",
        "colab": {}
      },
      "source": [
        "welcome_string = \"Welcome\"\n",
        "welcome_list = [\"W\", \"e\", \"l\", \"c\", \"o\", \"m\", \"e\"]"
      ],
      "execution_count": null,
      "outputs": []
    },
    {
      "cell_type": "markdown",
      "metadata": {
        "id": "Bn5khkNxk8ma",
        "colab_type": "text"
      },
      "source": [
        "<br>In some ways, these objects **_behave_** the same:"
      ]
    },
    {
      "cell_type": "code",
      "metadata": {
        "id": "SnvuqU5mk8ma",
        "colab_type": "code",
        "colab": {}
      },
      "source": [
        "print(welcome_string[0])\n",
        "print(welcome_list[0])"
      ],
      "execution_count": null,
      "outputs": []
    },
    {
      "cell_type": "markdown",
      "metadata": {
        "id": "wUboWdfRk8md",
        "colab_type": "text"
      },
      "source": [
        "<br>In other ways, they **_behave_** differently:"
      ]
    },
    {
      "cell_type": "code",
      "metadata": {
        "id": "YIVJm3mQk8me",
        "colab_type": "code",
        "colab": {}
      },
      "source": [
        "excited_string = welcome_string + \"!\"\n",
        "print(excited_string)"
      ],
      "execution_count": null,
      "outputs": []
    },
    {
      "cell_type": "code",
      "metadata": {
        "id": "dKICARmJk8mh",
        "colab_type": "code",
        "colab": {}
      },
      "source": [
        "excited_list = welcome_list + \"!\"\n",
        "print(excited_list)"
      ],
      "execution_count": null,
      "outputs": []
    },
    {
      "cell_type": "markdown",
      "metadata": {
        "id": "YtRYvJSqk8mj",
        "colab_type": "text"
      },
      "source": [
        "<br><br>**Attributes** are *properties* of our object. <br>**Methods** are *functions* that can be applied to our object. <br>Both are added on at the end of our object. <br>Some are shared between objects and others are specific to one object."
      ]
    },
    {
      "cell_type": "markdown",
      "metadata": {
        "id": "lrXHTog8k8mk",
        "colab_type": "text"
      },
      "source": [
        "<br>Methods are followed by parantheses. Some of those functions require you to enter **parameters** inside the parantheses:"
      ]
    },
    {
      "cell_type": "code",
      "metadata": {
        "id": "ER2Rq2E2k8mk",
        "colab_type": "code",
        "colab": {}
      },
      "source": [
        "welcome_list.append(\"!\")\n",
        "print(welcome_list)"
      ],
      "execution_count": null,
      "outputs": []
    },
    {
      "cell_type": "markdown",
      "metadata": {
        "id": "pG2oU_Dzk8mm",
        "colab_type": "text"
      },
      "source": [
        "<br>Other functions do not require you to include parameters:"
      ]
    },
    {
      "cell_type": "code",
      "metadata": {
        "id": "0OkljHvik8mm",
        "colab_type": "code",
        "colab": {}
      },
      "source": [
        "upper_string = excited_string.upper()\n",
        "print(upper_string)"
      ],
      "execution_count": null,
      "outputs": []
    },
    {
      "cell_type": "markdown",
      "metadata": {
        "id": "9G-WDrfEk8mo",
        "colab_type": "text"
      },
      "source": [
        "<br>Some functions change the object:"
      ]
    },
    {
      "cell_type": "code",
      "metadata": {
        "id": "JJ3fwLJik8mo",
        "colab_type": "code",
        "colab": {}
      },
      "source": [
        "welcome_list.reverse()\n",
        "print(welcome_list)"
      ],
      "execution_count": null,
      "outputs": []
    },
    {
      "cell_type": "markdown",
      "metadata": {
        "id": "dfnAnuF0k8ms",
        "colab_type": "text"
      },
      "source": [
        "<br>Others only **_return_** a changed object, without actually changing the object:"
      ]
    },
    {
      "cell_type": "code",
      "metadata": {
        "id": "S7Gt87Tak8ms",
        "colab_type": "code",
        "colab": {}
      },
      "source": [
        "print(upper_string.replace(\"!\", \"?\"))\n",
        "print(upper_string)"
      ],
      "execution_count": null,
      "outputs": []
    },
    {
      "cell_type": "markdown",
      "metadata": {
        "id": "El1KDWG7k8mu",
        "colab_type": "text"
      },
      "source": [
        "<br>Some return only True or False:"
      ]
    },
    {
      "cell_type": "code",
      "metadata": {
        "id": "qmusbA_Kk8mv",
        "colab_type": "code",
        "colab": {}
      },
      "source": [
        "upper_string.isupper()"
      ],
      "execution_count": null,
      "outputs": []
    },
    {
      "cell_type": "markdown",
      "metadata": {
        "id": "IVDYkum6k8mw",
        "colab_type": "text"
      },
      "source": [
        "<br>You can view all the attributes and methods of an object by using the \"dir\" command:"
      ]
    },
    {
      "cell_type": "code",
      "metadata": {
        "id": "ipfrKP_Ik8mx",
        "colab_type": "code",
        "colab": {}
      },
      "source": [
        "dir(welcome_list)"
      ],
      "execution_count": null,
      "outputs": []
    },
    {
      "cell_type": "markdown",
      "metadata": {
        "id": "Z9Dk0MqMk8m1",
        "colab_type": "text"
      },
      "source": [
        "<br>You can see that some of the attributes start and end with two underscores. These are sometimes called **_dunder_** functions. They are system functions. They are used by developers when writing new python packages. They do work on their own, but they are not meant for everyday use. "
      ]
    },
    {
      "cell_type": "markdown",
      "metadata": {
        "id": "j6qAmbn4k8m1",
        "colab_type": "text"
      },
      "source": [
        "<br>As a reminder, **attributes** are _properties_ of the object. These do not use parantheses. Let's use one of the dunder attributes for the list object to illustrate an example of this type of attribute.\n",
        "\n",
        "<br>list.\\_\\_doc__ gives us the documentation text for the list object."
      ]
    },
    {
      "cell_type": "code",
      "metadata": {
        "id": "Vl2oObjXk8m1",
        "colab_type": "code",
        "colab": {}
      },
      "source": [
        "welcome_list.__doc__"
      ],
      "execution_count": null,
      "outputs": []
    },
    {
      "cell_type": "markdown",
      "metadata": {
        "id": "fG8o_us6k8m4",
        "colab_type": "text"
      },
      "source": [
        "___"
      ]
    },
    {
      "cell_type": "markdown",
      "metadata": {
        "id": "1dkDnzmlk8m4",
        "colab_type": "text"
      },
      "source": [
        "\n",
        "## <br><br>Part One: The Seq object"
      ]
    },
    {
      "cell_type": "markdown",
      "metadata": {
        "id": "G4a5bTchk8m5",
        "colab_type": "text"
      },
      "source": [
        "<br>The first object we are going to work with is the **_Seq_** object. This is a sequence (DNA, protein, etc.)\n",
        "\n",
        "\n",
        "\n",
        "#### <br>Let's import the code only for the Seq object from the Biopython module:"
      ]
    },
    {
      "cell_type": "markdown",
      "metadata": {
        "id": "4YvqH-euk8m6",
        "colab_type": "text"
      },
      "source": [
        "*Note - if you are running this notebook on Google Colab, you will need to install Biopython before you can import it. **This next cell will work on Google Colab and must be run in order to continue the notebook.** If you are running this notebook on your own computer, this cell might work to install Biopython, but it might not.*"
      ]
    },
    {
      "cell_type": "code",
      "metadata": {
        "id": "9Jxw01B6k8m6",
        "colab_type": "code",
        "colab": {}
      },
      "source": [
        "!pip install Biopython"
      ],
      "execution_count": null,
      "outputs": []
    },
    {
      "cell_type": "markdown",
      "metadata": {
        "id": "EKSrhZ7ik8m9",
        "colab_type": "text"
      },
      "source": [
        "#### <br>Everyone:"
      ]
    },
    {
      "cell_type": "code",
      "metadata": {
        "id": "4nYFAyKnk8m9",
        "colab_type": "code",
        "colab": {}
      },
      "source": [
        "from Bio.Seq import Seq"
      ],
      "execution_count": null,
      "outputs": []
    },
    {
      "cell_type": "markdown",
      "metadata": {
        "id": "c3v6snKmk8m_",
        "colab_type": "text"
      },
      "source": [
        "<br><br>We can enter a sequence from scratch and assign it to a variable. To do this, we use the function we just imported, Seq, to let the computer know that this is a Seq object and not an ordinary string."
      ]
    },
    {
      "cell_type": "code",
      "metadata": {
        "id": "n41SX37Mk8m_",
        "colab_type": "code",
        "colab": {}
      },
      "source": [
        "my_seq = Seq(\"AGTACACTGGT\")\n",
        "my_seq"
      ],
      "execution_count": null,
      "outputs": []
    },
    {
      "cell_type": "code",
      "metadata": {
        "id": "j_zfp5muk8nB",
        "colab_type": "code",
        "colab": {}
      },
      "source": [
        "print(my_seq)"
      ],
      "execution_count": null,
      "outputs": []
    },
    {
      "cell_type": "markdown",
      "metadata": {
        "id": "M4kZBOo-k8nD",
        "colab_type": "text"
      },
      "source": [
        "<br><br>A Seq object actually has two data attributes: the _sequence_, and an _alphabet_ attribute that identifies how the sequence should be read (as DNA, as RNA, as protein, etc.). "
      ]
    },
    {
      "cell_type": "code",
      "metadata": {
        "id": "bVjuQ8oLk8nD",
        "colab_type": "code",
        "colab": {}
      },
      "source": [
        "my_seq.alphabet"
      ],
      "execution_count": null,
      "outputs": []
    },
    {
      "cell_type": "markdown",
      "metadata": {
        "id": "GpySsBBVk8nF",
        "colab_type": "text"
      },
      "source": [
        "<br><br>Our example sequence is actually a DNA sequence. If it is important, we can tell the computer which alphabet to use. First, we need to import the alphabet for DNA. For more about IUPAC, check out [this link.](https://iupac.org/who-we-are/)"
      ]
    },
    {
      "cell_type": "code",
      "metadata": {
        "id": "4h4uOH1Rk8nF",
        "colab_type": "code",
        "colab": {}
      },
      "source": [
        "from Bio.Alphabet import IUPAC"
      ],
      "execution_count": null,
      "outputs": []
    },
    {
      "cell_type": "code",
      "metadata": {
        "id": "dozN0yTKk8nH",
        "colab_type": "code",
        "colab": {}
      },
      "source": [
        "my_seq.alphabet = IUPAC.unambiguous_dna"
      ],
      "execution_count": null,
      "outputs": []
    },
    {
      "cell_type": "code",
      "metadata": {
        "id": "KSPiLZtrk8nJ",
        "colab_type": "code",
        "colab": {}
      },
      "source": [
        "my_seq"
      ],
      "execution_count": null,
      "outputs": []
    },
    {
      "cell_type": "code",
      "metadata": {
        "id": "sz2r4catk8nL",
        "colab_type": "code",
        "colab": {}
      },
      "source": [
        "my_seq.alphabet"
      ],
      "execution_count": null,
      "outputs": []
    },
    {
      "cell_type": "markdown",
      "metadata": {
        "id": "M_R9DowMk8nN",
        "colab_type": "text"
      },
      "source": [
        "You may notice that the alphabet attribute of the Seq object does not require parantheses. Alphabet is a characteristic of the object, it tells us something about what the object is, instead of a function, which does something to the object."
      ]
    },
    {
      "cell_type": "markdown",
      "metadata": {
        "id": "0a2I4wLCk8nN",
        "colab_type": "text"
      },
      "source": [
        "<br>Let's view the different attributes of my_seq:"
      ]
    },
    {
      "cell_type": "code",
      "metadata": {
        "id": "x2kgjg2Ak8nO",
        "colab_type": "code",
        "colab": {}
      },
      "source": [
        "dir(my_seq)"
      ],
      "execution_count": null,
      "outputs": []
    },
    {
      "cell_type": "markdown",
      "metadata": {
        "id": "OUMOqJU0k8nP",
        "colab_type": "text"
      },
      "source": [
        "### <br>Exercise 1."
      ]
    },
    {
      "cell_type": "markdown",
      "metadata": {
        "id": "NFo5NAa7k8nQ",
        "colab_type": "text"
      },
      "source": [
        "#### Using the my_seq object we created, try out a few of the attributes and methods listed above. Try to identify 1 that does not use (), 1 that uses () with no parameters given, and 1 that uses () with a given parameter."
      ]
    },
    {
      "cell_type": "code",
      "metadata": {
        "id": "WM8sh92tk8nQ",
        "colab_type": "code",
        "colab": {}
      },
      "source": [
        "#Example of an attribute that uses () with a given parameter:\n",
        "#my_seq.__contains__(\"A\")"
      ],
      "execution_count": null,
      "outputs": []
    },
    {
      "cell_type": "code",
      "metadata": {
        "id": "unOT-8ysk8nS",
        "colab_type": "code",
        "colab": {}
      },
      "source": [
        "my_seq.__class__"
      ],
      "execution_count": null,
      "outputs": []
    },
    {
      "cell_type": "code",
      "metadata": {
        "id": "md6jAh50k8nU",
        "colab_type": "code",
        "colab": {}
      },
      "source": [
        "my_seq.lower()"
      ],
      "execution_count": null,
      "outputs": []
    },
    {
      "cell_type": "code",
      "metadata": {
        "id": "B03gs89nk8nW",
        "colab_type": "code",
        "colab": {}
      },
      "source": [
        "my_seq.endswith(\"GT\")"
      ],
      "execution_count": null,
      "outputs": []
    },
    {
      "cell_type": "markdown",
      "metadata": {
        "id": "pgTNFqkok8nX",
        "colab_type": "text"
      },
      "source": [
        "### <br>Exercise 2."
      ]
    },
    {
      "cell_type": "markdown",
      "metadata": {
        "id": "Bj8hXrDgk8nY",
        "colab_type": "text"
      },
      "source": [
        "#### Create a new object called my_protein with a sequence of MALWMRLLPL. Tell the computer to use the IUPAC alphabet called \"protein\"."
      ]
    },
    {
      "cell_type": "code",
      "metadata": {
        "id": "E0jaQ-whk8nY",
        "colab_type": "code",
        "colab": {}
      },
      "source": [
        "my_protein = Seq(\"MALWMRLLPL\")\n",
        "my_protein.alphabet = IUPAC.protein\n",
        "#Or:\n",
        "#my_protein = Seq(\"MALWMRLLPL\", alphabet=IUPAC.protein)"
      ],
      "execution_count": null,
      "outputs": []
    },
    {
      "cell_type": "markdown",
      "metadata": {
        "id": "-0jslQX2k8na",
        "colab_type": "text"
      },
      "source": [
        "#### <br>The computer knows this is a protein. Will that change which attributes can be applied to this sequence compared to my_seq? Try out a function that you think probably won't work with a protein sequence and see what happens."
      ]
    },
    {
      "cell_type": "code",
      "metadata": {
        "id": "PuFghOM6k8nb",
        "colab_type": "code",
        "colab": {}
      },
      "source": [
        "my_protein.transcribe()"
      ],
      "execution_count": null,
      "outputs": []
    },
    {
      "cell_type": "markdown",
      "metadata": {
        "id": "nLc8MNUZk8nc",
        "colab_type": "text"
      },
      "source": [
        "___"
      ]
    },
    {
      "cell_type": "markdown",
      "metadata": {
        "id": "c1uhtIUEk8nd",
        "colab_type": "text"
      },
      "source": [
        "## <br><br>Part Two: Reading sequence files"
      ]
    },
    {
      "cell_type": "markdown",
      "metadata": {
        "id": "ijRBsAf9k8nd",
        "colab_type": "text"
      },
      "source": [
        "So far we've worked with a sequence that we entered by hand. More often, however, we'll be working with sequences from files.\n",
        "\n",
        "\n",
        "<br>We can use **_SeqIO_** (that's the letters I and O) from the Bio module to load many different types of sequence files."
      ]
    },
    {
      "cell_type": "markdown",
      "metadata": {
        "id": "0XHya0R3k8nf",
        "colab_type": "text"
      },
      "source": [
        "[Click here to view a list of file types that work with Biopython](https://biopython.org/wiki/SeqIO)"
      ]
    },
    {
      "cell_type": "code",
      "metadata": {
        "id": "F8_2A8Bak8nf",
        "colab_type": "code",
        "colab": {}
      },
      "source": [
        "from Bio import SeqIO"
      ],
      "execution_count": null,
      "outputs": []
    },
    {
      "cell_type": "markdown",
      "metadata": {
        "id": "Penk2sxlk8nh",
        "colab_type": "text"
      },
      "source": [
        "<br>**_SeqIO.parse()_** is the function for reading a file that contains multiple sequences. It takes two parameters: the path to the file, and the type of file in lowercase text. <br>\n"
      ]
    },
    {
      "cell_type": "markdown",
      "metadata": {
        "id": "T1lClyG3k8ni",
        "colab_type": "text"
      },
      "source": [
        "<br>Let's read in a genbank sequence of the human insulin gene. Our file only contains one sequence. When your file only contains one sequence, you can actually use a different function: **_SeqIO.read()_**. This is because single sequences that are read with SeqIO.parse() do not loop in the same way as files with multiple sequences."
      ]
    },
    {
      "cell_type": "code",
      "metadata": {
        "id": "2yoQ49Ptk8ni",
        "colab_type": "code",
        "colab": {}
      },
      "source": [
        "insulin_gene = SeqIO.read(\"sequence.gb\", \"genbank\")"
      ],
      "execution_count": null,
      "outputs": []
    },
    {
      "cell_type": "code",
      "metadata": {
        "id": "BhzZ8R-6k8nk",
        "colab_type": "code",
        "colab": {}
      },
      "source": [
        "print(insulin_gene)"
      ],
      "execution_count": null,
      "outputs": []
    },
    {
      "cell_type": "markdown",
      "metadata": {
        "id": "ltZs9gsJk8nl",
        "colab_type": "text"
      },
      "source": [
        "<br>Let's also read a fasta file with multiple sequences, using the **_SeqIO.parse()_** function:"
      ]
    },
    {
      "cell_type": "code",
      "metadata": {
        "id": "MKbAw4azk8nl",
        "colab_type": "code",
        "colab": {}
      },
      "source": [
        "multiple_seqs = SeqIO.parse(\"sequence.fasta\", \"fasta\")"
      ],
      "execution_count": null,
      "outputs": []
    },
    {
      "cell_type": "code",
      "metadata": {
        "id": "lnmKwtWkk8no",
        "colab_type": "code",
        "colab": {}
      },
      "source": [
        "multiple_seqs"
      ],
      "execution_count": null,
      "outputs": []
    },
    {
      "cell_type": "markdown",
      "metadata": {
        "id": "u7R9wbmXk8nq",
        "colab_type": "text"
      },
      "source": [
        "<br>When you use SeqIO.parse(), the computer creates a **_generator_** object. This means the sequences are not stored in memory, which is great if you want to filter or loop through a very large file that contains many sequences or very long sequences.\n",
        "<br><br>To access the data, we can loop through the generator object and read each sequence that is contained inside."
      ]
    },
    {
      "cell_type": "code",
      "metadata": {
        "id": "wGqSFpumk8nq",
        "colab_type": "code",
        "colab": {}
      },
      "source": [
        "for i in multiple_seqs:\n",
        "    print(i.id)"
      ],
      "execution_count": null,
      "outputs": []
    },
    {
      "cell_type": "markdown",
      "metadata": {
        "id": "HkAJPVX0k8nt",
        "colab_type": "text"
      },
      "source": [
        "<br> We can load our file into memory by loading it as a **_dictionary_**. This might make the data easier to parse, especially if you are familiar with dictionaries. To do this, we use the **_SeqIO.parse()_** function (even though we are using only one sequence here) inside the **_SeqIO.to_dict()_** function:"
      ]
    },
    {
      "cell_type": "code",
      "metadata": {
        "id": "GTWe4zXPk8nt",
        "colab_type": "code",
        "colab": {}
      },
      "source": [
        "insulin_dict = SeqIO.to_dict(SeqIO.parse(\"sequence.gb\", \"genbank\"))"
      ],
      "execution_count": null,
      "outputs": []
    },
    {
      "cell_type": "code",
      "metadata": {
        "id": "usavR1Q5k8nv",
        "colab_type": "code",
        "colab": {}
      },
      "source": [
        "insulin_dict"
      ],
      "execution_count": null,
      "outputs": []
    },
    {
      "cell_type": "markdown",
      "metadata": {
        "id": "tD96Ydrak8nx",
        "colab_type": "text"
      },
      "source": [
        "<br>Note: The sequence id is used as the key in the dictionary."
      ]
    },
    {
      "cell_type": "markdown",
      "metadata": {
        "id": "nxZ5bIrUk8nx",
        "colab_type": "text"
      },
      "source": [
        "<br>We can also load our file into memory as a **_list_**. Lists are easy to work with, but they do not allow you to easily reference specific sequence records by a **_key_**. To load as a list, you do not need to use a second SeqIO function; you use the built-in python **_list()_** function around the **_SeqIO.parse()_** function (again, even though we are working with one sequence)."
      ]
    },
    {
      "cell_type": "code",
      "metadata": {
        "id": "zvgxOVork8nx",
        "colab_type": "code",
        "colab": {}
      },
      "source": [
        "insulin_list = list(SeqIO.parse(\"sequence.gb\", \"genbank\"))"
      ],
      "execution_count": null,
      "outputs": []
    },
    {
      "cell_type": "code",
      "metadata": {
        "id": "HdE6natik8nz",
        "colab_type": "code",
        "colab": {}
      },
      "source": [
        "insulin_list"
      ],
      "execution_count": null,
      "outputs": []
    },
    {
      "cell_type": "markdown",
      "metadata": {
        "id": "wj6z8iC8k8n1",
        "colab_type": "text"
      },
      "source": [
        "<br>To summarize, when working with single sequences, you use SeqIO.read() when reading the file as a generator object, and SeqIO.parse() when loading the file to memory as a list or dictionary."
      ]
    },
    {
      "cell_type": "markdown",
      "metadata": {
        "id": "lUCitY8Sk8n2",
        "colab_type": "text"
      },
      "source": [
        "### <br>Exercise 3."
      ]
    },
    {
      "cell_type": "markdown",
      "metadata": {
        "id": "YSE-6zO2k8n2",
        "colab_type": "text"
      },
      "source": [
        "#### Load in the fasta file, sequence.fasta, as a dictionary called fasta_dict. You will use \"fasta\" as the file type.\n",
        "#### <br>This fasta file was downloaded from NCBI. It contains human insulin sequences on chromosome 11 of length between 100 and 10,000 bp."
      ]
    },
    {
      "cell_type": "code",
      "metadata": {
        "id": "py0R8DOyk8n2",
        "colab_type": "code",
        "colab": {}
      },
      "source": [
        "fasta_dict = SeqIO.to_dict(SeqIO.parse(\"sequence.fasta\", \"fasta\"))"
      ],
      "execution_count": null,
      "outputs": []
    },
    {
      "cell_type": "markdown",
      "metadata": {
        "id": "6s7Q8Z5Ck8n5",
        "colab_type": "text"
      },
      "source": [
        "#### <br>How many sequences are in fasta_dict?"
      ]
    },
    {
      "cell_type": "code",
      "metadata": {
        "id": "67Db2CCsk8n5",
        "colab_type": "code",
        "colab": {}
      },
      "source": [
        "len(fasta_dict)"
      ],
      "execution_count": null,
      "outputs": []
    },
    {
      "cell_type": "markdown",
      "metadata": {
        "id": "M5e_5NpOk8n7",
        "colab_type": "text"
      },
      "source": [
        "#### Print the sequence with id \"NG_052838.1\"."
      ]
    },
    {
      "cell_type": "code",
      "metadata": {
        "id": "oIHEU_nxk8n7",
        "colab_type": "code",
        "colab": {}
      },
      "source": [
        "print(fasta_dict[\"NG_052838.1\"])"
      ],
      "execution_count": null,
      "outputs": []
    },
    {
      "cell_type": "markdown",
      "metadata": {
        "id": "14M04pvIk8n8",
        "colab_type": "text"
      },
      "source": [
        "___"
      ]
    },
    {
      "cell_type": "markdown",
      "metadata": {
        "id": "vT1Y_MZCk8n8",
        "colab_type": "text"
      },
      "source": [
        "## <br><br>Part Three: The SeqRecord object"
      ]
    },
    {
      "cell_type": "markdown",
      "metadata": {
        "id": "DuZ8ZL95k8n8",
        "colab_type": "text"
      },
      "source": [
        "<br> There are several different sequence file types (too many!). Most contain more information than just the sequence. \n",
        "\n",
        "\n",
        "<br>A **_SeqRecord_** is another object that has its own attributes and functions. The **_Seq_** object that we learned above is one attribute of the SeqRecord. The Seq object retains all of its own attributes and functions, so you can think of it as a sub-object inside the SeqRecord object. \n",
        "\n",
        "\n",
        "<br>When we loaded our insulin sequence above, both as a generator object and as a dictionary, SeqIO labelled each record as a SeqRecord object. Let's look at one SeqRecord:"
      ]
    },
    {
      "cell_type": "code",
      "metadata": {
        "id": "UpfgHdu1k8n9",
        "colab_type": "code",
        "colab": {}
      },
      "source": [
        "insulin = insulin_dict['NC_000011.10']"
      ],
      "execution_count": null,
      "outputs": []
    },
    {
      "cell_type": "code",
      "metadata": {
        "id": "iIRzruoWk8oA",
        "colab_type": "code",
        "colab": {}
      },
      "source": [
        "insulin"
      ],
      "execution_count": null,
      "outputs": []
    },
    {
      "cell_type": "markdown",
      "metadata": {
        "id": "_2bnmOAOk8oD",
        "colab_type": "text"
      },
      "source": [
        "Let's see what attributes this object has:"
      ]
    },
    {
      "cell_type": "code",
      "metadata": {
        "id": "y5tlGurkk8oE",
        "colab_type": "code",
        "colab": {}
      },
      "source": [
        "dir(insulin)"
      ],
      "execution_count": null,
      "outputs": []
    },
    {
      "cell_type": "markdown",
      "metadata": {
        "id": "ZGzkDs-gk8oG",
        "colab_type": "text"
      },
      "source": [
        "<br>We can print attributes from our record:"
      ]
    },
    {
      "cell_type": "code",
      "metadata": {
        "id": "WsKiBIQfk8oH",
        "colab_type": "code",
        "colab": {}
      },
      "source": [
        "insulin.description"
      ],
      "execution_count": null,
      "outputs": []
    },
    {
      "cell_type": "code",
      "metadata": {
        "id": "i4x9CuTPk8oI",
        "colab_type": "code",
        "colab": {}
      },
      "source": [
        "insulin.seq"
      ],
      "execution_count": null,
      "outputs": []
    },
    {
      "cell_type": "code",
      "metadata": {
        "id": "hRRWrGt4k8oK",
        "colab_type": "code",
        "colab": {}
      },
      "source": [
        "insulin.seq.alphabet"
      ],
      "execution_count": null,
      "outputs": []
    },
    {
      "cell_type": "markdown",
      "metadata": {
        "id": "o3ea-FlWk8oL",
        "colab_type": "text"
      },
      "source": [
        "___"
      ]
    },
    {
      "cell_type": "markdown",
      "metadata": {
        "id": "wCe7lwA9k8oL",
        "colab_type": "text"
      },
      "source": [
        "### <br>Part Four: Parsing records"
      ]
    },
    {
      "cell_type": "markdown",
      "metadata": {
        "id": "-XfbBaXgk8oL",
        "colab_type": "text"
      },
      "source": [
        "Biopython allows us to filter and transform our sequences in bulk.\n",
        "<br><br>We have learned three ways to read a sequence file: as a generator object that is not loaded into memory, as a list, and as a dictionary with sequence ids as the keys. It is up to you to decide which way to read your sequences depending on the question and size of your file."
      ]
    },
    {
      "cell_type": "markdown",
      "metadata": {
        "id": "0s2NxulLk8oM",
        "colab_type": "text"
      },
      "source": [
        "___"
      ]
    },
    {
      "cell_type": "markdown",
      "metadata": {
        "id": "27OTWIh-k8oM",
        "colab_type": "text"
      },
      "source": [
        "#### Python review:\n",
        "\n",
        "If you are using a dictionary, you'll need to remember the rules for looping through python dictionaries. You use different attributes for looping through the dictionary keys, the dictionary values, or both. \n",
        "\n",
        "<br>The next exercise uses **_dict.keys()_**, **_dict.values()_**, and **_dict.items()_** to loop through a dictionary."
      ]
    },
    {
      "cell_type": "markdown",
      "metadata": {
        "id": "hM2_nZctk8oN",
        "colab_type": "text"
      },
      "source": [
        "### <br>Exercise 4"
      ]
    },
    {
      "cell_type": "code",
      "metadata": {
        "id": "FciZSn7Jk8oN",
        "colab_type": "code",
        "colab": {}
      },
      "source": [
        "sample_dict = {\"bird\": \"goose\", \"mammal\": \"squirrel\", \"fish\": \"trout\"}"
      ],
      "execution_count": null,
      "outputs": []
    },
    {
      "cell_type": "markdown",
      "metadata": {
        "id": "ul-TNZxek8oP",
        "colab_type": "text"
      },
      "source": [
        "#### For the next three code cells, before you run the cell, write down on a piece of paper what you expect to see as output. Then run the cell and see if you were right."
      ]
    },
    {
      "cell_type": "code",
      "metadata": {
        "id": "B7QN8DyTk8oP",
        "colab_type": "code",
        "colab": {}
      },
      "source": [
        "for k in sample_dict.keys():\n",
        "    print(\"Key:\")\n",
        "    print(k)\n",
        "    print(\"Value:\")\n",
        "    print(sample_dict[k])"
      ],
      "execution_count": null,
      "outputs": []
    },
    {
      "cell_type": "code",
      "metadata": {
        "id": "gt-gnUdjk8oR",
        "colab_type": "code",
        "colab": {}
      },
      "source": [
        "for value in sample_dict.values():\n",
        "    print(value)"
      ],
      "execution_count": null,
      "outputs": []
    },
    {
      "cell_type": "code",
      "metadata": {
        "id": "3GD3ZuEQk8oT",
        "colab_type": "code",
        "colab": {}
      },
      "source": [
        "for animal_type, animal_name in sample_dict.items():\n",
        "    print(animal_name + \" is a \" + animal_type)"
      ],
      "execution_count": null,
      "outputs": []
    },
    {
      "cell_type": "markdown",
      "metadata": {
        "id": "nFFZ7xolk8oV",
        "colab_type": "text"
      },
      "source": [
        "<br><br>Another important thing to remember about certain Python objects is that if you make a copy of the object by assigning one variable to the original, any changes you make to one object will also be made to the other:"
      ]
    },
    {
      "cell_type": "code",
      "metadata": {
        "id": "qAkt72Tyk8oV",
        "colab_type": "code",
        "colab": {}
      },
      "source": [
        "list1 = [3, 4, 5]\n",
        "list2 = list1\n",
        "list2.append(9)\n",
        "print(list1)\n",
        "print(list2)"
      ],
      "execution_count": null,
      "outputs": []
    },
    {
      "cell_type": "markdown",
      "metadata": {
        "id": "imB5ZkPjk8oY",
        "colab_type": "text"
      },
      "source": [
        "We can get around this by assigning both variables to the same original object rather than referencing one variable when assigning the other:"
      ]
    },
    {
      "cell_type": "code",
      "metadata": {
        "id": "fhcZdRfik8oZ",
        "colab_type": "code",
        "colab": {}
      },
      "source": [
        "list1 = [3, 4, 5]\n",
        "list2 = [3, 4, 5]\n",
        "list2.append(9)\n",
        "print(list1)\n",
        "print(list2)"
      ],
      "execution_count": null,
      "outputs": []
    },
    {
      "cell_type": "markdown",
      "metadata": {
        "id": "4H8JALBwk8oa",
        "colab_type": "text"
      },
      "source": [
        "___"
      ]
    },
    {
      "cell_type": "markdown",
      "metadata": {
        "id": "0tpaNvPbk8oa",
        "colab_type": "text"
      },
      "source": [
        "#### <br>  Let's write a loop to make a new dictionary that returns the reverse complements of all the sequences in the fasta_dict."
      ]
    },
    {
      "cell_type": "markdown",
      "metadata": {
        "id": "s2Zc-MM_k8oa",
        "colab_type": "text"
      },
      "source": [
        "In case you changed it in the previous exercise, we will reload the fasta_dict first:"
      ]
    },
    {
      "cell_type": "code",
      "metadata": {
        "id": "YPWo_hdtk8oa",
        "colab_type": "code",
        "colab": {}
      },
      "source": [
        "fasta_dict = SeqIO.to_dict(SeqIO.parse(\"sequence.fasta\", \"fasta\"))"
      ],
      "execution_count": null,
      "outputs": []
    },
    {
      "cell_type": "markdown",
      "metadata": {
        "id": "xyqSeFz4k8ob",
        "colab_type": "text"
      },
      "source": [
        "<br>We will also load in the same dictionary with a new name, since we can't copy the fasta_dict without changing the original:"
      ]
    },
    {
      "cell_type": "code",
      "metadata": {
        "id": "mQllXSElk8oc",
        "colab_type": "code",
        "colab": {}
      },
      "source": [
        "reverse_dict = SeqIO.to_dict(SeqIO.parse(\"sequence.fasta\", \"fasta\"))"
      ],
      "execution_count": null,
      "outputs": []
    },
    {
      "cell_type": "markdown",
      "metadata": {
        "id": "J8DdnHitk8od",
        "colab_type": "text"
      },
      "source": [
        "Finally, we change the **_Seq_** object for each record in the reverse_dict:"
      ]
    },
    {
      "cell_type": "code",
      "metadata": {
        "id": "pzOhGhLrk8od",
        "colab_type": "code",
        "colab": {}
      },
      "source": [
        "for record in reverse_dict.values():\n",
        "    record.seq = record.seq.reverse_complement()"
      ],
      "execution_count": null,
      "outputs": []
    },
    {
      "cell_type": "markdown",
      "metadata": {
        "id": "czQPONqHk8oe",
        "colab_type": "text"
      },
      "source": [
        "<br> We can test the output by looking at the same sequence in the original dictionary and in the reversed dictionary:"
      ]
    },
    {
      "cell_type": "code",
      "metadata": {
        "id": "pzo5wtwuk8oe",
        "colab_type": "code",
        "colab": {}
      },
      "source": [
        "fasta_dict[\"NG_052838.1\"]"
      ],
      "execution_count": null,
      "outputs": []
    },
    {
      "cell_type": "markdown",
      "metadata": {
        "id": "S4nVcTbbk8og",
        "colab_type": "text"
      },
      "source": [
        "#### Before you run the next cell, what do you think the first and last three nucleotides will be in the reverse_dict for this sequence?"
      ]
    },
    {
      "cell_type": "code",
      "metadata": {
        "id": "TcoHNd45k8oh",
        "colab_type": "code",
        "colab": {}
      },
      "source": [
        "reverse_dict[\"NG_052838.1\"]"
      ],
      "execution_count": null,
      "outputs": []
    },
    {
      "cell_type": "markdown",
      "metadata": {
        "id": "yPu9Knyfk8oi",
        "colab_type": "text"
      },
      "source": [
        "### <br>Exercise 5"
      ]
    },
    {
      "cell_type": "markdown",
      "metadata": {
        "id": "jwYo0PJrk8oj",
        "colab_type": "text"
      },
      "source": [
        "#### Our fasta_dict contains some minisatellite sequences, which we do not want to include. (Minisatellites are parts of the genome with a high number of repeated DNA segments and are useful for studying population level genetic diversity.) Minisatellites are short, but we cannot filter by length because there are some short exon sequences that we do want to keep. <br>\n",
        "#### <br> Create a new dictionary called reduced_dict. Use a loop to only include sequences that do not contain the word \"minisatellite\" in the SeqRecord description."
      ]
    },
    {
      "cell_type": "code",
      "metadata": {
        "id": "G-9Lnglqk8oj",
        "colab_type": "code",
        "colab": {}
      },
      "source": [
        "reduced_dict = {}"
      ],
      "execution_count": null,
      "outputs": []
    },
    {
      "cell_type": "code",
      "metadata": {
        "id": "KQ0BnhWck8ok",
        "colab_type": "code",
        "colab": {}
      },
      "source": [
        "for id, record in fasta_dict.items():\n",
        "    if \"minisatellite\" not in record.description:\n",
        "        reduced_dict[id] = record"
      ],
      "execution_count": null,
      "outputs": []
    },
    {
      "cell_type": "markdown",
      "metadata": {
        "id": "Gb-YG8Imk8ol",
        "colab_type": "text"
      },
      "source": [
        "#### How many sequences are in the reduced_dict?"
      ]
    },
    {
      "cell_type": "code",
      "metadata": {
        "id": "GxDefdwMk8ol",
        "colab_type": "code",
        "colab": {}
      },
      "source": [
        "len(reduced_dict)"
      ],
      "execution_count": null,
      "outputs": []
    },
    {
      "cell_type": "markdown",
      "metadata": {
        "id": "QbE-3_s6k8on",
        "colab_type": "text"
      },
      "source": [
        "#### Print the length of each sequence in the dictionary."
      ]
    },
    {
      "cell_type": "code",
      "metadata": {
        "id": "2i3VM1Frk8on",
        "colab_type": "code",
        "colab": {}
      },
      "source": [
        "for id in reduced_dict.keys():\n",
        "    print(len(reduced_dict[id]))\n",
        "#OR:    \n",
        "#for v in reduced_dict.values():\n",
        "#    print(len(v.seq))"
      ],
      "execution_count": null,
      "outputs": []
    },
    {
      "cell_type": "markdown",
      "metadata": {
        "id": "dplZEQC9k8oo",
        "colab_type": "text"
      },
      "source": [
        "___"
      ]
    },
    {
      "cell_type": "markdown",
      "metadata": {
        "id": "6itrof2qk8oo",
        "colab_type": "text"
      },
      "source": [
        "## <br>Part Five: Writing files"
      ]
    },
    {
      "cell_type": "markdown",
      "metadata": {
        "id": "pC-QsXjek8op",
        "colab_type": "text"
      },
      "source": [
        "Writing files is easy. **_SeqIO.write()_** takes three parameters: the data to write, the name for saving the file, and the file type."
      ]
    },
    {
      "cell_type": "code",
      "metadata": {
        "id": "eHklJDE7k8op",
        "colab_type": "code",
        "colab": {}
      },
      "source": [
        "SeqIO.write(reduced_dict.values(), \"insulinGenes.fasta\", \"fasta\")"
      ],
      "execution_count": null,
      "outputs": []
    },
    {
      "cell_type": "markdown",
      "metadata": {
        "id": "oJN3IWtYk8oq",
        "colab_type": "text"
      },
      "source": [
        "The **_SeqIO.write()_** function returns the number of sequences that were written."
      ]
    },
    {
      "cell_type": "markdown",
      "metadata": {
        "id": "JWZuWn4bk8oq",
        "colab_type": "text"
      },
      "source": [
        "<br>You can save the genes in a file type that is different than the original file type, but different types have different requirements. For example, let's try this:"
      ]
    },
    {
      "cell_type": "code",
      "metadata": {
        "id": "xmOedsOxk8oq",
        "colab_type": "code",
        "colab": {}
      },
      "source": [
        "SeqIO.write(reduced_dict.values(), \"insulinGenes.gb\", \"genbank\")"
      ],
      "execution_count": null,
      "outputs": []
    },
    {
      "cell_type": "markdown",
      "metadata": {
        "id": "tmXxjIh-k8or",
        "colab_type": "text"
      },
      "source": [
        "<br>Let's practice parsing sequence records by adding an alphabet to the sequences in reduced_dict so that we can save the file as a genbank file.\n",
        "<br><br>If you remember, record.seq.alphabet is a property of the **_Seq_** object record.seq. Once you assign it an alphabet, it changes the object."
      ]
    },
    {
      "cell_type": "code",
      "metadata": {
        "id": "GvRlDoYxk8os",
        "colab_type": "code",
        "colab": {}
      },
      "source": [
        "for record in reduced_dict.values():\n",
        "    record.seq.alphabet = IUPAC.unambiguous_dna"
      ],
      "execution_count": null,
      "outputs": []
    },
    {
      "cell_type": "markdown",
      "metadata": {
        "id": "XyOFWnjok8ou",
        "colab_type": "text"
      },
      "source": [
        "<br>Let's try again to write the genbank file:"
      ]
    },
    {
      "cell_type": "code",
      "metadata": {
        "id": "Dcu-0YWSk8ou",
        "colab_type": "code",
        "colab": {}
      },
      "source": [
        "SeqIO.write(reduced_dict.values(), \"insulinGenes.gb\", \"genbank\")"
      ],
      "execution_count": null,
      "outputs": []
    },
    {
      "cell_type": "markdown",
      "metadata": {
        "id": "Za5AyT-gk8ov",
        "colab_type": "text"
      },
      "source": [
        "___"
      ]
    },
    {
      "cell_type": "markdown",
      "metadata": {
        "id": "KmTKw5AWk8ow",
        "colab_type": "text"
      },
      "source": [
        "## <br>Part Six: Converting between file formats"
      ]
    },
    {
      "cell_type": "markdown",
      "metadata": {
        "id": "R-_K71V5k8ow",
        "colab_type": "text"
      },
      "source": [
        "<br>In theory, it is very easy to convert between file formats. You just parse a file and then write a file:"
      ]
    },
    {
      "cell_type": "code",
      "metadata": {
        "id": "suCSPHTFk8ow",
        "colab_type": "code",
        "colab": {}
      },
      "source": [
        "insulin_sequence = SeqIO.parse(\"sequence.gb\", \"genbank\")\n",
        "SeqIO.write(insulin_sequence, \"insulin_sequence_fasta.fa\", \"fasta\")"
      ],
      "execution_count": null,
      "outputs": []
    },
    {
      "cell_type": "markdown",
      "metadata": {
        "id": "2f1yPA9ak8oy",
        "colab_type": "text"
      },
      "source": [
        "<br>Biopython can also handle the special needs of **_Multiple Sequence Alignments_** (MSAs). Instead of using **_SeqIO_**, we use **_AlignIO_**:"
      ]
    },
    {
      "cell_type": "code",
      "metadata": {
        "id": "0YgCuf1qk8oy",
        "colab_type": "code",
        "colab": {}
      },
      "source": [
        "from Bio import AlignIO"
      ],
      "execution_count": null,
      "outputs": []
    },
    {
      "cell_type": "markdown",
      "metadata": {
        "id": "ByIj71H-k8oz",
        "colab_type": "text"
      },
      "source": [
        "<br>We can use **_AlignIO_** to convert a ClustalW file to a fasta file of alignments. Just like with SeqIO, if your sequence contains only one alignment, you use **_AlignIO.read()_** instead of **_AlignIO.parse()_**. Note that a single alignment contains multiple sequences, but is still considered a single alignment."
      ]
    },
    {
      "cell_type": "code",
      "metadata": {
        "id": "HrYrcTTEk8oz",
        "colab_type": "code",
        "colab": {}
      },
      "source": [
        "insulin_alignments = AlignIO.read(\"clustalAlignment.aln\", \"clustal\")\n",
        "AlignIO.write(insulin_alignments, \"fastaAlignment.fa\", \"fasta\")"
      ],
      "execution_count": null,
      "outputs": []
    },
    {
      "cell_type": "markdown",
      "metadata": {
        "id": "nT5nlWSQk8o1",
        "colab_type": "text"
      },
      "source": [
        "Note that I used the generator object to read the original file in both the SeqIO and AlignIO examples."
      ]
    },
    {
      "cell_type": "markdown",
      "metadata": {
        "id": "hccCzUErk8o1",
        "colab_type": "text"
      },
      "source": [
        "<br>In reality, most file formats include different information or have different requirements, making it not so easy to convert between formats. Let's try to convert our clustalAlignment.aln file into a phylip file:"
      ]
    },
    {
      "cell_type": "code",
      "metadata": {
        "id": "srHVTwhBk8o1",
        "colab_type": "code",
        "colab": {}
      },
      "source": [
        "insulin_alignments = AlignIO.read(\"clustalAlignment.aln\", \"clustal\")\n",
        "AlignIO.write(insulin_alignments, \"phylipAlignment.phy\", \"phylip\")"
      ],
      "execution_count": null,
      "outputs": []
    },
    {
      "cell_type": "markdown",
      "metadata": {
        "id": "RlBoJ5jTk8o2",
        "colab_type": "text"
      },
      "source": [
        "<br>The phylip format shortens all sequence names to only the first 10 characters and each sequence name must be unique, but our clustal file has long sequence names in which the first 10 characters are identical."
      ]
    },
    {
      "cell_type": "markdown",
      "metadata": {
        "id": "UMOWCTX0k8o3",
        "colab_type": "text"
      },
      "source": [
        "### <br>Exercise 6"
      ]
    },
    {
      "cell_type": "markdown",
      "metadata": {
        "id": "Q0ybeHwqk8o3",
        "colab_type": "text"
      },
      "source": [
        "#### This exercise will combine everything we've learned so far. We need to convert the clustalAlignment.aln file into a phylip file, but we received the error above. "
      ]
    },
    {
      "cell_type": "markdown",
      "metadata": {
        "id": "pddzSODck8o3",
        "colab_type": "text"
      },
      "source": [
        "#### Think through how you will do this. You might need to look at the original file to see how it is formatted. On a piece of paper, write down the steps you will need to take before beginning to code. There are several different solutions to this problem."
      ]
    },
    {
      "cell_type": "code",
      "metadata": {
        "id": "AUT3ETk2k8o3",
        "colab_type": "code",
        "colab": {}
      },
      "source": [
        "alignment = AlignIO.read(\"clustalAlignment.aln\", \"clustal\")"
      ],
      "execution_count": null,
      "outputs": []
    },
    {
      "cell_type": "code",
      "metadata": {
        "id": "jD7ANs9Tk8o4",
        "colab_type": "code",
        "colab": {}
      },
      "source": [
        "name_dict = {}\n",
        "n = 1\n",
        "for record in alignment:\n",
        "    name_dict[record.id] = \"seq\" + str(n)\n",
        "    record.id = name_dict[record.id]\n",
        "    n +=1\n",
        "\n",
        "AlignIO.write([alignment], \"phylipAlignment.phy\", \"phylip\")\n",
        "\n",
        "#And then you would save the name_dict dictionary to file \n",
        "#so that you can reference it later to know which sequence is which."
      ],
      "execution_count": null,
      "outputs": []
    },
    {
      "cell_type": "code",
      "metadata": {
        "id": "yFgbfn0Gk8o5",
        "colab_type": "code",
        "colab": {}
      },
      "source": [
        ""
      ],
      "execution_count": null,
      "outputs": []
    },
    {
      "cell_type": "code",
      "metadata": {
        "id": "UQZKAriqk8o6",
        "colab_type": "code",
        "colab": {}
      },
      "source": [
        ""
      ],
      "execution_count": null,
      "outputs": []
    },
    {
      "cell_type": "code",
      "metadata": {
        "id": "Mak1qS0gk8o7",
        "colab_type": "code",
        "colab": {}
      },
      "source": [
        ""
      ],
      "execution_count": null,
      "outputs": []
    },
    {
      "cell_type": "code",
      "metadata": {
        "id": "cYjS6j8Nk8o8",
        "colab_type": "code",
        "colab": {}
      },
      "source": [
        ""
      ],
      "execution_count": null,
      "outputs": []
    },
    {
      "cell_type": "markdown",
      "metadata": {
        "id": "iwzUHW3Ak8o-",
        "colab_type": "text"
      },
      "source": [
        "___"
      ]
    },
    {
      "cell_type": "markdown",
      "metadata": {
        "id": "l9M3cijPk8o-",
        "colab_type": "text"
      },
      "source": [
        "## <br>Part Seven: Running BLAST"
      ]
    },
    {
      "cell_type": "markdown",
      "metadata": {
        "id": "bKClsjuwk8o-",
        "colab_type": "text"
      },
      "source": [
        "NCBI BLAST allows you to compare your sequence with all sequences that are in the NCBI database. However, the output can be difficult to parse."
      ]
    },
    {
      "cell_type": "markdown",
      "metadata": {
        "id": "RCQNGhe-k8pA",
        "colab_type": "text"
      },
      "source": [
        "<br> First, let's import the **_qblast()_** function from the Bio module:"
      ]
    },
    {
      "cell_type": "code",
      "metadata": {
        "id": "p8Kgy5mpk8pA",
        "colab_type": "code",
        "colab": {}
      },
      "source": [
        "from Bio.Blast.NCBIWWW import qblast"
      ],
      "execution_count": null,
      "outputs": []
    },
    {
      "cell_type": "markdown",
      "metadata": {
        "id": "UBsrjdmrk8pB",
        "colab_type": "text"
      },
      "source": [
        "The **_qblast()_** function takes three required arguments: the BLAST program to use for the search, the database to search, and a string of your sequence of interest. Other arguments are available that match the options on the BLAST website GUI.\n",
        "<br><br>Earlier we created a SeqRecord object called insulin that we will use as our query string."
      ]
    },
    {
      "cell_type": "code",
      "metadata": {
        "id": "Nus4oNNwk8pB",
        "colab_type": "code",
        "colab": {}
      },
      "source": [
        "insulin"
      ],
      "execution_count": null,
      "outputs": []
    },
    {
      "cell_type": "code",
      "metadata": {
        "id": "W0qlnt43k8pE",
        "colab_type": "code",
        "colab": {}
      },
      "source": [
        "results = qblast(\"blastn\", \"nt\", insulin.seq)"
      ],
      "execution_count": null,
      "outputs": []
    },
    {
      "cell_type": "markdown",
      "metadata": {
        "id": "4BQcHmnpk8pF",
        "colab_type": "text"
      },
      "source": [
        "_(The command above will take a few minutes to run.)_"
      ]
    },
    {
      "cell_type": "markdown",
      "metadata": {
        "id": "o-DaZ4Xbk8pF",
        "colab_type": "text"
      },
      "source": [
        "Because these results take a while to run, it is a good idea to save your searches for later use:"
      ]
    },
    {
      "cell_type": "code",
      "metadata": {
        "id": "AmjR5YjHk8pF",
        "colab_type": "code",
        "colab": {}
      },
      "source": [
        "with open(\"my_blast.xml\", \"w\") as out_handle:\n",
        "    out_handle.write(results.read())\n",
        "results.close()"
      ],
      "execution_count": null,
      "outputs": []
    },
    {
      "cell_type": "markdown",
      "metadata": {
        "id": "6cf7fpNhk8pG",
        "colab_type": "text"
      },
      "source": [
        "<br>To parse the results, which were returned as a .xml file, we import this object:"
      ]
    },
    {
      "cell_type": "code",
      "metadata": {
        "id": "Ri5mrOOHk8pH",
        "colab_type": "code",
        "colab": {}
      },
      "source": [
        "from Bio.Blast import NCBIXML"
      ],
      "execution_count": null,
      "outputs": []
    },
    {
      "cell_type": "markdown",
      "metadata": {
        "id": "yMwMoS9Jk8pI",
        "colab_type": "text"
      },
      "source": [
        "<br>**_NCBIXML_** has a function called **_parse()_** that we can use to change our results into a readable record IF we ran qblast on multiple query sequences. Additionally, when we use **_parse()_**, our results can only be read or looped through once without reloading the results, since results can be large.\n",
        "<br><br>If we only ran one query sequence, we can use a function called **_read()_**. First we reopen the results file that we saved of our BLAST output:"
      ]
    },
    {
      "cell_type": "code",
      "metadata": {
        "id": "hfMal6t9k8pI",
        "colab_type": "code",
        "colab": {}
      },
      "source": [
        "results = open(\"my_blast.xml\")\n",
        "blast_record = NCBIXML.read(results)"
      ],
      "execution_count": null,
      "outputs": []
    },
    {
      "cell_type": "markdown",
      "metadata": {
        "id": "JbBptm3tk8pJ",
        "colab_type": "text"
      },
      "source": [
        "<br>We can loop through the **_blast record object_**. It is a much more complicated object than the others we have worked with.  Here I am printing the name and score of all BLAST matches with a score greater than 2,000."
      ]
    },
    {
      "cell_type": "code",
      "metadata": {
        "id": "MDS7nuCSk8pJ",
        "colab_type": "code",
        "colab": {}
      },
      "source": [
        "for alignment in blast_record.alignments:\n",
        "    for hsp in alignment.hsps:\n",
        "        if hsp.score > 2000:\n",
        "            print(\"****Alignment****\")\n",
        "            print(\"sequence:\", alignment.title)\n",
        "            print(\"score:\", hsp.score)"
      ],
      "execution_count": null,
      "outputs": []
    },
    {
      "cell_type": "markdown",
      "metadata": {
        "id": "OfjfQZkok8pK",
        "colab_type": "text"
      },
      "source": [
        "<br>This link will show you all the attributes of a BLAST output file that can be used for parsing: http://biopython.org/DIST/docs/tutorial/Tutorial#fig:blastrecord"
      ]
    },
    {
      "cell_type": "markdown",
      "metadata": {
        "id": "d0hHTMJdk8pK",
        "colab_type": "text"
      },
      "source": [
        "<br>Another example of parsing BLAST output:"
      ]
    },
    {
      "cell_type": "code",
      "metadata": {
        "id": "bDfIDBkPk8pK",
        "colab_type": "code",
        "colab": {}
      },
      "source": [
        "c11_list = []\n",
        "for alignment in blast_record.alignments:\n",
        "    if \"chromosome 11\" in alignment.title:\n",
        "        c11_list.append(alignment.title)"
      ],
      "execution_count": null,
      "outputs": []
    },
    {
      "cell_type": "code",
      "metadata": {
        "id": "y9Mle0h1k8pM",
        "colab_type": "code",
        "colab": {}
      },
      "source": [
        "c11_list"
      ],
      "execution_count": null,
      "outputs": []
    },
    {
      "cell_type": "markdown",
      "metadata": {
        "id": "t-frLkg3k8pN",
        "colab_type": "text"
      },
      "source": [
        "___"
      ]
    },
    {
      "cell_type": "markdown",
      "metadata": {
        "id": "XIygpT1Ak8pN",
        "colab_type": "text"
      },
      "source": [
        "### <br><br>Bonus exercise"
      ]
    },
    {
      "cell_type": "markdown",
      "metadata": {
        "id": "LSsiJxJWk8pO",
        "colab_type": "text"
      },
      "source": [
        "#### <br>Write a script in your text editor of choice (or use the text editor built into Jupyter Lab). The script should take a fasta file with multiple sequences and write a new fasta file with only sequences greater than 200 base pairs in length. You can use the file \"sequence.fasta\" to practice. Remember that your script will have to import the correct commands from the Bio module."
      ]
    },
    {
      "cell_type": "markdown",
      "metadata": {
        "id": "tXb79m7Pk8pO",
        "colab_type": "text"
      },
      "source": [
        "#### If you are a more advanced Python programmer, use the sys module to read the input file name from the command line."
      ]
    },
    {
      "cell_type": "markdown",
      "metadata": {
        "id": "Qqd4bX1dk8pO",
        "colab_type": "text"
      },
      "source": [
        "*One solution to this exercise is included in this repo, named bonusAnswer.py.*"
      ]
    },
    {
      "cell_type": "code",
      "metadata": {
        "id": "-wmeYz4zk8pO",
        "colab_type": "code",
        "colab": {}
      },
      "source": [
        ""
      ],
      "execution_count": null,
      "outputs": []
    }
  ]
}