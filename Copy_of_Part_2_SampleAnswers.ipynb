{
  "nbformat": 4,
  "nbformat_minor": 0,
  "metadata": {
    "kernelspec": {
      "display_name": "Python 3",
      "language": "python",
      "name": "python3"
    },
    "language_info": {
      "codemirror_mode": {
        "name": "ipython",
        "version": 3
      },
      "file_extension": ".py",
      "mimetype": "text/x-python",
      "name": "python",
      "nbconvert_exporter": "python",
      "pygments_lexer": "ipython3",
      "version": "3.7.1"
    },
    "colab": {
      "name": "Copy of Part_2_SampleAnswers.ipynb",
      "provenance": [],
      "include_colab_link": true
    }
  },
  "cells": [
    {
      "cell_type": "markdown",
      "metadata": {
        "id": "view-in-github",
        "colab_type": "text"
      },
      "source": [
        "<a href=\"https://colab.research.google.com/github/wangjuan001/sandbox2019/blob/master/Copy_of_Part_2_SampleAnswers.ipynb\" target=\"_parent\"><img src=\"https://colab.research.google.com/assets/colab-badge.svg\" alt=\"Open In Colab\"/></a>"
      ]
    },
    {
      "cell_type": "markdown",
      "metadata": {
        "id": "cvQKudv36sCE",
        "colab_type": "text"
      },
      "source": [
        "# Code it: Cleaning Shakespeare\n",
        "\n",
        "\n",
        "### Timings\n",
        "\n",
        "Shakespeare is much bigger than Walden, and so it takes a lot longer to process the text. Just to demonstrate where the biggest slowdowns are, I split the sample code up into chunks and time each one.\n",
        "\n",
        "**Can you guess which part of the text cleaning process will take the longest?**\n",
        "\n",
        "## Sample code"
      ]
    },
    {
      "cell_type": "code",
      "metadata": {
        "id": "oQFvPipk6sCF",
        "colab_type": "code",
        "colab": {
          "base_uri": "https://localhost:8080/",
          "height": 1000
        },
        "outputId": "2db2d2b8-3228-41a0-b5f5-be98a1749dd1"
      },
      "source": [
        "## FOR GOOGLE COLAB\n",
        "# If you are using Google Colab, first run the code cell below. You can run a cell by clicking in the cell and clicking on the arrow that appears on the left side of the cell. DO NOT run this cell if you are not using Google Colab.\n",
        "\n",
        "!wget \"https://raw.githubusercontent.com/turnerdan/nltk_tutorial_2020/master/shakespeare.txt\"\n",
        "!wget \"https://github.com/turnerdan/nltk_tutorial_2020/blob/master/shakespeare_raw.pkl?raw=true\"\n",
        "!wget \"https://github.com/turnerdan/nltk_tutorial_2020/blob/master/shakespeare_text.pkl?raw=true\"\n",
        "!wget \"https://github.com/turnerdan/nltk_tutorial_2020/blob/master/shakespeare_tokens.pkl?raw=true\"\n",
        "!wget \"https://raw.githubusercontent.com/turnerdan/nltk_tutorial_2020/master/walden.txt\"\n",
        "!wget \"https://github.com/turnerdan/nltk_tutorial_2020/blob/master/walden_clean_tokens.pkl?raw=true\"\n",
        "!wget \"https://github.com/turnerdan/nltk_tutorial_2020/blob/master/walden_raw.pkl?raw=true\"\n",
        "!wget \"https://github.com/turnerdan/nltk_tutorial_2020/blob/master/walden_text.pkl?raw=true\"\n"
      ],
      "execution_count": null,
      "outputs": [
        {
          "output_type": "stream",
          "text": [
            "--2020-08-13 17:51:22--  https://raw.githubusercontent.com/turnerdan/nltk_tutorial_2020/master/shakespeare.txt\n",
            "Resolving raw.githubusercontent.com (raw.githubusercontent.com)... 151.101.0.133, 151.101.64.133, 151.101.128.133, ...\n",
            "Connecting to raw.githubusercontent.com (raw.githubusercontent.com)|151.101.0.133|:443... connected.\n",
            "HTTP request sent, awaiting response... 200 OK\n",
            "Length: 5784660 (5.5M) [text/plain]\n",
            "Saving to: ‘shakespeare.txt’\n",
            "\n",
            "shakespeare.txt     100%[===================>]   5.52M  33.7MB/s    in 0.2s    \n",
            "\n",
            "2020-08-13 17:51:23 (33.7 MB/s) - ‘shakespeare.txt’ saved [5784660/5784660]\n",
            "\n",
            "--2020-08-13 17:51:23--  https://github.com/turnerdan/nltk_tutorial_2020/blob/master/shakespeare_raw.pkl?raw=true\n",
            "Resolving github.com (github.com)... 192.30.255.112\n",
            "Connecting to github.com (github.com)|192.30.255.112|:443... connected.\n",
            "HTTP request sent, awaiting response... 302 Found\n",
            "Location: https://github.com/turnerdan/nltk_tutorial_2020/raw/master/shakespeare_raw.pkl [following]\n",
            "--2020-08-13 17:51:23--  https://github.com/turnerdan/nltk_tutorial_2020/raw/master/shakespeare_raw.pkl\n",
            "Reusing existing connection to github.com:443.\n",
            "HTTP request sent, awaiting response... 302 Found\n",
            "Location: https://raw.githubusercontent.com/turnerdan/nltk_tutorial_2020/master/shakespeare_raw.pkl [following]\n",
            "--2020-08-13 17:51:24--  https://raw.githubusercontent.com/turnerdan/nltk_tutorial_2020/master/shakespeare_raw.pkl\n",
            "Resolving raw.githubusercontent.com (raw.githubusercontent.com)... 151.101.0.133, 151.101.64.133, 151.101.128.133, ...\n",
            "Connecting to raw.githubusercontent.com (raw.githubusercontent.com)|151.101.0.133|:443... connected.\n",
            "HTTP request sent, awaiting response... 200 OK\n",
            "Length: 5619321 (5.4M) [application/octet-stream]\n",
            "Saving to: ‘shakespeare_raw.pkl?raw=true’\n",
            "\n",
            "shakespeare_raw.pkl 100%[===================>]   5.36M  30.9MB/s    in 0.2s    \n",
            "\n",
            "2020-08-13 17:51:25 (30.9 MB/s) - ‘shakespeare_raw.pkl?raw=true’ saved [5619321/5619321]\n",
            "\n",
            "--2020-08-13 17:51:25--  https://github.com/turnerdan/nltk_tutorial_2020/blob/master/shakespeare_text.pkl?raw=true\n",
            "Resolving github.com (github.com)... 192.30.255.112\n",
            "Connecting to github.com (github.com)|192.30.255.112|:443... connected.\n",
            "HTTP request sent, awaiting response... 302 Found\n",
            "Location: https://github.com/turnerdan/nltk_tutorial_2020/raw/master/shakespeare_text.pkl [following]\n",
            "--2020-08-13 17:51:25--  https://github.com/turnerdan/nltk_tutorial_2020/raw/master/shakespeare_text.pkl\n",
            "Reusing existing connection to github.com:443.\n",
            "HTTP request sent, awaiting response... 302 Found\n",
            "Location: https://raw.githubusercontent.com/turnerdan/nltk_tutorial_2020/master/shakespeare_text.pkl [following]\n",
            "--2020-08-13 17:51:26--  https://raw.githubusercontent.com/turnerdan/nltk_tutorial_2020/master/shakespeare_text.pkl\n",
            "Resolving raw.githubusercontent.com (raw.githubusercontent.com)... 151.101.0.133, 151.101.64.133, 151.101.128.133, ...\n",
            "Connecting to raw.githubusercontent.com (raw.githubusercontent.com)|151.101.0.133|:443... connected.\n",
            "HTTP request sent, awaiting response... 200 OK\n",
            "Length: 14390490 (14M) [application/octet-stream]\n",
            "Saving to: ‘shakespeare_text.pkl?raw=true’\n",
            "\n",
            "shakespeare_text.pk 100%[===================>]  13.72M  59.7MB/s    in 0.2s    \n",
            "\n",
            "2020-08-13 17:51:26 (59.7 MB/s) - ‘shakespeare_text.pkl?raw=true’ saved [14390490/14390490]\n",
            "\n",
            "--2020-08-13 17:51:27--  https://github.com/turnerdan/nltk_tutorial_2020/blob/master/shakespeare_tokens.pkl?raw=true\n",
            "Resolving github.com (github.com)... 192.30.255.112\n",
            "Connecting to github.com (github.com)|192.30.255.112|:443... connected.\n",
            "HTTP request sent, awaiting response... 302 Found\n",
            "Location: https://github.com/turnerdan/nltk_tutorial_2020/raw/master/shakespeare_tokens.pkl [following]\n",
            "--2020-08-13 17:51:27--  https://github.com/turnerdan/nltk_tutorial_2020/raw/master/shakespeare_tokens.pkl\n",
            "Reusing existing connection to github.com:443.\n",
            "HTTP request sent, awaiting response... 302 Found\n",
            "Location: https://raw.githubusercontent.com/turnerdan/nltk_tutorial_2020/master/shakespeare_tokens.pkl [following]\n",
            "--2020-08-13 17:51:28--  https://raw.githubusercontent.com/turnerdan/nltk_tutorial_2020/master/shakespeare_tokens.pkl\n",
            "Resolving raw.githubusercontent.com (raw.githubusercontent.com)... 151.101.0.133, 151.101.64.133, 151.101.128.133, ...\n",
            "Connecting to raw.githubusercontent.com (raw.githubusercontent.com)|151.101.0.133|:443... connected.\n",
            "HTTP request sent, awaiting response... 200 OK\n",
            "Length: 7615156 (7.3M) [application/octet-stream]\n",
            "Saving to: ‘shakespeare_tokens.pkl?raw=true’\n",
            "\n",
            "shakespeare_tokens. 100%[===================>]   7.26M  26.7MB/s    in 0.3s    \n",
            "\n",
            "2020-08-13 17:51:28 (26.7 MB/s) - ‘shakespeare_tokens.pkl?raw=true’ saved [7615156/7615156]\n",
            "\n",
            "--2020-08-13 17:51:29--  https://raw.githubusercontent.com/turnerdan/nltk_tutorial_2020/master/walden.txt\n",
            "Resolving raw.githubusercontent.com (raw.githubusercontent.com)... 151.101.0.133, 151.101.64.133, 151.101.128.133, ...\n",
            "Connecting to raw.githubusercontent.com (raw.githubusercontent.com)|151.101.0.133|:443... connected.\n",
            "HTTP request sent, awaiting response... 200 OK\n",
            "Length: 584967 (571K) [text/plain]\n",
            "Saving to: ‘walden.txt’\n",
            "\n",
            "walden.txt          100%[===================>] 571.26K  --.-KB/s    in 0.04s   \n",
            "\n",
            "2020-08-13 17:51:29 (13.0 MB/s) - ‘walden.txt’ saved [584967/584967]\n",
            "\n",
            "--2020-08-13 17:51:30--  https://github.com/turnerdan/nltk_tutorial_2020/blob/master/walden_clean_tokens.pkl?raw=true\n",
            "Resolving github.com (github.com)... 192.30.255.112\n",
            "Connecting to github.com (github.com)|192.30.255.112|:443... connected.\n",
            "HTTP request sent, awaiting response... 302 Found\n",
            "Location: https://github.com/turnerdan/nltk_tutorial_2020/raw/master/walden_clean_tokens.pkl [following]\n",
            "--2020-08-13 17:51:30--  https://github.com/turnerdan/nltk_tutorial_2020/raw/master/walden_clean_tokens.pkl\n",
            "Reusing existing connection to github.com:443.\n",
            "HTTP request sent, awaiting response... 302 Found\n",
            "Location: https://raw.githubusercontent.com/turnerdan/nltk_tutorial_2020/master/walden_clean_tokens.pkl [following]\n",
            "--2020-08-13 17:51:30--  https://raw.githubusercontent.com/turnerdan/nltk_tutorial_2020/master/walden_clean_tokens.pkl\n",
            "Resolving raw.githubusercontent.com (raw.githubusercontent.com)... 151.101.0.133, 151.101.64.133, 151.101.128.133, ...\n",
            "Connecting to raw.githubusercontent.com (raw.githubusercontent.com)|151.101.0.133|:443... connected.\n",
            "HTTP request sent, awaiting response... 200 OK\n",
            "Length: 774693 (757K) [application/octet-stream]\n",
            "Saving to: ‘walden_clean_tokens.pkl?raw=true’\n",
            "\n",
            "walden_clean_tokens 100%[===================>] 756.54K  --.-KB/s    in 0.07s   \n",
            "\n",
            "2020-08-13 17:51:30 (11.0 MB/s) - ‘walden_clean_tokens.pkl?raw=true’ saved [774693/774693]\n",
            "\n",
            "--2020-08-13 17:51:31--  https://github.com/turnerdan/nltk_tutorial_2020/blob/master/walden_raw.pkl?raw=true\n",
            "Resolving github.com (github.com)... 192.30.255.113\n",
            "Connecting to github.com (github.com)|192.30.255.113|:443... connected.\n",
            "HTTP request sent, awaiting response... 302 Found\n",
            "Location: https://github.com/turnerdan/nltk_tutorial_2020/raw/master/walden_raw.pkl [following]\n",
            "--2020-08-13 17:51:31--  https://github.com/turnerdan/nltk_tutorial_2020/raw/master/walden_raw.pkl\n",
            "Reusing existing connection to github.com:443.\n",
            "HTTP request sent, awaiting response... 302 Found\n",
            "Location: https://raw.githubusercontent.com/turnerdan/nltk_tutorial_2020/master/walden_raw.pkl [following]\n",
            "--2020-08-13 17:51:31--  https://raw.githubusercontent.com/turnerdan/nltk_tutorial_2020/master/walden_raw.pkl\n",
            "Resolving raw.githubusercontent.com (raw.githubusercontent.com)... 151.101.0.133, 151.101.64.133, 151.101.128.133, ...\n",
            "Connecting to raw.githubusercontent.com (raw.githubusercontent.com)|151.101.0.133|:443... connected.\n",
            "HTTP request sent, awaiting response... 200 OK\n",
            "Length: 584256 (571K) [application/octet-stream]\n",
            "Saving to: ‘walden_raw.pkl?raw=true’\n",
            "\n",
            "walden_raw.pkl?raw= 100%[===================>] 570.56K  --.-KB/s    in 0.06s   \n",
            "\n",
            "2020-08-13 17:51:32 (10.1 MB/s) - ‘walden_raw.pkl?raw=true’ saved [584256/584256]\n",
            "\n",
            "--2020-08-13 17:51:32--  https://github.com/turnerdan/nltk_tutorial_2020/blob/master/walden_text.pkl?raw=true\n",
            "Resolving github.com (github.com)... 192.30.255.113\n",
            "Connecting to github.com (github.com)|192.30.255.113|:443... connected.\n",
            "HTTP request sent, awaiting response... 302 Found\n",
            "Location: https://github.com/turnerdan/nltk_tutorial_2020/raw/master/walden_text.pkl [following]\n",
            "--2020-08-13 17:51:32--  https://github.com/turnerdan/nltk_tutorial_2020/raw/master/walden_text.pkl\n",
            "Reusing existing connection to github.com:443.\n",
            "HTTP request sent, awaiting response... 302 Found\n",
            "Location: https://raw.githubusercontent.com/turnerdan/nltk_tutorial_2020/master/walden_text.pkl [following]\n",
            "--2020-08-13 17:51:33--  https://raw.githubusercontent.com/turnerdan/nltk_tutorial_2020/master/walden_text.pkl\n",
            "Resolving raw.githubusercontent.com (raw.githubusercontent.com)... 151.101.0.133, 151.101.64.133, 151.101.128.133, ...\n",
            "Connecting to raw.githubusercontent.com (raw.githubusercontent.com)|151.101.0.133|:443... connected.\n",
            "HTTP request sent, awaiting response... 200 OK\n",
            "Length: 1526466 (1.5M) [application/octet-stream]\n",
            "Saving to: ‘walden_text.pkl?raw=true’\n",
            "\n",
            "walden_text.pkl?raw 100%[===================>]   1.46M  --.-KB/s    in 0.1s    \n",
            "\n",
            "2020-08-13 17:51:33 (14.7 MB/s) - ‘walden_text.pkl?raw=true’ saved [1526466/1526466]\n",
            "\n"
          ],
          "name": "stdout"
        }
      ]
    },
    {
      "cell_type": "code",
      "metadata": {
        "id": "9P5AwH-T6sCN",
        "colab_type": "code",
        "colab": {}
      },
      "source": [
        "\n",
        "#######################\n",
        "## Setup environment ##\n",
        "#######################\n",
        "\n",
        "# Import packages\n",
        "import matplotlib.pyplot as plt\n",
        "import numpy as np\n",
        "import pickle\n",
        "import os\n",
        "from scipy import special\n",
        "from nltk import *\n",
        "from nltk.corpus import stopwords\n",
        "\n",
        "# Will will time all functions to see what takes longest with the help of the 'time' package\n",
        "import time "
      ],
      "execution_count": null,
      "outputs": []
    },
    {
      "cell_type": "code",
      "metadata": {
        "id": "Acb3vaeZ6sCQ",
        "colab_type": "code",
        "colab": {}
      },
      "source": [
        "# Save the current time (according to the computer) as the variable 't0'.\n",
        "# We will consider this the start time and subtract it from the time at the end of the block.\n",
        "t0 = time.time() \n",
        "\n",
        "######################\n",
        "## Read-in the file ##\n",
        "######################\n",
        "# What is the path to the complete works of Shakespeare?\n",
        "shakespeare_path = 'shakespeare.txt'\n",
        "\n",
        "# Open the file at the specified path\n",
        "shakespeare_file = open( shakespeare_path, 'r')\n",
        "\n",
        "# Read the file as raw text\n",
        "shakespeare_raw = shakespeare_file.read()\n",
        "\n",
        "# Close the original file\n",
        "shakespeare_file.close()\n",
        "\n",
        "t1 = time.time() # End time\n"
      ],
      "execution_count": null,
      "outputs": []
    },
    {
      "cell_type": "code",
      "metadata": {
        "id": "yCH_kUwP6sCS",
        "colab_type": "code",
        "colab": {
          "base_uri": "https://localhost:8080/",
          "height": 34
        },
        "outputId": "4f253c9c-395c-4102-fb20-b7c5893c3246"
      },
      "source": [
        "# Print the time elapsed between t0 and the current time\n",
        "print( \"This block took\", round( t1-t0 ), \"seconds to complete.\" ) # 0s\n",
        "\n",
        "## We use this data for another Code it, so let's save a copy\n",
        "# Write the tokens to /working/ folder \n",
        "with open('shakespeare_raw.pkl', 'wb') as f:\n",
        "    pickle.dump( shakespeare_raw , f )"
      ],
      "execution_count": null,
      "outputs": [
        {
          "output_type": "stream",
          "text": [
            "This block took 0 seconds to complete.\n"
          ],
          "name": "stdout"
        }
      ]
    },
    {
      "cell_type": "code",
      "metadata": {
        "id": "KJYbBLFg6sCV",
        "colab_type": "code",
        "colab": {
          "base_uri": "https://localhost:8080/",
          "height": 85
        },
        "outputId": "e5011bc2-ff59-47ff-9f16-331606e3e243"
      },
      "source": [
        "download('punkt')\n",
        "download('stopwords')\n",
        "t0 = time.time()# Start time\n",
        "\n",
        "#######################\n",
        "## Tokenize the file ##\n",
        "#######################\n",
        "# Tokenize the raw text\n",
        "shakespeare_tokens = word_tokenize( shakespeare_raw )\n",
        "\n",
        "# Print the tokens\n",
        "shakespeare_tokens\n",
        "\n",
        "t1 = time.time() # End time\n",
        "\n",
        "## We use this data for another Code it, so let's save a copy\n",
        "# Write the tokens to /working/ folder \n",
        "with open('shakespeare_text.pkl', 'wb') as f:\n",
        "    pickle.dump( shakespeare_tokens , f )\n"
      ],
      "execution_count": null,
      "outputs": [
        {
          "output_type": "stream",
          "text": [
            "[nltk_data] Downloading package punkt to /root/nltk_data...\n",
            "[nltk_data]   Unzipping tokenizers/punkt.zip.\n",
            "[nltk_data] Downloading package stopwords to /root/nltk_data...\n",
            "[nltk_data]   Unzipping corpora/stopwords.zip.\n"
          ],
          "name": "stdout"
        }
      ]
    },
    {
      "cell_type": "code",
      "metadata": {
        "id": "WnTFO7zl6sCX",
        "colab_type": "code",
        "colab": {
          "base_uri": "https://localhost:8080/",
          "height": 34
        },
        "outputId": "e71a1e07-76c8-4d53-86e1-792e48ea8ac1"
      },
      "source": [
        "# Print the time elapsed between t0 and the current time\n",
        "print( \"This block took\", round( t1-t0 ), \"seconds to complete.\" ) # 10s"
      ],
      "execution_count": null,
      "outputs": [
        {
          "output_type": "stream",
          "text": [
            "This block took 11 seconds to complete.\n"
          ],
          "name": "stdout"
        }
      ]
    },
    {
      "cell_type": "code",
      "metadata": {
        "id": "dGyaCrXJ6sCb",
        "colab_type": "code",
        "colab": {}
      },
      "source": [
        "t0 = time.time()# Start time\n",
        "\n",
        "##############\n",
        "## Cleaning ##\n",
        "##############\n",
        "# Remove non-alphabetical characters\n",
        "shakespeare_tokens = [ token for token in shakespeare_tokens if token.isalpha() ]\n",
        "\n",
        "t1 = time.time() # End time"
      ],
      "execution_count": null,
      "outputs": []
    },
    {
      "cell_type": "code",
      "metadata": {
        "id": "Agybl8UT6sCf",
        "colab_type": "code",
        "colab": {
          "base_uri": "https://localhost:8080/",
          "height": 34
        },
        "outputId": "c1a7e21c-8100-4706-c344-a2accad301a3"
      },
      "source": [
        "# Print the time elapsed between t0 and the current time\n",
        "print( \"This block took\", round( t1-t0 ), \"seconds to complete.\" ) # 0s"
      ],
      "execution_count": null,
      "outputs": [
        {
          "output_type": "stream",
          "text": [
            "This block took 0 seconds to complete.\n"
          ],
          "name": "stdout"
        }
      ]
    },
    {
      "cell_type": "code",
      "metadata": {
        "id": "_YMKn7eB6sCi",
        "colab_type": "code",
        "colab": {}
      },
      "source": [
        "t0 = time.time()# Start time\n",
        "\n",
        "# Convert the text to lowercase\n",
        "shakespeare_tokens = [ token.lower() for token in shakespeare_tokens ]\n",
        "\n",
        "t1 = time.time() # End time\n"
      ],
      "execution_count": null,
      "outputs": []
    },
    {
      "cell_type": "code",
      "metadata": {
        "id": "10zNax5e6sCk",
        "colab_type": "code",
        "colab": {
          "base_uri": "https://localhost:8080/",
          "height": 34
        },
        "outputId": "0f8169e2-f74a-4d07-b087-21e3fbddd66a"
      },
      "source": [
        "# Print the time elapsed between t0 and the current time\n",
        "print( \"This block took\", round( t1-t0 ), \"seconds to complete.\" ) # 0s"
      ],
      "execution_count": null,
      "outputs": [
        {
          "output_type": "stream",
          "text": [
            "This block took 0 seconds to complete.\n"
          ],
          "name": "stdout"
        }
      ]
    },
    {
      "cell_type": "code",
      "metadata": {
        "id": "_aKEmWin6sCm",
        "colab_type": "code",
        "colab": {}
      },
      "source": [
        "t0 = time.time()# Start time \n",
        "\n",
        "# Filter out stopwords\n",
        "shakespeare_tokens = [token for token in shakespeare_tokens if not token in set(stopwords.words('english'))]\n",
        "\n",
        "t1 = time.time() # End time\n"
      ],
      "execution_count": null,
      "outputs": []
    },
    {
      "cell_type": "code",
      "metadata": {
        "id": "i4h9MwpV6sCq",
        "colab_type": "code",
        "colab": {
          "base_uri": "https://localhost:8080/",
          "height": 34
        },
        "outputId": "1309d315-7213-4a7e-bf4e-f77aa9ce47c1"
      },
      "source": [
        "# Print the time elapsed between t0 and the current time\n",
        "print( \"This block took\", round( t1-t0 ), \"seconds to complete.\" ) # 122s"
      ],
      "execution_count": null,
      "outputs": [
        {
          "output_type": "stream",
          "text": [
            "This block took 128 seconds to complete.\n"
          ],
          "name": "stdout"
        }
      ]
    },
    {
      "cell_type": "code",
      "metadata": {
        "id": "NNE_ZVOf6sCt",
        "colab_type": "code",
        "colab": {
          "base_uri": "https://localhost:8080/",
          "height": 464
        },
        "outputId": "444fee2b-f532-43bf-9eb8-00b597eeaa98"
      },
      "source": [
        "t0 = time.time()# Start time\n",
        "\n",
        "####################\n",
        "## Frequency plot ##\n",
        "####################\n",
        "# Generate a frequency distribution for the tokens\n",
        "shakespeare_FreqDist = FreqDist( shakespeare_tokens )\n",
        "\n",
        "# Big figure\n",
        "plt.rcParams[\"figure.figsize\"] = [16,7]\n",
        "\n",
        "# Display plot with top 50 tokens\n",
        "shakespeare_FreqDist.plot( 50 )\n",
        "\n",
        "t1 = time.time() # End time\n",
        "\n",
        "## We use this data for another Code it, so let's save a copy\n",
        "# Write the tokens to /working/ folder \n",
        "with open('shakespeare_tokens.pkl', 'wb') as f:\n",
        "    pickle.dump( shakespeare_tokens , f )"
      ],
      "execution_count": null,
      "outputs": [
        {
          "output_type": "display_data",
          "data": {
            "image/png": "[encoded data removed]",
            "text/plain": [
              "<Figure size 1152x504 with 1 Axes>"
            ]
          },
          "metadata": {
            "tags": [],
            "needs_background": "light"
          }
        }
      ]
    },
    {
      "cell_type": "code",
      "metadata": {
        "id": "KvXAUNPv6sCw",
        "colab_type": "code",
        "colab": {
          "base_uri": "https://localhost:8080/",
          "height": 34
        },
        "outputId": "18e86d8b-1569-4ff1-86f6-900c8b2c48b0"
      },
      "source": [
        "# Print the time elapsed between t0 and the current time\n",
        "print( \"This block took\", round( t1-t0 ), \"seconds to complete.\" ) # 1s"
      ],
      "execution_count": null,
      "outputs": [
        {
          "output_type": "stream",
          "text": [
            "This block took 1 seconds to complete.\n"
          ],
          "name": "stdout"
        }
      ]
    },
    {
      "cell_type": "markdown",
      "metadata": {
        "id": "8s-L_AmV6sCy",
        "colab_type": "text"
      },
      "source": [
        "### Back to timings\n",
        "\n",
        "As you can see, the step that took almost all of the time (over a minute!) was this line:\n",
        "\n",
        "```shakespeare_tokens = [token for token in shakespeare_tokens if not token in set(stopwords.words('english'))]```\n",
        "\n",
        "What's taking so long and how can we speed it up? The first answer is easy: it's going slow because we are looking up every single token and comparing it to the stopwords list that comes with NLTK.\n",
        "\n",
        "## Let's try to speed it up\n",
        "\n",
        "There's no point in looking up a particular token more than once, so we can reduce the time it takes to execute the code by checking each unique word in the text against the stopword list.\n",
        "\n",
        ">**In the next code block we reduce the runtime from 2 minutes to 3 seconds!**"
      ]
    },
    {
      "cell_type": "code",
      "metadata": {
        "id": "QvYasgyn6sCz",
        "colab_type": "code",
        "colab": {
          "base_uri": "https://localhost:8080/",
          "height": 34
        },
        "outputId": "e6bd1e6e-c1af-4e67-fbdc-d6b9a49b3248"
      },
      "source": [
        "# Convert the shakespeare_tokens to a set, which collapses across identical members\n",
        "# This will leave us only unique tokens\n",
        "shakespeare_tokens_set = set( shakespeare_tokens )\n",
        "\n",
        "# How many unique tokens (set version of the cleaned token list)?\n",
        "set_length = len( shakespeare_tokens_set )\n",
        "\n",
        "# How many cleaned tokens are there?\n",
        "list_length = len( shakespeare_tokens ) \n",
        "\n",
        "# Print a message with the differences quantified\n",
        "print(\"We reduced the token count by\", list_length - set_length, \"tokens.\") # 470002 tokens\n"
      ],
      "execution_count": null,
      "outputs": [
        {
          "output_type": "stream",
          "text": [
            "We reduced the token count by 469668 tokens.\n"
          ],
          "name": "stdout"
        }
      ]
    },
    {
      "cell_type": "code",
      "metadata": {
        "id": "bTEVP9Jx6sC1",
        "colab_type": "code",
        "colab": {}
      },
      "source": [
        "t0 = time.time()# Start time\n",
        "\n",
        "# Let's remove the stopwords from the set version\n",
        "shakespeare_tokens_r = [token for token in shakespeare_tokens_set if not token in set(stopwords.words('english'))]\n",
        "\n",
        "t1 = time.time() # End time\n"
      ],
      "execution_count": null,
      "outputs": []
    },
    {
      "cell_type": "code",
      "metadata": {
        "id": "h9DqHk4e6sC4",
        "colab_type": "code",
        "colab": {
          "base_uri": "https://localhost:8080/",
          "height": 34
        },
        "outputId": "c282ec8f-3d28-478d-b9d1-4a430c585571"
      },
      "source": [
        "# Print the time elapsed between t0 and the current time\n",
        "print( \"This block took\", round( t1-t0 ), \"seconds to complete.\" ) # 3s"
      ],
      "execution_count": null,
      "outputs": [
        {
          "output_type": "stream",
          "text": [
            "This block took 4 seconds to complete.\n"
          ],
          "name": "stdout"
        }
      ]
    },
    {
      "cell_type": "code",
      "metadata": {
        "id": "jA9WOynE6sC7",
        "colab_type": "code",
        "colab": {}
      },
      "source": [
        ""
      ],
      "execution_count": null,
      "outputs": []
    }
  ]
}