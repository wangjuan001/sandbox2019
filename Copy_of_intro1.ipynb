{
  "nbformat": 4,
  "nbformat_minor": 0,
  "metadata": {
    "colab": {
      "name": "Copy of intro1.ipynb",
      "version": "0.3.2",
      "provenance": [],
      "include_colab_link": true
    },
    "kernelspec": {
      "display_name": "Python 3",
      "language": "python",
      "name": "python3"
    }
  },
  "cells": [
    {
      "cell_type": "markdown",
      "metadata": {
        "id": "view-in-github",
        "colab_type": "text"
      },
      "source": [
        "<a href=\"https://colab.research.google.com/github/wangjuan001/sandbox2019/blob/master/Copy_of_intro1.ipynb\" target=\"_parent\"><img src=\"https://colab.research.google.com/assets/colab-badge.svg\" alt=\"Open In Colab\"/></a>"
      ]
    },
    {
      "metadata": {
        "nbpresent": {
          "id": "dc7a1635-0bbd-4bf7-a07e-7a36f58e258b"
        },
        "id": "O_BQmEL_24Y9",
        "colab_type": "text"
      },
      "cell_type": "markdown",
      "source": [
        "# An introduction to solving biological problems with Python: 1"
      ]
    },
    {
      "metadata": {
        "nbpresent": {
          "id": "21082cb9-e1b9-4fe9-80d5-9d9e8418937b"
        },
        "id": "s0D4ysfY24ZA",
        "colab_type": "text"
      },
      "cell_type": "markdown",
      "source": [
        "## Learning objectives\n",
        "- **Recall** how to print, create variables and save Python code in files\n",
        "- **List** the most common data types in Python\n",
        "- **Explain** how to use different type of collections\n",
        "- **Use and compare** these concepts in different code examples \n",
        "- **Propose and create** solutions using these concepts in different exercises"
      ]
    },
    {
      "metadata": {
        "id": "t2mPQa2924ZC",
        "colab_type": "text"
      },
      "cell_type": "markdown",
      "source": [
        "# Part 1.1: Variables\n",
        "\n",
        "-----\n",
        "\n",
        " - Printing values\n",
        " - Using variables\n",
        "\n"
      ]
    },
    {
      "metadata": {
        "id": "zKCAnUBd24ZD",
        "colab_type": "text"
      },
      "cell_type": "markdown",
      "source": [
        "## Printing values\n",
        "\n",
        "The first bit of python syntax we're going to learn is the <tt>print</tt> statement. This command lets us print messages to the user, and also to see what Python thinks is the value of some expression (very useful when debugging your programs).\n",
        "\n",
        "We will go into details later on, but for now just note that to print some text you have to enclose it in  \"quotation marks\". \n",
        "\n",
        "We will go into detail on the arithmetic operations supported in python shortly, but you can try exploring python's calculating abilities."
      ]
    },
    {
      "metadata": {
        "id": "JsPKNUhc24ZF",
        "colab_type": "code",
        "outputId": "33d07c1f-573c-47e8-ec86-ed6693bed709",
        "colab": {
          "base_uri": "https://localhost:8080/",
          "height": 34
        }
      },
      "cell_type": "code",
      "source": [
        "print(\"Hello from python!\")"
      ],
      "execution_count": 0,
      "outputs": [
        {
          "output_type": "stream",
          "text": [
            "Hello from python!\n"
          ],
          "name": "stdout"
        }
      ]
    },
    {
      "metadata": {
        "id": "UiTD_o3024ZM",
        "colab_type": "code",
        "outputId": "83200974-02f4-4721-c34b-cc3e2f2c5e0a",
        "colab": {
          "base_uri": "https://localhost:8080/",
          "height": 34
        }
      },
      "cell_type": "code",
      "source": [
        "print(34)"
      ],
      "execution_count": 0,
      "outputs": [
        {
          "output_type": "stream",
          "text": [
            "34\n"
          ],
          "name": "stdout"
        }
      ]
    },
    {
      "metadata": {
        "id": "GZdbG0c724ZQ",
        "colab_type": "code",
        "outputId": "a1182059-f7c4-4330-d8fe-c94da5d8a20d",
        "colab": {
          "base_uri": "https://localhost:8080/",
          "height": 34
        }
      },
      "cell_type": "code",
      "source": [
        "print(2 + 3)"
      ],
      "execution_count": 0,
      "outputs": [
        {
          "output_type": "stream",
          "text": [
            "5\n"
          ],
          "name": "stdout"
        }
      ]
    },
    {
      "metadata": {
        "id": "dAKXi-fy24ZU",
        "colab_type": "text"
      },
      "cell_type": "markdown",
      "source": [
        "You can print  multiple expressions you need to seperate them with commas. Python will insert a space between each element, and a newline at the end of the message (though you can suppress this behaviour by leaving a trailing comma at the end of the command)."
      ]
    },
    {
      "metadata": {
        "id": "IkbNZnS_24ZV",
        "colab_type": "code",
        "outputId": "4a11807d-ef1c-4bf3-fcc6-8218915b7aca",
        "colab": {
          "base_uri": "https://localhost:8080/",
          "height": 34
        }
      },
      "cell_type": "code",
      "source": [
        "print(\"The answer:\", 42)"
      ],
      "execution_count": 0,
      "outputs": [
        {
          "output_type": "stream",
          "text": [
            "The answer: 42\n"
          ],
          "name": "stdout"
        }
      ]
    },
    {
      "metadata": {
        "id": "WxkfVQ9G24ZZ",
        "colab_type": "text"
      },
      "cell_type": "markdown",
      "source": [
        "## Exercises 1.1.1\n",
        "\n",
        "1. In Jupyter, insert a new cell below this one to print your name. Execute the code by pressing `run cell` from the menu bar or use your keyboard `Ctrl-Enter`.\n",
        "2. Do now the same using the interpreter"
      ]
    },
    {
      "metadata": {
        "id": "VPUjXIza3qoG",
        "colab_type": "code",
        "outputId": "21959d08-c6ae-40da-966d-b6251b59a71b",
        "colab": {
          "base_uri": "https://localhost:8080/",
          "height": 34
        }
      },
      "cell_type": "code",
      "source": [
        "print(\"Juan Wang\")"
      ],
      "execution_count": 0,
      "outputs": [
        {
          "output_type": "stream",
          "text": [
            "Juan Wang\n"
          ],
          "name": "stdout"
        }
      ]
    },
    {
      "metadata": {
        "id": "8CLvl_cK24Zb",
        "colab_type": "text"
      },
      "cell_type": "markdown",
      "source": [
        "## Using variables"
      ]
    },
    {
      "metadata": {
        "id": "2A_b8RtZ24Zd",
        "colab_type": "text"
      },
      "cell_type": "markdown",
      "source": [
        "In the <tt>print</tt> commands above we have directly operated on values such as text strings and numbers. When programming we will typically want to deal with rather more complex expressions where it is useful to be able to assign a name to an expression, especially if we are trying to deal with multiple values at the same time.\n",
        "\n",
        "We can give a name to a value using _variables_, the name is apt because the values stored in a variable can _vary_. Unlike some other languages, the type of value assigned to a variable can also change (this is one of the reasons why python is known as a _dynamic_ language).\n",
        "\n",
        "A variable can be assigned to a simple value..."
      ]
    },
    {
      "metadata": {
        "id": "16NoROZX24Zf",
        "colab_type": "code",
        "outputId": "b99dd732-b373-46ef-847c-c5847cdd022f",
        "colab": {
          "base_uri": "https://localhost:8080/",
          "height": 34
        }
      },
      "cell_type": "code",
      "source": [
        "x = 3\n",
        "print(x)"
      ],
      "execution_count": 0,
      "outputs": [
        {
          "output_type": "stream",
          "text": [
            "3\n"
          ],
          "name": "stdout"
        }
      ]
    },
    {
      "metadata": {
        "id": "fSdXFEY824Zj",
        "colab_type": "text"
      },
      "cell_type": "markdown",
      "source": [
        "... or the outcome of a more complex expression."
      ]
    },
    {
      "metadata": {
        "id": "EKzlYRf424Zj",
        "colab_type": "code",
        "outputId": "bdabdc25-b3bc-475a-d2c7-8ddf72a98070",
        "colab": {
          "base_uri": "https://localhost:8080/",
          "height": 34
        }
      },
      "cell_type": "code",
      "source": [
        "x = 2 + 2\n",
        "print(x)"
      ],
      "execution_count": 0,
      "outputs": [
        {
          "output_type": "stream",
          "text": [
            "4\n"
          ],
          "name": "stdout"
        }
      ]
    },
    {
      "metadata": {
        "id": "gYAqWccr24Zn",
        "colab_type": "text"
      },
      "cell_type": "markdown",
      "source": [
        "A variable can be called whatever you like (as long as it starts with a character, it does not contain space and is meaningful) and you assign a value to a variable with the **`=` operator**. Note that this is different to mathematical equality (which we will come to later...)\n",
        "\n",
        "You can <tt>print</tt> a variable to see what python thinks its current value is."
      ]
    },
    {
      "metadata": {
        "id": "6_7fL24E24Zo",
        "colab_type": "code",
        "outputId": "1031fa86-f3b2-4890-c451-0606e6353dc6",
        "colab": {
          "base_uri": "https://localhost:8080/",
          "height": 51
        }
      },
      "cell_type": "code",
      "source": [
        "serine = \"TCA\"\n",
        "print(serine, \"codes for serine\")\n",
        "serine = \"TCG\"\n",
        "print(\"as does\", serine)"
      ],
      "execution_count": 0,
      "outputs": [
        {
          "output_type": "stream",
          "text": [
            "TCA codes for serine\n",
            "as does TCG\n"
          ],
          "name": "stdout"
        }
      ]
    },
    {
      "metadata": {
        "id": "vNd1h71T24Zw",
        "colab_type": "text"
      },
      "cell_type": "markdown",
      "source": [
        "In the interactive interpreter you don't have to <tt>print</tt> everything, if you type a variable name (or just a value), the interpreter will automatically print out what python thinks the value is. Note though that this is not the case if your code is in a file."
      ]
    },
    {
      "metadata": {
        "id": "zEcqyHLg24Zx",
        "colab_type": "code",
        "outputId": "ec4ac084-8948-46d6-de79-989a4c396f70",
        "colab": {
          "base_uri": "https://localhost:8080/",
          "height": 34
        }
      },
      "cell_type": "code",
      "source": [
        "3 + 4"
      ],
      "execution_count": 0,
      "outputs": [
        {
          "output_type": "execute_result",
          "data": {
            "text/plain": [
              "7"
            ]
          },
          "metadata": {
            "tags": []
          },
          "execution_count": 9
        }
      ]
    },
    {
      "metadata": {
        "id": "uazrlVQG24Z1",
        "colab_type": "code",
        "outputId": "356e0e81-e331-44d8-8f8c-ebb86a26e8fa",
        "colab": {
          "base_uri": "https://localhost:8080/",
          "height": 34
        }
      },
      "cell_type": "code",
      "source": [
        "x = 5\n",
        "3 * x"
      ],
      "execution_count": 0,
      "outputs": [
        {
          "output_type": "execute_result",
          "data": {
            "text/plain": [
              "15"
            ]
          },
          "metadata": {
            "tags": []
          },
          "execution_count": 10
        }
      ]
    },
    {
      "metadata": {
        "id": "YEWMe2-o24Z6",
        "colab_type": "text"
      },
      "cell_type": "markdown",
      "source": [
        "Variables can be used on the right hand side of an assignment as well, in which case they will be evaluated before the value is assigned to the variable on the left hand side."
      ]
    },
    {
      "metadata": {
        "id": "ZluIUnEi24Z8",
        "colab_type": "code",
        "outputId": "a1e182c7-62cd-419b-8e48-22acac4c40af",
        "colab": {
          "base_uri": "https://localhost:8080/",
          "height": 34
        }
      },
      "cell_type": "code",
      "source": [
        "x = 5\n",
        "y = x * 3\n",
        "print(y)"
      ],
      "execution_count": 0,
      "outputs": [
        {
          "output_type": "stream",
          "text": [
            "15\n"
          ],
          "name": "stdout"
        }
      ]
    },
    {
      "metadata": {
        "id": "fuB_lEon24aB",
        "colab_type": "text"
      },
      "cell_type": "markdown",
      "source": [
        "or just `y` in the interpreter and in Jupyter notebook"
      ]
    },
    {
      "metadata": {
        "id": "wcl9EGhX24aC",
        "colab_type": "code",
        "outputId": "dcfc5bd0-0de0-4bb9-b847-f6b9dc0c30bb",
        "colab": {
          "base_uri": "https://localhost:8080/",
          "height": 34
        }
      },
      "cell_type": "code",
      "source": [
        "y"
      ],
      "execution_count": 0,
      "outputs": [
        {
          "output_type": "execute_result",
          "data": {
            "text/plain": [
              "15"
            ]
          },
          "metadata": {
            "tags": []
          },
          "execution_count": 13
        }
      ]
    },
    {
      "metadata": {
        "id": "z1bG3Hje24aJ",
        "colab_type": "text"
      },
      "cell_type": "markdown",
      "source": [
        "You can use the current value of a variable itself in an assignment"
      ]
    },
    {
      "metadata": {
        "id": "frTFb13z24aM",
        "colab_type": "code",
        "outputId": "1f579887-e266-413f-da5c-da368bb64dd2",
        "colab": {
          "base_uri": "https://localhost:8080/",
          "height": 34
        }
      },
      "cell_type": "code",
      "source": [
        "y = y + 1\n",
        "y"
      ],
      "execution_count": 0,
      "outputs": [
        {
          "output_type": "execute_result",
          "data": {
            "text/plain": [
              "16"
            ]
          },
          "metadata": {
            "tags": []
          },
          "execution_count": 14
        }
      ]
    },
    {
      "metadata": {
        "id": "kF2edNdx24aS",
        "colab_type": "text"
      },
      "cell_type": "markdown",
      "source": [
        "In fact this is such a common idiom that there are special operators that will do this implicitly (more on these later)"
      ]
    },
    {
      "metadata": {
        "id": "Blz6YsVM24ai",
        "colab_type": "code",
        "outputId": "227b9844-7ae1-46bb-d644-1383babd8bfc",
        "colab": {
          "base_uri": "https://localhost:8080/",
          "height": 34
        }
      },
      "cell_type": "code",
      "source": [
        "y += 1\n",
        "y"
      ],
      "execution_count": 0,
      "outputs": [
        {
          "output_type": "execute_result",
          "data": {
            "text/plain": [
              "17"
            ]
          },
          "metadata": {
            "tags": []
          },
          "execution_count": 15
        }
      ]
    },
    {
      "metadata": {
        "id": "GE3RlcUm24as",
        "colab_type": "text"
      },
      "cell_type": "markdown",
      "source": [
        "## Exercises 1.1.2\n",
        "\n",
        "In the interpreter:\n",
        "\n",
        "1. Create a variable and assign it the string value of your first name, assign your age to another variable (you are free to lie!), print out a message saying how old you are\n",
        "2. Use the addition operator to add 10 to your age and print out a message saying how old you will be in 10 years time"
      ]
    },
    {
      "metadata": {
        "id": "4-Sp5Liy24av",
        "colab_type": "text"
      },
      "cell_type": "markdown",
      "source": [
        "# Part 1.2: Simple data types\n",
        "\n",
        "-----\n",
        "\n",
        " - Simple data types\n",
        " - Comments\n",
        " - Arithmetic\n"
      ]
    },
    {
      "metadata": {
        "id": "COSTnIBi24aw",
        "colab_type": "text"
      },
      "cell_type": "markdown",
      "source": [
        "## Simple data types"
      ]
    },
    {
      "metadata": {
        "id": "bslyOf9T24ax",
        "colab_type": "text"
      },
      "cell_type": "markdown",
      "source": [
        "Python (and computers in general) treats different types of data differently. Python has 4 main basic data types. Types are useful to constrain some operations to a certain category of variables. For example it doesn't really make sense to try to divide a string.\n",
        "\n",
        "We will see some examples of these in use shortly, but for now let's see all of the basic types available in python."
      ]
    },
    {
      "metadata": {
        "id": "B8IreSwZ24ay",
        "colab_type": "text"
      },
      "cell_type": "markdown",
      "source": [
        "### Integers\n",
        "\n",
        "Integers represent whole numbers, as you would use when counting items, and can be positive or negative."
      ]
    },
    {
      "metadata": {
        "id": "TIjNiDvk24a0",
        "colab_type": "code",
        "outputId": "32740aa5-f469-431c-ee4a-4111192c67bf",
        "colab": {
          "base_uri": "https://localhost:8080/",
          "height": 34
        }
      },
      "cell_type": "code",
      "source": [
        "i = -7\n",
        "j = 123\n",
        "print(i, j)"
      ],
      "execution_count": 0,
      "outputs": [
        {
          "output_type": "stream",
          "text": [
            "-7 123\n"
          ],
          "name": "stdout"
        }
      ]
    },
    {
      "metadata": {
        "id": "9BtdKq_Z24a2",
        "colab_type": "text"
      },
      "cell_type": "markdown",
      "source": [
        "### Floats\n",
        "\n",
        "Floating point numbers, often simply referred to as <tt>float</tt>s, are numbers expressed in the decimal system, i.e. 2.1, 999.998, -0.000004 etc. The value 2.0 would also be interpreted as a floating point number, but the value 2, without the decimal point will not; it will be interpreted as an integer."
      ]
    },
    {
      "metadata": {
        "id": "JH0rqMAU24a2",
        "colab_type": "code",
        "outputId": "4491f933-b85a-4488-c3fa-21c9d1a5544b",
        "colab": {
          "base_uri": "https://localhost:8080/",
          "height": 34
        }
      },
      "cell_type": "code",
      "source": [
        "x = 3.14159\n",
        "y = -42.3\n",
        "print(x * y)"
      ],
      "execution_count": 0,
      "outputs": [
        {
          "output_type": "stream",
          "text": [
            "-132.889257\n"
          ],
          "name": "stdout"
        }
      ]
    },
    {
      "metadata": {
        "id": "ICu2OA0G24a5",
        "colab_type": "text"
      },
      "cell_type": "markdown",
      "source": [
        "Floating point numbers can also carry an <tt>e</tt> suffix that states which power of ten they operate at."
      ]
    },
    {
      "metadata": {
        "id": "78APhDqe24a5",
        "colab_type": "code",
        "outputId": "a555c787-f7de-4b49-eb91-cf9b669831e2",
        "colab": {
          "base_uri": "https://localhost:8080/",
          "height": 51
        }
      },
      "cell_type": "code",
      "source": [
        "k = 1.5e3\n",
        "l = 3e-2\n",
        "print(k)\n",
        "print(l)"
      ],
      "execution_count": 0,
      "outputs": [
        {
          "output_type": "stream",
          "text": [
            "1500.0\n",
            "0.03\n"
          ],
          "name": "stdout"
        }
      ]
    },
    {
      "metadata": {
        "id": "U3oo4Qak24a8",
        "colab_type": "text"
      },
      "cell_type": "markdown",
      "source": [
        "### Strings\n",
        "\n",
        "Strings represent text, i.e. \"strings\" of characters. They can be delimited by single quotes <tt>‘</tt> or double quotes <tt>“</tt>, but you have to use the same delimiter at both ends. Unlike some programming languages, such as Perl, there is no difference between the two types of quote, although using one type does allow the other type to appear inside the string as a regular character.\n",
        "\n",
        "Normally a python statement ends at the end of the line, but if you want to type a string over several lines you can enclose it in triple quotation marks."
      ]
    },
    {
      "metadata": {
        "id": "RAYIxsqR24a-",
        "colab_type": "code",
        "outputId": "c8fca3ba-3bf8-49e8-ad53-dedf49dac2f7",
        "colab": {
          "base_uri": "https://localhost:8080/",
          "height": 51
        }
      },
      "cell_type": "code",
      "source": [
        "s = \"ATGTCGTCTACAACACT\"\n",
        "t = 'Serine'\n",
        "u = \"It's a string with apostrophes\"\n",
        "v = \"\"\"A string that extends\n",
        "over multiple lines\"\"\"\n",
        "print(v)"
      ],
      "execution_count": 0,
      "outputs": [
        {
          "output_type": "stream",
          "text": [
            "A string that extends\n",
            "over multiple lines\n"
          ],
          "name": "stdout"
        }
      ]
    },
    {
      "metadata": {
        "id": "niCJzmSb24bA",
        "colab_type": "text"
      },
      "cell_type": "markdown",
      "source": [
        "### Booleans\n",
        "\n",
        "Boolean values represent truth or falsehood, as used in logical operations, for example. Not surprisingly, there are only two values, and in Python they are called <tt>True</tt> and <tt>False</tt>."
      ]
    },
    {
      "metadata": {
        "id": "2qwgd6Uv24bB",
        "colab_type": "code",
        "outputId": "8dedef15-4fb5-43a1-d67a-f34f338ed6b0",
        "colab": {
          "base_uri": "https://localhost:8080/",
          "height": 34
        }
      },
      "cell_type": "code",
      "source": [
        "a = True\n",
        "b = False\n",
        "print(a, b)"
      ],
      "execution_count": 0,
      "outputs": [
        {
          "output_type": "stream",
          "text": [
            "True False\n"
          ],
          "name": "stdout"
        }
      ]
    },
    {
      "metadata": {
        "id": "PJKrDBFD24bI",
        "colab_type": "text"
      },
      "cell_type": "markdown",
      "source": [
        "### The <tt>None</tt> object\n",
        "\n",
        "The None object is special built-in value which can be thought of as **representing nothingness or that something is undefined**. For example, it can be used to indicate that a variable exists, but has not yet been set to anything specific."
      ]
    },
    {
      "metadata": {
        "id": "MaoUbR6z24bJ",
        "colab_type": "code",
        "outputId": "c9d45cce-82d1-4b5c-aa11-e20fcf36d7d4",
        "colab": {
          "base_uri": "https://localhost:8080/",
          "height": 34
        }
      },
      "cell_type": "code",
      "source": [
        "z = None\n",
        "print(z)"
      ],
      "execution_count": 0,
      "outputs": [
        {
          "output_type": "stream",
          "text": [
            "None\n"
          ],
          "name": "stdout"
        }
      ]
    },
    {
      "metadata": {
        "id": "QF2EuJnj24bM",
        "colab_type": "text"
      },
      "cell_type": "markdown",
      "source": [
        "### Object type\n",
        "\n",
        "You can check what type python thinks an expression is with the <tt>type</tt> function, which you can call with the name <tt>type</tt> immediately followed by parentheses enclosing the expression you want to check (either a variable or a value), e.g. <tt>type(3)</tt>. (This is the general form for calling functions, we'll see lots more examples of functions later...)"
      ]
    },
    {
      "metadata": {
        "collapsed": true,
        "id": "Kc8LkhR_24bN",
        "colab_type": "code",
        "colab": {}
      },
      "cell_type": "code",
      "source": [
        "a = True\n",
        "print(a, \"is of\", type(a))"
      ],
      "execution_count": 0,
      "outputs": []
    },
    {
      "metadata": {
        "collapsed": true,
        "id": "Y4MyWc0o24bQ",
        "colab_type": "code",
        "colab": {}
      },
      "cell_type": "code",
      "source": [
        "i = -7\n",
        "print(i, \"is of\", type(i))"
      ],
      "execution_count": 0,
      "outputs": []
    },
    {
      "metadata": {
        "collapsed": true,
        "id": "2Ogf84RT24bW",
        "colab_type": "code",
        "colab": {}
      },
      "cell_type": "code",
      "source": [
        "x = 12.7893\n",
        "print(x, \"is of\", type(x))"
      ],
      "execution_count": 0,
      "outputs": []
    },
    {
      "metadata": {
        "collapsed": true,
        "id": "tJcVviUN24bY",
        "colab_type": "code",
        "colab": {}
      },
      "cell_type": "code",
      "source": [
        "s = \"ATGTCGTCTACAACACT\"\n",
        "print(s, \"is of\", type(s))"
      ],
      "execution_count": 0,
      "outputs": []
    },
    {
      "metadata": {
        "collapsed": true,
        "id": "ak58_ac624bb",
        "colab_type": "code",
        "colab": {}
      },
      "cell_type": "code",
      "source": [
        "z = None\n",
        "print(z, \"is of\", type(z))"
      ],
      "execution_count": 0,
      "outputs": []
    },
    {
      "metadata": {
        "id": "rRne5fxR24be",
        "colab_type": "text"
      },
      "cell_type": "markdown",
      "source": [
        "## Comments\n",
        "\n",
        "When you are writing a program it is often convenient to annotate your code to remind you what you were (intending) it to do. In programming these annotations are known as _comments_. You can include a comment in python by prefixing some text with a <tt>#</tt> character. All text following the <tt>#</tt> will then be ignored by the interpreter. You can start a comment on its own line, or you can include it at the end of a line of code.\n",
        "\n",
        "It is also often useful to temporarily remove some code from a script without deleting it. This is known as _commenting out_ some code."
      ]
    },
    {
      "metadata": {
        "collapsed": true,
        "id": "hpSf53m024bf",
        "colab_type": "code",
        "colab": {}
      },
      "cell_type": "code",
      "source": [
        "print(\"Hi\") # this will be ignored\n",
        "# as will this\n",
        "print(\"Bye\")\n",
        "# print \"Never seen\""
      ],
      "execution_count": 0,
      "outputs": []
    },
    {
      "metadata": {
        "id": "pXl9nsOC24bh",
        "colab_type": "text"
      },
      "cell_type": "markdown",
      "source": [
        "## Arithmetic"
      ]
    },
    {
      "metadata": {
        "id": "y6mmzybU24bi",
        "colab_type": "text"
      },
      "cell_type": "markdown",
      "source": [
        "Python supports all the standard arithmetical operations on numerical types, and mostly uses a similar syntax to several other computer languages:"
      ]
    },
    {
      "metadata": {
        "collapsed": true,
        "id": "0tccCzpe24bi",
        "colab_type": "code",
        "colab": {}
      },
      "cell_type": "code",
      "source": [
        "x = 4.5\n",
        "y = 2\n",
        "\n",
        "print('x', x, 'y', y)\n",
        "print('addition x + y =', x + y) \n",
        "print('subtraction x - y =', x - y) \n",
        "print('multiplication x * y =', x * y) \n",
        "print('division x / y =', x / y) "
      ],
      "execution_count": 0,
      "outputs": []
    },
    {
      "metadata": {
        "collapsed": true,
        "id": "N09VABVY24bm",
        "colab_type": "code",
        "colab": {}
      },
      "cell_type": "code",
      "source": [
        "x = 4.5\n",
        "y = 2\n",
        "\n",
        "print('x', x, 'y', y)\n",
        "print('division x / y =', x / y)\n",
        "print('floored division x // y =', x // y) \n",
        "print('modulus (remainder of x/y) x % y =', x % y) \n",
        "print('exponentiation x ** y =', x ** y)"
      ],
      "execution_count": 0,
      "outputs": []
    },
    {
      "metadata": {
        "id": "NVTgg5xt24bo",
        "colab_type": "text"
      },
      "cell_type": "markdown",
      "source": [
        "As usual in maths, division and multiplication have higher precedence than addition and subtraction, but arithmetic expressions can be grouped using parentheses to override the default precedence"
      ]
    },
    {
      "metadata": {
        "collapsed": true,
        "id": "t-QHTPYD24bq",
        "colab_type": "code",
        "colab": {}
      },
      "cell_type": "code",
      "source": [
        "x = 13\n",
        "y = 5\n",
        "\n",
        "print('x * (2 + y) =', x * (2 + y))\n",
        "print('(x * 2) + y =', (x * 2) + y)\n",
        "print('x * 2 + y =', x * 2 + y)"
      ],
      "execution_count": 0,
      "outputs": []
    },
    {
      "metadata": {
        "id": "r4dzCj5k24bt",
        "colab_type": "text"
      },
      "cell_type": "markdown",
      "source": [
        "You can mix (some) types in arithmetic expressions and python will apply rules as to the type of the result\n"
      ]
    },
    {
      "metadata": {
        "collapsed": true,
        "id": "JnJrlL8l24bu",
        "colab_type": "code",
        "colab": {}
      },
      "cell_type": "code",
      "source": [
        "13 + 5.0"
      ],
      "execution_count": 0,
      "outputs": []
    },
    {
      "metadata": {
        "id": "Jl-3cWyA24by",
        "colab_type": "text"
      },
      "cell_type": "markdown",
      "source": [
        "You can force python to use a particular type by converting an expression explicitly, using helpful named functions: <tt>float</tt>, <tt>int</tt>, <tt>str</tt> etc."
      ]
    },
    {
      "metadata": {
        "collapsed": true,
        "id": "8p_QXCGM24by",
        "colab_type": "code",
        "colab": {}
      },
      "cell_type": "code",
      "source": [
        "float(3) + float(7)"
      ],
      "execution_count": 0,
      "outputs": []
    },
    {
      "metadata": {
        "collapsed": true,
        "id": "sOd1B3xG24b1",
        "colab_type": "code",
        "colab": {}
      },
      "cell_type": "code",
      "source": [
        "int(3.14159) + 1"
      ],
      "execution_count": 0,
      "outputs": []
    },
    {
      "metadata": {
        "id": "1YiQ1cWK24b3",
        "colab_type": "text"
      },
      "cell_type": "markdown",
      "source": [
        "The addition operator `+` allows you also to concatenate strings together."
      ]
    },
    {
      "metadata": {
        "collapsed": true,
        "id": "kFpy7qKy24b4",
        "colab_type": "code",
        "colab": {}
      },
      "cell_type": "code",
      "source": [
        "print('number' + str(3))"
      ],
      "execution_count": 0,
      "outputs": []
    },
    {
      "metadata": {
        "id": "zTjypTzD24b7",
        "colab_type": "text"
      },
      "cell_type": "markdown",
      "source": [
        "Division in Python 2 sometimes trips up new (and experienced!) programmers. If you divide 2 integers you will only get an integer result. If you want a floating point result you should explicitly cast at least one of the arguments to a <tt>float</tt>."
      ]
    },
    {
      "metadata": {
        "collapsed": true,
        "id": "D7gxzmRK24b7",
        "colab_type": "code",
        "colab": {}
      },
      "cell_type": "code",
      "source": [
        "print(\"3/4 =\", 3/4) # in Python 2, you would get 0\n",
        "print(\"3.0/4 =\", 3.0/4)\n",
        "print(\"float(3)/4 =\", float(3)/4)"
      ],
      "execution_count": 0,
      "outputs": []
    },
    {
      "metadata": {
        "id": "GI_7n2Z-24b-",
        "colab_type": "text"
      },
      "cell_type": "markdown",
      "source": [
        "There are a few shortcut assignment statements to make modifying variables directly faster to type"
      ]
    },
    {
      "metadata": {
        "collapsed": true,
        "id": "dmlHA5Xt24b-",
        "colab_type": "code",
        "colab": {}
      },
      "cell_type": "code",
      "source": [
        "x = 3\n",
        "x += 1 # equivalent to x = x + 1\n",
        "x"
      ],
      "execution_count": 0,
      "outputs": []
    },
    {
      "metadata": {
        "collapsed": true,
        "id": "EhwjwDkb24cE",
        "colab_type": "code",
        "colab": {}
      },
      "cell_type": "code",
      "source": [
        "x = 2\n",
        "y = 10\n",
        "y *= x\n",
        "y"
      ],
      "execution_count": 0,
      "outputs": []
    },
    {
      "metadata": {
        "id": "ynqHDgFl24cG",
        "colab_type": "text"
      },
      "cell_type": "markdown",
      "source": [
        "These shortcut operators are available for all arithmetic and logical operators."
      ]
    },
    {
      "metadata": {
        "id": "HoEzkH2T24cG",
        "colab_type": "text"
      },
      "cell_type": "markdown",
      "source": [
        "## Exercises 1.2.1\n",
        "\n",
        "In the interpreter:\n",
        "\n",
        "Assign numerical values to 2 variables, calculate the mean of these two variables and store the result in another variable. Print out the result to the screen."
      ]
    },
    {
      "metadata": {
        "id": "lmghDH9J24cH",
        "colab_type": "text"
      },
      "cell_type": "markdown",
      "source": [
        "## Exercises 1.2.2\n",
        "\n",
        "Create a new Python file to solve these exercises. It is good practice to create a new file each time you solve a new problem.\n",
        "\n",
        "1. Look up the <a href=\"http://en.wikipedia.org/wiki/DNA_codon_table\">genetic code</a>. Create four string variables that store possible DNA encodings of serine (S), leucine (L), tyrosine (Y) and cysteine (C). Where multiple codings are available, just pick one for now.\n",
        "2. Create a variable containing a possible DNA sequence for the protein sequence SYLYC. (Note that the addition operator <tt>+</tt> allows you to concatenate strings together.) Print the DNA sequence.\n",
        "3. Include a comment in your file to remind you the purpose of the script."
      ]
    },
    {
      "metadata": {
        "id": "sn-ShxNZ24cI",
        "colab_type": "text"
      },
      "cell_type": "markdown",
      "source": [
        "# Part 1.3: Tuples, Lists, Strings\n",
        "\n",
        "-------\n",
        "\n",
        " - Tuples\n",
        " - Lists\n",
        " - Manipulating tuples and lists\n",
        " - String manipulations"
      ]
    },
    {
      "metadata": {
        "id": "oEL2pDpi24cJ",
        "colab_type": "text"
      },
      "cell_type": "markdown",
      "source": [
        "As well as the basic data types we introduced above, very commonly you will want to store and operate on collections of values, and python has several _data structures_ that you can use to do this. The general idea is that you can place several items into a single collection and then refer to that collection as a whole. Which one you will use will depend on what problem you are trying to solve.\n",
        "\n",
        "## Tuples\n",
        "\n",
        "- Can contain any number of items\n",
        "- Can contain different types of items\n",
        "- __Cannot__ be altered once created (they are immutable)\n",
        "- Items have a defined order\n",
        "\n",
        "A tuple is created by using round brackets around the items it contains, with commas seperating the individual elements."
      ]
    },
    {
      "metadata": {
        "id": "PcevPFr-24cJ",
        "colab_type": "code",
        "outputId": "46a26ef8-ad76-4917-cfdd-0033fddfa2cf",
        "colab": {
          "base_uri": "https://localhost:8080/",
          "height": 85
        }
      },
      "cell_type": "code",
      "source": [
        "a = (123, 54, 92) # tuple of 4 integers\n",
        "b = () # empty tuple\n",
        "c = (\"Ala\",) # tuple of a single string (note the trailing \",\")\n",
        "d = (2, 3, False, \"Arg\", None) # a tuple of mixed types\n",
        "\n",
        "print(a)\n",
        "print(b)\n",
        "print(c)\n",
        "print(d)"
      ],
      "execution_count": 0,
      "outputs": [
        {
          "output_type": "stream",
          "text": [
            "(123, 54, 92)\n",
            "()\n",
            "('Ala',)\n",
            "(2, 3, False, 'Arg', None)\n"
          ],
          "name": "stdout"
        }
      ]
    },
    {
      "metadata": {
        "id": "WF5ez1C624cL",
        "colab_type": "text"
      },
      "cell_type": "markdown",
      "source": [
        "You can of course use variables in tuples and other data structures"
      ]
    },
    {
      "metadata": {
        "id": "u_cKpS5524cL",
        "colab_type": "code",
        "outputId": "6f329eca-72ec-47ae-9287-53cb0c679d2f",
        "colab": {
          "base_uri": "https://localhost:8080/",
          "height": 34
        }
      },
      "cell_type": "code",
      "source": [
        "x = 1.2\n",
        "y = -0.3\n",
        "z = 0.9\n",
        "t = (x, y, z)\n",
        "\n",
        "print(t)"
      ],
      "execution_count": 0,
      "outputs": [
        {
          "output_type": "stream",
          "text": [
            "(1.2, -0.3, 0.9)\n"
          ],
          "name": "stdout"
        }
      ]
    },
    {
      "metadata": {
        "id": "ETEV1-fZ24cO",
        "colab_type": "text"
      },
      "cell_type": "markdown",
      "source": [
        "Tuples can be _packed_ and _unpacked_ with a convenient syntax. The number of variables used to unpack the tuple must match the number of elements in the tuple."
      ]
    },
    {
      "metadata": {
        "id": "mlbBN9vs24cR",
        "colab_type": "code",
        "outputId": "b55c8ae8-a7dc-4c6c-f6e1-2f5da1e7cfd7",
        "colab": {
          "base_uri": "https://localhost:8080/",
          "height": 85
        }
      },
      "cell_type": "code",
      "source": [
        "t = 2, 3, 4 # tuple packing\n",
        "print('t is', t)\n",
        "x, y, z = t # tuple unpacking\n",
        "print('x is', x)\n",
        "print('y is', y)\n",
        "print('z is', z)"
      ],
      "execution_count": 0,
      "outputs": [
        {
          "output_type": "stream",
          "text": [
            "t is (2, 3, 4)\n",
            "x is 2\n",
            "y is 3\n",
            "z is 4\n"
          ],
          "name": "stdout"
        }
      ]
    },
    {
      "metadata": {
        "id": "UFcPtTqC24cY",
        "colab_type": "text"
      },
      "cell_type": "markdown",
      "source": [
        "## Lists\n",
        "\n",
        "- Can contain any number of items\n",
        "- Can contain different types of items\n",
        "- __Can__ be altered once created (they are _mutable_)\n",
        "- Items have a particular order\n",
        "\n",
        "Lists are created with square brackets around their items:"
      ]
    },
    {
      "metadata": {
        "id": "tTsfItHg24cZ",
        "colab_type": "code",
        "colab": {}
      },
      "cell_type": "code",
      "source": [
        "a = [1, 3, 9]\n",
        "b = [\"ATG\"]\n",
        "c = []\n",
        "\n",
        "print(a)\n",
        "print(b)\n",
        "print(c)"
      ],
      "execution_count": 0,
      "outputs": []
    },
    {
      "metadata": {
        "id": "xHcKoyoH24cg",
        "colab_type": "text"
      },
      "cell_type": "markdown",
      "source": [
        "Lists and tuples can contain other list and tuples, or any other type of collection:"
      ]
    },
    {
      "metadata": {
        "id": "KeSPFK6C24ch",
        "colab_type": "code",
        "colab": {}
      },
      "cell_type": "code",
      "source": [
        "matrix = [[1, 0], [0, 2]]\n",
        "print(matrix)"
      ],
      "execution_count": 0,
      "outputs": []
    },
    {
      "metadata": {
        "id": "oLz62tXt24cm",
        "colab_type": "text"
      },
      "cell_type": "markdown",
      "source": [
        "You can convert between tuples and lists with the <tt>tuple</tt> and <tt>list</tt> functions. Note that these create a new collection with the same items, and leave the original unaffected."
      ]
    },
    {
      "metadata": {
        "id": "DK6LhJHR24cn",
        "colab_type": "code",
        "outputId": "17a1e9ff-f994-4bab-c2e4-f068ca03a4f6",
        "colab": {
          "base_uri": "https://localhost:8080/",
          "height": 85
        }
      },
      "cell_type": "code",
      "source": [
        "a = (1, 4, 9, 16)     # A tuple of numbers\n",
        "b = ['G','C','A','T'] # A list of characters\n",
        "\n",
        "print(a)\n",
        "print(b)\n",
        "\n",
        "l = list(a)   # Make a list based on a tuple \n",
        "print(l)\n",
        "\n",
        "t = tuple(b)  # Make a tuple based on a list\n",
        "print(t)"
      ],
      "execution_count": 0,
      "outputs": [
        {
          "output_type": "stream",
          "text": [
            "(1, 4, 9, 16)\n",
            "['G', 'C', 'A', 'T']\n",
            "[1, 4, 9, 16]\n",
            "('G', 'C', 'A', 'T')\n"
          ],
          "name": "stdout"
        }
      ]
    },
    {
      "metadata": {
        "id": "sR_yikQ124cp",
        "colab_type": "text"
      },
      "cell_type": "markdown",
      "source": [
        "## Manipulating tuples and lists\n",
        "\n",
        "Once your data is in a list or tuple, python supports a number of ways you can access elements of the list and manipulate the list in useful ways, such as sorting the data.\n",
        "\n",
        "Tuples and lists can generally be used in very similar ways."
      ]
    },
    {
      "metadata": {
        "id": "p-NzarKP24cr",
        "colab_type": "text"
      },
      "cell_type": "markdown",
      "source": [
        "### Index access\n",
        "\n",
        "You can access individual elements of the collection using their _index_, note that the first element is at index 0. Negative indices count backwards from the end."
      ]
    },
    {
      "metadata": {
        "id": "o7Ncf2Yu24cr",
        "colab_type": "code",
        "outputId": "b45aa8a2-abbb-4c74-d2a8-285644717fc3",
        "colab": {
          "base_uri": "https://localhost:8080/",
          "height": 102
        }
      },
      "cell_type": "code",
      "source": [
        "t = (123, 54, 92, 87, 33)\n",
        "x = [123, 54, 92, 87, 33]\n",
        "\n",
        "print('t is', t)\n",
        "print('t[0] is', t[0])\n",
        "print('t[2] is', t[2])\n",
        "\n",
        "print('x is', x)\n",
        "print('x[-1] is', x[-1])"
      ],
      "execution_count": 0,
      "outputs": [
        {
          "output_type": "stream",
          "text": [
            "t is (123, 54, 92, 87, 33)\n",
            "t[0] is 123\n",
            "t[2] is 92\n",
            "x is [123, 54, 92, 87, 33]\n",
            "x[-1] is 33\n"
          ],
          "name": "stdout"
        }
      ]
    },
    {
      "metadata": {
        "id": "_Ui24Ab024cu",
        "colab_type": "text"
      },
      "cell_type": "markdown",
      "source": [
        "### Slices\n",
        "\n",
        "You can also access a range of items, known as _slices_, from inside lists and tuples using a colon `:` to indicate the beginning and end of the slice inside the square brackets. **Note that the slice notation `[a:b]` includes positions from `a` up to _but not including_ `b`**."
      ]
    },
    {
      "metadata": {
        "id": "l5HTajRv24cv",
        "colab_type": "code",
        "outputId": "0cdf8c27-a765-4094-b62c-60e6f98d5b1a",
        "colab": {
          "base_uri": "https://localhost:8080/",
          "height": 68
        }
      },
      "cell_type": "code",
      "source": [
        "t = (123, 54, 92, 87, 33)\n",
        "x = [123, 54, 92, 87, 33]\n",
        "print('t[1:3] is', t[1:3])\n",
        "print('x[2:] is', x[2:])\n",
        "print('x[:-1] is', x[:-1])"
      ],
      "execution_count": 0,
      "outputs": [
        {
          "output_type": "stream",
          "text": [
            "t[1:3] is (54, 92)\n",
            "x[2:] is [92, 87, 33]\n",
            "x[:-1] is [123, 54, 92, 87]\n"
          ],
          "name": "stdout"
        }
      ]
    },
    {
      "metadata": {
        "id": "9b17_7Vl24cy",
        "colab_type": "text"
      },
      "cell_type": "markdown",
      "source": [
        "### `in` operator\n",
        "You can check if a value is in a tuple or list with the <tt>in</tt> operator, and you can negate this with <tt>not</tt>"
      ]
    },
    {
      "metadata": {
        "id": "PGfbL4Bl24cz",
        "colab_type": "code",
        "colab": {}
      },
      "cell_type": "code",
      "source": [
        "t = (123, 54, 92, 87, 33)\n",
        "x = [123, 54, 92, 87, 33]\n",
        "print('123 in', x, 123 in x)\n",
        "print('234 in', t, 234 in t)\n",
        "print('999 not in', x, 999 not in x)"
      ],
      "execution_count": 0,
      "outputs": []
    },
    {
      "metadata": {
        "id": "S_bEYIOf24c3",
        "colab_type": "text"
      },
      "cell_type": "markdown",
      "source": [
        "### `len()` and `count()` functions\n",
        "You can get the length of a list or tuple with the in-built <tt>len()</tt> function, and you can count the number of particular elements contained in a list with the <tt>.count()</tt> function."
      ]
    },
    {
      "metadata": {
        "id": "TQHC3uW224c3",
        "colab_type": "code",
        "outputId": "517d061a-b257-4485-801e-88104683ad6a",
        "colab": {
          "base_uri": "https://localhost:8080/",
          "height": 51
        }
      },
      "cell_type": "code",
      "source": [
        "t = (123, 54, 92, 87, 33)\n",
        "x = [123, 54, 92, 87, 33]\n",
        "print(\"length of t is\", len(t))\n",
        "print(\"number of 33s in x is\", x.count(33))"
      ],
      "execution_count": 0,
      "outputs": [
        {
          "output_type": "stream",
          "text": [
            "length of t is 5\n",
            "number of 33s in x is 1\n"
          ],
          "name": "stdout"
        }
      ]
    },
    {
      "metadata": {
        "id": "gvQgi6oz24c7",
        "colab_type": "text"
      },
      "cell_type": "markdown",
      "source": [
        "### Modifying lists\n",
        "You can alter lists in place, but not tuples"
      ]
    },
    {
      "metadata": {
        "id": "--fttw2824c7",
        "colab_type": "code",
        "outputId": "94d0e6f0-5b85-4233-93ae-b2bc7e03137e",
        "colab": {
          "base_uri": "https://localhost:8080/",
          "height": 51
        }
      },
      "cell_type": "code",
      "source": [
        "x = [123, 54, 92, 87, 33]\n",
        "print(x)\n",
        "x[2] = 33\n",
        "print(x)"
      ],
      "execution_count": 0,
      "outputs": [
        {
          "output_type": "stream",
          "text": [
            "[123, 54, 92, 87, 33]\n",
            "[123, 54, 33, 87, 33]\n"
          ],
          "name": "stdout"
        }
      ]
    },
    {
      "metadata": {
        "id": "blaje7x424c8",
        "colab_type": "text"
      },
      "cell_type": "markdown",
      "source": [
        "Tuples _cannot_ be altered once they have been created, if you try to do so, you'll get an error."
      ]
    },
    {
      "metadata": {
        "id": "EJKTR9Y224c9",
        "colab_type": "code",
        "outputId": "47ec7932-8df0-499b-a7eb-2144f6829bd4",
        "colab": {
          "base_uri": "https://localhost:8080/",
          "height": 214
        }
      },
      "cell_type": "code",
      "source": [
        "t = (123, 54, 92, 87, 33)\n",
        "print(t)\n",
        "t[1] = 4"
      ],
      "execution_count": 0,
      "outputs": [
        {
          "output_type": "stream",
          "text": [
            "(123, 54, 92, 87, 33)\n"
          ],
          "name": "stdout"
        },
        {
          "output_type": "error",
          "ename": "TypeError",
          "evalue": "ignored",
          "traceback": [
            "\u001b[0;31m---------------------------------------------------------------------------\u001b[0m",
            "\u001b[0;31mTypeError\u001b[0m                                 Traceback (most recent call last)",
            "\u001b[0;32m<ipython-input-30-8b8ecaf23c21>\u001b[0m in \u001b[0;36m<module>\u001b[0;34m()\u001b[0m\n\u001b[1;32m      1\u001b[0m \u001b[0mt\u001b[0m \u001b[0;34m=\u001b[0m \u001b[0;34m(\u001b[0m\u001b[0;36m123\u001b[0m\u001b[0;34m,\u001b[0m \u001b[0;36m54\u001b[0m\u001b[0;34m,\u001b[0m \u001b[0;36m92\u001b[0m\u001b[0;34m,\u001b[0m \u001b[0;36m87\u001b[0m\u001b[0;34m,\u001b[0m \u001b[0;36m33\u001b[0m\u001b[0;34m)\u001b[0m\u001b[0;34m\u001b[0m\u001b[0;34m\u001b[0m\u001b[0m\n\u001b[1;32m      2\u001b[0m \u001b[0mprint\u001b[0m\u001b[0;34m(\u001b[0m\u001b[0mt\u001b[0m\u001b[0;34m)\u001b[0m\u001b[0;34m\u001b[0m\u001b[0;34m\u001b[0m\u001b[0m\n\u001b[0;32m----> 3\u001b[0;31m \u001b[0mt\u001b[0m\u001b[0;34m[\u001b[0m\u001b[0;36m1\u001b[0m\u001b[0;34m]\u001b[0m \u001b[0;34m=\u001b[0m \u001b[0;36m4\u001b[0m\u001b[0;34m\u001b[0m\u001b[0;34m\u001b[0m\u001b[0m\n\u001b[0m",
            "\u001b[0;31mTypeError\u001b[0m: 'tuple' object does not support item assignment"
          ]
        }
      ]
    },
    {
      "metadata": {
        "id": "4HcTfJ_B24c_",
        "colab_type": "text"
      },
      "cell_type": "markdown",
      "source": [
        "You can add elements to the end of a list with <tt>append()</tt>"
      ]
    },
    {
      "metadata": {
        "id": "7sUA1N8q24c_",
        "colab_type": "code",
        "outputId": "b43c818f-af2a-4938-9423-4869e40d36dc",
        "colab": {
          "base_uri": "https://localhost:8080/",
          "height": 34
        }
      },
      "cell_type": "code",
      "source": [
        "x = [123, 54, 92, 87, 33]\n",
        "x.append(101)\n",
        "print(x)"
      ],
      "execution_count": 0,
      "outputs": [
        {
          "output_type": "stream",
          "text": [
            "[123, 54, 92, 87, 33, 101]\n"
          ],
          "name": "stdout"
        }
      ]
    },
    {
      "metadata": {
        "id": "mFrlLJMn24dB",
        "colab_type": "text"
      },
      "cell_type": "markdown",
      "source": [
        "or insert values at a certain position with <tt>insert()</tt>, by supplying the desired position as well as the new value"
      ]
    },
    {
      "metadata": {
        "id": "qBm_1GTh24dC",
        "colab_type": "code",
        "outputId": "85055dd1-d37a-41a2-de15-db3807c0d3c7",
        "colab": {
          "base_uri": "https://localhost:8080/",
          "height": 34
        }
      },
      "cell_type": "code",
      "source": [
        "x = [123, 54, 92, 87, 33]\n",
        "x.insert(3, 1111)\n",
        "print(x)"
      ],
      "execution_count": 0,
      "outputs": [
        {
          "output_type": "stream",
          "text": [
            "[123, 54, 92, 1111, 87, 33]\n"
          ],
          "name": "stdout"
        }
      ]
    },
    {
      "metadata": {
        "id": "OI2FzwVz24dE",
        "colab_type": "text"
      },
      "cell_type": "markdown",
      "source": [
        "You can remove values with <tt>remove()</tt>"
      ]
    },
    {
      "metadata": {
        "id": "nLCwT-vl24dE",
        "colab_type": "code",
        "outputId": "91daa98d-ef46-4d4e-da43-1784880a06d4",
        "colab": {
          "base_uri": "https://localhost:8080/",
          "height": 34
        }
      },
      "cell_type": "code",
      "source": [
        "x = [123, 54, 92, 87, 33]\n",
        "x.remove(123)\n",
        "print(x)"
      ],
      "execution_count": 0,
      "outputs": [
        {
          "output_type": "stream",
          "text": [
            "[54, 92, 87, 33]\n"
          ],
          "name": "stdout"
        }
      ]
    },
    {
      "metadata": {
        "id": "ChwWeBTa24dH",
        "colab_type": "text"
      },
      "cell_type": "markdown",
      "source": [
        "and delete values by index with <tt>del</tt>"
      ]
    },
    {
      "metadata": {
        "id": "ub1ZuCDJ24dI",
        "colab_type": "code",
        "outputId": "32747be9-24ed-4793-92b6-f9cc29ef95b1",
        "colab": {
          "base_uri": "https://localhost:8080/",
          "height": 51
        }
      },
      "cell_type": "code",
      "source": [
        "x = [123, 54, 92, 87, 33]\n",
        "print(x)\n",
        "del x[0]\n",
        "print(x)"
      ],
      "execution_count": 0,
      "outputs": [
        {
          "output_type": "stream",
          "text": [
            "[123, 54, 92, 87, 33]\n",
            "[54, 92, 87, 33]\n"
          ],
          "name": "stdout"
        }
      ]
    },
    {
      "metadata": {
        "id": "X8imuze124dM",
        "colab_type": "text"
      },
      "cell_type": "markdown",
      "source": [
        "It's often useful to be able to combine arrays together, which can be done with <tt>extend()</tt> (as <tt>append</tt> would add the whole list as a single element in the list)"
      ]
    },
    {
      "metadata": {
        "id": "AaG2_FFw24dN",
        "colab_type": "code",
        "outputId": "f3218065-d4d2-4e71-bf45-2b424dcf6fb2",
        "colab": {
          "base_uri": "https://localhost:8080/",
          "height": 51
        }
      },
      "cell_type": "code",
      "source": [
        "a = [1,2,3]\n",
        "b = [4,5,6]\n",
        "a.extend(b)\n",
        "print(a)\n",
        "a.append(b)\n",
        "print(a)"
      ],
      "execution_count": 0,
      "outputs": [
        {
          "output_type": "stream",
          "text": [
            "[1, 2, 3, 4, 5, 6]\n",
            "[1, 2, 3, 4, 5, 6, [4, 5, 6]]\n"
          ],
          "name": "stdout"
        }
      ]
    },
    {
      "metadata": {
        "id": "96T1ogt224dR",
        "colab_type": "text"
      },
      "cell_type": "markdown",
      "source": [
        "The plus symbol <tt>+</tt> is shorthand for the extend operation when applied to lists:"
      ]
    },
    {
      "metadata": {
        "id": "BIeJEK5D24dR",
        "colab_type": "code",
        "outputId": "f825b212-0deb-4451-f685-1186fbc92a0a",
        "colab": {
          "base_uri": "https://localhost:8080/",
          "height": 34
        }
      },
      "cell_type": "code",
      "source": [
        "a = [1, 2, 3]\n",
        "b = [4, 5, 6]\n",
        "a = a + b\n",
        "print(a)"
      ],
      "execution_count": 0,
      "outputs": [
        {
          "output_type": "stream",
          "text": [
            "[1, 2, 3, 4, 5, 6]\n"
          ],
          "name": "stdout"
        }
      ]
    },
    {
      "metadata": {
        "id": "QMfjnrc_24dT",
        "colab_type": "text"
      },
      "cell_type": "markdown",
      "source": [
        "Slice syntax can be used on the left hand side of an assignment operation to assign subregions of a list"
      ]
    },
    {
      "metadata": {
        "id": "4x7keTR124dU",
        "colab_type": "code",
        "outputId": "296ad3aa-e18d-4c3e-8b0f-86f5e2fbf4d5",
        "colab": {
          "base_uri": "https://localhost:8080/",
          "height": 34
        }
      },
      "cell_type": "code",
      "source": [
        "a = [1, 2, 3, 4, 5, 6]\n",
        "a[1:3] = [9, 9, 9, 9]\n",
        "print(a)"
      ],
      "execution_count": 0,
      "outputs": [
        {
          "output_type": "stream",
          "text": [
            "[1, 9, 9, 9, 9, 4, 5, 6]\n"
          ],
          "name": "stdout"
        }
      ]
    },
    {
      "metadata": {
        "id": "1BiBoQZx24dY",
        "colab_type": "text"
      },
      "cell_type": "markdown",
      "source": [
        "You can change the order of elements in a list"
      ]
    },
    {
      "metadata": {
        "id": "iHX0wR0924dY",
        "colab_type": "code",
        "outputId": "c5644b33-2cb5-4efe-f901-abd6761477ec",
        "colab": {
          "base_uri": "https://localhost:8080/",
          "height": 51
        }
      },
      "cell_type": "code",
      "source": [
        "a = [1, 3, 5, 4, 2]\n",
        "a.reverse()\n",
        "print(a)\n",
        "a.sort()\n",
        "print(a)"
      ],
      "execution_count": 0,
      "outputs": [
        {
          "output_type": "stream",
          "text": [
            "[2, 4, 5, 3, 1]\n",
            "[1, 2, 3, 4, 5]\n"
          ],
          "name": "stdout"
        }
      ]
    },
    {
      "metadata": {
        "id": "yhbjmHWx24da",
        "colab_type": "text"
      },
      "cell_type": "markdown",
      "source": [
        "Note that both of these change the list, if you want a sorted copy of the list while leaving the original untouched, use <tt>sorted()</tt>"
      ]
    },
    {
      "metadata": {
        "id": "iv9kwhWY24dc",
        "colab_type": "code",
        "outputId": "0463f4ef-45be-4770-8b5f-4a108404c6d2",
        "colab": {
          "base_uri": "https://localhost:8080/",
          "height": 51
        }
      },
      "cell_type": "code",
      "source": [
        "a = [2, 5, 7, 1]\n",
        "b = sorted(a)\n",
        "print(a)\n",
        "print(b)"
      ],
      "execution_count": 0,
      "outputs": [
        {
          "output_type": "stream",
          "text": [
            "[2, 5, 7, 1]\n",
            "[1, 2, 5, 7]\n"
          ],
          "name": "stdout"
        }
      ]
    },
    {
      "metadata": {
        "id": "H1UouZQCAMut",
        "colab_type": "code",
        "outputId": "3246d9ac-234c-4c70-ecac-980ca81df5f3",
        "colab": {
          "base_uri": "https://localhost:8080/",
          "height": 34
        }
      },
      "cell_type": "code",
      "source": [
        "len(a,)"
      ],
      "execution_count": 0,
      "outputs": [
        {
          "output_type": "execute_result",
          "data": {
            "text/plain": [
              "4"
            ]
          },
          "metadata": {
            "tags": []
          },
          "execution_count": 42
        }
      ]
    },
    {
      "metadata": {
        "id": "_7dijYft24df",
        "colab_type": "text"
      },
      "cell_type": "markdown",
      "source": [
        "### Getting help from the official Python documentation\n",
        "\n",
        "The most useful information is online on https://www.python.org/ website and should be used as a reference guide.\n",
        "\n",
        "- [Python 3.5.2 documentation](https://docs.python.org/3/) is the starting page with links to tutorials and libraries' documentation for Python 3\n",
        "    - [The Python Tutorial](https://docs.python.org/3/tutorial/index.html)\n",
        "    - [The Python Standard Library Reference](https://docs.python.org/3/library/index.html) is the documentation of all libraries included within Python as well as built-in functions and data types like:\n",
        "        - [Text Sequence Type — `str`](https://docs.python.org/3/library/stdtypes.html#text-sequence-type-str)\n",
        "        - [Numeric Types — `int`, `float`](https://docs.python.org/3/library/stdtypes.html#numeric-types-int-float-complex)\n",
        "        - [Sequence Types — `list`, `tuple`](https://docs.python.org/3/library/stdtypes.html#sequence-types-list-tuple-range)\n",
        "        - [Set Types — `set`](https://docs.python.org/3/library/stdtypes.html#set-types-set-frozenset)\n",
        "        - [Mapping Types — `dict`](https://docs.python.org/3/library/stdtypes.html#mapping-types-dict)\n",
        "        \n",
        "### Getting help directly from within Python using `help()`"
      ]
    },
    {
      "metadata": {
        "id": "CAGzmL0s24dg",
        "colab_type": "code",
        "colab": {}
      },
      "cell_type": "code",
      "source": [
        "help(len)"
      ],
      "execution_count": 0,
      "outputs": []
    },
    {
      "metadata": {
        "id": "yRzHqray24dh",
        "colab_type": "code",
        "colab": {}
      },
      "cell_type": "code",
      "source": [
        "help(list)"
      ],
      "execution_count": 0,
      "outputs": []
    },
    {
      "metadata": {
        "id": "5gYQN9eN24dk",
        "colab_type": "code",
        "colab": {}
      },
      "cell_type": "code",
      "source": [
        "help(list.insert)"
      ],
      "execution_count": 0,
      "outputs": []
    },
    {
      "metadata": {
        "id": "UTgB6xdw24dm",
        "colab_type": "code",
        "colab": {}
      },
      "cell_type": "code",
      "source": [
        "help(list.count)"
      ],
      "execution_count": 0,
      "outputs": []
    },
    {
      "metadata": {
        "id": "4ZkIbuPQ24dq",
        "colab_type": "text"
      },
      "cell_type": "markdown",
      "source": [
        "## Exercise 1.3.1\n",
        "\n",
        "1. Create a list of DNA codons for the protein sequence CLYSY based on the codon variables you defined previously.\n",
        "2. Print the DNA sequence of the protein to the screen.\n",
        "3. Print the DNA codon of the last amino acid in the protein sequence.\n",
        "4. Create two more variables containing the DNA sequence of a stop codon and a start codon, and replace the first element of the DNA sequence with the start codon and append the stop codon to the end of the DNA sequence. Print out the resulting DNA sequence."
      ]
    },
    {
      "metadata": {
        "id": "UKZTepfs24dr",
        "colab_type": "text"
      },
      "cell_type": "markdown",
      "source": [
        "## String manipulations\n",
        "\n",
        "Strings are a lot like tuples of characters, and individual characters and substrings can be accessed and manipulated using similar operations we introduced above.\n"
      ]
    },
    {
      "metadata": {
        "id": "xKwxgWKr24dt",
        "colab_type": "code",
        "outputId": "f06a3d44-f2a2-46a1-9035-c27b0c0eecbe",
        "colab": {
          "base_uri": "https://localhost:8080/",
          "height": 119
        }
      },
      "cell_type": "code",
      "source": [
        "text = \"ATGTCATTTGT\"\n",
        "print(text[0])\n",
        "print(text[-2])\n",
        "print(text[0:6])\n",
        "print(\"ATG\" in text)\n",
        "print(\"TGA\" in text)\n",
        "print(len(text))"
      ],
      "execution_count": 0,
      "outputs": [
        {
          "output_type": "stream",
          "text": [
            "A\n",
            "G\n",
            "ATGTCA\n",
            "True\n",
            "False\n",
            "11\n"
          ],
          "name": "stdout"
        }
      ]
    },
    {
      "metadata": {
        "id": "TdEJTsb_24du",
        "colab_type": "text"
      },
      "cell_type": "markdown",
      "source": [
        "Just as with tuples, trying to assign a value to an element of a string results in an error"
      ]
    },
    {
      "metadata": {
        "id": "X24Zywj624dv",
        "colab_type": "code",
        "colab": {}
      },
      "cell_type": "code",
      "source": [
        "text = \"ATGTCATTTGT\"\n",
        "text[0:2] = \"CCC\" "
      ],
      "execution_count": 0,
      "outputs": []
    },
    {
      "metadata": {
        "id": "L52_29oc24dx",
        "colab_type": "text"
      },
      "cell_type": "markdown",
      "source": [
        "Python provides a number of useful functions that let you manipulate strings\n",
        "\n",
        "The <tt>in</tt> operator lets you check if a substring is contained within a larger string, but it does not tell you where the substring is located. This is often useful to know and python provides the <tt>.find()</tt> method which returns the index of the first occurrence of the search string, and the <tt>.rfind()</tt> method to start searching from the end of the string.\n",
        "\n",
        "If the search string is not found in the string both these methods return -1."
      ]
    },
    {
      "metadata": {
        "id": "6doQux_Q24dx",
        "colab_type": "code",
        "colab": {}
      },
      "cell_type": "code",
      "source": [
        "dna = \"ATGTCACCGTTT\"\n",
        "index = dna.find(\"TCA\")\n",
        "print(\"TCA is at position:\", index)\n",
        "index = dna.rfind('C')\n",
        "print(\"The last Cytosine is at position:\", index)\n",
        "print(\"Position of a stop codon:\", dna.find(\"TGA\"))"
      ],
      "execution_count": 0,
      "outputs": []
    },
    {
      "metadata": {
        "id": "cRvka6eQ24d0",
        "colab_type": "text"
      },
      "cell_type": "markdown",
      "source": [
        "When we are reading text from files  (which we will see later on), often there is unwanted whitespace at the start or end of the string. We can remove leading whitespace with the <tt>.lstrip()</tt> method, trailing whitespace with <tt>.rstrip()</tt>, and whitespace from both ends with <tt>.strip()</tt>.\n",
        "\n",
        "All of these methods return a copy of the changed string, so if you want to replace the original you can assign the result of the method call to the original variable."
      ]
    },
    {
      "metadata": {
        "id": "18R8kwp324d1",
        "colab_type": "code",
        "outputId": "fa46e3e1-3dc2-4ac1-f1d7-83f1bd756725",
        "colab": {
          "base_uri": "https://localhost:8080/",
          "height": 85
        }
      },
      "cell_type": "code",
      "source": [
        "s = \"    Chromosome Start End                     \"\n",
        "print(len(s), s)\n",
        "s = s.lstrip()\n",
        "print(len(s), s)\n",
        "s = s.rstrip()\n",
        "print(len(s), s)\n",
        "s = \"    Chromosome Start End                     \"\n",
        "s = s.strip()\n",
        "print(len(s), s)"
      ],
      "execution_count": 0,
      "outputs": [
        {
          "output_type": "stream",
          "text": [
            "45     Chromosome Start End                     \n",
            "41 Chromosome Start End                     \n",
            "20 Chromosome Start End\n",
            "20 Chromosome Start End\n"
          ],
          "name": "stdout"
        }
      ]
    },
    {
      "metadata": {
        "id": "I4kEBulx24d4",
        "colab_type": "text"
      },
      "cell_type": "markdown",
      "source": [
        "You can split a string into a list of substrings using the <tt>.split()</tt> method, supplying the delimiter as an argument to the method. If you don't supply any delimiter the method will split the string on whitespace by default (which is very often what you want!)\n",
        "\n",
        "To split a string into its component characters you can simply _cast_ the string to a list "
      ]
    },
    {
      "metadata": {
        "id": "2319lOar24d5",
        "colab_type": "code",
        "outputId": "adc3924f-0b8b-446b-f041-84e36da1b54d",
        "colab": {
          "base_uri": "https://localhost:8080/",
          "height": 51
        }
      },
      "cell_type": "code",
      "source": [
        "seq = \"ATG TCA CCG GGC\"\n",
        "codons = seq.split(\" \")\n",
        "print(codons)\n",
        "\n",
        "bases = list(seq) # a tuple of character converted into a list\n",
        "print(bases)"
      ],
      "execution_count": 0,
      "outputs": [
        {
          "output_type": "stream",
          "text": [
            "['ATG', 'TCA', 'CCG', 'GGC']\n",
            "['A', 'T', 'G', ' ', 'T', 'C', 'A', ' ', 'C', 'C', 'G', ' ', 'G', 'G', 'C']\n"
          ],
          "name": "stdout"
        }
      ]
    },
    {
      "metadata": {
        "id": "DORRJH2a24d6",
        "colab_type": "text"
      },
      "cell_type": "markdown",
      "source": [
        "<tt>.split()</tt> is the counterpart to the <tt>.join()</tt> method that lets you join the elements of a list into a string only if all the elements are of type String:"
      ]
    },
    {
      "metadata": {
        "id": "IPxEIr9H24d6",
        "colab_type": "code",
        "outputId": "a2101257-e751-410f-e6b8-3e67609ab863",
        "colab": {
          "base_uri": "https://localhost:8080/",
          "height": 102
        }
      },
      "cell_type": "code",
      "source": [
        "seq = \"ATG TCA CCG GGC\"\n",
        "# print(seq)\n",
        "codons = seq.split(\" \")\n",
        "print(codons)\n",
        "print(\"|\".join(codons))\n",
        "\n",
        "# a = \"|\".join(codons)\n",
        "# print(a)\n",
        "# seq = a.replace(\"|\",\" \")\n",
        "# print(seq)"
      ],
      "execution_count": 0,
      "outputs": [
        {
          "output_type": "stream",
          "text": [
            "ATG TCA CCG GGC\n",
            "['ATG', 'TCA', 'CCG', 'GGC']\n",
            "ATG|TCA|CCG|GGC\n",
            "ATG|TCA|CCG|GGC\n",
            "ATG TCA CCG GGC\n"
          ],
          "name": "stdout"
        }
      ]
    },
    {
      "metadata": {
        "id": "mg-ge9v0CK6m",
        "colab_type": "code",
        "colab": {}
      },
      "cell_type": "code",
      "source": [
        ""
      ],
      "execution_count": 0,
      "outputs": []
    },
    {
      "metadata": {
        "id": "z8sA1naP24d7",
        "colab_type": "text"
      },
      "cell_type": "markdown",
      "source": [
        "We also saw earlier that the <tt>+</tt> operator lets you concatenate strings together into a larger string.\n",
        "\n",
        "Note that this operator only works on variables of the same type. If you want to concatenate a string with an integer (or some other type), first you have to cast the integer to a string with the <tt>str()</tt> function."
      ]
    },
    {
      "metadata": {
        "id": "pqyoots724d7",
        "colab_type": "code",
        "outputId": "28bc119b-bffc-40c1-e605-54868915b86e",
        "colab": {
          "base_uri": "https://localhost:8080/",
          "height": 34
        }
      },
      "cell_type": "code",
      "source": [
        "s = \"chr\"\n",
        "chrom_number = 2\n",
        "print(s + str(chrom_number))"
      ],
      "execution_count": 0,
      "outputs": [
        {
          "output_type": "stream",
          "text": [
            "chr2\n"
          ],
          "name": "stdout"
        }
      ]
    },
    {
      "metadata": {
        "id": "KPrObAAP24d8",
        "colab_type": "text"
      },
      "cell_type": "markdown",
      "source": [
        "To get more information about these two methods `split()` and `join()` we could find it online in the Python documentation starting from [www.python.org](http://www.python.org) or get help using the `help()` builtin function."
      ]
    },
    {
      "metadata": {
        "id": "BdV4q8N424d9",
        "colab_type": "code",
        "colab": {}
      },
      "cell_type": "code",
      "source": [
        "help(str.split)\n",
        "help(str.join)"
      ],
      "execution_count": 0,
      "outputs": []
    },
    {
      "metadata": {
        "id": "MV6Kdb4D24d-",
        "colab_type": "text"
      },
      "cell_type": "markdown",
      "source": [
        "## Exercise 1.3.2\n",
        "\n",
        "1. Create a string variable with your full name in it, with your first and last name (and any middle names) seperated by a space. Split the string into a list, and print out your surname.\n",
        "2. Check if your surname contains the letter \"E\", and print out the position of this letter in the string. Try a few other letters."
      ]
    },
    {
      "metadata": {
        "id": "Eg-Jx91d24eA",
        "colab_type": "text"
      },
      "cell_type": "markdown",
      "source": [
        "# Part 1.4: Sets and dictionaries\n",
        "\n",
        "-------\n",
        "\n",
        " - Sets\n",
        " - Dictionaries"
      ]
    },
    {
      "metadata": {
        "id": "UXJlA3ZK24eA",
        "colab_type": "text"
      },
      "cell_type": "markdown",
      "source": [
        "## Sets\n",
        "\n",
        "- Sets contain unique elements, i.e. no repeats are allowed\n",
        "- The elements in a set do not have an order\n",
        "- Sets cannot contain elements which can be internally modified (e.g. lists and dictionaries)"
      ]
    },
    {
      "metadata": {
        "id": "VsTHd9H224eB",
        "colab_type": "code",
        "outputId": "52f052d4-b066-4a00-96c2-ee08b1a56bd4",
        "colab": {
          "base_uri": "https://localhost:8080/",
          "height": 51
        }
      },
      "cell_type": "code",
      "source": [
        "l = [1, 2, 3, 2, 3] # list of 5 values\n",
        "s = set(l) # set of 3 unique values\n",
        "print(s)\n",
        "e = set() # empty set\n",
        "print(e)"
      ],
      "execution_count": 0,
      "outputs": [
        {
          "output_type": "stream",
          "text": [
            "{1, 2, 3}\n",
            "set()\n"
          ],
          "name": "stdout"
        }
      ]
    },
    {
      "metadata": {
        "id": "8w6G9sQw24eC",
        "colab_type": "text"
      },
      "cell_type": "markdown",
      "source": [
        "Sets are very similar to lists and tuples and you can use many of the same operators and functions, except they are **inherently unordered**, so they don't have an index, and can only contain _unique_ values, so adding a value already in the set will have no effect"
      ]
    },
    {
      "metadata": {
        "id": "wmW-pyLB24eC",
        "colab_type": "code",
        "outputId": "703c5c51-5892-4402-a72c-5e5f08d27dad",
        "colab": {
          "base_uri": "https://localhost:8080/",
          "height": 85
        }
      },
      "cell_type": "code",
      "source": [
        "s = set([1, 2, 3, 2, 3])\n",
        "print(s)\n",
        "print(\"number in set:\", len(s))\n",
        "s.add(4)\n",
        "print(s)\n",
        "s.add(3)\n",
        "print(s)"
      ],
      "execution_count": 0,
      "outputs": [
        {
          "output_type": "stream",
          "text": [
            "{1, 2, 3}\n",
            "number in set: 3\n",
            "{1, 2, 3, 4}\n",
            "{1, 2, 3, 4}\n"
          ],
          "name": "stdout"
        }
      ]
    },
    {
      "metadata": {
        "id": "Q_evR8Gf24eF",
        "colab_type": "text"
      },
      "cell_type": "markdown",
      "source": [
        "You can remove specific elements from the set."
      ]
    },
    {
      "metadata": {
        "id": "mp8ZuWdh24eG",
        "colab_type": "code",
        "colab": {}
      },
      "cell_type": "code",
      "source": [
        "s = set([1, 2, 3, 2, 3])\n",
        "print(s)\n",
        "s.remove(3)\n",
        "print(s)"
      ],
      "execution_count": 0,
      "outputs": []
    },
    {
      "metadata": {
        "id": "30Z3RJgm24eH",
        "colab_type": "text"
      },
      "cell_type": "markdown",
      "source": [
        "You can do all the expected logical operations on sets, such as taking the union or intersection of 2 sets with the <tt>|</tt> _or_ and <tt>&</tt> _and_ operators "
      ]
    },
    {
      "metadata": {
        "id": "IVJMYlOX24eI",
        "colab_type": "code",
        "outputId": "4f36874a-540f-44c7-bcd0-5e001a68fa5b",
        "colab": {
          "base_uri": "https://localhost:8080/",
          "height": 51
        }
      },
      "cell_type": "code",
      "source": [
        "s1 = set([2, 4, 6, 8, 10])\n",
        "s2 = set([4, 5, 6, 7])\n",
        "\n",
        "print(\"Union:\", s1 | s2)\n",
        "print(\"Intersection:\", s1 & s2)"
      ],
      "execution_count": 0,
      "outputs": [
        {
          "output_type": "stream",
          "text": [
            "Union: {2, 4, 5, 6, 7, 8, 10}\n",
            "Intersection: {4, 6}\n"
          ],
          "name": "stdout"
        }
      ]
    },
    {
      "metadata": {
        "id": "kVWZ5Jj_24eL",
        "colab_type": "text"
      },
      "cell_type": "markdown",
      "source": [
        "## Exercise 1.4.1\n",
        "\n",
        "1. Given the protein sequence \"MPISEPTFFEIF\", split the sequence into its component amino acid codes and use a set to establish the unique amino acids in the protein and print out the result."
      ]
    },
    {
      "metadata": {
        "id": "pZhoiyR824eL",
        "colab_type": "text"
      },
      "cell_type": "markdown",
      "source": [
        "## Dictionaries\n",
        "\n",
        "Lists are useful in many contexts, but often we have some data that has no inherent order and that we want to access by some useful name rather than an index. For example, as a result of some experiment we may have a set of genes and corresponding expression values. We could put the expression values in a list, but then we'd have to remember which index in the list corresponded to which gene and this would quickly get complicated.\n",
        "\n",
        "For these situations a _dictionary_ is a very useful data structure.\n",
        "\n",
        "Dictionaries:\n",
        "\n",
        "- Contain a mapping of keys to values (like a word and its corresponding definition in a dictionary)\n",
        "- The keys of a dictionary are unique, i.e. they cannot repeat\n",
        "- The values of a dictionary can be of any data type\n",
        "- The keys of a dictionary cannot be an internally modifiable type (e.g. lists, but you can use tuples)\n",
        "- Dictionaries do not store data in any particular order"
      ]
    },
    {
      "metadata": {
        "id": "qVMvOU_O24eL",
        "colab_type": "code",
        "outputId": "dbbd07bd-0d03-40ab-831a-a79af3472ef9",
        "colab": {
          "base_uri": "https://localhost:8080/",
          "height": 34
        }
      },
      "cell_type": "code",
      "source": [
        "dna = {\"A\": \"Adenine\", \"C\": \"Cytosine\", \"G\": \"Guanine\", \"T\": \"Thymine\"}\n",
        "print(dna)"
      ],
      "execution_count": 0,
      "outputs": [
        {
          "output_type": "stream",
          "text": [
            "{'A': 'Adenine', 'C': 'Cytosine', 'G': 'Guanine', 'T': 'Thymine'}\n"
          ],
          "name": "stdout"
        }
      ]
    },
    {
      "metadata": {
        "id": "Y0kiFtmH24eM",
        "colab_type": "text"
      },
      "cell_type": "markdown",
      "source": [
        "You can access values in a dictionary using the key inside square brackets"
      ]
    },
    {
      "metadata": {
        "id": "mDWdHvyn24eM",
        "colab_type": "code",
        "outputId": "742339e1-3067-4a9e-f27c-ca5db152acec",
        "colab": {
          "base_uri": "https://localhost:8080/",
          "height": 51
        }
      },
      "cell_type": "code",
      "source": [
        "dna = {\"A\": \"Adenine\", \"C\": \"Cytosine\", \"G\": \"Guanine\", \"T\": \"Thymine\"}\n",
        "print(\"A represents\", dna[\"A\"])\n",
        "print(\"G represents\", dna[\"G\"])"
      ],
      "execution_count": 0,
      "outputs": [
        {
          "output_type": "stream",
          "text": [
            "A represents Adenine\n",
            "G represents Guanine\n"
          ],
          "name": "stdout"
        }
      ]
    },
    {
      "metadata": {
        "id": "tdv-T7wu24eO",
        "colab_type": "text"
      },
      "cell_type": "markdown",
      "source": [
        "An error is triggered if a key is absent from the dictionary:"
      ]
    },
    {
      "metadata": {
        "id": "5azF_qBV24eO",
        "colab_type": "code",
        "outputId": "7bad3c24-7f33-4351-df1e-284bf10c8376",
        "colab": {
          "base_uri": "https://localhost:8080/",
          "height": 180
        }
      },
      "cell_type": "code",
      "source": [
        "dna = {\"A\": \"Adenine\", \"C\": \"Cytosine\", \"G\": \"Guanine\", \"T\": \"Thymine\"}\n",
        "print(\"What about N?\", dna[\"N\"])"
      ],
      "execution_count": 0,
      "outputs": [
        {
          "output_type": "error",
          "ename": "KeyError",
          "evalue": "ignored",
          "traceback": [
            "\u001b[0;31m---------------------------------------------------------------------------\u001b[0m",
            "\u001b[0;31mKeyError\u001b[0m                                  Traceback (most recent call last)",
            "\u001b[0;32m<ipython-input-59-8300010def4c>\u001b[0m in \u001b[0;36m<module>\u001b[0;34m()\u001b[0m\n\u001b[1;32m      1\u001b[0m \u001b[0mdna\u001b[0m \u001b[0;34m=\u001b[0m \u001b[0;34m{\u001b[0m\u001b[0;34m\"A\"\u001b[0m\u001b[0;34m:\u001b[0m \u001b[0;34m\"Adenine\"\u001b[0m\u001b[0;34m,\u001b[0m \u001b[0;34m\"C\"\u001b[0m\u001b[0;34m:\u001b[0m \u001b[0;34m\"Cytosine\"\u001b[0m\u001b[0;34m,\u001b[0m \u001b[0;34m\"G\"\u001b[0m\u001b[0;34m:\u001b[0m \u001b[0;34m\"Guanine\"\u001b[0m\u001b[0;34m,\u001b[0m \u001b[0;34m\"T\"\u001b[0m\u001b[0;34m:\u001b[0m \u001b[0;34m\"Thymine\"\u001b[0m\u001b[0;34m}\u001b[0m\u001b[0;34m\u001b[0m\u001b[0;34m\u001b[0m\u001b[0m\n\u001b[0;32m----> 2\u001b[0;31m \u001b[0mprint\u001b[0m\u001b[0;34m(\u001b[0m\u001b[0;34m\"What about N?\"\u001b[0m\u001b[0;34m,\u001b[0m \u001b[0mdna\u001b[0m\u001b[0;34m[\u001b[0m\u001b[0;34m\"N\"\u001b[0m\u001b[0;34m]\u001b[0m\u001b[0;34m)\u001b[0m\u001b[0;34m\u001b[0m\u001b[0;34m\u001b[0m\u001b[0m\n\u001b[0m",
            "\u001b[0;31mKeyError\u001b[0m: 'N'"
          ]
        }
      ]
    },
    {
      "metadata": {
        "id": "xE8ochkb24eP",
        "colab_type": "text"
      },
      "cell_type": "markdown",
      "source": [
        "You can access values safely with the <tt>get</tt> method, which gives back <tt>None</tt> if the key is absent and you can also supply a default values"
      ]
    },
    {
      "metadata": {
        "id": "NSAQ4JNm24eP",
        "colab_type": "code",
        "outputId": "ac28d60a-70b9-499e-833f-87d51f0dfc1b",
        "colab": {
          "base_uri": "https://localhost:8080/",
          "height": 51
        }
      },
      "cell_type": "code",
      "source": [
        "dna = {\"A\": \"Adenine\", \"C\": \"Cytosine\", \"G\": \"Guanine\", \"T\": \"Thymine\"}\n",
        "print(\"What about N?\", dna.get(\"N\"))\n",
        "print(\"With a default value:\", dna.get(\"N\", \"unknown\"))"
      ],
      "execution_count": 0,
      "outputs": [
        {
          "output_type": "stream",
          "text": [
            "What about N? None\n",
            "With a default value: unknown\n"
          ],
          "name": "stdout"
        }
      ]
    },
    {
      "metadata": {
        "id": "AE9CwLfc24eQ",
        "colab_type": "text"
      },
      "cell_type": "markdown",
      "source": [
        "You can check if a key is in a dictionary with the <tt>in</tt> operator, and you can negate this with <tt>not</tt>"
      ]
    },
    {
      "metadata": {
        "id": "gEHibg_E24eS",
        "colab_type": "code",
        "outputId": "a65a3d14-0683-4b54-8f37-88e02f902535",
        "colab": {
          "base_uri": "https://localhost:8080/",
          "height": 34
        }
      },
      "cell_type": "code",
      "source": [
        "dna = {\"A\": \"Adenine\", \"C\": \"Cytosine\", \"G\": \"Guanine\", \"T\": \"Thymine\"}\n",
        "\"T\" in dna"
      ],
      "execution_count": 0,
      "outputs": [
        {
          "output_type": "execute_result",
          "data": {
            "text/plain": [
              "True"
            ]
          },
          "metadata": {
            "tags": []
          },
          "execution_count": 61
        }
      ]
    },
    {
      "metadata": {
        "id": "pQTb6FAz24eT",
        "colab_type": "code",
        "outputId": "dd5f88bd-a5a0-4d45-bd60-868582832b04",
        "colab": {
          "base_uri": "https://localhost:8080/",
          "height": 34
        }
      },
      "cell_type": "code",
      "source": [
        "dna = {\"A\": \"Adenine\", \"C\": \"Cytosine\", \"G\": \"Guanine\", \"T\": \"Thymine\"}\n",
        "\"Y\" not in dna"
      ],
      "execution_count": 0,
      "outputs": [
        {
          "output_type": "execute_result",
          "data": {
            "text/plain": [
              "True"
            ]
          },
          "metadata": {
            "tags": []
          },
          "execution_count": 62
        }
      ]
    },
    {
      "metadata": {
        "id": "Gqqq2-A024eU",
        "colab_type": "text"
      },
      "cell_type": "markdown",
      "source": [
        "The <tt>len()</tt> function gives back the number of (key, value) pairs in the dictionary:"
      ]
    },
    {
      "metadata": {
        "id": "03IJZMWy24eU",
        "colab_type": "code",
        "outputId": "9b2d72f1-8587-4bbe-eb33-bae27acedd60",
        "colab": {
          "base_uri": "https://localhost:8080/",
          "height": 34
        }
      },
      "cell_type": "code",
      "source": [
        "dna = {\"A\": \"Adenine\", \"C\": \"Cytosine\", \"G\": \"Guanine\", \"T\": \"Thymine\"}\n",
        "print(len(dna))"
      ],
      "execution_count": 0,
      "outputs": [
        {
          "output_type": "stream",
          "text": [
            "4\n"
          ],
          "name": "stdout"
        }
      ]
    },
    {
      "metadata": {
        "id": "pbzGuhMH24eW",
        "colab_type": "text"
      },
      "cell_type": "markdown",
      "source": [
        "You can introduce new entries in the dictionary by assigning a value with a new key:"
      ]
    },
    {
      "metadata": {
        "id": "QYIHsQuq24eW",
        "colab_type": "code",
        "outputId": "9e31493d-b860-4698-a1c1-64c7d64070e5",
        "colab": {
          "base_uri": "https://localhost:8080/",
          "height": 34
        }
      },
      "cell_type": "code",
      "source": [
        "dna = {\"A\": \"Adenine\", \"C\": \"Cytosine\", \"G\": \"Guanine\", \"T\": \"Thymine\"}\n",
        "dna['Y'] = 'Pyrimidine'\n",
        "print(dna)"
      ],
      "execution_count": 0,
      "outputs": [
        {
          "output_type": "stream",
          "text": [
            "{'A': 'Adenine', 'C': 'Cytosine', 'G': 'Guanine', 'T': 'Thymine', 'Y': 'Pyrimidine'}\n"
          ],
          "name": "stdout"
        }
      ]
    },
    {
      "metadata": {
        "id": "KveQlCBp24eZ",
        "colab_type": "text"
      },
      "cell_type": "markdown",
      "source": [
        "You can change the value for an existing key by reassigning it:"
      ]
    },
    {
      "metadata": {
        "id": "1lMjMVkf24eZ",
        "colab_type": "code",
        "outputId": "e92a149a-6302-4977-9e66-7703946a02b2",
        "colab": {
          "base_uri": "https://localhost:8080/",
          "height": 34
        }
      },
      "cell_type": "code",
      "source": [
        "dna = {'A': 'Adenine', 'C': 'Cytosine', 'T': 'Thymine', 'G': 'Guanine', 'Y': 'Pyrimidine'}\n",
        "dna['Y'] = 'Cytosine or Thymine'\n",
        "print(dna)"
      ],
      "execution_count": 0,
      "outputs": [
        {
          "output_type": "stream",
          "text": [
            "{'A': 'Adenine', 'C': 'Cytosine', 'T': 'Thymine', 'G': 'Guanine', 'Y': 'Cytosine or Thymine'}\n"
          ],
          "name": "stdout"
        }
      ]
    },
    {
      "metadata": {
        "id": "8X-qZErD24ea",
        "colab_type": "text"
      },
      "cell_type": "markdown",
      "source": [
        "You can delete entries from the dictionary:"
      ]
    },
    {
      "metadata": {
        "id": "bC6zatWY24ec",
        "colab_type": "code",
        "outputId": "e3de9ceb-0a4a-4c03-cf9f-7cddf0e79f0d",
        "colab": {
          "base_uri": "https://localhost:8080/",
          "height": 34
        }
      },
      "cell_type": "code",
      "source": [
        "dna = {'A': 'Adenine', 'C': 'Cytosine', 'T': 'Thymine', 'G': 'Guanine', 'Y': 'Pyrimidine'}\n",
        "del dna['Y']\n",
        "print(dna)"
      ],
      "execution_count": 0,
      "outputs": [
        {
          "output_type": "stream",
          "text": [
            "{'A': 'Adenine', 'C': 'Cytosine', 'T': 'Thymine', 'G': 'Guanine'}\n"
          ],
          "name": "stdout"
        }
      ]
    },
    {
      "metadata": {
        "id": "-gA_-LPR24ee",
        "colab_type": "text"
      },
      "cell_type": "markdown",
      "source": [
        "You can get a list of all the keys (in arbitrary order) using the inbuilt <tt>.keys()</tt> function"
      ]
    },
    {
      "metadata": {
        "id": "AGNkIEvS24ee",
        "colab_type": "code",
        "outputId": "08792282-2cf8-4b6a-b78b-004576e1cc24",
        "colab": {
          "base_uri": "https://localhost:8080/",
          "height": 34
        }
      },
      "cell_type": "code",
      "source": [
        "dna = {'A': 'Adenine', 'C': 'Cytosine', 'T': 'Thymine', 'G': 'Guanine', 'Y': 'Pyrimidine'}\n",
        "print(list(dna.keys()))"
      ],
      "execution_count": 0,
      "outputs": [
        {
          "output_type": "stream",
          "text": [
            "['A', 'C', 'T', 'G', 'Y']\n"
          ],
          "name": "stdout"
        }
      ]
    },
    {
      "metadata": {
        "id": "tsuk1i3P24ef",
        "colab_type": "text"
      },
      "cell_type": "markdown",
      "source": [
        "And equivalently get a list of the values:"
      ]
    },
    {
      "metadata": {
        "id": "umqRSWt624ef",
        "colab_type": "code",
        "outputId": "23ef0d99-01da-4345-a181-486aa6f1ef52",
        "colab": {
          "base_uri": "https://localhost:8080/",
          "height": 34
        }
      },
      "cell_type": "code",
      "source": [
        "dna = {'A': 'Adenine', 'C': 'Cytosine', 'T': 'Thymine', 'G': 'Guanine', 'Y': 'Pyrimidine'}\n",
        "print(list(dna.values()))"
      ],
      "execution_count": 0,
      "outputs": [
        {
          "output_type": "stream",
          "text": [
            "['Adenine', 'Cytosine', 'Thymine', 'Guanine', 'Pyrimidine']\n"
          ],
          "name": "stdout"
        }
      ]
    },
    {
      "metadata": {
        "id": "fpuZWC2L24eh",
        "colab_type": "text"
      },
      "cell_type": "markdown",
      "source": [
        "And a list of tuples containing (key, value) pairs:"
      ]
    },
    {
      "metadata": {
        "id": "_Pcvs3LN24ei",
        "colab_type": "code",
        "outputId": "a2e462ae-7f8d-4b3d-d693-0ebfce0ed7d8",
        "colab": {
          "base_uri": "https://localhost:8080/",
          "height": 34
        }
      },
      "cell_type": "code",
      "source": [
        "dna = {'A': 'Adenine', 'C': 'Cytosine', 'T': 'Thymine', 'G': 'Guanine', 'Y': 'Pyrimidine'}\n",
        "print(list(dna.items()))"
      ],
      "execution_count": 0,
      "outputs": [
        {
          "output_type": "stream",
          "text": [
            "[('A', 'Adenine'), ('C', 'Cytosine'), ('T', 'Thymine'), ('G', 'Guanine'), ('Y', 'Pyrimidine')]\n"
          ],
          "name": "stdout"
        }
      ]
    },
    {
      "metadata": {
        "id": "IxAjoiZM24ej",
        "colab_type": "text"
      },
      "cell_type": "markdown",
      "source": [
        "## Exercises 1.4.2\n",
        "\n",
        "1. Print out the names of the amino acids that would be produced by the DNA sequence \"GTT GCA CCA CAA CCG\" ([See the DNA codon table](https://en.wikipedia.org/wiki/DNA_codon_table)). Split this string into the individual codons and then use a dictionary to map between codon sequences and the amino acids they encode.\n",
        "2. Print each codon and its corresponding amino acid.\n",
        "3. Why couldn't we build a dictionary where the keys are names of amino acids and the values are the DNA codons?\n",
        "\n",
        "### Advanced exercise 1.4.3\n",
        "\n",
        "- Starting with an empty dictionary, count the abundance of different residue types present in the 1-letter lysozyme protein sequence (http://www.uniprot.org/uniprot/B2R4C5.fasta) and print the results to the screen in alphabetical key order."
      ]
    },
    {
      "metadata": {
        "id": "nX0Lsxul24ej",
        "colab_type": "code",
        "colab": {}
      },
      "cell_type": "code",
      "source": [
        ""
      ],
      "execution_count": 0,
      "outputs": []
    }
  ]
}