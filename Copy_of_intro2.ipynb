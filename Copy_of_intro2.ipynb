{
  "nbformat": 4,
  "nbformat_minor": 0,
  "metadata": {
    "colab": {
      "name": "Copy of intro2.ipynb",
      "version": "0.3.2",
      "provenance": [],
      "include_colab_link": true
    },
    "kernelspec": {
      "display_name": "Python 3",
      "language": "python",
      "name": "python3"
    }
  },
  "cells": [
    {
      "cell_type": "markdown",
      "metadata": {
        "id": "view-in-github",
        "colab_type": "text"
      },
      "source": [
        "<a href=\"https://colab.research.google.com/github/wangjuan001/sandbox2019/blob/master/Copy_of_intro2.ipynb\" target=\"_parent\"><img src=\"https://colab.research.google.com/assets/colab-badge.svg\" alt=\"Open In Colab\"/></a>"
      ]
    },
    {
      "metadata": {
        "id": "UNu-NlcgLkie",
        "colab_type": "text"
      },
      "cell_type": "markdown",
      "source": [
        "# An introduction to solving biological problems with Python: 2"
      ]
    },
    {
      "metadata": {
        "id": "bQqzXU6TLkil",
        "colab_type": "text"
      },
      "cell_type": "markdown",
      "source": [
        "## Learning objectives\n",
        "\n",
        "- **Recall** what we've learned so far on variables, common data types and collections\n",
        "- **Propose and create** solutions using these concepts in an exercise\n",
        "- **Use** conditions to execute specific code block\n",
        "- **Employ** loops to repeat code block\n",
        "- **Practice** reading and writing files with Python\n",
        "- **Solve** more complex exercises"
      ]
    },
    {
      "metadata": {
        "id": "ZTRzrzDuLkio",
        "colab_type": "text"
      },
      "cell_type": "markdown",
      "source": [
        "# Recap\n",
        "\n",
        "- Simple data types, Collections\n",
        "- Functions used so far..."
      ]
    },
    {
      "metadata": {
        "id": "m4tXdWKvLkiq",
        "colab_type": "text"
      },
      "cell_type": "markdown",
      "source": [
        "## Simple data types"
      ]
    },
    {
      "metadata": {
        "id": "yMB1umFCLkis",
        "colab_type": "code",
        "outputId": "c291c8a5-0ae1-4e1a-d616-5f3e18ea1d6f",
        "colab": {
          "base_uri": "https://localhost:8080/",
          "height": 68
        }
      },
      "cell_type": "code",
      "source": [
        "## Integer\n",
        "i = 1\n",
        "print('Integer:', i)\n",
        "## Float\n",
        "x = 3.14\n",
        "print('Float', x)\n",
        "## Boolean\n",
        "print(True)"
      ],
      "execution_count": 0,
      "outputs": [
        {
          "output_type": "stream",
          "text": [
            "Integer: 1\n",
            "Float 3.14\n",
            "True\n"
          ],
          "name": "stdout"
        }
      ]
    },
    {
      "metadata": {
        "id": "Tji41me3Lkiz",
        "colab_type": "code",
        "outputId": "6bfa52a9-5d7c-49a0-9a5a-094e40420946",
        "colab": {
          "base_uri": "https://localhost:8080/",
          "height": 51
        }
      },
      "cell_type": "code",
      "source": [
        "## String\n",
        "s0 = '' # empty string\n",
        "s1 = 'ATGTCGTCTACAACACT' # single quotes\n",
        "s2 = \"spam's\" # double quotes\n",
        "print(s1 + s2) # concatenate\n",
        "print(s1, s2) # print"
      ],
      "execution_count": 0,
      "outputs": [
        {
          "output_type": "stream",
          "text": [
            "ATGTCGTCTACAACACTspam's\n",
            "ATGTCGTCTACAACACT spam's\n"
          ],
          "name": "stdout"
        }
      ]
    },
    {
      "metadata": {
        "id": "skbfpTnxLki6",
        "colab_type": "text"
      },
      "cell_type": "markdown",
      "source": [
        "## Collections"
      ]
    },
    {
      "metadata": {
        "id": "OLFUCXAHLki8",
        "colab_type": "code",
        "outputId": "74a4cc94-237d-441e-ddd2-6f65efce9758",
        "colab": {
          "base_uri": "https://localhost:8080/",
          "height": 51
        }
      },
      "cell_type": "code",
      "source": [
        "## Tuple - immutable\n",
        "my_tuple = (2, 3, 4, 5)\n",
        "print('A tuple:', my_tuple)\n",
        "print('First element of tuple:', my_tuple[0])"
      ],
      "execution_count": 0,
      "outputs": [
        {
          "output_type": "stream",
          "text": [
            "A tuple: (2, 3, 4, 5)\n",
            "First element of tuple: 2\n"
          ],
          "name": "stdout"
        }
      ]
    },
    {
      "metadata": {
        "id": "t6ALfelrLkjC",
        "colab_type": "code",
        "colab": {}
      },
      "cell_type": "code",
      "source": [
        "## List\n",
        "my_list = [2, 3, 4, 5]\n",
        "print('A list:', my_list)\n",
        "print('First element of list:', my_list[0])\n",
        "my_list.append(12)\n",
        "print('Appended list:', my_list)\n",
        "my_list[0] = 45\n",
        "print('Modified list:', my_list)"
      ],
      "execution_count": 0,
      "outputs": []
    },
    {
      "metadata": {
        "id": "ZtR4KXkSLkjJ",
        "colab_type": "code",
        "outputId": "3a04bfa3-4dbd-487a-8f26-f55fa7552209",
        "colab": {
          "base_uri": "https://localhost:8080/",
          "height": 85
        }
      },
      "cell_type": "code",
      "source": [
        "## String - immutable, tuple of characters\n",
        "text = \"ATGTCATTT\"\n",
        "print('Here is a string:', text)\n",
        "print('First character:', text[0])\n",
        "print('Slice text[1:3]:', text[1:3])\n",
        "print('Number of characters in text', len(text))"
      ],
      "execution_count": 0,
      "outputs": [
        {
          "output_type": "stream",
          "text": [
            "Here is a string: ATGTCATTT\n",
            "First character: A\n",
            "Slice text[1:3]: TG\n",
            "Number of characters in text 9\n"
          ],
          "name": "stdout"
        }
      ]
    },
    {
      "metadata": {
        "id": "ntI5FxLALkjQ",
        "colab_type": "code",
        "outputId": "8752ba17-4e88-43a4-840b-4a83e34bb7b0",
        "colab": {
          "base_uri": "https://localhost:8080/",
          "height": 34
        }
      },
      "cell_type": "code",
      "source": [
        "## Set - unique unordered elements\n",
        "my_set = set([1,2,2,2,2,4,5,6,6,6])\n",
        "print('A set:', my_set)"
      ],
      "execution_count": 0,
      "outputs": [
        {
          "output_type": "stream",
          "text": [
            "A set: {1, 2, 4, 5, 6}\n"
          ],
          "name": "stdout"
        }
      ]
    },
    {
      "metadata": {
        "id": "ljssK_ngLkjX",
        "colab_type": "code",
        "outputId": "44465634-38dd-4eb4-b1bb-0b1f746f5b5b",
        "colab": {
          "base_uri": "https://localhost:8080/",
          "height": 51
        }
      },
      "cell_type": "code",
      "source": [
        "## Dictionary\n",
        "my_dictionary = {\"A\": \"Adenine\", \n",
        "                 \"C\": \"Cytosine\", \n",
        "                 \"G\": \"Guanine\", \n",
        "                 \"T\": \"Thymine\"}\n",
        "print('A dictionary:', my_dictionary)\n",
        "print('Value associated to key C:', my_dictionary['C'])"
      ],
      "execution_count": 0,
      "outputs": [
        {
          "output_type": "stream",
          "text": [
            "A dictionary: {'A': 'Adenine', 'C': 'Cytosine', 'G': 'Guanine', 'T': 'Thymine'}\n",
            "Value associated to key C: Cytosine\n"
          ],
          "name": "stdout"
        }
      ]
    },
    {
      "metadata": {
        "id": "E4LPWzdHLkjd",
        "colab_type": "text"
      },
      "cell_type": "markdown",
      "source": [
        "## Functions used so far..."
      ]
    },
    {
      "metadata": {
        "id": "Pw3HU_3ULkje",
        "colab_type": "code",
        "outputId": "952aa12e-8e8b-4466-8ebb-c16520e2b3b6",
        "colab": {
          "base_uri": "https://localhost:8080/",
          "height": 68
        }
      },
      "cell_type": "code",
      "source": [
        "my_list = ['A', 'C', 'A', 'T', 'G']\n",
        "print('There are', len(my_list), 'elements in the list', my_list)\n",
        "print('There are', my_list.count('A'), 'letter A in the list', my_list)\n",
        "print(\"ATG TCA CCG GGC\".split())"
      ],
      "execution_count": 0,
      "outputs": [
        {
          "output_type": "stream",
          "text": [
            "There are 5 elements in the list ['A', 'C', 'A', 'T', 'G']\n",
            "There are 2 letter A in the list ['A', 'C', 'A', 'T', 'G']\n",
            "['ATG', 'TCA', 'CCG', 'GGC']\n"
          ],
          "name": "stdout"
        }
      ]
    },
    {
      "metadata": {
        "collapsed": true,
        "id": "VF1UAo_BLkjj",
        "colab_type": "text"
      },
      "cell_type": "markdown",
      "source": [
        "# Part 2.1: Conditional execution\n",
        "\n",
        "-----\n",
        "\n",
        " - Code blocks\n",
        " - Conditional execution\n"
      ]
    },
    {
      "metadata": {
        "id": "cQTPGdR8Lkjj",
        "colab_type": "text"
      },
      "cell_type": "markdown",
      "source": [
        "## Program control and logic"
      ]
    },
    {
      "metadata": {
        "id": "LV6iPkZULkjl",
        "colab_type": "text"
      },
      "cell_type": "markdown",
      "source": [
        "A program will normally run by executing the stated commands, one after the other in sequential order. Frequently however, you will need the program to deviate from this. There are several ways of diverting from the line-by-line paradigm:\n",
        "\n",
        "- With conditional statements. Here you can check if some statement or expression is true, and if it is then you continue on with the following block of code, otherwise you might skip it or execute a different bit of code.\n",
        "\n",
        "- By performing repetitive loops through the same block of code, where each time through the loop different values may be used for the variables.\n",
        "\n",
        "- Through the use of functions (subroutines) where the program’s execution jumps from a particular line of code to an entirely different spot, even in a different file or module, to do a task before (usually) jumping back again. Functions are covered in the next session, so we will not discuss them yet.\n",
        "\n",
        "- By checking if an error or exception occurs, i.e. something illegal has happened, and executing different blocks of code accordingly"
      ]
    },
    {
      "metadata": {
        "id": "mGSSp-DmLkjn",
        "colab_type": "text"
      },
      "cell_type": "markdown",
      "source": [
        "## Code blocks"
      ]
    },
    {
      "metadata": {
        "id": "nXRq04H8Lkjo",
        "colab_type": "text"
      },
      "cell_type": "markdown",
      "source": [
        "With all of the means by which Python code execution can jump about we naturally need to be aware of the boundaries of the block of code we jump into, so that it is clear at what point the job is done, and program execution can jump back again. In essence it is required that the end of a function, loop or conditional statement be defined, so that we know the bounds of their respective code blocks."
      ]
    },
    {
      "metadata": {
        "id": "5iGjYaLGLkjq",
        "colab_type": "text"
      },
      "cell_type": "markdown",
      "source": [
        "Python uses indentation to show which statements are in a block of code, other languages use specific `begin` and `end` statements or curly braces `{}`. It doesn't matter how much indentation you use, but the whole block must be consistent, i.e., if the first statement is indented by four spaces, the rest of the block must be indented by the same amount. The Python style guide recommends using 4-space indentation. Use spaces, rather than tabs, since different editors display tab characters with different widths.\n",
        "\n",
        "The use of indentation to delineate code blocks is illustrated in an abstract manner in the following scheme: \n",
        "\n",
        "Statement 1:\n",
        "\n",
        "    Command A – in the block of statement 1\n",
        "    Command B – in the block of statement 1\n",
        "  \n",
        "    Statement 2:\n",
        "        Command C – in the block of statement 2\n",
        "        Command D – in the block of statement 2\n",
        "  \n",
        "    Command E – back in the block of statement 1\n",
        "\n",
        "Command F – outside all statement blocks\n"
      ]
    },
    {
      "metadata": {
        "id": "hxg93prxLkjr",
        "colab_type": "text"
      },
      "cell_type": "markdown",
      "source": [
        "## Conditional execution"
      ]
    },
    {
      "metadata": {
        "id": "Uguwuu88Lkjr",
        "colab_type": "text"
      },
      "cell_type": "markdown",
      "source": [
        "### The <tt>if</tt> statement"
      ]
    },
    {
      "metadata": {
        "id": "NIfiUq1BLkjt",
        "colab_type": "text"
      },
      "cell_type": "markdown",
      "source": [
        "A conditional <tt>if</tt> statement is used to specify that some block of code should only be executed if some associated test is upheld; a conditional expression evaluates to <tt>True</tt>. This might also involve subsidiary checks using the <tt>elif</tt> statement to use an alternative block if the previous expression turns out to be False. There can even be a final <tt>else</tt> statement to do something if none of the checks are passed. \n",
        "\n",
        "The following uses statements that test whether a number is less than zero, greater than zero or otherwise equal to zero and will print out a different message in each case:"
      ]
    },
    {
      "metadata": {
        "id": "OU_cuDYXLkjv",
        "colab_type": "code",
        "colab": {}
      },
      "cell_type": "code",
      "source": [
        "x = -3\n",
        "\n",
        "if x > 0:\n",
        "  print(\"Value is positive\")\n",
        "\n",
        "elif x < 0:\n",
        "  print(\"Value is negative\")\n",
        "\n",
        "else:\n",
        "  print(\"Value is zero\")"
      ],
      "execution_count": 0,
      "outputs": []
    },
    {
      "metadata": {
        "id": "IV4DtoC4Lkjy",
        "colab_type": "text"
      },
      "cell_type": "markdown",
      "source": [
        "The general form of writing out such combined conditional statements is as follows:"
      ]
    },
    {
      "metadata": {
        "id": "NgFwTSMNLkj0",
        "colab_type": "text"
      },
      "cell_type": "markdown",
      "source": [
        "<pre>\n",
        "if conditionalExpression1:\n",
        "    # codeBlock1\n",
        "\n",
        "elif conditionalExpression2:\n",
        "    # codeBlock2\n",
        "\n",
        "elif conditionalExpressionN:\n",
        "    # codeBlockN\n",
        "    +any number of additional elif statements, then finally:\n",
        "\n",
        "else:\n",
        "    # codeBlockE\n",
        "</pre>"
      ]
    },
    {
      "metadata": {
        "id": "md3PdsafLkj3",
        "colab_type": "text"
      },
      "cell_type": "markdown",
      "source": [
        "\n",
        "The <tt>elif</tt> block is optional, and we can use as many as we like. The <tt>else</tt> block is also optional, so will only have the <tt>if</tt> statement, which is a fairly common situation. It is often good practice to include <tt>else</tt> where possible though, so that you always catch cases that do not pass, otherwise values might go unnoticed, which might not be the desired behaviour."
      ]
    },
    {
      "metadata": {
        "id": "srF8rqkvLkj5",
        "colab_type": "text"
      },
      "cell_type": "markdown",
      "source": [
        "Placeholders are needed for “empty” code blocks:"
      ]
    },
    {
      "metadata": {
        "id": "SAaPTAh_Lkj7",
        "colab_type": "code",
        "colab": {}
      },
      "cell_type": "code",
      "source": [
        "gene = \"BRCA2\"\n",
        "geneExpression = -1.2\n",
        "\n",
        "if geneExpression < 0:\n",
        "    print(gene, \"is downregulated\")\n",
        "        \n",
        "elif geneExpression > 0:\n",
        "    print(gene, \"is upregulated\")\n",
        "        \n",
        "else:\n",
        "    pass"
      ],
      "execution_count": 0,
      "outputs": []
    },
    {
      "metadata": {
        "id": "UZ2OlzdzLkj_",
        "colab_type": "text"
      },
      "cell_type": "markdown",
      "source": [
        "For very simple conditional checks, you can write the `if` statement on a single line as a single expression, and the result will be the expression before the `if` if the condition is true or the expression after the `else` otherwise.\n",
        "\n"
      ]
    },
    {
      "metadata": {
        "id": "4vbWCgcHLkj_",
        "colab_type": "code",
        "colab": {}
      },
      "cell_type": "code",
      "source": [
        "x = 11\n",
        "\n",
        "if x < 10:\n",
        "    s = \"Yes\"\n",
        "else:\n",
        "    s = \"No\"\n",
        "print(s)\n",
        "\n",
        "# Could also be written onto one line\n",
        "s = \"Yes\" if x < 10 else \"No\"\n",
        "print(s)"
      ],
      "execution_count": 0,
      "outputs": []
    },
    {
      "metadata": {
        "id": "t_vYs7iaLkkE",
        "colab_type": "text"
      },
      "cell_type": "markdown",
      "source": [
        "### Comparisons and truth"
      ]
    },
    {
      "metadata": {
        "id": "gCXMFUrHLkkH",
        "colab_type": "text"
      },
      "cell_type": "markdown",
      "source": [
        "With conditional execution the question naturally arises as to which expressions are deemed to be true and which false. For the python boolean values <tt>True</tt> and <tt>False</tt> the answer is (hopefully) obvious. Also, the logical states of truth and falsehood that result from conditional checks like “Is x greater than 5?” or “Is y in this list?” are also clear. When comparing values Python has the standard comparison (or relational) operators, some of which we have already seen:\n",
        "\n",
        "|Operator |\tDescription |\tExample |\n",
        "|---------|-------------|-----------|\n",
        "|`==`  |\t    equality |\t1 == 2 # False |\n",
        "|`!=`  |\t    non equality |\t1 != 2 # True |\n",
        "| `<`  |\t    less than |\t1 < 2 # True |\n",
        "| `<=` |\t    equal or less than |\t2 <= 2 # True |\n",
        "| `>`  |\t    greater then |\t1 > 2 # False |\n",
        "| `>=` |\t    equal or greater than |\t1 >= 1 # True |\n",
        "\n",
        "It is notable that comparison operations can be combined, for example to check if a value is within a range."
      ]
    },
    {
      "metadata": {
        "id": "xHoxQtZvLkkI",
        "colab_type": "code",
        "colab": {}
      },
      "cell_type": "code",
      "source": [
        "x = -5\n",
        "\n",
        "if x > 0 and x < 10:\n",
        "    print(\"In range A\")\n",
        "    \n",
        "elif x < 0 or x > 10:\n",
        "    print(\"In range B\")"
      ],
      "execution_count": 0,
      "outputs": []
    },
    {
      "metadata": {
        "id": "QXyrFc39LkkQ",
        "colab_type": "text"
      },
      "cell_type": "markdown",
      "source": [
        "Python has two additional comparison operators <tt>is</tt> and <tt>is not</tt>.\n",
        "\n",
        "These compare whether two objects are the same object, whereas <tt>==</tt> and <tt>!=</tt> compare whether values are the same.\n",
        "\n",
        "There is a simple rule of thumb to tell when to use `==` or `is`:\n",
        "- `==` is for **value** equality. Use it to check if two objects have the same value.\n",
        "- `is` is for **reference** equality. Use it to check if two references refer to the same object.\n",
        "\n",
        "*Something to note*, you will get unexpected and inconsistent results if you mistakenly use `is` to compare for reference equality on integers:"
      ]
    },
    {
      "metadata": {
        "id": "RKVEPt1QLkkS",
        "colab_type": "code",
        "colab": {}
      },
      "cell_type": "code",
      "source": [
        "a = 500\n",
        "b = 500\n",
        "print(a == b) # True\n",
        "print(a is b) # False"
      ],
      "execution_count": 0,
      "outputs": []
    },
    {
      "metadata": {
        "id": "Di7_8Y-vLkkX",
        "colab_type": "text"
      },
      "cell_type": "markdown",
      "source": [
        "Another example with lists `x`, `y`, and `z`:\n",
        "- `y` being a copy of `x`\n",
        "- and `z` being another reference to the same object as `x`"
      ]
    },
    {
      "metadata": {
        "id": "_QsFqLIiLkkZ",
        "colab_type": "code",
        "colab": {}
      },
      "cell_type": "code",
      "source": [
        "x = [123, 54, 92, 87, 33]\n",
        "y = x[:] # y is a copy of x\n",
        "z = x\n",
        "print(x)\n",
        "print(y)\n",
        "print(z)\n",
        "print(\"Are values of y and x the same?\", y == x)\n",
        "print(\"Are objects y and x the same?\", y is x)\n",
        "print(\"Are values of z and x the same?\", z == x)\n",
        "print(\"Are objects z and x the same?\", z is x)"
      ],
      "execution_count": 0,
      "outputs": []
    },
    {
      "metadata": {
        "id": "r7ii601ALkkd",
        "colab_type": "code",
        "colab": {}
      },
      "cell_type": "code",
      "source": [
        "# Let's change x\n",
        "x[1] = 23\n",
        "print(x)\n",
        "print(y)\n",
        "print(z)\n",
        "print(\"Are values of y and x the same?\", y == x)\n",
        "print(\"Are objects y and x the same?\", y is x)\n",
        "print(\"Are values of z and x the same?\", z == x)\n",
        "print(\"Are objects z and x the same?\", z is x)"
      ],
      "execution_count": 0,
      "outputs": []
    },
    {
      "metadata": {
        "id": "37GnVaiVLkkk",
        "colab_type": "text"
      },
      "cell_type": "markdown",
      "source": [
        "In Python even expressions that do not involve an obvious boolean value can be assigned a status of \"truthfulness\";  the value of an item itself can be forced to be considered as either True or False inside an if statement. For the Python built-in types discussed in this chapter the following are deemed to be False in such a context:\n",
        "\n",
        "| False value | Description | \n",
        "|-------------|-------------|\n",
        "| `None` |\tnumeric equality |\n",
        "| `False` |\tFalse boolean |\n",
        "| `0`\t| 0 integer |\n",
        "| `0.0` |\t0.0 floating point |\n",
        "| `\"\"` |\tempty string |\n",
        "| `()` |\tempty tuple |\n",
        "| `[]` |\tempty list |\n",
        "| `{}` |\tempty dictonary |\n",
        "| `set()` |\tempty set |\n",
        "\n",
        "And everything else is deemed to be True in a conditional context."
      ]
    },
    {
      "metadata": {
        "id": "JMzXn_WgLkkm",
        "colab_type": "code",
        "colab": {}
      },
      "cell_type": "code",
      "source": [
        "x = ''      # An empty string\n",
        "y = ['a']   # A list with one item\n",
        "\n",
        "if x:\n",
        "    print(\"x is true\")\n",
        "else: \n",
        "    print(\"x is false\")     \n",
        "\n",
        "if y:\n",
        "    print(\"y is true\")\n",
        "else:\n",
        "    print(\"y is false\")"
      ],
      "execution_count": 0,
      "outputs": []
    },
    {
      "metadata": {
        "id": "grFMTJaOLkks",
        "colab_type": "text"
      },
      "cell_type": "markdown",
      "source": [
        "## Exercises 2.1.1\n",
        "\n",
        "Create a `if..elif..else` block that will compare a variable containing your age to another variable containing another person's age and print a statement which says if you are younger, older or the same age as that person.\n",
        "\n",
        "## Exercises 2.1.2\n",
        "\n",
        "Use an `if` statement to check if some variable containing DNA sequence contains a stop codon. (e.g. `dna = \"ATGGCGGTCGAATAG\"`), first just check for one possible stop, but then extend your code to look for any of the 3 stop codons (`TAG`, `TAA`, `TGA`). Hint: recall that the `in` operator lets you check if a string contains some substring, and returns `True` or `False` accordingly."
      ]
    },
    {
      "metadata": {
        "collapsed": true,
        "id": "kn_JiOSiLkkt",
        "colab_type": "text"
      },
      "cell_type": "markdown",
      "source": [
        "# Part 2.2: Loops\n",
        "\n",
        "- The <tt>for</tt> loop\n",
        "- The <tt>while</tt> loop\n",
        "- Skipping and breaking loops\n",
        "- More looping using `range()` and `enumerate()`\n",
        "- Filtering in loops\n"
      ]
    },
    {
      "metadata": {
        "id": "iVDDWN5VLkku",
        "colab_type": "text"
      },
      "cell_type": "markdown",
      "source": [
        "## Loops"
      ]
    },
    {
      "metadata": {
        "id": "3Mp7-VXuLkkw",
        "colab_type": "text"
      },
      "cell_type": "markdown",
      "source": [
        "When an operation needs to be repeated multiple times, for example on all of the items in a list, we \n",
        "avoid having to type (or copy and paste) repetitive code by creating a loop. There are two ways of creating loops in Python, the <tt>for</tt> loop and the <tt>while</tt> loop."
      ]
    },
    {
      "metadata": {
        "id": "gWbSO0PKLkkx",
        "colab_type": "text"
      },
      "cell_type": "markdown",
      "source": [
        "## The <tt>for</tt> loop"
      ]
    },
    {
      "metadata": {
        "id": "o3o7wplsLkkz",
        "colab_type": "text"
      },
      "cell_type": "markdown",
      "source": [
        "The for loop in Python iterates over each item in a sequence (such as a list or tuple) in the order that they appear in the sequence. What this means is that a variable (<tt>code</tt> in the below example) is set to each item from the sequence of values in turn, and each time this happens the indented block of code is executed again."
      ]
    },
    {
      "metadata": {
        "id": "Gsci-RsuLkkz",
        "colab_type": "code",
        "colab": {}
      },
      "cell_type": "code",
      "source": [
        "codeList = ['NA06984', 'NA06985', 'NA06986', 'NA06989', 'NA06991']\n",
        "\n",
        "for code in codeList:\n",
        "    print(code)"
      ],
      "execution_count": 0,
      "outputs": []
    },
    {
      "metadata": {
        "id": "mO6QBdwDLkk2",
        "colab_type": "text"
      },
      "cell_type": "markdown",
      "source": [
        "A <tt>for</tt> loop can iterate over the individual characters in a string:"
      ]
    },
    {
      "metadata": {
        "id": "HiUj7esnLkk3",
        "colab_type": "code",
        "colab": {}
      },
      "cell_type": "code",
      "source": [
        "dnaSequence = 'ATGGTGTTGCC'\n",
        "\n",
        "for base in dnaSequence:\n",
        "    print(base)"
      ],
      "execution_count": 0,
      "outputs": []
    },
    {
      "metadata": {
        "id": "b5-vPRHLLkk7",
        "colab_type": "text"
      },
      "cell_type": "markdown",
      "source": [
        "And also over the keys of a dictionary: "
      ]
    },
    {
      "metadata": {
        "id": "K0NxLveYLkk7",
        "colab_type": "code",
        "colab": {}
      },
      "cell_type": "code",
      "source": [
        "rnaMassDict = {\"G\":345.21, \"C\":305.18, \"A\":329.21, \"U\":302.16}\n",
        "\n",
        "for x in rnaMassDict:\n",
        "    print(x, rnaMassDict[x])"
      ],
      "execution_count": 0,
      "outputs": []
    },
    {
      "metadata": {
        "id": "8JXtdc6MLkk_",
        "colab_type": "text"
      },
      "cell_type": "markdown",
      "source": [
        "Any variables that are defined before the loop can be accessed from inside the loop. So for example to calculate the summation of the items in a list of values we could define the total initially to be zero and add each value to the total in the loop:"
      ]
    },
    {
      "metadata": {
        "id": "3diUqr2mLklA",
        "colab_type": "code",
        "colab": {}
      },
      "cell_type": "code",
      "source": [
        "total = 0\n",
        "values = [1, 2, 4, 8, 16]\n",
        "\n",
        "for v in values:\n",
        "    total = total + v\n",
        "    # total += v\n",
        "    print(total)\n",
        "\n",
        "print(total)"
      ],
      "execution_count": 0,
      "outputs": []
    },
    {
      "metadata": {
        "id": "BGwyGFnBLklC",
        "colab_type": "text"
      },
      "cell_type": "markdown",
      "source": [
        "Naturally we can combine a <tt>for</tt> loop with an <tt>if</tt> statement, noting that we need two indentation levels, one for the outer loop and another for the conditional blocks:"
      ]
    },
    {
      "metadata": {
        "id": "Il7pOizBLklC",
        "colab_type": "code",
        "colab": {}
      },
      "cell_type": "code",
      "source": [
        "geneExpression = {\n",
        "    'Beta-Catenin': 2.5, \n",
        "    'Beta-Actin': 1.7, \n",
        "    'Pax6': 0, \n",
        "    'HoxA2': -3.2\n",
        "}\n",
        "\n",
        "for gene in geneExpression:\n",
        "    if geneExpression[gene] < 0:\n",
        "        print(gene, \"is downregulated\")\n",
        "        \n",
        "    elif geneExpression[gene] > 0:\n",
        "        print(gene, \"is upregulated\")\n",
        "        \n",
        "    else:\n",
        "        print(\"No change in expression of \", gene)"
      ],
      "execution_count": 0,
      "outputs": []
    },
    {
      "metadata": {
        "id": "xTu9DV23LklF",
        "colab_type": "text"
      },
      "cell_type": "markdown",
      "source": [
        "## Exercises 2.2.1\n",
        "\n",
        "1. Create a sequence where each element is an individual base of DNA. Make the sequence 15 bases long.\n",
        "2. Print the length of the sequence.\n",
        "3. Create a `for` loop to output every base of the sequence on a new line."
      ]
    },
    {
      "metadata": {
        "id": "ZriEAvXmLklF",
        "colab_type": "text"
      },
      "cell_type": "markdown",
      "source": [
        "## The <tt>while</tt> loop"
      ]
    },
    {
      "metadata": {
        "id": "dfp_-AckLklG",
        "colab_type": "text"
      },
      "cell_type": "markdown",
      "source": [
        "In addition to the <tt>for</tt> loop that operates on a collection of items, there is a <tt>while</tt> loop that simply repeats while some statement evaluates to True and stops when it is False. Note that if the tested expression never evaluates to False then you have an “infinite loop”, which is not good.\n",
        "\n",
        "In this example we generate a series of numbers by doubling a value after each iteration, until a limit is reached: "
      ]
    },
    {
      "metadata": {
        "id": "n8Rpkkn9LklH",
        "colab_type": "code",
        "colab": {}
      },
      "cell_type": "code",
      "source": [
        "value = 0.25\n",
        "while value < 8:\n",
        "    value = value * 2\n",
        "    print(value)\n",
        "\n",
        "print(\"final value:\", value)"
      ],
      "execution_count": 0,
      "outputs": []
    },
    {
      "metadata": {
        "id": "HmtDP3saLklJ",
        "colab_type": "text"
      },
      "cell_type": "markdown",
      "source": [
        "Whats going on here is that the value is doubled in each iteration and once it gets to 8 the while test fails (8 is not less than 8) and that last value is preserved. Note that if the test were instead value `<= 8` then we would get one more doubling and the value would reach 16."
      ]
    },
    {
      "metadata": {
        "id": "6IVLuxDbLklJ",
        "colab_type": "text"
      },
      "cell_type": "markdown",
      "source": [
        "## Exercises 2.2.2\n",
        "\n",
        "1. Reuse the 15 bases long sequence created at the previous exercise where each element is an individual base of DNA.\n",
        "2. Create a <tt>while</tt> loop similar to the one above that starts at the third base in the sequence and outputs every third base until the 12th."
      ]
    },
    {
      "metadata": {
        "id": "el2dAvRXLklK",
        "colab_type": "text"
      },
      "cell_type": "markdown",
      "source": [
        "## Skipping and breaking loops"
      ]
    },
    {
      "metadata": {
        "id": "qqFCAoz9LklL",
        "colab_type": "text"
      },
      "cell_type": "markdown",
      "source": [
        "Python has two ways of affecting the flow of the <tt>for</tt> or <tt>while</tt> loop inside the block. The <tt>continue</tt> statement means that the rest of the code in the block is skipped for this particular item in the collection, i.e. jump to the next iteration. In this example negative numbers are left out of a summation:"
      ]
    },
    {
      "metadata": {
        "id": "CcnAg_-tLklL",
        "colab_type": "code",
        "colab": {}
      },
      "cell_type": "code",
      "source": [
        "values = [10, -5, 3, -1, 7]\n",
        "\n",
        "total = 0\n",
        "for v in values:\n",
        "    if v < 0:\n",
        "        continue # Skip this iteration   \n",
        "    total += v\n",
        "\n",
        "print(total)"
      ],
      "execution_count": 0,
      "outputs": []
    },
    {
      "metadata": {
        "id": "2533lbybLklS",
        "colab_type": "text"
      },
      "cell_type": "markdown",
      "source": [
        "The other way of affecting a loop is with the <tt>break</tt> statement. In contrast to the <tt>continue</tt> statement, this immediately causes all looping to finish, and execution is resumed at the next statement _after_ the loop."
      ]
    },
    {
      "metadata": {
        "id": "33Rc6U5ULklS",
        "colab_type": "code",
        "colab": {}
      },
      "cell_type": "code",
      "source": [
        "geneticCode = {'TAT': 'Tyrosine',  'TAC': 'Tyrosine',\n",
        "               'CAA': 'Glutamine', 'CAG': 'Glutamine',\n",
        "               'TAG': 'STOP'}\n",
        "\n",
        "sequence = ['CAG','TAC','CAA','TAG','TAC','CAG','CAA']\n",
        "\n",
        "for codon in sequence:\n",
        "    if geneticCode[codon] == 'STOP':\n",
        "        break            # Quit looping at this point\n",
        "    else:\n",
        "        print(geneticCode[codon])"
      ],
      "execution_count": 0,
      "outputs": []
    },
    {
      "metadata": {
        "id": "og3JLkUxLklV",
        "colab_type": "text"
      },
      "cell_type": "markdown",
      "source": [
        "## Looping gotchas"
      ]
    },
    {
      "metadata": {
        "id": "baoYMZSgLklW",
        "colab_type": "text"
      },
      "cell_type": "markdown",
      "source": [
        "An internal counter is used to keep track of which item is used next, and this is incremented on each iteration. When this counter has reached the length of the sequence the loop terminates. This means that if you delete the current item from the sequence, the next item will be skipped (since it gets the index of the current item which has already been treated). Likewise, if you insert an item in a sequence before the current item, the current item will be treated again the next time through the loop. This can lead to nasty bugs that can be avoided by making a temporary copy using a slice of the whole sequence."
      ]
    },
    {
      "metadata": {
        "id": "YOD2YF47LklX",
        "colab_type": "text"
      },
      "cell_type": "markdown",
      "source": [
        "<div class=\"alert-warning\">\n",
        "**When looping, never modify the collection!** Always create a copy of it first.\n",
        "</div>"
      ]
    },
    {
      "metadata": {
        "id": "dhV_4TKDLklY",
        "colab_type": "text"
      },
      "cell_type": "markdown",
      "source": [
        "## More looping"
      ]
    },
    {
      "metadata": {
        "id": "-ukNr7l7LklY",
        "colab_type": "text"
      },
      "cell_type": "markdown",
      "source": [
        "### Using `range()`"
      ]
    },
    {
      "metadata": {
        "id": "Jcqv1fNmLklZ",
        "colab_type": "text"
      },
      "cell_type": "markdown",
      "source": [
        "If you would like to iterate over a numeric sequence then this is possible by combining the `range()` function and a for loop."
      ]
    },
    {
      "metadata": {
        "id": "tc0Cy_gGLklZ",
        "colab_type": "code",
        "outputId": "0c7c8ac9-2fdc-4abc-a048-11acd553dd29",
        "colab": {
          "base_uri": "https://localhost:8080/",
          "height": 85
        }
      },
      "cell_type": "code",
      "source": [
        "print(list(range(10)))\n",
        "\n",
        "print(list(range(5, 10)))\n",
        "\n",
        "print(list(range(0, 10, 3)))\n",
        "\n",
        "print(list(range(7, 2, -2)))"
      ],
      "execution_count": 0,
      "outputs": [
        {
          "output_type": "stream",
          "text": [
            "[0, 1, 2, 3, 4, 5, 6, 7, 8, 9]\n",
            "[5, 6, 7, 8, 9]\n",
            "[0, 3, 6, 9]\n",
            "[7, 5, 3]\n"
          ],
          "name": "stdout"
        }
      ]
    },
    {
      "metadata": {
        "id": "Qk0IqXBgLklc",
        "colab_type": "text"
      },
      "cell_type": "markdown",
      "source": [
        "Looping through ranges "
      ]
    },
    {
      "metadata": {
        "id": "76faosKsLklc",
        "colab_type": "code",
        "outputId": "cd9dea72-c33c-4025-f31a-02a813a2fa01",
        "colab": {
          "base_uri": "https://localhost:8080/",
          "height": 153
        }
      },
      "cell_type": "code",
      "source": [
        "for x in range(8):\n",
        "    print(x*x)"
      ],
      "execution_count": 0,
      "outputs": [
        {
          "output_type": "stream",
          "text": [
            "0\n",
            "1\n",
            "4\n",
            "9\n",
            "16\n",
            "25\n",
            "36\n",
            "49\n"
          ],
          "name": "stdout"
        }
      ]
    },
    {
      "metadata": {
        "id": "Lq78S1nVLklf",
        "colab_type": "code",
        "outputId": "87adaa58-4ee2-4075-fa99-4481e92b9b84",
        "colab": {
          "base_uri": "https://localhost:8080/",
          "height": 34
        }
      },
      "cell_type": "code",
      "source": [
        "squares = []\n",
        "for x in range(8):\n",
        "    s = x*x\n",
        "    squares.append(s)\n",
        "    \n",
        "print(squares)"
      ],
      "execution_count": 0,
      "outputs": [
        {
          "output_type": "stream",
          "text": [
            "[0, 1, 4, 9, 16, 25, 36, 49]\n"
          ],
          "name": "stdout"
        }
      ]
    },
    {
      "metadata": {
        "id": "oW09OhkfLklh",
        "colab_type": "text"
      },
      "cell_type": "markdown",
      "source": [
        "### Using `enumerate()`"
      ]
    },
    {
      "metadata": {
        "id": "Lq7BwLe7Lkli",
        "colab_type": "text"
      },
      "cell_type": "markdown",
      "source": [
        "Given a sequence, `enumerate()` allows you to iterate over the sequence generating a tuple containing each value along with a corresponding index."
      ]
    },
    {
      "metadata": {
        "id": "Ag53U3P_Lklj",
        "colab_type": "code",
        "outputId": "5dfd9eec-fa2d-4a96-f294-3e583df7fd4b",
        "colab": {
          "base_uri": "https://localhost:8080/",
          "height": 85
        }
      },
      "cell_type": "code",
      "source": [
        "letters = ['A','C','G','T']\n",
        "for index, letter in enumerate(letters):\n",
        "    print(index, letter)"
      ],
      "execution_count": 0,
      "outputs": [
        {
          "output_type": "stream",
          "text": [
            "0 A\n",
            "1 C\n",
            "2 G\n",
            "3 T\n"
          ],
          "name": "stdout"
        }
      ]
    },
    {
      "metadata": {
        "id": "0lb2QXurLkll",
        "colab_type": "code",
        "outputId": "3a8e9e99-64d6-4946-aa65-495a8d2fae3c",
        "colab": {
          "base_uri": "https://localhost:8080/",
          "height": 34
        }
      },
      "cell_type": "code",
      "source": [
        "numbered_letters = list(enumerate(letters))\n",
        "print(numbered_letters)"
      ],
      "execution_count": 0,
      "outputs": [
        {
          "output_type": "stream",
          "text": [
            "[(0, 'A'), (1, 'C'), (2, 'G'), (3, 'T')]\n"
          ],
          "name": "stdout"
        }
      ]
    },
    {
      "metadata": {
        "id": "E61UG48kLkln",
        "colab_type": "text"
      },
      "cell_type": "markdown",
      "source": [
        "## Filtering in loops"
      ]
    },
    {
      "metadata": {
        "id": "cpwr9xFgLklq",
        "colab_type": "code",
        "outputId": "85f1c3d9-5794-420b-e873-0a39bc7b1999",
        "colab": {
          "base_uri": "https://localhost:8080/",
          "height": 34
        }
      },
      "cell_type": "code",
      "source": [
        "city_pops = {\n",
        "    'London': 8200000,\n",
        "    'Cambridge': 130000,\n",
        "    'Edinburgh': 420000,\n",
        "    'Glasgow': 1200000\n",
        "}\n",
        "\n",
        "big_cities = []\n",
        "for city in city_pops:\n",
        "    if city_pops[city] >= 1000000:\n",
        "         big_cities.append(city)\n",
        "\n",
        "print(big_cities)"
      ],
      "execution_count": 0,
      "outputs": [
        {
          "output_type": "stream",
          "text": [
            "['London', 'Glasgow']\n"
          ],
          "name": "stdout"
        }
      ]
    },
    {
      "metadata": {
        "id": "KGuWH761Lkls",
        "colab_type": "code",
        "outputId": "76d52013-0b70-4337-a399-40dbfdbcb59c",
        "colab": {
          "base_uri": "https://localhost:8080/",
          "height": 34
        }
      },
      "cell_type": "code",
      "source": [
        "total = 0\n",
        "for city in city_pops:\n",
        "    total += city_pops[city]\n",
        "print(\"total population:\", total)"
      ],
      "execution_count": 0,
      "outputs": [
        {
          "output_type": "stream",
          "text": [
            "total population: 9950000\n"
          ],
          "name": "stdout"
        }
      ]
    },
    {
      "metadata": {
        "id": "zTxSbZ_uLklv",
        "colab_type": "code",
        "outputId": "ecff5bbd-df69-4871-b49f-0ef210598e4c",
        "colab": {
          "base_uri": "https://localhost:8080/",
          "height": 34
        }
      },
      "cell_type": "code",
      "source": [
        "pops = list(city_pops.values())\n",
        "print(\"total population:\", sum(pops))"
      ],
      "execution_count": 0,
      "outputs": [
        {
          "output_type": "stream",
          "text": [
            "total population: 9950000\n"
          ],
          "name": "stdout"
        }
      ]
    },
    {
      "metadata": {
        "id": "MJCAsyogLkly",
        "colab_type": "text"
      },
      "cell_type": "markdown",
      "source": [
        "## Formating string\n",
        "\n",
        "Constructing more complex strings from a mix of variables of different types can be cumbersome, and sometimes you want more control over how values are interpolated into a string. Python provides a powerful mechanism for formatting strings using built-in `.format()` function using \"replacement fields\" surrounded by curly braces `{}` which starts with an optional field name followed by a colon `:` and finishes with a format specification. \n",
        "\n",
        "There are lots of these specifiers, but here are 3 useful ones:\n",
        "\n",
        "    d: decimal integer\n",
        "    f: floating point number\n",
        "    s: string\n",
        "\n",
        "You can specify the number of decimal points to use in a floating point number with, e.g. `.2f` to use 2 decimal places or `+.2f` to use 2 decimal with always showing its associated sign."
      ]
    },
    {
      "metadata": {
        "id": "XHPb8psJLklz",
        "colab_type": "code",
        "outputId": "7bdb0581-d666-4469-8f88-3f1c851de452",
        "colab": {
          "base_uri": "https://localhost:8080/",
          "height": 34
        }
      },
      "cell_type": "code",
      "source": [
        "print('{:.2f}'.format(0.4567))"
      ],
      "execution_count": 0,
      "outputs": [
        {
          "output_type": "stream",
          "text": [
            "0.46\n"
          ],
          "name": "stdout"
        }
      ]
    },
    {
      "metadata": {
        "id": "JmNPzPvTLkl0",
        "colab_type": "code",
        "outputId": "38bd607c-9684-41bb-b27a-2e093b199f18",
        "colab": {
          "base_uri": "https://localhost:8080/",
          "height": 85
        }
      },
      "cell_type": "code",
      "source": [
        "geneExpression = {\n",
        "    'Beta-Catenin': 2.5, \n",
        "    'Beta-Actin': 1.7, \n",
        "    'Pax6': 0, \n",
        "    'HoxA2': -3.2\n",
        "}\n",
        "\n",
        "for gene in geneExpression:\n",
        "    print('{:s}\\t{:+.2f}'.format(gene, geneExpression[gene])) # s is optional\n",
        "    # could also be written using variable names\n",
        "    #print('{gene:s}\\t{exp:+.2f}'.format(gene=gene, exp=geneExpression[gene]))"
      ],
      "execution_count": 0,
      "outputs": [
        {
          "output_type": "stream",
          "text": [
            "Beta-Catenin\t+2.50\n",
            "Beta-Actin\t+1.70\n",
            "Pax6\t+0.00\n",
            "HoxA2\t-3.20\n"
          ],
          "name": "stdout"
        }
      ]
    },
    {
      "metadata": {
        "id": "NKGZwLCoLkl5",
        "colab_type": "text"
      },
      "cell_type": "markdown",
      "source": [
        "## Exercises 2.2.3\n",
        "\n",
        "1. Let's calculate the GC content of a DNA sequence. Use the 15-base sequence you created for the exercises above. Create a variable, `gc`, which we will use to count the number of Gs or Cs in our sequence.\n",
        "2. Output every base of the sequence alongside its index on a new line.\n",
        "3. Create a loop to iterate over the bases in your sequence. If the base is a G or the base is a C, add one to your `gc` variable.\n",
        "4. When the loop is done, divide the number of GC bases by the length of the sequence and multiply by 100 to get the GC percentage. Format the result to only display 2 decimal places."
      ]
    },
    {
      "metadata": {
        "id": "LjrkE9m9Lkl5",
        "colab_type": "text"
      },
      "cell_type": "markdown",
      "source": [
        "# Part 2.3: Data input and output (I/O)\n",
        "\n",
        "-----\n",
        "\n",
        "- Using files\n",
        "- Reading from files\n",
        "- Writing to files\n"
      ]
    },
    {
      "metadata": {
        "id": "KU4tBhyCLkl7",
        "colab_type": "text"
      },
      "cell_type": "markdown",
      "source": [
        "So far, all that data we have been working with has been written by us into our scripts, and the results of out computation has just been displayed in the terminal output. In the real world data will be supplied by the user of our programs (who may be you!) by some means, and we will often want to save the results of some analysis somewhere more permanent than just printing it to the screen. In this session we cover the way of reading data into our programs by reading files from disk, we also discuss writing out data to files. \n",
        "\n",
        "There are, of course, many other ways of accessing data, such as querying a database or retrieving data from a network such as the internet. We don't cover these here, but python has excellent support for interacting with databases and networks either in the standard library or using external modules."
      ]
    },
    {
      "metadata": {
        "id": "75OcEEJkLkl8",
        "colab_type": "text"
      },
      "cell_type": "markdown",
      "source": [
        "## Using files"
      ]
    },
    {
      "metadata": {
        "id": "iP8b__dtLkmA",
        "colab_type": "text"
      },
      "cell_type": "markdown",
      "source": [
        "Frequently the data we want to operate on or analyse will be stored in files, so in our programs we need to be able to open files, read through them (perhaps all at once, perhaps not), and then close them. \n",
        "\n",
        "We will also frequently want to be able to print output to files rather than always printing out results to the terminal.\n",
        "\n",
        "Python supports all of these modes of operations on files, and provides a number of useful functions and syntax to make dealing with files straightforward."
      ]
    },
    {
      "metadata": {
        "id": "qxl2_jwlLkmC",
        "colab_type": "text"
      },
      "cell_type": "markdown",
      "source": [
        "### Opening files"
      ]
    },
    {
      "metadata": {
        "id": "Qy2OrbfULkmD",
        "colab_type": "text"
      },
      "cell_type": "markdown",
      "source": [
        "To open a file, python provides the `open` function, which takes a filename as its first argument and returns a _file object_ which is python's internal representation of the file."
      ]
    },
    {
      "metadata": {
        "id": "WEl-l9EFLkmE",
        "colab_type": "code",
        "outputId": "35b2208e-442a-4bf2-e455-233669f1d377",
        "colab": {
          "base_uri": "https://localhost:8080/",
          "height": 204
        }
      },
      "cell_type": "code",
      "source": [
        "\n",
        "# Get file from the course's website\n",
        "\n",
        "!wget https://nekrut.github.io/BMMB554/tnseq_data_short.txt"
      ],
      "execution_count": 0,
      "outputs": [
        {
          "output_type": "stream",
          "text": [
            "--2019-01-16 20:13:25--  https://nekrut.github.io/BMMB554/tnseq_data_short.txt\n",
            "Resolving nekrut.github.io (nekrut.github.io)... 185.199.110.153, 185.199.108.153, 185.199.111.153, ...\n",
            "Connecting to nekrut.github.io (nekrut.github.io)|185.199.110.153|:443... connected.\n",
            "HTTP request sent, awaiting response... 200 OK\n",
            "Length: 5275 (5.2K) [text/plain]\n",
            "Saving to: ‘tnseq_data_short.txt.1’\n",
            "\n",
            "\rtnseq_data_short.tx   0%[                    ]       0  --.-KB/s               \rtnseq_data_short.tx 100%[===================>]   5.15K  --.-KB/s    in 0s      \n",
            "\n",
            "2019-01-16 20:13:25 (67.1 MB/s) - ‘tnseq_data_short.txt.1’ saved [5275/5275]\n",
            "\n"
          ],
          "name": "stdout"
        }
      ]
    },
    {
      "metadata": {
        "colab_type": "text",
        "id": "QpeKZ9voW1D7"
      },
      "cell_type": "markdown",
      "source": [
        ""
      ]
    },
    {
      "metadata": {
        "id": "qc94yGj5LkmH",
        "colab_type": "code",
        "colab": {}
      },
      "cell_type": "code",
      "source": [
        "# Make a copy just in case\n",
        "!cp tnseq_data_short.txt small_file.txt"
      ],
      "execution_count": 0,
      "outputs": []
    },
    {
      "metadata": {
        "id": "seT8kN1gLkmJ",
        "colab_type": "code",
        "colab": {}
      },
      "cell_type": "code",
      "source": [
        "path = \"tnseq_data_short.txt\"\n",
        "fileObj = open( path )"
      ],
      "execution_count": 0,
      "outputs": []
    },
    {
      "metadata": {
        "id": "evE0sSjrLkmM",
        "colab_type": "text"
      },
      "cell_type": "markdown",
      "source": [
        "`open` takes an optional second argument specifying the _mode_ in which the file is opened, either for reading, writing or appending.\n",
        "\n",
        "It defaults to `'r'` which means open for reading in text mode. Other common values are `'w'` for writing (truncating the file if it already exists) and `'a'` for appending."
      ]
    },
    {
      "metadata": {
        "id": "bSt7dYjoLkmM",
        "colab_type": "code",
        "outputId": "b4824298-9bff-441c-820c-2992aa6756ee",
        "colab": {
          "base_uri": "https://localhost:8080/",
          "height": 34
        }
      },
      "cell_type": "code",
      "source": [
        "open( \"tnseq_data_short.txt\", \"r\" ) # open for reading, default"
      ],
      "execution_count": 0,
      "outputs": [
        {
          "output_type": "execute_result",
          "data": {
            "text/plain": [
              "<_io.TextIOWrapper name='tnseq_data_short.txt' mode='r' encoding='UTF-8'>"
            ]
          },
          "metadata": {
            "tags": []
          },
          "execution_count": 34
        }
      ]
    },
    {
      "metadata": {
        "id": "htJronWFLkmQ",
        "colab_type": "text"
      },
      "cell_type": "markdown",
      "source": [
        "### Closing files"
      ]
    },
    {
      "metadata": {
        "id": "OYnGqdRVLkmQ",
        "colab_type": "text"
      },
      "cell_type": "markdown",
      "source": [
        "To close a file once you finished with it, you can call the `.close` method on a file object."
      ]
    },
    {
      "metadata": {
        "id": "QHn-8kLgLkmS",
        "colab_type": "code",
        "colab": {}
      },
      "cell_type": "code",
      "source": [
        "fileObj.close()"
      ],
      "execution_count": 0,
      "outputs": []
    },
    {
      "metadata": {
        "id": "tJhVNDCxLkmV",
        "colab_type": "text"
      },
      "cell_type": "markdown",
      "source": [
        "### Mode modifiers\n",
        "\n",
        "These mode strings can include some extra modifier characters to deal with issues with files across multiple platforms.\n",
        "\n",
        "`'b'`: binary mode, e.g. `'rb'`. No translation for end-of-line characters to platform specific setting value.\n",
        "\n",
        "|Character | Meaning |\n",
        "|----------|---------|\n",
        "|`'r'` |\topen for reading (default) |\n",
        "|`'w'` |\topen for writing, truncating the file first |\n",
        "|`'x'` |\topen for exclusive creation, failing if the file already exists |\n",
        "|`'a'` |\topen for writing, appending to the end of the file if it exists |\n",
        "|`'b'` |\tbinary mode |\n",
        "|`'t'` |\ttext mode (default) |\n",
        "|`'+'` |\topen a disk file for updating (reading and writing) |"
      ]
    },
    {
      "metadata": {
        "id": "SZSgnNZ4LkmV",
        "colab_type": "text"
      },
      "cell_type": "markdown",
      "source": [
        "## Reading from files"
      ]
    },
    {
      "metadata": {
        "id": "rYvOrw03LkmW",
        "colab_type": "text"
      },
      "cell_type": "markdown",
      "source": [
        "Once we have opened a file for reading, file objects provide a number of methods for accessing the data in a file. The simplest of these is the `.read` method that reads the entire contents of the file into a string variable.\n",
        "\n"
      ]
    },
    {
      "metadata": {
        "id": "QhZmSmqtLkmW",
        "colab_type": "code",
        "outputId": "eefc75db-2011-4f8c-d5e7-3a3471851cf4",
        "colab": {
          "base_uri": "https://localhost:8080/",
          "height": 1734
        }
      },
      "cell_type": "code",
      "source": [
        "fileObj = open( \"tnseq_data_short.txt\" )\n",
        "print(fileObj.read()) # everything\n",
        "fileObj.close()"
      ],
      "execution_count": 0,
      "outputs": [
        {
          "output_type": "stream",
          "text": [
            "#'chr'\t'start'\t'end'\t'blunt'\t'cap'\t'dual_pen'\t'erm'\t'pen'\t'tuf'\n",
            "NC_007795.1\t2500004\t2500006\t4.0\t3.0\t1.0\t1.0\t2.0\t10.0\n",
            "NC_007795.1\t2500008\t2500010\t3.0\t11.0\t0.0\t1.0\t2.0\t11.0\n",
            "NC_007795.1\t2500020\t2500022\t4.0\t13.0\t8.0\t2.0\t5.0\t13.0\n",
            "NC_007795.1\t2500022\t2500024\t27.0\t15.0\t8.0\t3.0\t7.0\t18.0\n",
            "NC_007795.1\t2500031\t2500033\t27.0\t13.0\t8.0\t3.0\t6.0\t23.0\n",
            "NC_007795.1\t2500033\t2500035\t26.0\t12.0\t8.0\t3.0\t5.0\t23.0\n",
            "NC_007795.1\t2500037\t2500039\t28.0\t12.0\t6.0\t5.0\t7.0\t16.0\n",
            "NC_007795.1\t2500043\t2500045\t6.0\t11.0\t6.0\t4.0\t5.0\t10.0\n",
            "NC_007795.1\t2500050\t2500052\t5.0\t6.0\t5.0\t4.0\t5.0\t6.0\n",
            "NC_007795.1\t2500058\t2500060\t1.0\t5.0\t0.0\t0.0\t1.0\t2.0\n",
            "NC_007795.1\t2500061\t2500063\t3.0\t0.0\t0.0\t0.0\t0.0\t0.0\n",
            "NC_007795.1\t2500065\t2500067\t4.0\t2.0\t0.0\t13.0\t1.0\t3.0\n",
            "NC_007795.1\t2500077\t2500079\t5.0\t3.0\t0.0\t13.0\t8.0\t8.0\n",
            "NC_007795.1\t2500085\t2500087\t5.0\t1.0\t0.0\t1.0\t7.0\t6.0\n",
            "NC_007795.1\t2500089\t2500091\t4.0\t1.0\t0.0\t1.0\t6.0\t4.0\n",
            "NC_007795.1\t2500097\t2500099\t2.0\t0.0\t0.0\t1.0\t0.0\t1.0\n",
            "NC_007795.1\t2500103\t2500105\t1.0\t0.0\t0.0\t0.0\t0.0\t0.0\n",
            "NC_007795.1\t2500110\t2500112\t1.0\t3.0\t0.0\t2.0\t0.0\t0.0\n",
            "NC_007795.1\t2500124\t2500126\t1.0\t3.0\t0.0\t3.0\t1.0\t1.0\n",
            "NC_007795.1\t2500131\t2500133\t1.0\t3.0\t4.0\t2.0\t3.0\t27.0\n",
            "NC_007795.1\t2500148\t2500150\t2.0\t8.0\t0.0\t3.0\t10.0\t1.0\n",
            "NC_007795.1\t2500150\t2500152\t3.0\t9.0\t5.0\t6.0\t10.0\t2.0\n",
            "NC_007795.1\t2500158\t2500160\t3.0\t9.0\t5.0\t6.0\t10.0\t2.0\n",
            "NC_007795.1\t2500167\t2500169\t0.0\t0.0\t0.0\t1.0\t0.0\t0.0\n",
            "NC_007795.1\t2500175\t2500177\t0.0\t0.0\t0.0\t1.0\t0.0\t0.0\n",
            "NC_007795.1\t2500181\t2500183\t3.0\t2.0\t1.0\t11.0\t10.0\t11.0\n",
            "NC_007795.1\t2500193\t2500195\t4.0\t3.0\t13.0\t13.0\t11.0\t18.0\n",
            "NC_007795.1\t2500214\t2500216\t3.0\t3.0\t1.0\t2.0\t1.0\t16.0\n",
            "NC_007795.1\t2500219\t2500221\t3.0\t4.0\t2.0\t2.0\t1.0\t18.0\n",
            "NC_007795.1\t2500223\t2500225\t3.0\t4.0\t2.0\t2.0\t1.0\t18.0\n",
            "NC_007795.1\t2500232\t2500234\t0.0\t1.0\t1.0\t0.0\t1.0\t2.0\n",
            "NC_007795.1\t2500253\t2500255\t10.0\t5.0\t1.0\t3.0\t2.0\t35.0\n",
            "NC_007795.1\t2500265\t2500267\t12.0\t6.0\t6.0\t3.0\t2.0\t34.0\n",
            "NC_007795.1\t2500280\t2500282\t4.0\t7.0\t6.0\t5.0\t1.0\t1.0\n",
            "NC_007795.1\t2500282\t2500284\t2.0\t5.0\t1.0\t5.0\t1.0\t2.0\n",
            "NC_007795.1\t2500286\t2500288\t1.0\t2.0\t1.0\t0.0\t2.0\t3.0\n",
            "NC_007795.1\t2500293\t2500295\t1.0\t0.0\t1.0\t2.0\t1.0\t2.0\n",
            "NC_007795.1\t2500299\t2500301\t1.0\t0.0\t1.0\t2.0\t1.0\t1.0\n",
            "NC_007795.1\t2500305\t2500307\t0.0\t0.0\t0.0\t2.0\t0.0\t0.0\n",
            "NC_007795.1\t2500326\t2500328\t0.0\t0.0\t0.0\t0.0\t0.0\t0.0\n",
            "NC_007795.1\t2500340\t2500342\t1.0\t0.0\t2.0\t1.0\t0.0\t0.0\n",
            "NC_007795.1\t2500344\t2500346\t1.0\t0.0\t2.0\t1.0\t0.0\t0.0\n",
            "NC_007795.1\t2500352\t2500354\t1.0\t1.0\t3.0\t1.0\t0.0\t0.0\n",
            "NC_007795.1\t2500376\t2500378\t2.0\t0.0\t1.0\t0.0\t1.0\t6.0\n",
            "NC_007795.1\t2500380\t2500382\t2.0\t0.0\t0.0\t0.0\t2.0\t2.0\n",
            "NC_007795.1\t2500394\t2500396\t0.0\t0.0\t0.0\t0.0\t1.0\t0.0\n",
            "NC_007795.1\t2500409\t2500411\t1.0\t0.0\t0.0\t0.0\t0.0\t2.0\n",
            "NC_007795.1\t2500428\t2500430\t0.0\t0.0\t0.0\t0.0\t1.0\t2.0\n",
            "NC_007795.1\t2500468\t2500470\t2.0\t2.0\t3.0\t0.0\t1.0\t1.0\n",
            "NC_007795.1\t2500485\t2500487\t0.0\t1.0\t1.0\t1.0\t2.0\t0.0\n",
            "NC_007795.1\t2500488\t2500490\t3.0\t1.0\t1.0\t0.0\t2.0\t0.0\n",
            "NC_007795.1\t2500496\t2500498\t3.0\t0.0\t1.0\t1.0\t1.0\t1.0\n",
            "NC_007795.1\t2500509\t2500511\t2.0\t8.0\t0.0\t2.0\t2.0\t2.0\n",
            "NC_007795.1\t2500512\t2500514\t2.0\t8.0\t0.0\t1.0\t2.0\t1.0\n",
            "NC_007795.1\t2500526\t2500528\t1.0\t0.0\t0.0\t0.0\t0.0\t0.0\n",
            "NC_007795.1\t2500559\t2500561\t6.0\t8.0\t1.0\t2.0\t8.0\t1.0\n",
            "NC_007795.1\t2500571\t2500573\t11.0\t9.0\t3.0\t2.0\t9.0\t1.0\n",
            "NC_007795.1\t2500583\t2500585\t9.0\t11.0\t3.0\t2.0\t7.0\t5.0\n",
            "NC_007795.1\t2500588\t2500590\t7.0\t10.0\t2.0\t3.0\t11.0\t6.0\n",
            "NC_007795.1\t2500610\t2500612\t0.0\t0.0\t0.0\t0.0\t0.0\t0.0\n",
            "NC_007795.1\t2500629\t2500631\t0.0\t0.0\t0.0\t0.0\t0.0\t0.0\n",
            "NC_007795.1\t2500661\t2500663\t12.0\t1.0\t5.0\t3.0\t0.0\t1.0\n",
            "NC_007795.1\t2500682\t2500684\t1.0\t1.0\t1.0\t4.0\t0.0\t1.0\n",
            "NC_007795.1\t2500685\t2500687\t2.0\t2.0\t16.0\t8.0\t1.0\t2.0\n",
            "NC_007795.1\t2500694\t2500696\t1.0\t2.0\t15.0\t4.0\t1.0\t1.0\n",
            "NC_007795.1\t2500700\t2500702\t1.0\t2.0\t15.0\t4.0\t1.0\t2.0\n",
            "NC_007795.1\t2500707\t2500709\t0.0\t1.0\t1.0\t3.0\t1.0\t1.0\n",
            "NC_007795.1\t2500710\t2500712\t0.0\t1.0\t1.0\t3.0\t1.0\t1.0\n",
            "NC_007795.1\t2500718\t2500720\t1.0\t2.0\t1.0\t3.0\t1.0\t0.0\n",
            "NC_007795.1\t2500740\t2500742\t1.0\t0.0\t1.0\t4.0\t1.0\t2.0\n",
            "NC_007795.1\t2500748\t2500750\t1.0\t0.0\t2.0\t4.0\t1.0\t2.0\n",
            "NC_007795.1\t2500766\t2500768\t4.0\t2.0\t14.0\t0.0\t1.0\t4.0\n",
            "NC_007795.1\t2500773\t2500775\t3.0\t0.0\t4.0\t0.0\t2.0\t9.0\n",
            "NC_007795.1\t2500775\t2500777\t7.0\t0.0\t15.0\t0.0\t2.0\t17.0\n",
            "NC_007795.1\t2500779\t2500781\t5.0\t4.0\t13.0\t7.0\t1.0\t16.0\n",
            "NC_007795.1\t2500781\t2500783\t5.0\t4.0\t12.0\t7.0\t1.0\t16.0\n",
            "NC_007795.1\t2500793\t2500795\t0.0\t4.0\t0.0\t7.0\t0.0\t1.0\n",
            "NC_007795.1\t2500819\t2500821\t17.0\t1.0\t1.0\t5.0\t2.0\t7.0\n",
            "NC_007795.1\t2500827\t2500829\t17.0\t1.0\t1.0\t5.0\t2.0\t7.0\n",
            "NC_007795.1\t2500829\t2500831\t18.0\t4.0\t1.0\t13.0\t1.0\t9.0\n",
            "NC_007795.1\t2500850\t2500852\t22.0\t4.0\t3.0\t5.0\t3.0\t4.0\n",
            "NC_007795.1\t2500856\t2500858\t23.0\t2.0\t2.0\t3.0\t0.0\t2.0\n",
            "NC_007795.1\t2500874\t2500876\t0.0\t0.0\t0.0\t0.0\t0.0\t1.0\n",
            "NC_007795.1\t2500886\t2500888\t6.0\t1.0\t4.0\t1.0\t3.0\t3.0\n",
            "NC_007795.1\t2500896\t2500898\t7.0\t3.0\t11.0\t1.0\t4.0\t3.0\n",
            "NC_007795.1\t2500901\t2500903\t7.0\t2.0\t8.0\t1.0\t3.0\t3.0\n",
            "NC_007795.1\t2500908\t2500910\t1.0\t2.0\t7.0\t0.0\t1.0\t1.0\n",
            "NC_007795.1\t2500916\t2500918\t0.0\t0.0\t0.0\t0.0\t0.0\t0.0\n",
            "NC_007795.1\t2500934\t2500936\t1.0\t0.0\t1.0\t1.0\t0.0\t6.0\n",
            "NC_007795.1\t2500943\t2500945\t2.0\t0.0\t0.0\t2.0\t1.0\t8.0\n",
            "NC_007795.1\t2500945\t2500947\t2.0\t3.0\t0.0\t2.0\t1.0\t10.0\n",
            "NC_007795.1\t2500961\t2500963\t1.0\t0.0\t1.0\t2.0\t0.0\t7.0\n",
            "NC_007795.1\t2500964\t2500966\t1.0\t1.0\t1.0\t3.0\t1.0\t2.0\n",
            "NC_007795.1\t2500978\t2500980\t0.0\t1.0\t0.0\t2.0\t1.0\t0.0\n",
            "NC_007795.1\t2500994\t2500996\t0.0\t0.0\t1.0\t2.0\t0.0\t0.0\n",
            "NC_007795.1\t2501010\t2501012\t0.0\t0.0\t3.0\t2.0\t9.0\t1.0\n",
            "NC_007795.1\t2501013\t2501015\t0.0\t0.0\t2.0\t0.0\t9.0\t1.0\n",
            "NC_007795.1\t2501022\t2501024\t5.0\t0.0\t2.0\t0.0\t10.0\t1.0\n",
            "NC_007795.1\t2501028\t2501030\t6.0\t0.0\t0.0\t1.0\t1.0\t0.0\n",
            "\n"
          ],
          "name": "stdout"
        }
      ]
    },
    {
      "metadata": {
        "id": "6PqCKzDsLkmY",
        "colab_type": "text"
      },
      "cell_type": "markdown",
      "source": [
        "Note that this means the entire file will be read into memory. If you are operating on a large file and don't actually need all the data at the same time this is rather inefficient.\n",
        "\n",
        "Frequently, we just need to operate on individual lines of the file, and you can use the `.readline` method to read a line from a file and return it as a python string.\n",
        "\n",
        "File objects internally keep track of your current location in a file, so to get following lines from the file you can call this method multiple times.\n",
        "\n",
        "It is important to note that the string representing each line will have a trailing newline `\"\\n\"` character, which you may want to remove with the `.rstrip` string method.\n",
        "\n",
        "Once the end of the file is reached, `.readline` will return an empty string `''`. This is different from an apparently empty line in a file, as even an empty line will contain a newline character. Recall that the empty string is considered as `False` in python, so you can readily check for this condition with an `if` statement etc."
      ]
    },
    {
      "metadata": {
        "id": "PC0e8d2nLkmY",
        "colab_type": "code",
        "outputId": "480efce1-23d8-4c22-cddd-5ed1bd3a6454",
        "colab": {
          "base_uri": "https://localhost:8080/",
          "height": 153
        }
      },
      "cell_type": "code",
      "source": [
        "# one line at a time\n",
        "fileObj = open( \"tnseq_data_short.txt\" )\n",
        "print(\"1st line:\", fileObj.readline())\n",
        "print(\"2nd line:\", fileObj.readline())\n",
        "print(\"3rd line:\", fileObj.readline())\n",
        "print(\"4th line:\", fileObj.readline())\n",
        "fileObj.close()"
      ],
      "execution_count": 0,
      "outputs": [
        {
          "output_type": "stream",
          "text": [
            "1st line: #'chr'\t'start'\t'end'\t'blunt'\t'cap'\t'dual_pen'\t'erm'\t'pen'\t'tuf'\n",
            "\n",
            "2nd line: NC_007795.1\t2500004\t2500006\t4.0\t3.0\t1.0\t1.0\t2.0\t10.0\n",
            "\n",
            "3rd line: NC_007795.1\t2500008\t2500010\t3.0\t11.0\t0.0\t1.0\t2.0\t11.0\n",
            "\n",
            "4th line: NC_007795.1\t2500020\t2500022\t4.0\t13.0\t8.0\t2.0\t5.0\t13.0\n",
            "\n"
          ],
          "name": "stdout"
        }
      ]
    },
    {
      "metadata": {
        "id": "ewlNyMW_Lkma",
        "colab_type": "text"
      },
      "cell_type": "markdown",
      "source": [
        "To read in all lines from a file as a list of strings containing the data from each line, use the `.readlines` method (though note that this will again read all data into memory)."
      ]
    },
    {
      "metadata": {
        "id": "7wab2EpYLkmc",
        "colab_type": "code",
        "outputId": "f416a6de-3616-40bf-87a3-fdf8eeb098fd",
        "colab": {
          "base_uri": "https://localhost:8080/",
          "height": 34
        }
      },
      "cell_type": "code",
      "source": [
        "# all lines\n",
        "fileObj = open( \"tnseq_data_short.txt\" )\n",
        "\n",
        "lines = fileObj.readlines()\n",
        "\n",
        "print(\"The file has\", len(lines), \"lines\")\n",
        "\n",
        "fileObj.close()"
      ],
      "execution_count": 0,
      "outputs": [
        {
          "output_type": "stream",
          "text": [
            "The file has 100 lines\n"
          ],
          "name": "stdout"
        }
      ]
    },
    {
      "metadata": {
        "id": "bY6vVJctLkmf",
        "colab_type": "text"
      },
      "cell_type": "markdown",
      "source": [
        "Looping over the lines in a file is a very common operation and python lets you iterate over a file using a `for` loop just as if it were an array of strings. This does not read all data into memory at once, and so is much more efficient that reading the file with `.readlines` and then looping over the resulting list."
      ]
    },
    {
      "metadata": {
        "id": "Bq_-yghMLkmg",
        "colab_type": "code",
        "outputId": "9b3f3691-3a35-44a9-bb2a-b2ee7778137c",
        "colab": {
          "base_uri": "https://localhost:8080/",
          "height": 1717
        }
      },
      "cell_type": "code",
      "source": [
        "# as an iterable\n",
        "fileObj = open( \"tnseq_data_short.txt\" )\n",
        "\n",
        "for line in fileObj:\n",
        "    print(line.rstrip().lower())\n",
        "\n",
        "fileObj.close()"
      ],
      "execution_count": 0,
      "outputs": [
        {
          "output_type": "stream",
          "text": [
            "#'chr'\t'start'\t'end'\t'blunt'\t'cap'\t'dual_pen'\t'erm'\t'pen'\t'tuf'\n",
            "nc_007795.1\t2500004\t2500006\t4.0\t3.0\t1.0\t1.0\t2.0\t10.0\n",
            "nc_007795.1\t2500008\t2500010\t3.0\t11.0\t0.0\t1.0\t2.0\t11.0\n",
            "nc_007795.1\t2500020\t2500022\t4.0\t13.0\t8.0\t2.0\t5.0\t13.0\n",
            "nc_007795.1\t2500022\t2500024\t27.0\t15.0\t8.0\t3.0\t7.0\t18.0\n",
            "nc_007795.1\t2500031\t2500033\t27.0\t13.0\t8.0\t3.0\t6.0\t23.0\n",
            "nc_007795.1\t2500033\t2500035\t26.0\t12.0\t8.0\t3.0\t5.0\t23.0\n",
            "nc_007795.1\t2500037\t2500039\t28.0\t12.0\t6.0\t5.0\t7.0\t16.0\n",
            "nc_007795.1\t2500043\t2500045\t6.0\t11.0\t6.0\t4.0\t5.0\t10.0\n",
            "nc_007795.1\t2500050\t2500052\t5.0\t6.0\t5.0\t4.0\t5.0\t6.0\n",
            "nc_007795.1\t2500058\t2500060\t1.0\t5.0\t0.0\t0.0\t1.0\t2.0\n",
            "nc_007795.1\t2500061\t2500063\t3.0\t0.0\t0.0\t0.0\t0.0\t0.0\n",
            "nc_007795.1\t2500065\t2500067\t4.0\t2.0\t0.0\t13.0\t1.0\t3.0\n",
            "nc_007795.1\t2500077\t2500079\t5.0\t3.0\t0.0\t13.0\t8.0\t8.0\n",
            "nc_007795.1\t2500085\t2500087\t5.0\t1.0\t0.0\t1.0\t7.0\t6.0\n",
            "nc_007795.1\t2500089\t2500091\t4.0\t1.0\t0.0\t1.0\t6.0\t4.0\n",
            "nc_007795.1\t2500097\t2500099\t2.0\t0.0\t0.0\t1.0\t0.0\t1.0\n",
            "nc_007795.1\t2500103\t2500105\t1.0\t0.0\t0.0\t0.0\t0.0\t0.0\n",
            "nc_007795.1\t2500110\t2500112\t1.0\t3.0\t0.0\t2.0\t0.0\t0.0\n",
            "nc_007795.1\t2500124\t2500126\t1.0\t3.0\t0.0\t3.0\t1.0\t1.0\n",
            "nc_007795.1\t2500131\t2500133\t1.0\t3.0\t4.0\t2.0\t3.0\t27.0\n",
            "nc_007795.1\t2500148\t2500150\t2.0\t8.0\t0.0\t3.0\t10.0\t1.0\n",
            "nc_007795.1\t2500150\t2500152\t3.0\t9.0\t5.0\t6.0\t10.0\t2.0\n",
            "nc_007795.1\t2500158\t2500160\t3.0\t9.0\t5.0\t6.0\t10.0\t2.0\n",
            "nc_007795.1\t2500167\t2500169\t0.0\t0.0\t0.0\t1.0\t0.0\t0.0\n",
            "nc_007795.1\t2500175\t2500177\t0.0\t0.0\t0.0\t1.0\t0.0\t0.0\n",
            "nc_007795.1\t2500181\t2500183\t3.0\t2.0\t1.0\t11.0\t10.0\t11.0\n",
            "nc_007795.1\t2500193\t2500195\t4.0\t3.0\t13.0\t13.0\t11.0\t18.0\n",
            "nc_007795.1\t2500214\t2500216\t3.0\t3.0\t1.0\t2.0\t1.0\t16.0\n",
            "nc_007795.1\t2500219\t2500221\t3.0\t4.0\t2.0\t2.0\t1.0\t18.0\n",
            "nc_007795.1\t2500223\t2500225\t3.0\t4.0\t2.0\t2.0\t1.0\t18.0\n",
            "nc_007795.1\t2500232\t2500234\t0.0\t1.0\t1.0\t0.0\t1.0\t2.0\n",
            "nc_007795.1\t2500253\t2500255\t10.0\t5.0\t1.0\t3.0\t2.0\t35.0\n",
            "nc_007795.1\t2500265\t2500267\t12.0\t6.0\t6.0\t3.0\t2.0\t34.0\n",
            "nc_007795.1\t2500280\t2500282\t4.0\t7.0\t6.0\t5.0\t1.0\t1.0\n",
            "nc_007795.1\t2500282\t2500284\t2.0\t5.0\t1.0\t5.0\t1.0\t2.0\n",
            "nc_007795.1\t2500286\t2500288\t1.0\t2.0\t1.0\t0.0\t2.0\t3.0\n",
            "nc_007795.1\t2500293\t2500295\t1.0\t0.0\t1.0\t2.0\t1.0\t2.0\n",
            "nc_007795.1\t2500299\t2500301\t1.0\t0.0\t1.0\t2.0\t1.0\t1.0\n",
            "nc_007795.1\t2500305\t2500307\t0.0\t0.0\t0.0\t2.0\t0.0\t0.0\n",
            "nc_007795.1\t2500326\t2500328\t0.0\t0.0\t0.0\t0.0\t0.0\t0.0\n",
            "nc_007795.1\t2500340\t2500342\t1.0\t0.0\t2.0\t1.0\t0.0\t0.0\n",
            "nc_007795.1\t2500344\t2500346\t1.0\t0.0\t2.0\t1.0\t0.0\t0.0\n",
            "nc_007795.1\t2500352\t2500354\t1.0\t1.0\t3.0\t1.0\t0.0\t0.0\n",
            "nc_007795.1\t2500376\t2500378\t2.0\t0.0\t1.0\t0.0\t1.0\t6.0\n",
            "nc_007795.1\t2500380\t2500382\t2.0\t0.0\t0.0\t0.0\t2.0\t2.0\n",
            "nc_007795.1\t2500394\t2500396\t0.0\t0.0\t0.0\t0.0\t1.0\t0.0\n",
            "nc_007795.1\t2500409\t2500411\t1.0\t0.0\t0.0\t0.0\t0.0\t2.0\n",
            "nc_007795.1\t2500428\t2500430\t0.0\t0.0\t0.0\t0.0\t1.0\t2.0\n",
            "nc_007795.1\t2500468\t2500470\t2.0\t2.0\t3.0\t0.0\t1.0\t1.0\n",
            "nc_007795.1\t2500485\t2500487\t0.0\t1.0\t1.0\t1.0\t2.0\t0.0\n",
            "nc_007795.1\t2500488\t2500490\t3.0\t1.0\t1.0\t0.0\t2.0\t0.0\n",
            "nc_007795.1\t2500496\t2500498\t3.0\t0.0\t1.0\t1.0\t1.0\t1.0\n",
            "nc_007795.1\t2500509\t2500511\t2.0\t8.0\t0.0\t2.0\t2.0\t2.0\n",
            "nc_007795.1\t2500512\t2500514\t2.0\t8.0\t0.0\t1.0\t2.0\t1.0\n",
            "nc_007795.1\t2500526\t2500528\t1.0\t0.0\t0.0\t0.0\t0.0\t0.0\n",
            "nc_007795.1\t2500559\t2500561\t6.0\t8.0\t1.0\t2.0\t8.0\t1.0\n",
            "nc_007795.1\t2500571\t2500573\t11.0\t9.0\t3.0\t2.0\t9.0\t1.0\n",
            "nc_007795.1\t2500583\t2500585\t9.0\t11.0\t3.0\t2.0\t7.0\t5.0\n",
            "nc_007795.1\t2500588\t2500590\t7.0\t10.0\t2.0\t3.0\t11.0\t6.0\n",
            "nc_007795.1\t2500610\t2500612\t0.0\t0.0\t0.0\t0.0\t0.0\t0.0\n",
            "nc_007795.1\t2500629\t2500631\t0.0\t0.0\t0.0\t0.0\t0.0\t0.0\n",
            "nc_007795.1\t2500661\t2500663\t12.0\t1.0\t5.0\t3.0\t0.0\t1.0\n",
            "nc_007795.1\t2500682\t2500684\t1.0\t1.0\t1.0\t4.0\t0.0\t1.0\n",
            "nc_007795.1\t2500685\t2500687\t2.0\t2.0\t16.0\t8.0\t1.0\t2.0\n",
            "nc_007795.1\t2500694\t2500696\t1.0\t2.0\t15.0\t4.0\t1.0\t1.0\n",
            "nc_007795.1\t2500700\t2500702\t1.0\t2.0\t15.0\t4.0\t1.0\t2.0\n",
            "nc_007795.1\t2500707\t2500709\t0.0\t1.0\t1.0\t3.0\t1.0\t1.0\n",
            "nc_007795.1\t2500710\t2500712\t0.0\t1.0\t1.0\t3.0\t1.0\t1.0\n",
            "nc_007795.1\t2500718\t2500720\t1.0\t2.0\t1.0\t3.0\t1.0\t0.0\n",
            "nc_007795.1\t2500740\t2500742\t1.0\t0.0\t1.0\t4.0\t1.0\t2.0\n",
            "nc_007795.1\t2500748\t2500750\t1.0\t0.0\t2.0\t4.0\t1.0\t2.0\n",
            "nc_007795.1\t2500766\t2500768\t4.0\t2.0\t14.0\t0.0\t1.0\t4.0\n",
            "nc_007795.1\t2500773\t2500775\t3.0\t0.0\t4.0\t0.0\t2.0\t9.0\n",
            "nc_007795.1\t2500775\t2500777\t7.0\t0.0\t15.0\t0.0\t2.0\t17.0\n",
            "nc_007795.1\t2500779\t2500781\t5.0\t4.0\t13.0\t7.0\t1.0\t16.0\n",
            "nc_007795.1\t2500781\t2500783\t5.0\t4.0\t12.0\t7.0\t1.0\t16.0\n",
            "nc_007795.1\t2500793\t2500795\t0.0\t4.0\t0.0\t7.0\t0.0\t1.0\n",
            "nc_007795.1\t2500819\t2500821\t17.0\t1.0\t1.0\t5.0\t2.0\t7.0\n",
            "nc_007795.1\t2500827\t2500829\t17.0\t1.0\t1.0\t5.0\t2.0\t7.0\n",
            "nc_007795.1\t2500829\t2500831\t18.0\t4.0\t1.0\t13.0\t1.0\t9.0\n",
            "nc_007795.1\t2500850\t2500852\t22.0\t4.0\t3.0\t5.0\t3.0\t4.0\n",
            "nc_007795.1\t2500856\t2500858\t23.0\t2.0\t2.0\t3.0\t0.0\t2.0\n",
            "nc_007795.1\t2500874\t2500876\t0.0\t0.0\t0.0\t0.0\t0.0\t1.0\n",
            "nc_007795.1\t2500886\t2500888\t6.0\t1.0\t4.0\t1.0\t3.0\t3.0\n",
            "nc_007795.1\t2500896\t2500898\t7.0\t3.0\t11.0\t1.0\t4.0\t3.0\n",
            "nc_007795.1\t2500901\t2500903\t7.0\t2.0\t8.0\t1.0\t3.0\t3.0\n",
            "nc_007795.1\t2500908\t2500910\t1.0\t2.0\t7.0\t0.0\t1.0\t1.0\n",
            "nc_007795.1\t2500916\t2500918\t0.0\t0.0\t0.0\t0.0\t0.0\t0.0\n",
            "nc_007795.1\t2500934\t2500936\t1.0\t0.0\t1.0\t1.0\t0.0\t6.0\n",
            "nc_007795.1\t2500943\t2500945\t2.0\t0.0\t0.0\t2.0\t1.0\t8.0\n",
            "nc_007795.1\t2500945\t2500947\t2.0\t3.0\t0.0\t2.0\t1.0\t10.0\n",
            "nc_007795.1\t2500961\t2500963\t1.0\t0.0\t1.0\t2.0\t0.0\t7.0\n",
            "nc_007795.1\t2500964\t2500966\t1.0\t1.0\t1.0\t3.0\t1.0\t2.0\n",
            "nc_007795.1\t2500978\t2500980\t0.0\t1.0\t0.0\t2.0\t1.0\t0.0\n",
            "nc_007795.1\t2500994\t2500996\t0.0\t0.0\t1.0\t2.0\t0.0\t0.0\n",
            "nc_007795.1\t2501010\t2501012\t0.0\t0.0\t3.0\t2.0\t9.0\t1.0\n",
            "nc_007795.1\t2501013\t2501015\t0.0\t0.0\t2.0\t0.0\t9.0\t1.0\n",
            "nc_007795.1\t2501022\t2501024\t5.0\t0.0\t2.0\t0.0\t10.0\t1.0\n",
            "nc_007795.1\t2501028\t2501030\t6.0\t0.0\t0.0\t1.0\t1.0\t0.0\n"
          ],
          "name": "stdout"
        }
      ]
    },
    {
      "metadata": {
        "id": "MB8AjyPELkmj",
        "colab_type": "text"
      },
      "cell_type": "markdown",
      "source": [
        "### The with statement"
      ]
    },
    {
      "metadata": {
        "id": "ZT7dT3fILkmk",
        "colab_type": "text"
      },
      "cell_type": "markdown",
      "source": [
        "It is important that files are closed when they are no longer required, but writing ``fileObj.close()`` is tedious (and more importantly, easy to forget). An alternative syntax is to open the files within a ``with`` statement, in which case the file will automatically be closed at the end of the `with` block."
      ]
    },
    {
      "metadata": {
        "id": "Ey6ZU88eLkml",
        "colab_type": "code",
        "outputId": "3259a3c1-3152-45dc-e029-7bf108c32457",
        "colab": {
          "base_uri": "https://localhost:8080/",
          "height": 1717
        }
      },
      "cell_type": "code",
      "source": [
        "# fileObj will be closed when leaving the block\n",
        "with open( \"tnseq_data_short.txt\" ) as fileObj:\n",
        "    for ( i, line ) in enumerate( fileObj, start=1 ):\n",
        "        print( i, line.rstrip() )"
      ],
      "execution_count": 0,
      "outputs": [
        {
          "output_type": "stream",
          "text": [
            "1 #'chr'\t'start'\t'end'\t'blunt'\t'cap'\t'dual_pen'\t'erm'\t'pen'\t'tuf'\n",
            "2 NC_007795.1\t2500004\t2500006\t4.0\t3.0\t1.0\t1.0\t2.0\t10.0\n",
            "3 NC_007795.1\t2500008\t2500010\t3.0\t11.0\t0.0\t1.0\t2.0\t11.0\n",
            "4 NC_007795.1\t2500020\t2500022\t4.0\t13.0\t8.0\t2.0\t5.0\t13.0\n",
            "5 NC_007795.1\t2500022\t2500024\t27.0\t15.0\t8.0\t3.0\t7.0\t18.0\n",
            "6 NC_007795.1\t2500031\t2500033\t27.0\t13.0\t8.0\t3.0\t6.0\t23.0\n",
            "7 NC_007795.1\t2500033\t2500035\t26.0\t12.0\t8.0\t3.0\t5.0\t23.0\n",
            "8 NC_007795.1\t2500037\t2500039\t28.0\t12.0\t6.0\t5.0\t7.0\t16.0\n",
            "9 NC_007795.1\t2500043\t2500045\t6.0\t11.0\t6.0\t4.0\t5.0\t10.0\n",
            "10 NC_007795.1\t2500050\t2500052\t5.0\t6.0\t5.0\t4.0\t5.0\t6.0\n",
            "11 NC_007795.1\t2500058\t2500060\t1.0\t5.0\t0.0\t0.0\t1.0\t2.0\n",
            "12 NC_007795.1\t2500061\t2500063\t3.0\t0.0\t0.0\t0.0\t0.0\t0.0\n",
            "13 NC_007795.1\t2500065\t2500067\t4.0\t2.0\t0.0\t13.0\t1.0\t3.0\n",
            "14 NC_007795.1\t2500077\t2500079\t5.0\t3.0\t0.0\t13.0\t8.0\t8.0\n",
            "15 NC_007795.1\t2500085\t2500087\t5.0\t1.0\t0.0\t1.0\t7.0\t6.0\n",
            "16 NC_007795.1\t2500089\t2500091\t4.0\t1.0\t0.0\t1.0\t6.0\t4.0\n",
            "17 NC_007795.1\t2500097\t2500099\t2.0\t0.0\t0.0\t1.0\t0.0\t1.0\n",
            "18 NC_007795.1\t2500103\t2500105\t1.0\t0.0\t0.0\t0.0\t0.0\t0.0\n",
            "19 NC_007795.1\t2500110\t2500112\t1.0\t3.0\t0.0\t2.0\t0.0\t0.0\n",
            "20 NC_007795.1\t2500124\t2500126\t1.0\t3.0\t0.0\t3.0\t1.0\t1.0\n",
            "21 NC_007795.1\t2500131\t2500133\t1.0\t3.0\t4.0\t2.0\t3.0\t27.0\n",
            "22 NC_007795.1\t2500148\t2500150\t2.0\t8.0\t0.0\t3.0\t10.0\t1.0\n",
            "23 NC_007795.1\t2500150\t2500152\t3.0\t9.0\t5.0\t6.0\t10.0\t2.0\n",
            "24 NC_007795.1\t2500158\t2500160\t3.0\t9.0\t5.0\t6.0\t10.0\t2.0\n",
            "25 NC_007795.1\t2500167\t2500169\t0.0\t0.0\t0.0\t1.0\t0.0\t0.0\n",
            "26 NC_007795.1\t2500175\t2500177\t0.0\t0.0\t0.0\t1.0\t0.0\t0.0\n",
            "27 NC_007795.1\t2500181\t2500183\t3.0\t2.0\t1.0\t11.0\t10.0\t11.0\n",
            "28 NC_007795.1\t2500193\t2500195\t4.0\t3.0\t13.0\t13.0\t11.0\t18.0\n",
            "29 NC_007795.1\t2500214\t2500216\t3.0\t3.0\t1.0\t2.0\t1.0\t16.0\n",
            "30 NC_007795.1\t2500219\t2500221\t3.0\t4.0\t2.0\t2.0\t1.0\t18.0\n",
            "31 NC_007795.1\t2500223\t2500225\t3.0\t4.0\t2.0\t2.0\t1.0\t18.0\n",
            "32 NC_007795.1\t2500232\t2500234\t0.0\t1.0\t1.0\t0.0\t1.0\t2.0\n",
            "33 NC_007795.1\t2500253\t2500255\t10.0\t5.0\t1.0\t3.0\t2.0\t35.0\n",
            "34 NC_007795.1\t2500265\t2500267\t12.0\t6.0\t6.0\t3.0\t2.0\t34.0\n",
            "35 NC_007795.1\t2500280\t2500282\t4.0\t7.0\t6.0\t5.0\t1.0\t1.0\n",
            "36 NC_007795.1\t2500282\t2500284\t2.0\t5.0\t1.0\t5.0\t1.0\t2.0\n",
            "37 NC_007795.1\t2500286\t2500288\t1.0\t2.0\t1.0\t0.0\t2.0\t3.0\n",
            "38 NC_007795.1\t2500293\t2500295\t1.0\t0.0\t1.0\t2.0\t1.0\t2.0\n",
            "39 NC_007795.1\t2500299\t2500301\t1.0\t0.0\t1.0\t2.0\t1.0\t1.0\n",
            "40 NC_007795.1\t2500305\t2500307\t0.0\t0.0\t0.0\t2.0\t0.0\t0.0\n",
            "41 NC_007795.1\t2500326\t2500328\t0.0\t0.0\t0.0\t0.0\t0.0\t0.0\n",
            "42 NC_007795.1\t2500340\t2500342\t1.0\t0.0\t2.0\t1.0\t0.0\t0.0\n",
            "43 NC_007795.1\t2500344\t2500346\t1.0\t0.0\t2.0\t1.0\t0.0\t0.0\n",
            "44 NC_007795.1\t2500352\t2500354\t1.0\t1.0\t3.0\t1.0\t0.0\t0.0\n",
            "45 NC_007795.1\t2500376\t2500378\t2.0\t0.0\t1.0\t0.0\t1.0\t6.0\n",
            "46 NC_007795.1\t2500380\t2500382\t2.0\t0.0\t0.0\t0.0\t2.0\t2.0\n",
            "47 NC_007795.1\t2500394\t2500396\t0.0\t0.0\t0.0\t0.0\t1.0\t0.0\n",
            "48 NC_007795.1\t2500409\t2500411\t1.0\t0.0\t0.0\t0.0\t0.0\t2.0\n",
            "49 NC_007795.1\t2500428\t2500430\t0.0\t0.0\t0.0\t0.0\t1.0\t2.0\n",
            "50 NC_007795.1\t2500468\t2500470\t2.0\t2.0\t3.0\t0.0\t1.0\t1.0\n",
            "51 NC_007795.1\t2500485\t2500487\t0.0\t1.0\t1.0\t1.0\t2.0\t0.0\n",
            "52 NC_007795.1\t2500488\t2500490\t3.0\t1.0\t1.0\t0.0\t2.0\t0.0\n",
            "53 NC_007795.1\t2500496\t2500498\t3.0\t0.0\t1.0\t1.0\t1.0\t1.0\n",
            "54 NC_007795.1\t2500509\t2500511\t2.0\t8.0\t0.0\t2.0\t2.0\t2.0\n",
            "55 NC_007795.1\t2500512\t2500514\t2.0\t8.0\t0.0\t1.0\t2.0\t1.0\n",
            "56 NC_007795.1\t2500526\t2500528\t1.0\t0.0\t0.0\t0.0\t0.0\t0.0\n",
            "57 NC_007795.1\t2500559\t2500561\t6.0\t8.0\t1.0\t2.0\t8.0\t1.0\n",
            "58 NC_007795.1\t2500571\t2500573\t11.0\t9.0\t3.0\t2.0\t9.0\t1.0\n",
            "59 NC_007795.1\t2500583\t2500585\t9.0\t11.0\t3.0\t2.0\t7.0\t5.0\n",
            "60 NC_007795.1\t2500588\t2500590\t7.0\t10.0\t2.0\t3.0\t11.0\t6.0\n",
            "61 NC_007795.1\t2500610\t2500612\t0.0\t0.0\t0.0\t0.0\t0.0\t0.0\n",
            "62 NC_007795.1\t2500629\t2500631\t0.0\t0.0\t0.0\t0.0\t0.0\t0.0\n",
            "63 NC_007795.1\t2500661\t2500663\t12.0\t1.0\t5.0\t3.0\t0.0\t1.0\n",
            "64 NC_007795.1\t2500682\t2500684\t1.0\t1.0\t1.0\t4.0\t0.0\t1.0\n",
            "65 NC_007795.1\t2500685\t2500687\t2.0\t2.0\t16.0\t8.0\t1.0\t2.0\n",
            "66 NC_007795.1\t2500694\t2500696\t1.0\t2.0\t15.0\t4.0\t1.0\t1.0\n",
            "67 NC_007795.1\t2500700\t2500702\t1.0\t2.0\t15.0\t4.0\t1.0\t2.0\n",
            "68 NC_007795.1\t2500707\t2500709\t0.0\t1.0\t1.0\t3.0\t1.0\t1.0\n",
            "69 NC_007795.1\t2500710\t2500712\t0.0\t1.0\t1.0\t3.0\t1.0\t1.0\n",
            "70 NC_007795.1\t2500718\t2500720\t1.0\t2.0\t1.0\t3.0\t1.0\t0.0\n",
            "71 NC_007795.1\t2500740\t2500742\t1.0\t0.0\t1.0\t4.0\t1.0\t2.0\n",
            "72 NC_007795.1\t2500748\t2500750\t1.0\t0.0\t2.0\t4.0\t1.0\t2.0\n",
            "73 NC_007795.1\t2500766\t2500768\t4.0\t2.0\t14.0\t0.0\t1.0\t4.0\n",
            "74 NC_007795.1\t2500773\t2500775\t3.0\t0.0\t4.0\t0.0\t2.0\t9.0\n",
            "75 NC_007795.1\t2500775\t2500777\t7.0\t0.0\t15.0\t0.0\t2.0\t17.0\n",
            "76 NC_007795.1\t2500779\t2500781\t5.0\t4.0\t13.0\t7.0\t1.0\t16.0\n",
            "77 NC_007795.1\t2500781\t2500783\t5.0\t4.0\t12.0\t7.0\t1.0\t16.0\n",
            "78 NC_007795.1\t2500793\t2500795\t0.0\t4.0\t0.0\t7.0\t0.0\t1.0\n",
            "79 NC_007795.1\t2500819\t2500821\t17.0\t1.0\t1.0\t5.0\t2.0\t7.0\n",
            "80 NC_007795.1\t2500827\t2500829\t17.0\t1.0\t1.0\t5.0\t2.0\t7.0\n",
            "81 NC_007795.1\t2500829\t2500831\t18.0\t4.0\t1.0\t13.0\t1.0\t9.0\n",
            "82 NC_007795.1\t2500850\t2500852\t22.0\t4.0\t3.0\t5.0\t3.0\t4.0\n",
            "83 NC_007795.1\t2500856\t2500858\t23.0\t2.0\t2.0\t3.0\t0.0\t2.0\n",
            "84 NC_007795.1\t2500874\t2500876\t0.0\t0.0\t0.0\t0.0\t0.0\t1.0\n",
            "85 NC_007795.1\t2500886\t2500888\t6.0\t1.0\t4.0\t1.0\t3.0\t3.0\n",
            "86 NC_007795.1\t2500896\t2500898\t7.0\t3.0\t11.0\t1.0\t4.0\t3.0\n",
            "87 NC_007795.1\t2500901\t2500903\t7.0\t2.0\t8.0\t1.0\t3.0\t3.0\n",
            "88 NC_007795.1\t2500908\t2500910\t1.0\t2.0\t7.0\t0.0\t1.0\t1.0\n",
            "89 NC_007795.1\t2500916\t2500918\t0.0\t0.0\t0.0\t0.0\t0.0\t0.0\n",
            "90 NC_007795.1\t2500934\t2500936\t1.0\t0.0\t1.0\t1.0\t0.0\t6.0\n",
            "91 NC_007795.1\t2500943\t2500945\t2.0\t0.0\t0.0\t2.0\t1.0\t8.0\n",
            "92 NC_007795.1\t2500945\t2500947\t2.0\t3.0\t0.0\t2.0\t1.0\t10.0\n",
            "93 NC_007795.1\t2500961\t2500963\t1.0\t0.0\t1.0\t2.0\t0.0\t7.0\n",
            "94 NC_007795.1\t2500964\t2500966\t1.0\t1.0\t1.0\t3.0\t1.0\t2.0\n",
            "95 NC_007795.1\t2500978\t2500980\t0.0\t1.0\t0.0\t2.0\t1.0\t0.0\n",
            "96 NC_007795.1\t2500994\t2500996\t0.0\t0.0\t1.0\t2.0\t0.0\t0.0\n",
            "97 NC_007795.1\t2501010\t2501012\t0.0\t0.0\t3.0\t2.0\t9.0\t1.0\n",
            "98 NC_007795.1\t2501013\t2501015\t0.0\t0.0\t2.0\t0.0\t9.0\t1.0\n",
            "99 NC_007795.1\t2501022\t2501024\t5.0\t0.0\t2.0\t0.0\t10.0\t1.0\n",
            "100 NC_007795.1\t2501028\t2501030\t6.0\t0.0\t0.0\t1.0\t1.0\t0.0\n"
          ],
          "name": "stdout"
        }
      ]
    },
    {
      "metadata": {
        "id": "toCmwGRFLkmn",
        "colab_type": "code",
        "outputId": "b1b5488b-ce32-4ea9-9330-7482c0af2e8b",
        "colab": {
          "base_uri": "https://localhost:8080/",
          "height": 1700
        }
      },
      "cell_type": "code",
      "source": [
        "# we might want to get rid of the header\n",
        "\n",
        "with open( \"tnseq_data_short.txt\" ) as fileObj:\n",
        "    for ( i, line ) in enumerate( fileObj, start=1 ):\n",
        "        if not line.startswith('#'):\n",
        "            print( i, line.rstrip() )"
      ],
      "execution_count": 0,
      "outputs": [
        {
          "output_type": "stream",
          "text": [
            "2 NC_007795.1\t2500004\t2500006\t4.0\t3.0\t1.0\t1.0\t2.0\t10.0\n",
            "3 NC_007795.1\t2500008\t2500010\t3.0\t11.0\t0.0\t1.0\t2.0\t11.0\n",
            "4 NC_007795.1\t2500020\t2500022\t4.0\t13.0\t8.0\t2.0\t5.0\t13.0\n",
            "5 NC_007795.1\t2500022\t2500024\t27.0\t15.0\t8.0\t3.0\t7.0\t18.0\n",
            "6 NC_007795.1\t2500031\t2500033\t27.0\t13.0\t8.0\t3.0\t6.0\t23.0\n",
            "7 NC_007795.1\t2500033\t2500035\t26.0\t12.0\t8.0\t3.0\t5.0\t23.0\n",
            "8 NC_007795.1\t2500037\t2500039\t28.0\t12.0\t6.0\t5.0\t7.0\t16.0\n",
            "9 NC_007795.1\t2500043\t2500045\t6.0\t11.0\t6.0\t4.0\t5.0\t10.0\n",
            "10 NC_007795.1\t2500050\t2500052\t5.0\t6.0\t5.0\t4.0\t5.0\t6.0\n",
            "11 NC_007795.1\t2500058\t2500060\t1.0\t5.0\t0.0\t0.0\t1.0\t2.0\n",
            "12 NC_007795.1\t2500061\t2500063\t3.0\t0.0\t0.0\t0.0\t0.0\t0.0\n",
            "13 NC_007795.1\t2500065\t2500067\t4.0\t2.0\t0.0\t13.0\t1.0\t3.0\n",
            "14 NC_007795.1\t2500077\t2500079\t5.0\t3.0\t0.0\t13.0\t8.0\t8.0\n",
            "15 NC_007795.1\t2500085\t2500087\t5.0\t1.0\t0.0\t1.0\t7.0\t6.0\n",
            "16 NC_007795.1\t2500089\t2500091\t4.0\t1.0\t0.0\t1.0\t6.0\t4.0\n",
            "17 NC_007795.1\t2500097\t2500099\t2.0\t0.0\t0.0\t1.0\t0.0\t1.0\n",
            "18 NC_007795.1\t2500103\t2500105\t1.0\t0.0\t0.0\t0.0\t0.0\t0.0\n",
            "19 NC_007795.1\t2500110\t2500112\t1.0\t3.0\t0.0\t2.0\t0.0\t0.0\n",
            "20 NC_007795.1\t2500124\t2500126\t1.0\t3.0\t0.0\t3.0\t1.0\t1.0\n",
            "21 NC_007795.1\t2500131\t2500133\t1.0\t3.0\t4.0\t2.0\t3.0\t27.0\n",
            "22 NC_007795.1\t2500148\t2500150\t2.0\t8.0\t0.0\t3.0\t10.0\t1.0\n",
            "23 NC_007795.1\t2500150\t2500152\t3.0\t9.0\t5.0\t6.0\t10.0\t2.0\n",
            "24 NC_007795.1\t2500158\t2500160\t3.0\t9.0\t5.0\t6.0\t10.0\t2.0\n",
            "25 NC_007795.1\t2500167\t2500169\t0.0\t0.0\t0.0\t1.0\t0.0\t0.0\n",
            "26 NC_007795.1\t2500175\t2500177\t0.0\t0.0\t0.0\t1.0\t0.0\t0.0\n",
            "27 NC_007795.1\t2500181\t2500183\t3.0\t2.0\t1.0\t11.0\t10.0\t11.0\n",
            "28 NC_007795.1\t2500193\t2500195\t4.0\t3.0\t13.0\t13.0\t11.0\t18.0\n",
            "29 NC_007795.1\t2500214\t2500216\t3.0\t3.0\t1.0\t2.0\t1.0\t16.0\n",
            "30 NC_007795.1\t2500219\t2500221\t3.0\t4.0\t2.0\t2.0\t1.0\t18.0\n",
            "31 NC_007795.1\t2500223\t2500225\t3.0\t4.0\t2.0\t2.0\t1.0\t18.0\n",
            "32 NC_007795.1\t2500232\t2500234\t0.0\t1.0\t1.0\t0.0\t1.0\t2.0\n",
            "33 NC_007795.1\t2500253\t2500255\t10.0\t5.0\t1.0\t3.0\t2.0\t35.0\n",
            "34 NC_007795.1\t2500265\t2500267\t12.0\t6.0\t6.0\t3.0\t2.0\t34.0\n",
            "35 NC_007795.1\t2500280\t2500282\t4.0\t7.0\t6.0\t5.0\t1.0\t1.0\n",
            "36 NC_007795.1\t2500282\t2500284\t2.0\t5.0\t1.0\t5.0\t1.0\t2.0\n",
            "37 NC_007795.1\t2500286\t2500288\t1.0\t2.0\t1.0\t0.0\t2.0\t3.0\n",
            "38 NC_007795.1\t2500293\t2500295\t1.0\t0.0\t1.0\t2.0\t1.0\t2.0\n",
            "39 NC_007795.1\t2500299\t2500301\t1.0\t0.0\t1.0\t2.0\t1.0\t1.0\n",
            "40 NC_007795.1\t2500305\t2500307\t0.0\t0.0\t0.0\t2.0\t0.0\t0.0\n",
            "41 NC_007795.1\t2500326\t2500328\t0.0\t0.0\t0.0\t0.0\t0.0\t0.0\n",
            "42 NC_007795.1\t2500340\t2500342\t1.0\t0.0\t2.0\t1.0\t0.0\t0.0\n",
            "43 NC_007795.1\t2500344\t2500346\t1.0\t0.0\t2.0\t1.0\t0.0\t0.0\n",
            "44 NC_007795.1\t2500352\t2500354\t1.0\t1.0\t3.0\t1.0\t0.0\t0.0\n",
            "45 NC_007795.1\t2500376\t2500378\t2.0\t0.0\t1.0\t0.0\t1.0\t6.0\n",
            "46 NC_007795.1\t2500380\t2500382\t2.0\t0.0\t0.0\t0.0\t2.0\t2.0\n",
            "47 NC_007795.1\t2500394\t2500396\t0.0\t0.0\t0.0\t0.0\t1.0\t0.0\n",
            "48 NC_007795.1\t2500409\t2500411\t1.0\t0.0\t0.0\t0.0\t0.0\t2.0\n",
            "49 NC_007795.1\t2500428\t2500430\t0.0\t0.0\t0.0\t0.0\t1.0\t2.0\n",
            "50 NC_007795.1\t2500468\t2500470\t2.0\t2.0\t3.0\t0.0\t1.0\t1.0\n",
            "51 NC_007795.1\t2500485\t2500487\t0.0\t1.0\t1.0\t1.0\t2.0\t0.0\n",
            "52 NC_007795.1\t2500488\t2500490\t3.0\t1.0\t1.0\t0.0\t2.0\t0.0\n",
            "53 NC_007795.1\t2500496\t2500498\t3.0\t0.0\t1.0\t1.0\t1.0\t1.0\n",
            "54 NC_007795.1\t2500509\t2500511\t2.0\t8.0\t0.0\t2.0\t2.0\t2.0\n",
            "55 NC_007795.1\t2500512\t2500514\t2.0\t8.0\t0.0\t1.0\t2.0\t1.0\n",
            "56 NC_007795.1\t2500526\t2500528\t1.0\t0.0\t0.0\t0.0\t0.0\t0.0\n",
            "57 NC_007795.1\t2500559\t2500561\t6.0\t8.0\t1.0\t2.0\t8.0\t1.0\n",
            "58 NC_007795.1\t2500571\t2500573\t11.0\t9.0\t3.0\t2.0\t9.0\t1.0\n",
            "59 NC_007795.1\t2500583\t2500585\t9.0\t11.0\t3.0\t2.0\t7.0\t5.0\n",
            "60 NC_007795.1\t2500588\t2500590\t7.0\t10.0\t2.0\t3.0\t11.0\t6.0\n",
            "61 NC_007795.1\t2500610\t2500612\t0.0\t0.0\t0.0\t0.0\t0.0\t0.0\n",
            "62 NC_007795.1\t2500629\t2500631\t0.0\t0.0\t0.0\t0.0\t0.0\t0.0\n",
            "63 NC_007795.1\t2500661\t2500663\t12.0\t1.0\t5.0\t3.0\t0.0\t1.0\n",
            "64 NC_007795.1\t2500682\t2500684\t1.0\t1.0\t1.0\t4.0\t0.0\t1.0\n",
            "65 NC_007795.1\t2500685\t2500687\t2.0\t2.0\t16.0\t8.0\t1.0\t2.0\n",
            "66 NC_007795.1\t2500694\t2500696\t1.0\t2.0\t15.0\t4.0\t1.0\t1.0\n",
            "67 NC_007795.1\t2500700\t2500702\t1.0\t2.0\t15.0\t4.0\t1.0\t2.0\n",
            "68 NC_007795.1\t2500707\t2500709\t0.0\t1.0\t1.0\t3.0\t1.0\t1.0\n",
            "69 NC_007795.1\t2500710\t2500712\t0.0\t1.0\t1.0\t3.0\t1.0\t1.0\n",
            "70 NC_007795.1\t2500718\t2500720\t1.0\t2.0\t1.0\t3.0\t1.0\t0.0\n",
            "71 NC_007795.1\t2500740\t2500742\t1.0\t0.0\t1.0\t4.0\t1.0\t2.0\n",
            "72 NC_007795.1\t2500748\t2500750\t1.0\t0.0\t2.0\t4.0\t1.0\t2.0\n",
            "73 NC_007795.1\t2500766\t2500768\t4.0\t2.0\t14.0\t0.0\t1.0\t4.0\n",
            "74 NC_007795.1\t2500773\t2500775\t3.0\t0.0\t4.0\t0.0\t2.0\t9.0\n",
            "75 NC_007795.1\t2500775\t2500777\t7.0\t0.0\t15.0\t0.0\t2.0\t17.0\n",
            "76 NC_007795.1\t2500779\t2500781\t5.0\t4.0\t13.0\t7.0\t1.0\t16.0\n",
            "77 NC_007795.1\t2500781\t2500783\t5.0\t4.0\t12.0\t7.0\t1.0\t16.0\n",
            "78 NC_007795.1\t2500793\t2500795\t0.0\t4.0\t0.0\t7.0\t0.0\t1.0\n",
            "79 NC_007795.1\t2500819\t2500821\t17.0\t1.0\t1.0\t5.0\t2.0\t7.0\n",
            "80 NC_007795.1\t2500827\t2500829\t17.0\t1.0\t1.0\t5.0\t2.0\t7.0\n",
            "81 NC_007795.1\t2500829\t2500831\t18.0\t4.0\t1.0\t13.0\t1.0\t9.0\n",
            "82 NC_007795.1\t2500850\t2500852\t22.0\t4.0\t3.0\t5.0\t3.0\t4.0\n",
            "83 NC_007795.1\t2500856\t2500858\t23.0\t2.0\t2.0\t3.0\t0.0\t2.0\n",
            "84 NC_007795.1\t2500874\t2500876\t0.0\t0.0\t0.0\t0.0\t0.0\t1.0\n",
            "85 NC_007795.1\t2500886\t2500888\t6.0\t1.0\t4.0\t1.0\t3.0\t3.0\n",
            "86 NC_007795.1\t2500896\t2500898\t7.0\t3.0\t11.0\t1.0\t4.0\t3.0\n",
            "87 NC_007795.1\t2500901\t2500903\t7.0\t2.0\t8.0\t1.0\t3.0\t3.0\n",
            "88 NC_007795.1\t2500908\t2500910\t1.0\t2.0\t7.0\t0.0\t1.0\t1.0\n",
            "89 NC_007795.1\t2500916\t2500918\t0.0\t0.0\t0.0\t0.0\t0.0\t0.0\n",
            "90 NC_007795.1\t2500934\t2500936\t1.0\t0.0\t1.0\t1.0\t0.0\t6.0\n",
            "91 NC_007795.1\t2500943\t2500945\t2.0\t0.0\t0.0\t2.0\t1.0\t8.0\n",
            "92 NC_007795.1\t2500945\t2500947\t2.0\t3.0\t0.0\t2.0\t1.0\t10.0\n",
            "93 NC_007795.1\t2500961\t2500963\t1.0\t0.0\t1.0\t2.0\t0.0\t7.0\n",
            "94 NC_007795.1\t2500964\t2500966\t1.0\t1.0\t1.0\t3.0\t1.0\t2.0\n",
            "95 NC_007795.1\t2500978\t2500980\t0.0\t1.0\t0.0\t2.0\t1.0\t0.0\n",
            "96 NC_007795.1\t2500994\t2500996\t0.0\t0.0\t1.0\t2.0\t0.0\t0.0\n",
            "97 NC_007795.1\t2501010\t2501012\t0.0\t0.0\t3.0\t2.0\t9.0\t1.0\n",
            "98 NC_007795.1\t2501013\t2501015\t0.0\t0.0\t2.0\t0.0\t9.0\t1.0\n",
            "99 NC_007795.1\t2501022\t2501024\t5.0\t0.0\t2.0\t0.0\t10.0\t1.0\n",
            "100 NC_007795.1\t2501028\t2501030\t6.0\t0.0\t0.0\t1.0\t1.0\t0.0\n"
          ],
          "name": "stdout"
        }
      ]
    },
    {
      "metadata": {
        "id": "s2vzszz7Lkmo",
        "colab_type": "text"
      },
      "cell_type": "markdown",
      "source": [
        "## Exercises 2.3.1\n",
        "\n",
        "Write a script that reads a file containing many lines of nucleotide sequence. For each line in the file, print out the line number, the length of the sequence and the sequence (There is an example file <a href=\"http://www.ebi.ac.uk/~grsr/perl/dna.txt\">here</a> or in `data/dna.txt` from the course materials )."
      ]
    },
    {
      "metadata": {
        "id": "IRWtIjYnLkmp",
        "colab_type": "text"
      },
      "cell_type": "markdown",
      "source": [
        "## Writing to files"
      ]
    },
    {
      "metadata": {
        "id": "x7OZJIcPLkmp",
        "colab_type": "text"
      },
      "cell_type": "markdown",
      "source": [
        "Once a file has been opened for writing, you can use the `.write()` method on a file object to write data to the file.\n",
        "\n",
        "The argument to the `.write()` method must be a string, so if you want to write out numerical data to a file you will have to convert it to a string somehow beforehand."
      ]
    },
    {
      "metadata": {
        "id": "v4A0YOkFLkmq",
        "colab_type": "text"
      },
      "cell_type": "markdown",
      "source": [
        "<div class=\"alert-warning\">**Remember** to include a newline character `\\n` to separate lines of your output, unlike the `print()` statement, `.write()` does not include this by default.</div>"
      ]
    },
    {
      "metadata": {
        "id": "0NviWdf_Lkmq",
        "colab_type": "code",
        "colab": {}
      },
      "cell_type": "code",
      "source": [
        "read_counts = {\n",
        "    'BRCA2': 43234,\n",
        "    'FOXP2': 3245,\n",
        "    'SORT1': 343792\n",
        "}\n",
        "\n",
        "with open( \"out.txt\", \"w\" ) as output:\n",
        "    output.write(\"GENE\\tREAD_COUNT\\n\")\n",
        "\n",
        "    for gene in read_counts:\n",
        "        line = \"\\t\".join( [ gene, str(read_counts[gene]) ] )\n",
        "        output.write(line + \"\\n\")"
      ],
      "execution_count": 0,
      "outputs": []
    },
    {
      "metadata": {
        "id": "_Pmw9E3KLkmw",
        "colab_type": "code",
        "outputId": "260dbd0c-263c-4297-be1e-bdc9562dcae1",
        "colab": {
          "base_uri": "https://localhost:8080/",
          "height": 85
        }
      },
      "cell_type": "code",
      "source": [
        "!cat out.txt\n"
      ],
      "execution_count": 0,
      "outputs": [
        {
          "output_type": "stream",
          "text": [
            "GENE\tREAD_COUNT\n",
            "BRCA2\t43234\n",
            "FOXP2\t3245\n",
            "SORT1\t343792\n"
          ],
          "name": "stdout"
        }
      ]
    },
    {
      "metadata": {
        "id": "ZpOH2bRELkmz",
        "colab_type": "text"
      },
      "cell_type": "markdown",
      "source": [
        "Be cautious when opening a file for writing, as python will happily let you overwrite any existing data in the file. "
      ]
    },
    {
      "metadata": {
        "id": "6wmNrjOsLkm0",
        "colab_type": "text"
      },
      "cell_type": "markdown",
      "source": [
        "## Exercises 2.3.2\n",
        "\n",
        "Create a script that writes the values of a list of numbers to a file, with each number on a seperate line."
      ]
    },
    {
      "metadata": {
        "id": "w1qm9Bq2Lkm0",
        "colab_type": "text"
      },
      "cell_type": "markdown",
      "source": [
        "# Part 2.4: Delimited files\n",
        "\n",
        "------\n",
        "\n",
        "- Data formats\n"
      ]
    },
    {
      "metadata": {
        "id": "w_Dl5AZ0Lkm0",
        "colab_type": "text"
      },
      "cell_type": "markdown",
      "source": [
        "## Data formats"
      ]
    },
    {
      "metadata": {
        "id": "dTiNABlvLkm2",
        "colab_type": "text"
      },
      "cell_type": "markdown",
      "source": [
        "Bioinformaticians love creating endless new file formats for their data, but there is one very common standard format\n",
        "that it is good to get used to parsing."
      ]
    },
    {
      "metadata": {
        "id": "MiPAWGlYLkm2",
        "colab_type": "text"
      },
      "cell_type": "markdown",
      "source": [
        "Our TnSeq dataset is tab delimited:\n",
        "```\n",
        "NC_007795.1     2500004 2500006 4.0     3.0     1.0     1.0     2.0     10.0\n",
        "NC_007795.1     2500008 2500010 3.0     11.0    0.0     1.0     2.0     11.0\n",
        "NC_007795.1     2500020 2500022 4.0     13.0    8.0     2.0     5.0     13.0\n",
        "NC_007795.1     2500022 2500024 27.0    15.0    8.0     3.0     7.0     18.0\n",
        "```"
      ]
    },
    {
      "metadata": {
        "id": "dDf3_ZRwLkm2",
        "colab_type": "text"
      },
      "cell_type": "markdown",
      "source": [
        "### Reading delimited files"
      ]
    },
    {
      "metadata": {
        "id": "MorDMstgLkm2",
        "colab_type": "code",
        "colab": {}
      },
      "cell_type": "code",
      "source": [
        "#Let's print every line\n",
        "\n",
        "with open( \"tnseq_data_short.txt\" ) as fileObj:\n",
        "    for ( i, line ) in enumerate( fileObj, start = 1 ):\n",
        "        if not line.startswith('#'):\n",
        "            print( i, line.rstrip())"
      ],
      "execution_count": 0,
      "outputs": []
    },
    {
      "metadata": {
        "id": "nV_lWuOpLkm6",
        "colab_type": "code",
        "outputId": "81f6fcb5-520e-4b8d-aed5-413cc9a3f6f1",
        "colab": {
          "base_uri": "https://localhost:8080/",
          "height": 1700
        }
      },
      "cell_type": "code",
      "source": [
        "#Let's split line into fields\n",
        "\n",
        "with open( \"tnseq_data_short.txt\" ) as fileObj:\n",
        "    for ( i, line ) in enumerate( fileObj, start = 1 ):\n",
        "        if not line.startswith('#'):\n",
        "            print( i, line.rstrip().split('\\t') )"
      ],
      "execution_count": 0,
      "outputs": [
        {
          "output_type": "stream",
          "text": [
            "2 ['NC_007795.1', '2500004', '2500006', '4.0', '3.0', '1.0', '1.0', '2.0', '10.0']\n",
            "3 ['NC_007795.1', '2500008', '2500010', '3.0', '11.0', '0.0', '1.0', '2.0', '11.0']\n",
            "4 ['NC_007795.1', '2500020', '2500022', '4.0', '13.0', '8.0', '2.0', '5.0', '13.0']\n",
            "5 ['NC_007795.1', '2500022', '2500024', '27.0', '15.0', '8.0', '3.0', '7.0', '18.0']\n",
            "6 ['NC_007795.1', '2500031', '2500033', '27.0', '13.0', '8.0', '3.0', '6.0', '23.0']\n",
            "7 ['NC_007795.1', '2500033', '2500035', '26.0', '12.0', '8.0', '3.0', '5.0', '23.0']\n",
            "8 ['NC_007795.1', '2500037', '2500039', '28.0', '12.0', '6.0', '5.0', '7.0', '16.0']\n",
            "9 ['NC_007795.1', '2500043', '2500045', '6.0', '11.0', '6.0', '4.0', '5.0', '10.0']\n",
            "10 ['NC_007795.1', '2500050', '2500052', '5.0', '6.0', '5.0', '4.0', '5.0', '6.0']\n",
            "11 ['NC_007795.1', '2500058', '2500060', '1.0', '5.0', '0.0', '0.0', '1.0', '2.0']\n",
            "12 ['NC_007795.1', '2500061', '2500063', '3.0', '0.0', '0.0', '0.0', '0.0', '0.0']\n",
            "13 ['NC_007795.1', '2500065', '2500067', '4.0', '2.0', '0.0', '13.0', '1.0', '3.0']\n",
            "14 ['NC_007795.1', '2500077', '2500079', '5.0', '3.0', '0.0', '13.0', '8.0', '8.0']\n",
            "15 ['NC_007795.1', '2500085', '2500087', '5.0', '1.0', '0.0', '1.0', '7.0', '6.0']\n",
            "16 ['NC_007795.1', '2500089', '2500091', '4.0', '1.0', '0.0', '1.0', '6.0', '4.0']\n",
            "17 ['NC_007795.1', '2500097', '2500099', '2.0', '0.0', '0.0', '1.0', '0.0', '1.0']\n",
            "18 ['NC_007795.1', '2500103', '2500105', '1.0', '0.0', '0.0', '0.0', '0.0', '0.0']\n",
            "19 ['NC_007795.1', '2500110', '2500112', '1.0', '3.0', '0.0', '2.0', '0.0', '0.0']\n",
            "20 ['NC_007795.1', '2500124', '2500126', '1.0', '3.0', '0.0', '3.0', '1.0', '1.0']\n",
            "21 ['NC_007795.1', '2500131', '2500133', '1.0', '3.0', '4.0', '2.0', '3.0', '27.0']\n",
            "22 ['NC_007795.1', '2500148', '2500150', '2.0', '8.0', '0.0', '3.0', '10.0', '1.0']\n",
            "23 ['NC_007795.1', '2500150', '2500152', '3.0', '9.0', '5.0', '6.0', '10.0', '2.0']\n",
            "24 ['NC_007795.1', '2500158', '2500160', '3.0', '9.0', '5.0', '6.0', '10.0', '2.0']\n",
            "25 ['NC_007795.1', '2500167', '2500169', '0.0', '0.0', '0.0', '1.0', '0.0', '0.0']\n",
            "26 ['NC_007795.1', '2500175', '2500177', '0.0', '0.0', '0.0', '1.0', '0.0', '0.0']\n",
            "27 ['NC_007795.1', '2500181', '2500183', '3.0', '2.0', '1.0', '11.0', '10.0', '11.0']\n",
            "28 ['NC_007795.1', '2500193', '2500195', '4.0', '3.0', '13.0', '13.0', '11.0', '18.0']\n",
            "29 ['NC_007795.1', '2500214', '2500216', '3.0', '3.0', '1.0', '2.0', '1.0', '16.0']\n",
            "30 ['NC_007795.1', '2500219', '2500221', '3.0', '4.0', '2.0', '2.0', '1.0', '18.0']\n",
            "31 ['NC_007795.1', '2500223', '2500225', '3.0', '4.0', '2.0', '2.0', '1.0', '18.0']\n",
            "32 ['NC_007795.1', '2500232', '2500234', '0.0', '1.0', '1.0', '0.0', '1.0', '2.0']\n",
            "33 ['NC_007795.1', '2500253', '2500255', '10.0', '5.0', '1.0', '3.0', '2.0', '35.0']\n",
            "34 ['NC_007795.1', '2500265', '2500267', '12.0', '6.0', '6.0', '3.0', '2.0', '34.0']\n",
            "35 ['NC_007795.1', '2500280', '2500282', '4.0', '7.0', '6.0', '5.0', '1.0', '1.0']\n",
            "36 ['NC_007795.1', '2500282', '2500284', '2.0', '5.0', '1.0', '5.0', '1.0', '2.0']\n",
            "37 ['NC_007795.1', '2500286', '2500288', '1.0', '2.0', '1.0', '0.0', '2.0', '3.0']\n",
            "38 ['NC_007795.1', '2500293', '2500295', '1.0', '0.0', '1.0', '2.0', '1.0', '2.0']\n",
            "39 ['NC_007795.1', '2500299', '2500301', '1.0', '0.0', '1.0', '2.0', '1.0', '1.0']\n",
            "40 ['NC_007795.1', '2500305', '2500307', '0.0', '0.0', '0.0', '2.0', '0.0', '0.0']\n",
            "41 ['NC_007795.1', '2500326', '2500328', '0.0', '0.0', '0.0', '0.0', '0.0', '0.0']\n",
            "42 ['NC_007795.1', '2500340', '2500342', '1.0', '0.0', '2.0', '1.0', '0.0', '0.0']\n",
            "43 ['NC_007795.1', '2500344', '2500346', '1.0', '0.0', '2.0', '1.0', '0.0', '0.0']\n",
            "44 ['NC_007795.1', '2500352', '2500354', '1.0', '1.0', '3.0', '1.0', '0.0', '0.0']\n",
            "45 ['NC_007795.1', '2500376', '2500378', '2.0', '0.0', '1.0', '0.0', '1.0', '6.0']\n",
            "46 ['NC_007795.1', '2500380', '2500382', '2.0', '0.0', '0.0', '0.0', '2.0', '2.0']\n",
            "47 ['NC_007795.1', '2500394', '2500396', '0.0', '0.0', '0.0', '0.0', '1.0', '0.0']\n",
            "48 ['NC_007795.1', '2500409', '2500411', '1.0', '0.0', '0.0', '0.0', '0.0', '2.0']\n",
            "49 ['NC_007795.1', '2500428', '2500430', '0.0', '0.0', '0.0', '0.0', '1.0', '2.0']\n",
            "50 ['NC_007795.1', '2500468', '2500470', '2.0', '2.0', '3.0', '0.0', '1.0', '1.0']\n",
            "51 ['NC_007795.1', '2500485', '2500487', '0.0', '1.0', '1.0', '1.0', '2.0', '0.0']\n",
            "52 ['NC_007795.1', '2500488', '2500490', '3.0', '1.0', '1.0', '0.0', '2.0', '0.0']\n",
            "53 ['NC_007795.1', '2500496', '2500498', '3.0', '0.0', '1.0', '1.0', '1.0', '1.0']\n",
            "54 ['NC_007795.1', '2500509', '2500511', '2.0', '8.0', '0.0', '2.0', '2.0', '2.0']\n",
            "55 ['NC_007795.1', '2500512', '2500514', '2.0', '8.0', '0.0', '1.0', '2.0', '1.0']\n",
            "56 ['NC_007795.1', '2500526', '2500528', '1.0', '0.0', '0.0', '0.0', '0.0', '0.0']\n",
            "57 ['NC_007795.1', '2500559', '2500561', '6.0', '8.0', '1.0', '2.0', '8.0', '1.0']\n",
            "58 ['NC_007795.1', '2500571', '2500573', '11.0', '9.0', '3.0', '2.0', '9.0', '1.0']\n",
            "59 ['NC_007795.1', '2500583', '2500585', '9.0', '11.0', '3.0', '2.0', '7.0', '5.0']\n",
            "60 ['NC_007795.1', '2500588', '2500590', '7.0', '10.0', '2.0', '3.0', '11.0', '6.0']\n",
            "61 ['NC_007795.1', '2500610', '2500612', '0.0', '0.0', '0.0', '0.0', '0.0', '0.0']\n",
            "62 ['NC_007795.1', '2500629', '2500631', '0.0', '0.0', '0.0', '0.0', '0.0', '0.0']\n",
            "63 ['NC_007795.1', '2500661', '2500663', '12.0', '1.0', '5.0', '3.0', '0.0', '1.0']\n",
            "64 ['NC_007795.1', '2500682', '2500684', '1.0', '1.0', '1.0', '4.0', '0.0', '1.0']\n",
            "65 ['NC_007795.1', '2500685', '2500687', '2.0', '2.0', '16.0', '8.0', '1.0', '2.0']\n",
            "66 ['NC_007795.1', '2500694', '2500696', '1.0', '2.0', '15.0', '4.0', '1.0', '1.0']\n",
            "67 ['NC_007795.1', '2500700', '2500702', '1.0', '2.0', '15.0', '4.0', '1.0', '2.0']\n",
            "68 ['NC_007795.1', '2500707', '2500709', '0.0', '1.0', '1.0', '3.0', '1.0', '1.0']\n",
            "69 ['NC_007795.1', '2500710', '2500712', '0.0', '1.0', '1.0', '3.0', '1.0', '1.0']\n",
            "70 ['NC_007795.1', '2500718', '2500720', '1.0', '2.0', '1.0', '3.0', '1.0', '0.0']\n",
            "71 ['NC_007795.1', '2500740', '2500742', '1.0', '0.0', '1.0', '4.0', '1.0', '2.0']\n",
            "72 ['NC_007795.1', '2500748', '2500750', '1.0', '0.0', '2.0', '4.0', '1.0', '2.0']\n",
            "73 ['NC_007795.1', '2500766', '2500768', '4.0', '2.0', '14.0', '0.0', '1.0', '4.0']\n",
            "74 ['NC_007795.1', '2500773', '2500775', '3.0', '0.0', '4.0', '0.0', '2.0', '9.0']\n",
            "75 ['NC_007795.1', '2500775', '2500777', '7.0', '0.0', '15.0', '0.0', '2.0', '17.0']\n",
            "76 ['NC_007795.1', '2500779', '2500781', '5.0', '4.0', '13.0', '7.0', '1.0', '16.0']\n",
            "77 ['NC_007795.1', '2500781', '2500783', '5.0', '4.0', '12.0', '7.0', '1.0', '16.0']\n",
            "78 ['NC_007795.1', '2500793', '2500795', '0.0', '4.0', '0.0', '7.0', '0.0', '1.0']\n",
            "79 ['NC_007795.1', '2500819', '2500821', '17.0', '1.0', '1.0', '5.0', '2.0', '7.0']\n",
            "80 ['NC_007795.1', '2500827', '2500829', '17.0', '1.0', '1.0', '5.0', '2.0', '7.0']\n",
            "81 ['NC_007795.1', '2500829', '2500831', '18.0', '4.0', '1.0', '13.0', '1.0', '9.0']\n",
            "82 ['NC_007795.1', '2500850', '2500852', '22.0', '4.0', '3.0', '5.0', '3.0', '4.0']\n",
            "83 ['NC_007795.1', '2500856', '2500858', '23.0', '2.0', '2.0', '3.0', '0.0', '2.0']\n",
            "84 ['NC_007795.1', '2500874', '2500876', '0.0', '0.0', '0.0', '0.0', '0.0', '1.0']\n",
            "85 ['NC_007795.1', '2500886', '2500888', '6.0', '1.0', '4.0', '1.0', '3.0', '3.0']\n",
            "86 ['NC_007795.1', '2500896', '2500898', '7.0', '3.0', '11.0', '1.0', '4.0', '3.0']\n",
            "87 ['NC_007795.1', '2500901', '2500903', '7.0', '2.0', '8.0', '1.0', '3.0', '3.0']\n",
            "88 ['NC_007795.1', '2500908', '2500910', '1.0', '2.0', '7.0', '0.0', '1.0', '1.0']\n",
            "89 ['NC_007795.1', '2500916', '2500918', '0.0', '0.0', '0.0', '0.0', '0.0', '0.0']\n",
            "90 ['NC_007795.1', '2500934', '2500936', '1.0', '0.0', '1.0', '1.0', '0.0', '6.0']\n",
            "91 ['NC_007795.1', '2500943', '2500945', '2.0', '0.0', '0.0', '2.0', '1.0', '8.0']\n",
            "92 ['NC_007795.1', '2500945', '2500947', '2.0', '3.0', '0.0', '2.0', '1.0', '10.0']\n",
            "93 ['NC_007795.1', '2500961', '2500963', '1.0', '0.0', '1.0', '2.0', '0.0', '7.0']\n",
            "94 ['NC_007795.1', '2500964', '2500966', '1.0', '1.0', '1.0', '3.0', '1.0', '2.0']\n",
            "95 ['NC_007795.1', '2500978', '2500980', '0.0', '1.0', '0.0', '2.0', '1.0', '0.0']\n",
            "96 ['NC_007795.1', '2500994', '2500996', '0.0', '0.0', '1.0', '2.0', '0.0', '0.0']\n",
            "97 ['NC_007795.1', '2501010', '2501012', '0.0', '0.0', '3.0', '2.0', '9.0', '1.0']\n",
            "98 ['NC_007795.1', '2501013', '2501015', '0.0', '0.0', '2.0', '0.0', '9.0', '1.0']\n",
            "99 ['NC_007795.1', '2501022', '2501024', '5.0', '0.0', '2.0', '0.0', '10.0', '1.0']\n",
            "100 ['NC_007795.1', '2501028', '2501030', '6.0', '0.0', '0.0', '1.0', '1.0', '0.0']\n"
          ],
          "name": "stdout"
        }
      ]
    },
    {
      "metadata": {
        "id": "xVFWGWDyLkm8",
        "colab_type": "code",
        "outputId": "8619ef34-7e90-4fa2-975d-170492814058",
        "colab": {
          "base_uri": "https://localhost:8080/",
          "height": 1700
        }
      },
      "cell_type": "code",
      "source": [
        "#Let's omit accession number field\n",
        "\n",
        "with open( \"tnseq_data_short.txt\" ) as fileObj:\n",
        "    for ( i, line ) in enumerate( fileObj, start = 1 ):\n",
        "        if not line.startswith('#'):\n",
        "            print( i,\"\\t\", line.rstrip().split('\\t')[1:])"
      ],
      "execution_count": 0,
      "outputs": [
        {
          "output_type": "stream",
          "text": [
            "2 \t ['2500004', '2500006', '4.0', '3.0', '1.0', '1.0', '2.0', '10.0']\n",
            "3 \t ['2500008', '2500010', '3.0', '11.0', '0.0', '1.0', '2.0', '11.0']\n",
            "4 \t ['2500020', '2500022', '4.0', '13.0', '8.0', '2.0', '5.0', '13.0']\n",
            "5 \t ['2500022', '2500024', '27.0', '15.0', '8.0', '3.0', '7.0', '18.0']\n",
            "6 \t ['2500031', '2500033', '27.0', '13.0', '8.0', '3.0', '6.0', '23.0']\n",
            "7 \t ['2500033', '2500035', '26.0', '12.0', '8.0', '3.0', '5.0', '23.0']\n",
            "8 \t ['2500037', '2500039', '28.0', '12.0', '6.0', '5.0', '7.0', '16.0']\n",
            "9 \t ['2500043', '2500045', '6.0', '11.0', '6.0', '4.0', '5.0', '10.0']\n",
            "10 \t ['2500050', '2500052', '5.0', '6.0', '5.0', '4.0', '5.0', '6.0']\n",
            "11 \t ['2500058', '2500060', '1.0', '5.0', '0.0', '0.0', '1.0', '2.0']\n",
            "12 \t ['2500061', '2500063', '3.0', '0.0', '0.0', '0.0', '0.0', '0.0']\n",
            "13 \t ['2500065', '2500067', '4.0', '2.0', '0.0', '13.0', '1.0', '3.0']\n",
            "14 \t ['2500077', '2500079', '5.0', '3.0', '0.0', '13.0', '8.0', '8.0']\n",
            "15 \t ['2500085', '2500087', '5.0', '1.0', '0.0', '1.0', '7.0', '6.0']\n",
            "16 \t ['2500089', '2500091', '4.0', '1.0', '0.0', '1.0', '6.0', '4.0']\n",
            "17 \t ['2500097', '2500099', '2.0', '0.0', '0.0', '1.0', '0.0', '1.0']\n",
            "18 \t ['2500103', '2500105', '1.0', '0.0', '0.0', '0.0', '0.0', '0.0']\n",
            "19 \t ['2500110', '2500112', '1.0', '3.0', '0.0', '2.0', '0.0', '0.0']\n",
            "20 \t ['2500124', '2500126', '1.0', '3.0', '0.0', '3.0', '1.0', '1.0']\n",
            "21 \t ['2500131', '2500133', '1.0', '3.0', '4.0', '2.0', '3.0', '27.0']\n",
            "22 \t ['2500148', '2500150', '2.0', '8.0', '0.0', '3.0', '10.0', '1.0']\n",
            "23 \t ['2500150', '2500152', '3.0', '9.0', '5.0', '6.0', '10.0', '2.0']\n",
            "24 \t ['2500158', '2500160', '3.0', '9.0', '5.0', '6.0', '10.0', '2.0']\n",
            "25 \t ['2500167', '2500169', '0.0', '0.0', '0.0', '1.0', '0.0', '0.0']\n",
            "26 \t ['2500175', '2500177', '0.0', '0.0', '0.0', '1.0', '0.0', '0.0']\n",
            "27 \t ['2500181', '2500183', '3.0', '2.0', '1.0', '11.0', '10.0', '11.0']\n",
            "28 \t ['2500193', '2500195', '4.0', '3.0', '13.0', '13.0', '11.0', '18.0']\n",
            "29 \t ['2500214', '2500216', '3.0', '3.0', '1.0', '2.0', '1.0', '16.0']\n",
            "30 \t ['2500219', '2500221', '3.0', '4.0', '2.0', '2.0', '1.0', '18.0']\n",
            "31 \t ['2500223', '2500225', '3.0', '4.0', '2.0', '2.0', '1.0', '18.0']\n",
            "32 \t ['2500232', '2500234', '0.0', '1.0', '1.0', '0.0', '1.0', '2.0']\n",
            "33 \t ['2500253', '2500255', '10.0', '5.0', '1.0', '3.0', '2.0', '35.0']\n",
            "34 \t ['2500265', '2500267', '12.0', '6.0', '6.0', '3.0', '2.0', '34.0']\n",
            "35 \t ['2500280', '2500282', '4.0', '7.0', '6.0', '5.0', '1.0', '1.0']\n",
            "36 \t ['2500282', '2500284', '2.0', '5.0', '1.0', '5.0', '1.0', '2.0']\n",
            "37 \t ['2500286', '2500288', '1.0', '2.0', '1.0', '0.0', '2.0', '3.0']\n",
            "38 \t ['2500293', '2500295', '1.0', '0.0', '1.0', '2.0', '1.0', '2.0']\n",
            "39 \t ['2500299', '2500301', '1.0', '0.0', '1.0', '2.0', '1.0', '1.0']\n",
            "40 \t ['2500305', '2500307', '0.0', '0.0', '0.0', '2.0', '0.0', '0.0']\n",
            "41 \t ['2500326', '2500328', '0.0', '0.0', '0.0', '0.0', '0.0', '0.0']\n",
            "42 \t ['2500340', '2500342', '1.0', '0.0', '2.0', '1.0', '0.0', '0.0']\n",
            "43 \t ['2500344', '2500346', '1.0', '0.0', '2.0', '1.0', '0.0', '0.0']\n",
            "44 \t ['2500352', '2500354', '1.0', '1.0', '3.0', '1.0', '0.0', '0.0']\n",
            "45 \t ['2500376', '2500378', '2.0', '0.0', '1.0', '0.0', '1.0', '6.0']\n",
            "46 \t ['2500380', '2500382', '2.0', '0.0', '0.0', '0.0', '2.0', '2.0']\n",
            "47 \t ['2500394', '2500396', '0.0', '0.0', '0.0', '0.0', '1.0', '0.0']\n",
            "48 \t ['2500409', '2500411', '1.0', '0.0', '0.0', '0.0', '0.0', '2.0']\n",
            "49 \t ['2500428', '2500430', '0.0', '0.0', '0.0', '0.0', '1.0', '2.0']\n",
            "50 \t ['2500468', '2500470', '2.0', '2.0', '3.0', '0.0', '1.0', '1.0']\n",
            "51 \t ['2500485', '2500487', '0.0', '1.0', '1.0', '1.0', '2.0', '0.0']\n",
            "52 \t ['2500488', '2500490', '3.0', '1.0', '1.0', '0.0', '2.0', '0.0']\n",
            "53 \t ['2500496', '2500498', '3.0', '0.0', '1.0', '1.0', '1.0', '1.0']\n",
            "54 \t ['2500509', '2500511', '2.0', '8.0', '0.0', '2.0', '2.0', '2.0']\n",
            "55 \t ['2500512', '2500514', '2.0', '8.0', '0.0', '1.0', '2.0', '1.0']\n",
            "56 \t ['2500526', '2500528', '1.0', '0.0', '0.0', '0.0', '0.0', '0.0']\n",
            "57 \t ['2500559', '2500561', '6.0', '8.0', '1.0', '2.0', '8.0', '1.0']\n",
            "58 \t ['2500571', '2500573', '11.0', '9.0', '3.0', '2.0', '9.0', '1.0']\n",
            "59 \t ['2500583', '2500585', '9.0', '11.0', '3.0', '2.0', '7.0', '5.0']\n",
            "60 \t ['2500588', '2500590', '7.0', '10.0', '2.0', '3.0', '11.0', '6.0']\n",
            "61 \t ['2500610', '2500612', '0.0', '0.0', '0.0', '0.0', '0.0', '0.0']\n",
            "62 \t ['2500629', '2500631', '0.0', '0.0', '0.0', '0.0', '0.0', '0.0']\n",
            "63 \t ['2500661', '2500663', '12.0', '1.0', '5.0', '3.0', '0.0', '1.0']\n",
            "64 \t ['2500682', '2500684', '1.0', '1.0', '1.0', '4.0', '0.0', '1.0']\n",
            "65 \t ['2500685', '2500687', '2.0', '2.0', '16.0', '8.0', '1.0', '2.0']\n",
            "66 \t ['2500694', '2500696', '1.0', '2.0', '15.0', '4.0', '1.0', '1.0']\n",
            "67 \t ['2500700', '2500702', '1.0', '2.0', '15.0', '4.0', '1.0', '2.0']\n",
            "68 \t ['2500707', '2500709', '0.0', '1.0', '1.0', '3.0', '1.0', '1.0']\n",
            "69 \t ['2500710', '2500712', '0.0', '1.0', '1.0', '3.0', '1.0', '1.0']\n",
            "70 \t ['2500718', '2500720', '1.0', '2.0', '1.0', '3.0', '1.0', '0.0']\n",
            "71 \t ['2500740', '2500742', '1.0', '0.0', '1.0', '4.0', '1.0', '2.0']\n",
            "72 \t ['2500748', '2500750', '1.0', '0.0', '2.0', '4.0', '1.0', '2.0']\n",
            "73 \t ['2500766', '2500768', '4.0', '2.0', '14.0', '0.0', '1.0', '4.0']\n",
            "74 \t ['2500773', '2500775', '3.0', '0.0', '4.0', '0.0', '2.0', '9.0']\n",
            "75 \t ['2500775', '2500777', '7.0', '0.0', '15.0', '0.0', '2.0', '17.0']\n",
            "76 \t ['2500779', '2500781', '5.0', '4.0', '13.0', '7.0', '1.0', '16.0']\n",
            "77 \t ['2500781', '2500783', '5.0', '4.0', '12.0', '7.0', '1.0', '16.0']\n",
            "78 \t ['2500793', '2500795', '0.0', '4.0', '0.0', '7.0', '0.0', '1.0']\n",
            "79 \t ['2500819', '2500821', '17.0', '1.0', '1.0', '5.0', '2.0', '7.0']\n",
            "80 \t ['2500827', '2500829', '17.0', '1.0', '1.0', '5.0', '2.0', '7.0']\n",
            "81 \t ['2500829', '2500831', '18.0', '4.0', '1.0', '13.0', '1.0', '9.0']\n",
            "82 \t ['2500850', '2500852', '22.0', '4.0', '3.0', '5.0', '3.0', '4.0']\n",
            "83 \t ['2500856', '2500858', '23.0', '2.0', '2.0', '3.0', '0.0', '2.0']\n",
            "84 \t ['2500874', '2500876', '0.0', '0.0', '0.0', '0.0', '0.0', '1.0']\n",
            "85 \t ['2500886', '2500888', '6.0', '1.0', '4.0', '1.0', '3.0', '3.0']\n",
            "86 \t ['2500896', '2500898', '7.0', '3.0', '11.0', '1.0', '4.0', '3.0']\n",
            "87 \t ['2500901', '2500903', '7.0', '2.0', '8.0', '1.0', '3.0', '3.0']\n",
            "88 \t ['2500908', '2500910', '1.0', '2.0', '7.0', '0.0', '1.0', '1.0']\n",
            "89 \t ['2500916', '2500918', '0.0', '0.0', '0.0', '0.0', '0.0', '0.0']\n",
            "90 \t ['2500934', '2500936', '1.0', '0.0', '1.0', '1.0', '0.0', '6.0']\n",
            "91 \t ['2500943', '2500945', '2.0', '0.0', '0.0', '2.0', '1.0', '8.0']\n",
            "92 \t ['2500945', '2500947', '2.0', '3.0', '0.0', '2.0', '1.0', '10.0']\n",
            "93 \t ['2500961', '2500963', '1.0', '0.0', '1.0', '2.0', '0.0', '7.0']\n",
            "94 \t ['2500964', '2500966', '1.0', '1.0', '1.0', '3.0', '1.0', '2.0']\n",
            "95 \t ['2500978', '2500980', '0.0', '1.0', '0.0', '2.0', '1.0', '0.0']\n",
            "96 \t ['2500994', '2500996', '0.0', '0.0', '1.0', '2.0', '0.0', '0.0']\n",
            "97 \t ['2501010', '2501012', '0.0', '0.0', '3.0', '2.0', '9.0', '1.0']\n",
            "98 \t ['2501013', '2501015', '0.0', '0.0', '2.0', '0.0', '9.0', '1.0']\n",
            "99 \t ['2501022', '2501024', '5.0', '0.0', '2.0', '0.0', '10.0', '1.0']\n",
            "100 \t ['2501028', '2501030', '6.0', '0.0', '0.0', '1.0', '1.0', '0.0']\n"
          ],
          "name": "stdout"
        }
      ]
    },
    {
      "metadata": {
        "id": "ZLLYA6uALkm9",
        "colab_type": "code",
        "outputId": "648e15d9-c388-4bf1-bd82-796bedb44ff7",
        "colab": {
          "base_uri": "https://localhost:8080/",
          "height": 1700
        }
      },
      "cell_type": "code",
      "source": [
        "# Let's join fields with tabs\n",
        "\n",
        "with open( \"tnseq_data_short.txt\" ) as fileObj:\n",
        "    for ( i, line ) in enumerate( fileObj, start = 1 ):\n",
        "        if not line.startswith('#'):\n",
        "            print( i,\"\\t\", \"\\t\".join(line.rstrip().split('\\t')[1:]))"
      ],
      "execution_count": 0,
      "outputs": [
        {
          "output_type": "stream",
          "text": [
            "2 \t 2500004\t2500006\t4.0\t3.0\t1.0\t1.0\t2.0\t10.0\n",
            "3 \t 2500008\t2500010\t3.0\t11.0\t0.0\t1.0\t2.0\t11.0\n",
            "4 \t 2500020\t2500022\t4.0\t13.0\t8.0\t2.0\t5.0\t13.0\n",
            "5 \t 2500022\t2500024\t27.0\t15.0\t8.0\t3.0\t7.0\t18.0\n",
            "6 \t 2500031\t2500033\t27.0\t13.0\t8.0\t3.0\t6.0\t23.0\n",
            "7 \t 2500033\t2500035\t26.0\t12.0\t8.0\t3.0\t5.0\t23.0\n",
            "8 \t 2500037\t2500039\t28.0\t12.0\t6.0\t5.0\t7.0\t16.0\n",
            "9 \t 2500043\t2500045\t6.0\t11.0\t6.0\t4.0\t5.0\t10.0\n",
            "10 \t 2500050\t2500052\t5.0\t6.0\t5.0\t4.0\t5.0\t6.0\n",
            "11 \t 2500058\t2500060\t1.0\t5.0\t0.0\t0.0\t1.0\t2.0\n",
            "12 \t 2500061\t2500063\t3.0\t0.0\t0.0\t0.0\t0.0\t0.0\n",
            "13 \t 2500065\t2500067\t4.0\t2.0\t0.0\t13.0\t1.0\t3.0\n",
            "14 \t 2500077\t2500079\t5.0\t3.0\t0.0\t13.0\t8.0\t8.0\n",
            "15 \t 2500085\t2500087\t5.0\t1.0\t0.0\t1.0\t7.0\t6.0\n",
            "16 \t 2500089\t2500091\t4.0\t1.0\t0.0\t1.0\t6.0\t4.0\n",
            "17 \t 2500097\t2500099\t2.0\t0.0\t0.0\t1.0\t0.0\t1.0\n",
            "18 \t 2500103\t2500105\t1.0\t0.0\t0.0\t0.0\t0.0\t0.0\n",
            "19 \t 2500110\t2500112\t1.0\t3.0\t0.0\t2.0\t0.0\t0.0\n",
            "20 \t 2500124\t2500126\t1.0\t3.0\t0.0\t3.0\t1.0\t1.0\n",
            "21 \t 2500131\t2500133\t1.0\t3.0\t4.0\t2.0\t3.0\t27.0\n",
            "22 \t 2500148\t2500150\t2.0\t8.0\t0.0\t3.0\t10.0\t1.0\n",
            "23 \t 2500150\t2500152\t3.0\t9.0\t5.0\t6.0\t10.0\t2.0\n",
            "24 \t 2500158\t2500160\t3.0\t9.0\t5.0\t6.0\t10.0\t2.0\n",
            "25 \t 2500167\t2500169\t0.0\t0.0\t0.0\t1.0\t0.0\t0.0\n",
            "26 \t 2500175\t2500177\t0.0\t0.0\t0.0\t1.0\t0.0\t0.0\n",
            "27 \t 2500181\t2500183\t3.0\t2.0\t1.0\t11.0\t10.0\t11.0\n",
            "28 \t 2500193\t2500195\t4.0\t3.0\t13.0\t13.0\t11.0\t18.0\n",
            "29 \t 2500214\t2500216\t3.0\t3.0\t1.0\t2.0\t1.0\t16.0\n",
            "30 \t 2500219\t2500221\t3.0\t4.0\t2.0\t2.0\t1.0\t18.0\n",
            "31 \t 2500223\t2500225\t3.0\t4.0\t2.0\t2.0\t1.0\t18.0\n",
            "32 \t 2500232\t2500234\t0.0\t1.0\t1.0\t0.0\t1.0\t2.0\n",
            "33 \t 2500253\t2500255\t10.0\t5.0\t1.0\t3.0\t2.0\t35.0\n",
            "34 \t 2500265\t2500267\t12.0\t6.0\t6.0\t3.0\t2.0\t34.0\n",
            "35 \t 2500280\t2500282\t4.0\t7.0\t6.0\t5.0\t1.0\t1.0\n",
            "36 \t 2500282\t2500284\t2.0\t5.0\t1.0\t5.0\t1.0\t2.0\n",
            "37 \t 2500286\t2500288\t1.0\t2.0\t1.0\t0.0\t2.0\t3.0\n",
            "38 \t 2500293\t2500295\t1.0\t0.0\t1.0\t2.0\t1.0\t2.0\n",
            "39 \t 2500299\t2500301\t1.0\t0.0\t1.0\t2.0\t1.0\t1.0\n",
            "40 \t 2500305\t2500307\t0.0\t0.0\t0.0\t2.0\t0.0\t0.0\n",
            "41 \t 2500326\t2500328\t0.0\t0.0\t0.0\t0.0\t0.0\t0.0\n",
            "42 \t 2500340\t2500342\t1.0\t0.0\t2.0\t1.0\t0.0\t0.0\n",
            "43 \t 2500344\t2500346\t1.0\t0.0\t2.0\t1.0\t0.0\t0.0\n",
            "44 \t 2500352\t2500354\t1.0\t1.0\t3.0\t1.0\t0.0\t0.0\n",
            "45 \t 2500376\t2500378\t2.0\t0.0\t1.0\t0.0\t1.0\t6.0\n",
            "46 \t 2500380\t2500382\t2.0\t0.0\t0.0\t0.0\t2.0\t2.0\n",
            "47 \t 2500394\t2500396\t0.0\t0.0\t0.0\t0.0\t1.0\t0.0\n",
            "48 \t 2500409\t2500411\t1.0\t0.0\t0.0\t0.0\t0.0\t2.0\n",
            "49 \t 2500428\t2500430\t0.0\t0.0\t0.0\t0.0\t1.0\t2.0\n",
            "50 \t 2500468\t2500470\t2.0\t2.0\t3.0\t0.0\t1.0\t1.0\n",
            "51 \t 2500485\t2500487\t0.0\t1.0\t1.0\t1.0\t2.0\t0.0\n",
            "52 \t 2500488\t2500490\t3.0\t1.0\t1.0\t0.0\t2.0\t0.0\n",
            "53 \t 2500496\t2500498\t3.0\t0.0\t1.0\t1.0\t1.0\t1.0\n",
            "54 \t 2500509\t2500511\t2.0\t8.0\t0.0\t2.0\t2.0\t2.0\n",
            "55 \t 2500512\t2500514\t2.0\t8.0\t0.0\t1.0\t2.0\t1.0\n",
            "56 \t 2500526\t2500528\t1.0\t0.0\t0.0\t0.0\t0.0\t0.0\n",
            "57 \t 2500559\t2500561\t6.0\t8.0\t1.0\t2.0\t8.0\t1.0\n",
            "58 \t 2500571\t2500573\t11.0\t9.0\t3.0\t2.0\t9.0\t1.0\n",
            "59 \t 2500583\t2500585\t9.0\t11.0\t3.0\t2.0\t7.0\t5.0\n",
            "60 \t 2500588\t2500590\t7.0\t10.0\t2.0\t3.0\t11.0\t6.0\n",
            "61 \t 2500610\t2500612\t0.0\t0.0\t0.0\t0.0\t0.0\t0.0\n",
            "62 \t 2500629\t2500631\t0.0\t0.0\t0.0\t0.0\t0.0\t0.0\n",
            "63 \t 2500661\t2500663\t12.0\t1.0\t5.0\t3.0\t0.0\t1.0\n",
            "64 \t 2500682\t2500684\t1.0\t1.0\t1.0\t4.0\t0.0\t1.0\n",
            "65 \t 2500685\t2500687\t2.0\t2.0\t16.0\t8.0\t1.0\t2.0\n",
            "66 \t 2500694\t2500696\t1.0\t2.0\t15.0\t4.0\t1.0\t1.0\n",
            "67 \t 2500700\t2500702\t1.0\t2.0\t15.0\t4.0\t1.0\t2.0\n",
            "68 \t 2500707\t2500709\t0.0\t1.0\t1.0\t3.0\t1.0\t1.0\n",
            "69 \t 2500710\t2500712\t0.0\t1.0\t1.0\t3.0\t1.0\t1.0\n",
            "70 \t 2500718\t2500720\t1.0\t2.0\t1.0\t3.0\t1.0\t0.0\n",
            "71 \t 2500740\t2500742\t1.0\t0.0\t1.0\t4.0\t1.0\t2.0\n",
            "72 \t 2500748\t2500750\t1.0\t0.0\t2.0\t4.0\t1.0\t2.0\n",
            "73 \t 2500766\t2500768\t4.0\t2.0\t14.0\t0.0\t1.0\t4.0\n",
            "74 \t 2500773\t2500775\t3.0\t0.0\t4.0\t0.0\t2.0\t9.0\n",
            "75 \t 2500775\t2500777\t7.0\t0.0\t15.0\t0.0\t2.0\t17.0\n",
            "76 \t 2500779\t2500781\t5.0\t4.0\t13.0\t7.0\t1.0\t16.0\n",
            "77 \t 2500781\t2500783\t5.0\t4.0\t12.0\t7.0\t1.0\t16.0\n",
            "78 \t 2500793\t2500795\t0.0\t4.0\t0.0\t7.0\t0.0\t1.0\n",
            "79 \t 2500819\t2500821\t17.0\t1.0\t1.0\t5.0\t2.0\t7.0\n",
            "80 \t 2500827\t2500829\t17.0\t1.0\t1.0\t5.0\t2.0\t7.0\n",
            "81 \t 2500829\t2500831\t18.0\t4.0\t1.0\t13.0\t1.0\t9.0\n",
            "82 \t 2500850\t2500852\t22.0\t4.0\t3.0\t5.0\t3.0\t4.0\n",
            "83 \t 2500856\t2500858\t23.0\t2.0\t2.0\t3.0\t0.0\t2.0\n",
            "84 \t 2500874\t2500876\t0.0\t0.0\t0.0\t0.0\t0.0\t1.0\n",
            "85 \t 2500886\t2500888\t6.0\t1.0\t4.0\t1.0\t3.0\t3.0\n",
            "86 \t 2500896\t2500898\t7.0\t3.0\t11.0\t1.0\t4.0\t3.0\n",
            "87 \t 2500901\t2500903\t7.0\t2.0\t8.0\t1.0\t3.0\t3.0\n",
            "88 \t 2500908\t2500910\t1.0\t2.0\t7.0\t0.0\t1.0\t1.0\n",
            "89 \t 2500916\t2500918\t0.0\t0.0\t0.0\t0.0\t0.0\t0.0\n",
            "90 \t 2500934\t2500936\t1.0\t0.0\t1.0\t1.0\t0.0\t6.0\n",
            "91 \t 2500943\t2500945\t2.0\t0.0\t0.0\t2.0\t1.0\t8.0\n",
            "92 \t 2500945\t2500947\t2.0\t3.0\t0.0\t2.0\t1.0\t10.0\n",
            "93 \t 2500961\t2500963\t1.0\t0.0\t1.0\t2.0\t0.0\t7.0\n",
            "94 \t 2500964\t2500966\t1.0\t1.0\t1.0\t3.0\t1.0\t2.0\n",
            "95 \t 2500978\t2500980\t0.0\t1.0\t0.0\t2.0\t1.0\t0.0\n",
            "96 \t 2500994\t2500996\t0.0\t0.0\t1.0\t2.0\t0.0\t0.0\n",
            "97 \t 2501010\t2501012\t0.0\t0.0\t3.0\t2.0\t9.0\t1.0\n",
            "98 \t 2501013\t2501015\t0.0\t0.0\t2.0\t0.0\t9.0\t1.0\n",
            "99 \t 2501022\t2501024\t5.0\t0.0\t2.0\t0.0\t10.0\t1.0\n",
            "100 \t 2501028\t2501030\t6.0\t0.0\t0.0\t1.0\t1.0\t0.0\n"
          ],
          "name": "stdout"
        }
      ]
    },
    {
      "metadata": {
        "id": "IZvjDMhWLkm-",
        "colab_type": "code",
        "colab": {}
      },
      "cell_type": "code",
      "source": [
        "# Let's format string properly\n",
        "f2write = open('no_acc.txt','w')\n",
        "\n",
        "with open( \"tnseq_data_short.txt\" ) as fileObj:\n",
        "    for ( i, line ) in enumerate( fileObj, start = 1 ):\n",
        "        if not line.startswith('#'):\n",
        "            new = line.rstrip().split('\\t')[1:]\n",
        "            f2write.write(\"{}\\t{}\\n\".format(i,\"\\t\".join(new))  )\n",
        "f2write.close()"
      ],
      "execution_count": 0,
      "outputs": []
    },
    {
      "metadata": {
        "id": "4_Z0YFayZiCs",
        "colab_type": "code",
        "outputId": "fedc3d12-2fdf-4209-8ca9-d9977a56a906",
        "colab": {
          "base_uri": "https://localhost:8080/",
          "height": 187
        }
      },
      "cell_type": "code",
      "source": [
        "!head no_acc.txt"
      ],
      "execution_count": 0,
      "outputs": [
        {
          "output_type": "stream",
          "text": [
            "2\t2500004\t2500006\t4.0\t3.0\t1.0\t1.0\t2.0\t10.0\n",
            "3\t2500008\t2500010\t3.0\t11.0\t0.0\t1.0\t2.0\t11.0\n",
            "4\t2500020\t2500022\t4.0\t13.0\t8.0\t2.0\t5.0\t13.0\n",
            "5\t2500022\t2500024\t27.0\t15.0\t8.0\t3.0\t7.0\t18.0\n",
            "6\t2500031\t2500033\t27.0\t13.0\t8.0\t3.0\t6.0\t23.0\n",
            "7\t2500033\t2500035\t26.0\t12.0\t8.0\t3.0\t5.0\t23.0\n",
            "8\t2500037\t2500039\t28.0\t12.0\t6.0\t5.0\t7.0\t16.0\n",
            "9\t2500043\t2500045\t6.0\t11.0\t6.0\t4.0\t5.0\t10.0\n",
            "10\t2500050\t2500052\t5.0\t6.0\t5.0\t4.0\t5.0\t6.0\n",
            "11\t2500058\t2500060\t1.0\t5.0\t0.0\t0.0\t1.0\t2.0\n"
          ],
          "name": "stdout"
        }
      ]
    },
    {
      "metadata": {
        "id": "qA0BAG72LknC",
        "colab_type": "text"
      },
      "cell_type": "markdown",
      "source": [
        "### Writing delimited files"
      ]
    },
    {
      "metadata": {
        "id": "TepJ0jeFLknC",
        "colab_type": "text"
      },
      "cell_type": "markdown",
      "source": [
        "Writing out a delimited file is also straightforward using the `join` method. Here, as an example we will recreate our original file from above, but this time we will delimit the columns with a comma."
      ]
    },
    {
      "metadata": {
        "id": "6nZdEd1_LknE",
        "colab_type": "code",
        "colab": {}
      },
      "cell_type": "code",
      "source": [
        "# Create a new file object for the file we will be saving to \n",
        "\n",
        "f2write = open('no_acc.txt','w')\n",
        "\n",
        "with open( \"tnseq_data_short.txt\" ) as fileObj:\n",
        "    for ( i, line ) in enumerate( fileObj, start = 1 ):\n",
        "        if not line.startswith('#'):\n",
        "            f2write.write(\"{}\\t{}\".format(i,\"\\t\".join(line.rstrip().split('\\t')[1:]))  )\n",
        "            \n",
        "f2write.close()"
      ],
      "execution_count": 0,
      "outputs": []
    },
    {
      "metadata": {
        "id": "uu1lTjeiLknI",
        "colab_type": "code",
        "colab": {}
      },
      "cell_type": "code",
      "source": [
        "!head no_acc.txt"
      ],
      "execution_count": 0,
      "outputs": []
    },
    {
      "metadata": {
        "id": "F0UBiMIhLknL",
        "colab_type": "code",
        "colab": {}
      },
      "cell_type": "code",
      "source": [
        ""
      ],
      "execution_count": 0,
      "outputs": []
    }
  ]
}