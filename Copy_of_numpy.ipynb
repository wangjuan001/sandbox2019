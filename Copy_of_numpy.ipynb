{
  "nbformat": 4,
  "nbformat_minor": 0,
  "metadata": {
    "colab": {
      "name": "Copy of numpy.ipynb",
      "version": "0.3.2",
      "provenance": [],
      "collapsed_sections": [],
      "toc_visible": true,
      "include_colab_link": true
    },
    "kernelspec": {
      "display_name": "Python 3",
      "language": "python",
      "name": "python3"
    }
  },
  "cells": [
    {
      "cell_type": "markdown",
      "metadata": {
        "id": "view-in-github",
        "colab_type": "text"
      },
      "source": [
        "<a href=\"https://colab.research.google.com/github/wangjuan001/sandbox2019/blob/master/Copy_of_numpy.ipynb\" target=\"_parent\"><img src=\"https://colab.research.google.com/assets/colab-badge.svg\" alt=\"Open In Colab\"/></a>"
      ]
    },
    {
      "metadata": {
        "colab_type": "text",
        "id": "PAaI2OuwT8GI"
      },
      "cell_type": "markdown",
      "source": [
        "# Numpy: Operations with multidimensional data\n",
        "\n",
        "This notebook is based (with some modifications) on a []NumPy tutorial](https://github.com/jrjohansson/scientific-python-lectures/blob/master/Lecture-2-Numpy.ipynb) by J.R. Johansson"
      ]
    },
    {
      "metadata": {
        "colab_type": "code",
        "id": "vQjkVFN3T4eY",
        "colab": {}
      },
      "cell_type": "code",
      "source": [
        "# Import MatPlotlib so we can look at some pretty plots\n",
        "# The reson for doing this will become clear in out MatPlotLib lecture next week\n",
        "%matplotlib inline\n",
        "import matplotlib.pyplot as plt"
      ],
      "execution_count": 0,
      "outputs": []
    },
    {
      "metadata": {
        "colab_type": "text",
        "id": "XlcKlCdnUqjH"
      },
      "cell_type": "markdown",
      "source": [
        "## Introduction\n",
        "\n",
        "-------\n",
        "\n",
        "The numpy package (module) is used in almost all numerical computation using Python. It is a package that provide high-performance vector, matrix and higher-dimensional data structures for Python. It is implemented in C and Fortran so when calculations are vectorized (formulated with vectors and matrices), performance is very good.\n",
        "\n",
        "To use numpy you need to import the module, using for example:"
      ]
    },
    {
      "metadata": {
        "colab_type": "code",
        "id": "sl3vLf43Ulk6",
        "colab": {}
      },
      "cell_type": "code",
      "source": [
        "from numpy import *"
      ],
      "execution_count": 0,
      "outputs": []
    },
    {
      "metadata": {
        "colab_type": "text",
        "id": "UpGwnCxb5wo6"
      },
      "cell_type": "markdown",
      "source": [
        "In the numpy package the terminology used for vectors, matrices and higher-dimensional data sets is array.\n",
        "\n",
        "## Creating numpy arrays\n",
        "\n",
        "-------\n",
        "\n",
        "There are a number of ways to initialize new numpy arrays, for example from\n",
        "\n",
        " - a Python list or tuples\n",
        " - using functions that are dedicated to generating numpy arrays, such as arange, linspace, etc.\n",
        " - reading data from files\n",
        "\n",
        "### From lists\n",
        "For example, to create new vector and matrix arrays from Python lists we can use the `numpy.array` function."
      ]
    },
    {
      "metadata": {
        "colab_type": "code",
        "id": "3suZc_nyUzKT",
        "outputId": "865d779e-5056-4522-c206-a4be70e600d8",
        "colab": {
          "base_uri": "https://localhost:8080/",
          "height": 34
        }
      },
      "cell_type": "code",
      "source": [
        "# a vector: the argument to the array function is a Python list\n",
        "vector = array([1,2,3,4])\n",
        "\n",
        "vector"
      ],
      "execution_count": 0,
      "outputs": [
        {
          "output_type": "execute_result",
          "data": {
            "text/plain": [
              "array([1, 2, 3, 4])"
            ]
          },
          "metadata": {
            "tags": []
          },
          "execution_count": 2
        }
      ]
    },
    {
      "metadata": {
        "colab_type": "code",
        "id": "eeFilgzg6FQH",
        "outputId": "5c043ba8-9a4e-47e1-d8ce-9b8497a5fd5e",
        "colab": {
          "base_uri": "https://localhost:8080/",
          "height": 51
        }
      },
      "cell_type": "code",
      "source": [
        "# a matrix: the argument to the array function is a nested Python list\n",
        "matrix = array([[1, 2], [3, 4]])\n",
        "\n",
        "matrix"
      ],
      "execution_count": 0,
      "outputs": [
        {
          "output_type": "execute_result",
          "data": {
            "text/plain": [
              "array([[1, 2],\n",
              "       [3, 4]])"
            ]
          },
          "metadata": {
            "tags": []
          },
          "execution_count": 4
        }
      ]
    },
    {
      "metadata": {
        "colab_type": "text",
        "id": "-R3SPBzj6ROt"
      },
      "cell_type": "markdown",
      "source": [
        "The `v` and `M` objects are both of the type ndarray that the numpy module provides:"
      ]
    },
    {
      "metadata": {
        "colab_type": "code",
        "id": "3HHsPFYC6J5t",
        "outputId": "8b573dc9-dc79-4971-ae9a-069f69508f75",
        "colab": {
          "base_uri": "https://localhost:8080/",
          "height": 34
        }
      },
      "cell_type": "code",
      "source": [
        "type(vector), type(matrix)"
      ],
      "execution_count": 0,
      "outputs": [
        {
          "output_type": "execute_result",
          "data": {
            "text/plain": [
              "(numpy.ndarray, numpy.ndarray)"
            ]
          },
          "metadata": {
            "tags": []
          },
          "execution_count": 5
        }
      ]
    },
    {
      "metadata": {
        "colab_type": "text",
        "id": "TotJfenG6aJq"
      },
      "cell_type": "markdown",
      "source": [
        "The difference between the v and M arrays is only their shapes. We can get information about the shape of an array by using the `ndarray.shape` property:"
      ]
    },
    {
      "metadata": {
        "colab_type": "code",
        "id": "LMKHGwIm6X08",
        "outputId": "e3eef417-2c01-4365-9834-88d1e289bff2",
        "colab": {
          "base_uri": "https://localhost:8080/",
          "height": 34
        }
      },
      "cell_type": "code",
      "source": [
        "vector.shape"
      ],
      "execution_count": 0,
      "outputs": [
        {
          "output_type": "execute_result",
          "data": {
            "text/plain": [
              "(4,)"
            ]
          },
          "metadata": {
            "tags": []
          },
          "execution_count": 6
        }
      ]
    },
    {
      "metadata": {
        "colab_type": "code",
        "id": "Kth6uJtC6nh5",
        "outputId": "0283b26f-98d7-4d1d-ad6e-ee0c4bf8401a",
        "colab": {
          "base_uri": "https://localhost:8080/",
          "height": 34
        }
      },
      "cell_type": "code",
      "source": [
        "matrix.shape"
      ],
      "execution_count": 0,
      "outputs": [
        {
          "output_type": "execute_result",
          "data": {
            "text/plain": [
              "(2, 2)"
            ]
          },
          "metadata": {
            "tags": []
          },
          "execution_count": 7
        }
      ]
    },
    {
      "metadata": {
        "colab_type": "text",
        "id": "JS_60Flc63t9"
      },
      "cell_type": "markdown",
      "source": [
        "The number of elements in the array is available through the `ndarray.size` property:"
      ]
    },
    {
      "metadata": {
        "colab_type": "code",
        "id": "h5Ahd-L96pDR",
        "outputId": "efe1d59c-e805-4b35-8bfb-334bdef20190",
        "colab": {
          "base_uri": "https://localhost:8080/",
          "height": 34
        }
      },
      "cell_type": "code",
      "source": [
        "matrix.size"
      ],
      "execution_count": 0,
      "outputs": [
        {
          "output_type": "execute_result",
          "data": {
            "text/plain": [
              "4"
            ]
          },
          "metadata": {
            "tags": []
          },
          "execution_count": 8
        }
      ]
    },
    {
      "metadata": {
        "colab_type": "text",
        "id": "RNMkmet_7GKd"
      },
      "cell_type": "markdown",
      "source": [
        "Equivalently, we could use the function `numpy.shape` and `numpy.size`:"
      ]
    },
    {
      "metadata": {
        "colab_type": "code",
        "id": "6_ppIH137Ep4",
        "outputId": "b0bea69c-ab24-436f-e8e0-260188ee83f7",
        "colab": {
          "base_uri": "https://localhost:8080/",
          "height": 34
        }
      },
      "cell_type": "code",
      "source": [
        "shape(matrix)"
      ],
      "execution_count": 0,
      "outputs": [
        {
          "output_type": "execute_result",
          "data": {
            "text/plain": [
              "(2, 2)"
            ]
          },
          "metadata": {
            "tags": []
          },
          "execution_count": 9
        }
      ]
    },
    {
      "metadata": {
        "colab_type": "code",
        "id": "KFIz-HKp7NNy",
        "outputId": "c9a252bc-3d76-4bee-b5b0-542b8945ca0a",
        "colab": {
          "base_uri": "https://localhost:8080/",
          "height": 34
        }
      },
      "cell_type": "code",
      "source": [
        "size(matrix)"
      ],
      "execution_count": 0,
      "outputs": [
        {
          "output_type": "execute_result",
          "data": {
            "text/plain": [
              "4"
            ]
          },
          "metadata": {
            "tags": []
          },
          "execution_count": 10
        }
      ]
    },
    {
      "metadata": {
        "colab_type": "text",
        "id": "Uia62YXV7et7"
      },
      "cell_type": "markdown",
      "source": [
        "So far the `numpy.ndarray` looks awefully much like a Python list (or nested list). Why not simply use Python lists for computations instead of creating a new array type?\n",
        "\n",
        "There are several reasons:\n",
        "\n",
        " - Python lists are very general. They can contain any kind of object. They are dynamically typed. They do not support mathematical functions such as matrix and dot multiplications, etc. Implementing such functions for Python lists would not be very efficient because of the dynamic typing.\n",
        " - Numpy arrays are **statically typed** and **homogeneous**. The type of the elements is determined when the array is created.\n",
        " - Numpy arrays are memory efficient.\n",
        " - Because of the static typing, fast implementation of mathematical functions such as multiplication and addition of numpy arrays can be implemented in a compiled language (C and Fortran is used).\n",
        "Using the `dtype` (data type) property of an ndarray, we can see what type the data of an array has:"
      ]
    },
    {
      "metadata": {
        "colab_type": "code",
        "id": "hbyx74kA7Oqn",
        "outputId": "b9401671-e4d3-462c-ecaf-21609e3fa4ee",
        "colab": {
          "base_uri": "https://localhost:8080/",
          "height": 34
        }
      },
      "cell_type": "code",
      "source": [
        "matrix.dtype"
      ],
      "execution_count": 0,
      "outputs": [
        {
          "output_type": "execute_result",
          "data": {
            "text/plain": [
              "dtype('int64')"
            ]
          },
          "metadata": {
            "tags": []
          },
          "execution_count": 11
        }
      ]
    },
    {
      "metadata": {
        "colab_type": "text",
        "id": "pU1LnYXS8DTW"
      },
      "cell_type": "markdown",
      "source": [
        "We get an error if we try to assign a value of the wrong type to an element in a numpy array:"
      ]
    },
    {
      "metadata": {
        "colab_type": "code",
        "id": "aqpbJLaL8Bf0",
        "outputId": "e6b49f93-4f0d-4952-8fa2-b5b82d7c31be",
        "colab": {
          "base_uri": "https://localhost:8080/",
          "height": 164
        }
      },
      "cell_type": "code",
      "source": [
        "matrix[0,0] = \"hello\""
      ],
      "execution_count": 0,
      "outputs": [
        {
          "output_type": "error",
          "ename": "ValueError",
          "evalue": "ignored",
          "traceback": [
            "\u001b[0;31m---------------------------------------------------------------------------\u001b[0m",
            "\u001b[0;31mValueError\u001b[0m                                Traceback (most recent call last)",
            "\u001b[0;32m<ipython-input-12-c3f78341380e>\u001b[0m in \u001b[0;36m<module>\u001b[0;34m()\u001b[0m\n\u001b[0;32m----> 1\u001b[0;31m \u001b[0mmatrix\u001b[0m\u001b[0;34m[\u001b[0m\u001b[0;36m0\u001b[0m\u001b[0;34m,\u001b[0m\u001b[0;36m0\u001b[0m\u001b[0;34m]\u001b[0m \u001b[0;34m=\u001b[0m \u001b[0;34m\"hello\"\u001b[0m\u001b[0;34m\u001b[0m\u001b[0;34m\u001b[0m\u001b[0m\n\u001b[0m",
            "\u001b[0;31mValueError\u001b[0m: invalid literal for int() with base 10: 'hello'"
          ]
        }
      ]
    },
    {
      "metadata": {
        "colab_type": "text",
        "id": "YB3dlitr8LhH"
      },
      "cell_type": "markdown",
      "source": [
        "If we want, we can explicitly define the type of the array data when we create it, using the `dtype` keyword argument:"
      ]
    },
    {
      "metadata": {
        "colab_type": "code",
        "id": "LwWdvN-E8H8M",
        "outputId": "6372bbce-a360-41d0-848a-1ab2e253f61e",
        "colab": {
          "base_uri": "https://localhost:8080/",
          "height": 51
        }
      },
      "cell_type": "code",
      "source": [
        "matrix = array([[1, 2], [3, 4]], dtype=float)\n",
        "\n",
        "matrix"
      ],
      "execution_count": 0,
      "outputs": [
        {
          "output_type": "execute_result",
          "data": {
            "text/plain": [
              "array([[1., 2.],\n",
              "       [3., 4.]])"
            ]
          },
          "metadata": {
            "tags": []
          },
          "execution_count": 13
        }
      ]
    },
    {
      "metadata": {
        "colab_type": "text",
        "id": "8tv3w6GW8b8o"
      },
      "cell_type": "markdown",
      "source": [
        "Common data types that can be used with dtype are: `int`, `float`, `complex`, `bool`, etc.\n",
        "\n",
        "We can also explicitly define the bit size of the data types, for example: `int64`, `int16`, `float128`, `complex128`.\n",
        "\n"
      ]
    },
    {
      "metadata": {
        "colab_type": "text",
        "id": "3IXgGaQz82UZ"
      },
      "cell_type": "markdown",
      "source": [
        "### Using array-generating functions\n",
        "For larger arrays it is inpractical to initialize the data manually, using explicit python lists. Instead we can use one of the many functions in numpy that generate arrays of different forms. Some of the more common are:\n",
        "\n",
        "**`arange`**\n"
      ]
    },
    {
      "metadata": {
        "colab_type": "code",
        "id": "OXsJtv_L8W8J",
        "outputId": "c9daa1eb-857f-44fb-899b-b5e794b0c1e0",
        "colab": {
          "base_uri": "https://localhost:8080/",
          "height": 214
        }
      },
      "cell_type": "code",
      "source": [
        "# create a range\n",
        "\n",
        "x = arange(0, 10, 1) # arguments: start, stop, step\n",
        "\n",
        "x"
      ],
      "execution_count": 0,
      "outputs": [
        {
          "output_type": "error",
          "ename": "NameError",
          "evalue": "ignored",
          "traceback": [
            "\u001b[0;31m---------------------------------------------------------------------------\u001b[0m",
            "\u001b[0;31mNameError\u001b[0m                                 Traceback (most recent call last)",
            "\u001b[0;32m<ipython-input-4-7f02af5016a3>\u001b[0m in \u001b[0;36m<module>\u001b[0;34m()\u001b[0m\n\u001b[1;32m      1\u001b[0m \u001b[0;34m\u001b[0m\u001b[0m\n\u001b[0;32m----> 2\u001b[0;31m \u001b[0mx\u001b[0m \u001b[0;34m=\u001b[0m \u001b[0marange\u001b[0m\u001b[0;34m(\u001b[0m\u001b[0;36m0\u001b[0m\u001b[0;34m,\u001b[0m \u001b[0;36m10\u001b[0m\u001b[0;34m,\u001b[0m \u001b[0;36m1\u001b[0m\u001b[0;34m)\u001b[0m \u001b[0;31m# arguments: start, stop, step\u001b[0m\u001b[0;34m\u001b[0m\u001b[0;34m\u001b[0m\u001b[0m\n\u001b[0m\u001b[1;32m      3\u001b[0m \u001b[0;34m\u001b[0m\u001b[0m\n\u001b[1;32m      4\u001b[0m \u001b[0mx\u001b[0m\u001b[0;34m\u001b[0m\u001b[0;34m\u001b[0m\u001b[0m\n",
            "\u001b[0;31mNameError\u001b[0m: name 'arange' is not defined"
          ]
        }
      ]
    },
    {
      "metadata": {
        "colab_type": "code",
        "id": "U-draCYT9Lxh",
        "outputId": "201388c1-6c25-4ea3-ea4d-700eff5b01c6",
        "colab": {
          "base_uri": "https://localhost:8080/",
          "height": 102
        }
      },
      "cell_type": "code",
      "source": [
        "x = arange(-1, 1, 0.1)\n",
        "\n",
        "x"
      ],
      "execution_count": 0,
      "outputs": [
        {
          "output_type": "execute_result",
          "data": {
            "text/plain": [
              "array([-1.00000000e+00, -9.00000000e-01, -8.00000000e-01, -7.00000000e-01,\n",
              "       -6.00000000e-01, -5.00000000e-01, -4.00000000e-01, -3.00000000e-01,\n",
              "       -2.00000000e-01, -1.00000000e-01, -2.22044605e-16,  1.00000000e-01,\n",
              "        2.00000000e-01,  3.00000000e-01,  4.00000000e-01,  5.00000000e-01,\n",
              "        6.00000000e-01,  7.00000000e-01,  8.00000000e-01,  9.00000000e-01])"
            ]
          },
          "metadata": {
            "tags": []
          },
          "execution_count": 15
        }
      ]
    },
    {
      "metadata": {
        "colab_type": "text",
        "id": "id-dgLar82Sq"
      },
      "cell_type": "markdown",
      "source": [
        "**`linspace`** and **`logspace`**"
      ]
    },
    {
      "metadata": {
        "colab_type": "code",
        "id": "x9eATKhC9Uz1",
        "outputId": "ffe51591-34fd-4a44-d0c8-7b1e2622439c",
        "colab": {
          "base_uri": "https://localhost:8080/",
          "height": 102
        }
      },
      "cell_type": "code",
      "source": [
        "# using linspace, both end points ARE included\n",
        "linspace(0, 10, 25)"
      ],
      "execution_count": 0,
      "outputs": [
        {
          "output_type": "execute_result",
          "data": {
            "text/plain": [
              "array([ 0.        ,  0.41666667,  0.83333333,  1.25      ,  1.66666667,\n",
              "        2.08333333,  2.5       ,  2.91666667,  3.33333333,  3.75      ,\n",
              "        4.16666667,  4.58333333,  5.        ,  5.41666667,  5.83333333,\n",
              "        6.25      ,  6.66666667,  7.08333333,  7.5       ,  7.91666667,\n",
              "        8.33333333,  8.75      ,  9.16666667,  9.58333333, 10.        ])"
            ]
          },
          "metadata": {
            "tags": []
          },
          "execution_count": 16
        }
      ]
    },
    {
      "metadata": {
        "colab_type": "code",
        "id": "429mHNjV9Wuh",
        "outputId": "6ff682bd-68bc-44e5-eea3-20d658391848",
        "colab": {
          "base_uri": "https://localhost:8080/",
          "height": 68
        }
      },
      "cell_type": "code",
      "source": [
        "logspace(0, 10, 10, base=e)"
      ],
      "execution_count": 0,
      "outputs": [
        {
          "output_type": "execute_result",
          "data": {
            "text/plain": [
              "array([1.00000000e+00, 3.03773178e+00, 9.22781435e+00, 2.80316249e+01,\n",
              "       8.51525577e+01, 2.58670631e+02, 7.85771994e+02, 2.38696456e+03,\n",
              "       7.25095809e+03, 2.20264658e+04])"
            ]
          },
          "metadata": {
            "tags": []
          },
          "execution_count": 17
        }
      ]
    },
    {
      "metadata": {
        "colab_type": "text",
        "id": "IReqIYz09a_X"
      },
      "cell_type": "markdown",
      "source": [
        "**`mgrid`**"
      ]
    },
    {
      "metadata": {
        "colab_type": "code",
        "id": "_DXsdEod9Y5N",
        "colab": {}
      },
      "cell_type": "code",
      "source": [
        "x, y = mgrid[0:5, 0:5]"
      ],
      "execution_count": 0,
      "outputs": []
    },
    {
      "metadata": {
        "colab_type": "code",
        "id": "7tTa7mco9ggU",
        "outputId": "58f8aa7b-b7d0-4bca-c9db-92f88458eb7b",
        "colab": {
          "base_uri": "https://localhost:8080/",
          "height": 102
        }
      },
      "cell_type": "code",
      "source": [
        "x"
      ],
      "execution_count": 0,
      "outputs": [
        {
          "output_type": "execute_result",
          "data": {
            "text/plain": [
              "array([[0, 0, 0, 0, 0],\n",
              "       [1, 1, 1, 1, 1],\n",
              "       [2, 2, 2, 2, 2],\n",
              "       [3, 3, 3, 3, 3],\n",
              "       [4, 4, 4, 4, 4]])"
            ]
          },
          "metadata": {
            "tags": []
          },
          "execution_count": 27
        }
      ]
    },
    {
      "metadata": {
        "colab_type": "code",
        "id": "0DK_8YQx9hSP",
        "outputId": "1735347d-9108-45e7-8e2f-268901d7fc39",
        "colab": {
          "base_uri": "https://localhost:8080/",
          "height": 102
        }
      },
      "cell_type": "code",
      "source": [
        "y"
      ],
      "execution_count": 0,
      "outputs": [
        {
          "output_type": "execute_result",
          "data": {
            "text/plain": [
              "array([[0, 1, 2, 3, 4],\n",
              "       [0, 1, 2, 3, 4],\n",
              "       [0, 1, 2, 3, 4],\n",
              "       [0, 1, 2, 3, 4],\n",
              "       [0, 1, 2, 3, 4]])"
            ]
          },
          "metadata": {
            "tags": []
          },
          "execution_count": 28
        }
      ]
    },
    {
      "metadata": {
        "colab_type": "text",
        "id": "tvhQ0jPr_Dj8"
      },
      "cell_type": "markdown",
      "source": [
        "**random data**"
      ]
    },
    {
      "metadata": {
        "colab_type": "code",
        "id": "QzRIGenh-lKL",
        "colab": {}
      },
      "cell_type": "code",
      "source": [
        "from numpy import random"
      ],
      "execution_count": 0,
      "outputs": []
    },
    {
      "metadata": {
        "colab_type": "code",
        "id": "J6FNot0D_J92",
        "outputId": "b0765f83-8006-4318-dc02-bf60d5c4e58e",
        "colab": {
          "base_uri": "https://localhost:8080/",
          "height": 102
        }
      },
      "cell_type": "code",
      "source": [
        "# uniform random numbers in [0,1]\n",
        "random.rand(5,5)"
      ],
      "execution_count": 0,
      "outputs": [
        {
          "output_type": "execute_result",
          "data": {
            "text/plain": [
              "array([[0.98920222, 0.71625891, 0.30120781, 0.10831208, 0.73964855],\n",
              "       [0.53250663, 0.63914109, 0.60421826, 0.67265316, 0.20111029],\n",
              "       [0.19394463, 0.4689741 , 0.04643531, 0.76900279, 0.91282279],\n",
              "       [0.37196342, 0.63578145, 0.68124313, 0.82320134, 0.23774194],\n",
              "       [0.38618573, 0.45171888, 0.17723827, 0.00254856, 0.44915901]])"
            ]
          },
          "metadata": {
            "tags": []
          },
          "execution_count": 35
        }
      ]
    },
    {
      "metadata": {
        "colab_type": "code",
        "id": "DJAvOD91_LWQ",
        "outputId": "5c5d71a6-4f8a-4670-c188-e93d71e7811f",
        "colab": {
          "base_uri": "https://localhost:8080/",
          "height": 102
        }
      },
      "cell_type": "code",
      "source": [
        "# standard normal distributed random numbers\n",
        "random.randn(5,5)"
      ],
      "execution_count": 0,
      "outputs": [
        {
          "output_type": "execute_result",
          "data": {
            "text/plain": [
              "array([[ 0.348246  , -0.6694354 ,  0.43013336,  0.11848347,  0.28499742],\n",
              "       [ 0.36734118, -0.46029895,  0.53601683, -0.90420421,  0.42304096],\n",
              "       [-0.84448132, -0.22967821,  0.21100025, -0.04598143,  1.42451531],\n",
              "       [ 0.98940607,  0.95207003,  1.29953417,  1.72075275, -0.23827078],\n",
              "       [ 0.21540059, -0.86299971,  0.96425202, -0.47687498,  1.0162523 ]])"
            ]
          },
          "metadata": {
            "tags": []
          },
          "execution_count": 165
        }
      ]
    },
    {
      "metadata": {
        "colab_type": "code",
        "id": "bXcuhreV_NE_",
        "colab": {}
      },
      "cell_type": "code",
      "source": [
        "import seaborn as sns"
      ],
      "execution_count": 0,
      "outputs": []
    },
    {
      "metadata": {
        "colab_type": "code",
        "id": "LtlFyf1v_tSD",
        "outputId": "d0b8ff54-b057-4819-c414-0bea571b0624",
        "colab": {
          "base_uri": "https://localhost:8080/",
          "height": 353
        }
      },
      "cell_type": "code",
      "source": [
        "# Let's plot uniform distribution\n",
        "\n",
        "x = random.rand(1000)\n",
        "sns.set_style('whitegrid')\n",
        "sns.distplot(x)"
      ],
      "execution_count": 0,
      "outputs": [
        {
          "output_type": "stream",
          "text": [
            "/usr/local/lib/python3.6/dist-packages/matplotlib/axes/_axes.py:6521: MatplotlibDeprecationWarning: \n",
            "The 'normed' kwarg was deprecated in Matplotlib 2.1 and will be removed in 3.1. Use 'density' instead.\n",
            "  alternative=\"'density'\", removal=\"3.1\")\n"
          ],
          "name": "stderr"
        },
        {
          "output_type": "execute_result",
          "data": {
            "text/plain": [
              "<matplotlib.axes._subplots.AxesSubplot at 0x7f451509d550>"
            ]
          },
          "metadata": {
            "tags": []
          },
          "execution_count": 167
        },
        {
          "output_type": "display_data",
          "data": {
            "image/png": "[encoded data removed]",
            "text/plain": [
              "<Figure size 432x288 with 1 Axes>"
            ]
          },
          "metadata": {
            "tags": []
          }
        }
      ]
    },
    {
      "metadata": {
        "colab_type": "code",
        "id": "aW17W152_vQR",
        "outputId": "17ee7cb9-3e08-4d10-c64c-0114ed1b144c",
        "colab": {
          "base_uri": "https://localhost:8080/",
          "height": 333
        }
      },
      "cell_type": "code",
      "source": [
        "# Let's plot normal distribution\n",
        "\n",
        "x = random.randn(100000)\n",
        "sns.set_style('whitegrid')\n",
        "sns.distplot(x)"
      ],
      "execution_count": 0,
      "outputs": [
        {
          "output_type": "stream",
          "text": [
            "/usr/local/lib/python3.6/dist-packages/matplotlib/axes/_axes.py:6521: MatplotlibDeprecationWarning: \n",
            "The 'normed' kwarg was deprecated in Matplotlib 2.1 and will be removed in 3.1. Use 'density' instead.\n",
            "  alternative=\"'density'\", removal=\"3.1\")\n"
          ],
          "name": "stderr"
        },
        {
          "output_type": "execute_result",
          "data": {
            "text/plain": [
              "<matplotlib.axes._subplots.AxesSubplot at 0x7fb361724b00>"
            ]
          },
          "metadata": {
            "tags": []
          },
          "execution_count": 190
        },
        {
          "output_type": "display_data",
          "data": {
            "image/png": "[encoded data removed]",
            "text/plain": [
              "<Figure size 432x288 with 1 Axes>"
            ]
          },
          "metadata": {
            "tags": []
          }
        }
      ]
    },
    {
      "metadata": {
        "colab_type": "code",
        "id": "jpovzBerBqwK",
        "outputId": "9804141f-8173-4c9d-8f20-82063894e323",
        "colab": {
          "base_uri": "https://localhost:8080/",
          "height": 333
        }
      },
      "cell_type": "code",
      "source": [
        "# Let's plot poisson distribution\n",
        "\n",
        "x = random.poisson(5, 1000)\n",
        "sns.set_style('whitegrid')\n",
        "sns.distplot(x)"
      ],
      "execution_count": 0,
      "outputs": [
        {
          "output_type": "stream",
          "text": [
            "/usr/local/lib/python3.6/dist-packages/matplotlib/axes/_axes.py:6521: MatplotlibDeprecationWarning: \n",
            "The 'normed' kwarg was deprecated in Matplotlib 2.1 and will be removed in 3.1. Use 'density' instead.\n",
            "  alternative=\"'density'\", removal=\"3.1\")\n"
          ],
          "name": "stderr"
        },
        {
          "output_type": "execute_result",
          "data": {
            "text/plain": [
              "<matplotlib.axes._subplots.AxesSubplot at 0x7fb363e604e0>"
            ]
          },
          "metadata": {
            "tags": []
          },
          "execution_count": 63
        },
        {
          "output_type": "display_data",
          "data": {
            "image/png": "[encoded data removed]",
            "text/plain": [
              "<Figure size 432x288 with 1 Axes>"
            ]
          },
          "metadata": {
            "tags": []
          }
        }
      ]
    },
    {
      "metadata": {
        "colab_type": "code",
        "id": "8R8faSgZMjCz",
        "colab": {}
      },
      "cell_type": "code",
      "source": [
        ""
      ],
      "execution_count": 0,
      "outputs": []
    },
    {
      "metadata": {
        "colab_type": "text",
        "id": "QBGwIMI8C87a"
      },
      "cell_type": "markdown",
      "source": [
        "**`diag`**"
      ]
    },
    {
      "metadata": {
        "colab_type": "code",
        "id": "qDroPOKUCSpm",
        "outputId": "a426ad4e-35cb-42de-c1a3-c23636874fdc",
        "colab": {
          "base_uri": "https://localhost:8080/",
          "height": 68
        }
      },
      "cell_type": "code",
      "source": [
        "# a diagonal matrix\n",
        "diag([1,2,3])"
      ],
      "execution_count": 0,
      "outputs": [
        {
          "output_type": "execute_result",
          "data": {
            "text/plain": [
              "array([[1, 0, 0],\n",
              "       [0, 2, 0],\n",
              "       [0, 0, 3]])"
            ]
          },
          "metadata": {
            "tags": []
          },
          "execution_count": 64
        }
      ]
    },
    {
      "metadata": {
        "colab_type": "code",
        "id": "vmaw6RZqDAV4",
        "outputId": "da9691e3-e69e-4c2e-ce3a-7bf0380dd57a",
        "colab": {
          "base_uri": "https://localhost:8080/",
          "height": 85
        }
      },
      "cell_type": "code",
      "source": [
        "# diagonal with offset from the main diagonal\n",
        "diag([1,2,3], k=1)"
      ],
      "execution_count": 0,
      "outputs": [
        {
          "output_type": "execute_result",
          "data": {
            "text/plain": [
              "array([[0, 1, 0, 0],\n",
              "       [0, 0, 2, 0],\n",
              "       [0, 0, 0, 3],\n",
              "       [0, 0, 0, 0]])"
            ]
          },
          "metadata": {
            "tags": []
          },
          "execution_count": 65
        }
      ]
    },
    {
      "metadata": {
        "colab_type": "text",
        "id": "Kz8diw8LDDUp"
      },
      "cell_type": "markdown",
      "source": [
        "**zeroes** and **ones**"
      ]
    },
    {
      "metadata": {
        "colab_type": "code",
        "id": "L9hLnrSKDBwP",
        "outputId": "497d4d43-a30e-471f-b2ea-82fd8a325001",
        "colab": {
          "base_uri": "https://localhost:8080/",
          "height": 68
        }
      },
      "cell_type": "code",
      "source": [
        "zeros((3,3))"
      ],
      "execution_count": 0,
      "outputs": [
        {
          "output_type": "execute_result",
          "data": {
            "text/plain": [
              "array([[0., 0., 0.],\n",
              "       [0., 0., 0.],\n",
              "       [0., 0., 0.]])"
            ]
          },
          "metadata": {
            "tags": []
          },
          "execution_count": 66
        }
      ]
    },
    {
      "metadata": {
        "colab_type": "code",
        "id": "fmENy-orDJmc",
        "outputId": "8dadc305-007e-400a-e43e-8f56972a4f48",
        "colab": {
          "base_uri": "https://localhost:8080/",
          "height": 68
        }
      },
      "cell_type": "code",
      "source": [
        "ones((3,3))"
      ],
      "execution_count": 0,
      "outputs": [
        {
          "output_type": "execute_result",
          "data": {
            "text/plain": [
              "array([[1., 1., 1.],\n",
              "       [1., 1., 1.],\n",
              "       [1., 1., 1.]])"
            ]
          },
          "metadata": {
            "tags": []
          },
          "execution_count": 67
        }
      ]
    },
    {
      "metadata": {
        "colab_type": "text",
        "id": "1c9CplWSDPcu"
      },
      "cell_type": "markdown",
      "source": [
        "## File IO"
      ]
    },
    {
      "metadata": {
        "colab_type": "text",
        "id": "eq80bLd9DYa2"
      },
      "cell_type": "markdown",
      "source": [
        "### Comma-separated values (CSV)\n",
        "A very common file format for data files is comma-separated values (CSV), or related formats such as TSV (tab-separated values). To read data from such files into Numpy arrays we can use the `numpy.genfromtxt` function. For example:"
      ]
    },
    {
      "metadata": {
        "colab_type": "code",
        "id": "3FKryGU7DK7t",
        "outputId": "be5c1bb9-bdbc-4ad2-de7f-05f81cc349a0",
        "colab": {
          "base_uri": "https://localhost:8080/",
          "height": 204
        }
      },
      "cell_type": "code",
      "source": [
        "!wget https://raw.githubusercontent.com/jrjohansson/scientific-python-lectures/master/stockholm_td_adj.dat"
      ],
      "execution_count": 0,
      "outputs": [
        {
          "output_type": "stream",
          "text": [
            "--2019-01-22 14:54:40--  https://raw.githubusercontent.com/jrjohansson/scientific-python-lectures/master/stockholm_td_adj.dat\n",
            "Resolving raw.githubusercontent.com (raw.githubusercontent.com)... 151.101.0.133, 151.101.64.133, 151.101.128.133, ...\n",
            "Connecting to raw.githubusercontent.com (raw.githubusercontent.com)|151.101.0.133|:443... connected.\n",
            "HTTP request sent, awaiting response... 200 OK\n",
            "Length: 2864946 (2.7M) [text/plain]\n",
            "Saving to: ‘stockholm_td_adj.dat’\n",
            "\n",
            "\rstockholm_td_adj.da   0%[                    ]       0  --.-KB/s               \rstockholm_td_adj.da 100%[===================>]   2.73M  --.-KB/s    in 0.06s   \n",
            "\n",
            "2019-01-22 14:54:41 (43.2 MB/s) - ‘stockholm_td_adj.dat’ saved [2864946/2864946]\n",
            "\n"
          ],
          "name": "stdout"
        }
      ]
    },
    {
      "metadata": {
        "colab_type": "code",
        "id": "rw6cj3I_DmBp",
        "outputId": "84ce317e-51fd-43c1-cf64-9958af77c0cb",
        "colab": {
          "base_uri": "https://localhost:8080/",
          "height": 187
        }
      },
      "cell_type": "code",
      "source": [
        "!head stockholm_td_adj.dat"
      ],
      "execution_count": 0,
      "outputs": [
        {
          "output_type": "stream",
          "text": [
            "1800  1  1    -6.1    -6.1    -6.1 1\n",
            "1800  1  2   -15.4   -15.4   -15.4 1\n",
            "1800  1  3   -15.0   -15.0   -15.0 1\n",
            "1800  1  4   -19.3   -19.3   -19.3 1\n",
            "1800  1  5   -16.8   -16.8   -16.8 1\n",
            "1800  1  6   -11.4   -11.4   -11.4 1\n",
            "1800  1  7    -7.6    -7.6    -7.6 1\n",
            "1800  1  8    -7.1    -7.1    -7.1 1\n",
            "1800  1  9   -10.1   -10.1   -10.1 1\n",
            "1800  1 10    -9.5    -9.5    -9.5 1\n"
          ],
          "name": "stdout"
        }
      ]
    },
    {
      "metadata": {
        "colab_type": "code",
        "id": "4mDe8MipDqpp",
        "colab": {}
      },
      "cell_type": "code",
      "source": [
        "data = genfromtxt('stockholm_td_adj.dat')"
      ],
      "execution_count": 0,
      "outputs": []
    },
    {
      "metadata": {
        "colab_type": "code",
        "id": "SVwr4gHIDsSw",
        "outputId": "467ea8d5-ead7-4b78-b3c8-ef5ab0db991f",
        "colab": {
          "base_uri": "https://localhost:8080/",
          "height": 34
        }
      },
      "cell_type": "code",
      "source": [
        "data.shape"
      ],
      "execution_count": 0,
      "outputs": [
        {
          "output_type": "execute_result",
          "data": {
            "text/plain": [
              "(77431, 7)"
            ]
          },
          "metadata": {
            "tags": []
          },
          "execution_count": 71
        }
      ]
    },
    {
      "metadata": {
        "colab_type": "code",
        "id": "FVk3cwwHDvRI",
        "outputId": "258f8f8c-0390-491f-9564-978beb0ce9b3",
        "colab": {
          "base_uri": "https://localhost:8080/",
          "height": 294
        }
      },
      "cell_type": "code",
      "source": [
        "fig, ax = plt.subplots(figsize=(14,4))\n",
        "ax.plot(data[:,0]+data[:,1]/12.0+data[:,2]/365, data[:,5])\n",
        "ax.axis('tight')\n",
        "ax.set_title('tempeatures in Stockholm')\n",
        "ax.set_xlabel('year')\n",
        "ax.set_ylabel('temperature (C)');"
      ],
      "execution_count": 0,
      "outputs": [
        {
          "output_type": "display_data",
          "data": {
            "image/png": "[encoded data removed]",
            "text/plain": [
              "<Figure size 1008x288 with 1 Axes>"
            ]
          },
          "metadata": {
            "tags": []
          }
        }
      ]
    },
    {
      "metadata": {
        "colab_type": "text",
        "id": "aiOGIgG5D9Np"
      },
      "cell_type": "markdown",
      "source": [
        "Using `numpy.savetxt` we can store a Numpy array to a file in CSV format:"
      ]
    },
    {
      "metadata": {
        "colab_type": "code",
        "id": "CO1jlMKTDw1J",
        "outputId": "fbebaa8d-4789-4c15-b7ee-558b9bad1098",
        "colab": {
          "base_uri": "https://localhost:8080/",
          "height": 68
        }
      },
      "cell_type": "code",
      "source": [
        "M = random.rand(3,3)\n",
        "\n",
        "M"
      ],
      "execution_count": 0,
      "outputs": [
        {
          "output_type": "execute_result",
          "data": {
            "text/plain": [
              "array([[0.44469054, 0.81853136, 0.73580914],\n",
              "       [0.31639649, 0.63597791, 0.84196409],\n",
              "       [0.21690606, 0.38685182, 0.52489809]])"
            ]
          },
          "metadata": {
            "tags": []
          },
          "execution_count": 73
        }
      ]
    },
    {
      "metadata": {
        "colab_type": "code",
        "id": "mH_0TzRoEBcH",
        "colab": {}
      },
      "cell_type": "code",
      "source": [
        "savetxt(\"random-matrix.csv\", M)\n"
      ],
      "execution_count": 0,
      "outputs": []
    },
    {
      "metadata": {
        "colab_type": "code",
        "id": "1rjkRxqhECoZ",
        "outputId": "b19d929f-8952-42d9-bbd8-003370fb18a5",
        "colab": {
          "base_uri": "https://localhost:8080/",
          "height": 68
        }
      },
      "cell_type": "code",
      "source": [
        "!cat random-matrix.csv"
      ],
      "execution_count": 0,
      "outputs": [
        {
          "output_type": "stream",
          "text": [
            "4.446905436655970156e-01 8.185313611434011927e-01 7.358091448452048766e-01\n",
            "3.163964898858432351e-01 6.359779147241548802e-01 8.419640881507070018e-01\n",
            "2.169060612719829750e-01 3.868518156536975283e-01 5.248980857314879955e-01\n"
          ],
          "name": "stdout"
        }
      ]
    },
    {
      "metadata": {
        "colab_type": "code",
        "id": "4drZZmxkEEFC",
        "outputId": "aa519fc3-81e7-45b5-ec6f-b40cd9b0d40b",
        "colab": {
          "base_uri": "https://localhost:8080/",
          "height": 68
        }
      },
      "cell_type": "code",
      "source": [
        "savetxt(\"random-matrix.csv\", M, fmt='%.5f') # fmt specifies the format\n",
        "\n",
        "!cat random-matrix.csv"
      ],
      "execution_count": 0,
      "outputs": [
        {
          "output_type": "stream",
          "text": [
            "0.44469 0.81853 0.73581\n",
            "0.31640 0.63598 0.84196\n",
            "0.21691 0.38685 0.52490\n"
          ],
          "name": "stdout"
        }
      ]
    },
    {
      "metadata": {
        "colab_type": "text",
        "id": "TngHFJDREI_M"
      },
      "cell_type": "markdown",
      "source": [
        "### Numpy's native file format\n",
        "Useful when storing and reading back numpy array data. Use the functions `numpy.save` and `numpy.load`:"
      ]
    },
    {
      "metadata": {
        "colab_type": "code",
        "id": "zwK9twOyEF5D",
        "outputId": "9a3700b3-7179-44d5-d814-d66237ceae92",
        "colab": {
          "base_uri": "https://localhost:8080/",
          "height": 221
        }
      },
      "cell_type": "code",
      "source": [
        "save(\"random-matrix.npy\", M)\n",
        "\n",
        "!ls -lh *"
      ],
      "execution_count": 0,
      "outputs": [
        {
          "output_type": "stream",
          "text": [
            "-rw-r--r-- 1 root root   72 Jan 22 14:56 random-matrix.csv\n",
            "-rw-r--r-- 1 root root  200 Jan 22 14:58 random-matrix.npy\n",
            "-rw-r--r-- 1 root root 2.8M Jan 22 14:54 stockholm_td_adj.dat\n",
            "\n",
            "sample_data:\n",
            "total 55M\n",
            "-r-xr-xr-x 1 root root 1.7K Jan  1  2000 anscombe.json\n",
            "-rw-r--r-- 1 root root 295K Jan  8 17:14 california_housing_test.csv\n",
            "-rw-r--r-- 1 root root 1.7M Jan  8 17:14 california_housing_train.csv\n",
            "-rw-r--r-- 1 root root  18M Jan  8 17:15 mnist_test.csv\n",
            "-rw-r--r-- 1 root root  35M Jan  8 17:15 mnist_train_small.csv\n",
            "-r-xr-xr-x 1 root root  903 Jan  1  2000 README.md\n"
          ],
          "name": "stdout"
        }
      ]
    },
    {
      "metadata": {
        "colab_type": "text",
        "id": "nsLbEF95H09R"
      },
      "cell_type": "markdown",
      "source": [
        "## Manipulating arrays\n",
        "--------\n",
        "\n",
        "### Indexing\n",
        "We can index elements in an array using square brackets and indices:"
      ]
    },
    {
      "metadata": {
        "colab_type": "code",
        "id": "38_h7BfaIMm1",
        "outputId": "1acaf614-087d-46f5-f2de-b9bbfc57a461",
        "colab": {
          "base_uri": "https://localhost:8080/",
          "height": 34
        }
      },
      "cell_type": "code",
      "source": [
        "# vector, and has only one dimension, taking one index\n",
        "vector[0]"
      ],
      "execution_count": 0,
      "outputs": [
        {
          "output_type": "execute_result",
          "data": {
            "text/plain": [
              "1"
            ]
          },
          "metadata": {
            "tags": []
          },
          "execution_count": 82
        }
      ]
    },
    {
      "metadata": {
        "colab_type": "code",
        "id": "SQJU3OrvETsM",
        "outputId": "8bdc3bf2-3376-4b64-a7fb-6d4bed547381",
        "colab": {
          "base_uri": "https://localhost:8080/",
          "height": 34
        }
      },
      "cell_type": "code",
      "source": [
        "# matrix is a 2 dimensional array, taking two indices \n",
        "matrix[1,1]"
      ],
      "execution_count": 0,
      "outputs": [
        {
          "output_type": "execute_result",
          "data": {
            "text/plain": [
              "4.0"
            ]
          },
          "metadata": {
            "tags": []
          },
          "execution_count": 83
        }
      ]
    },
    {
      "metadata": {
        "colab_type": "text",
        "id": "jmZXudUpIhfi"
      },
      "cell_type": "markdown",
      "source": [
        "If we omit an index of a multidimensional array it returns the whole row (or, in general, a `N-1` dimensional array)\n",
        "\n"
      ]
    },
    {
      "metadata": {
        "colab_type": "code",
        "id": "i8w18WqeIctG",
        "outputId": "a7169dbf-252c-46d9-bbb2-d1d9f24981e3",
        "colab": {
          "base_uri": "https://localhost:8080/",
          "height": 51
        }
      },
      "cell_type": "code",
      "source": [
        "matrix"
      ],
      "execution_count": 0,
      "outputs": [
        {
          "output_type": "execute_result",
          "data": {
            "text/plain": [
              "array([[1., 2.],\n",
              "       [3., 4.]])"
            ]
          },
          "metadata": {
            "tags": []
          },
          "execution_count": 84
        }
      ]
    },
    {
      "metadata": {
        "colab_type": "code",
        "id": "ZyQqPy9yImHJ",
        "outputId": "1f703c76-37d5-46f1-c5c6-b7c3c2b032fd",
        "colab": {
          "base_uri": "https://localhost:8080/",
          "height": 34
        }
      },
      "cell_type": "code",
      "source": [
        "matrix[1]"
      ],
      "execution_count": 0,
      "outputs": [
        {
          "output_type": "execute_result",
          "data": {
            "text/plain": [
              "array([3., 4.])"
            ]
          },
          "metadata": {
            "tags": []
          },
          "execution_count": 85
        }
      ]
    },
    {
      "metadata": {
        "colab_type": "text",
        "id": "HXh3lN0TIuSY"
      },
      "cell_type": "markdown",
      "source": [
        "The same thing can be achieved with using `:` instead of an index:\n",
        "\n"
      ]
    },
    {
      "metadata": {
        "colab_type": "code",
        "id": "btk6C_bEIq_L",
        "outputId": "9a68d778-bfb5-4323-8884-cc22ef113f4e",
        "colab": {
          "base_uri": "https://localhost:8080/",
          "height": 34
        }
      },
      "cell_type": "code",
      "source": [
        "matrix[1,:] #row 1"
      ],
      "execution_count": 0,
      "outputs": [
        {
          "output_type": "execute_result",
          "data": {
            "text/plain": [
              "array([3., 4.])"
            ]
          },
          "metadata": {
            "tags": []
          },
          "execution_count": 87
        }
      ]
    },
    {
      "metadata": {
        "colab_type": "code",
        "id": "GyaZv03bI0Pj",
        "outputId": "24edc80d-bf29-4e80-8584-42bc2f6d80d7",
        "colab": {
          "base_uri": "https://localhost:8080/",
          "height": 34
        }
      },
      "cell_type": "code",
      "source": [
        "matrix[:,1] #column 1"
      ],
      "execution_count": 0,
      "outputs": [
        {
          "output_type": "execute_result",
          "data": {
            "text/plain": [
              "array([2., 4.])"
            ]
          },
          "metadata": {
            "tags": []
          },
          "execution_count": 88
        }
      ]
    },
    {
      "metadata": {
        "colab_type": "text",
        "id": "7EN0OCH2I7tL"
      },
      "cell_type": "markdown",
      "source": [
        "We can assign new values to elements in an array using indexing:"
      ]
    },
    {
      "metadata": {
        "colab_type": "code",
        "id": "pGpiwoveI5nj",
        "colab": {}
      },
      "cell_type": "code",
      "source": [
        "matrix[1,1] = 1"
      ],
      "execution_count": 0,
      "outputs": []
    },
    {
      "metadata": {
        "colab_type": "code",
        "id": "BtDLmRdbI-qe",
        "outputId": "9489eed9-ecc4-40f5-ea0f-322e2d1af7b8",
        "colab": {
          "base_uri": "https://localhost:8080/",
          "height": 51
        }
      },
      "cell_type": "code",
      "source": [
        "matrix"
      ],
      "execution_count": 0,
      "outputs": [
        {
          "output_type": "execute_result",
          "data": {
            "text/plain": [
              "array([[1., 2.],\n",
              "       [3., 1.]])"
            ]
          },
          "metadata": {
            "tags": []
          },
          "execution_count": 91
        }
      ]
    },
    {
      "metadata": {
        "colab_type": "code",
        "id": "ck5QHr96JBPh",
        "colab": {}
      },
      "cell_type": "code",
      "source": [
        "# also works for rows and columns\n",
        "matrix[1,:] = 0\n",
        "matrix[:,1] = -1"
      ],
      "execution_count": 0,
      "outputs": []
    },
    {
      "metadata": {
        "colab_type": "code",
        "id": "NgWt2iNWJIHg",
        "outputId": "e7187299-99c3-47de-fb68-d210ded424af",
        "colab": {
          "base_uri": "https://localhost:8080/",
          "height": 51
        }
      },
      "cell_type": "code",
      "source": [
        "matrix"
      ],
      "execution_count": 0,
      "outputs": [
        {
          "output_type": "execute_result",
          "data": {
            "text/plain": [
              "array([[ 1., -1.],\n",
              "       [ 0., -1.]])"
            ]
          },
          "metadata": {
            "tags": []
          },
          "execution_count": 94
        }
      ]
    },
    {
      "metadata": {
        "colab_type": "text",
        "id": "7uDgrHbNJeRx"
      },
      "cell_type": "markdown",
      "source": [
        "### Index slicing\n",
        "\n",
        "Index slicing is the technical name for the syntax `M[lower:upper:step]` to extract part of an array:\n",
        "\n"
      ]
    },
    {
      "metadata": {
        "colab_type": "code",
        "id": "SmjAf0FyJVCk",
        "outputId": "95bd3a79-e5f3-4ce6-ac6d-ebb3ed4b7033",
        "colab": {
          "base_uri": "https://localhost:8080/",
          "height": 34
        }
      },
      "cell_type": "code",
      "source": [
        "A = array([1,2,3,4,5])\n",
        "A"
      ],
      "execution_count": 0,
      "outputs": [
        {
          "output_type": "execute_result",
          "data": {
            "text/plain": [
              "array([1, 2, 3, 4, 5])"
            ]
          },
          "metadata": {
            "tags": []
          },
          "execution_count": 95
        }
      ]
    },
    {
      "metadata": {
        "colab_type": "code",
        "id": "P74_w40pJnbQ",
        "outputId": "bfe77ef1-28c2-42ae-e2c1-0588f075eef0",
        "colab": {
          "base_uri": "https://localhost:8080/",
          "height": 34
        }
      },
      "cell_type": "code",
      "source": [
        "A[1:3] = [-2,-3]\n",
        "\n",
        "A"
      ],
      "execution_count": 0,
      "outputs": [
        {
          "output_type": "execute_result",
          "data": {
            "text/plain": [
              "array([ 1, -2, -3,  4,  5])"
            ]
          },
          "metadata": {
            "tags": []
          },
          "execution_count": 96
        }
      ]
    },
    {
      "metadata": {
        "colab_type": "code",
        "id": "67L6fhGqJpM0",
        "outputId": "e527cb77-41db-4df3-fe47-fccfafadd827",
        "colab": {
          "base_uri": "https://localhost:8080/",
          "height": 34
        }
      },
      "cell_type": "code",
      "source": [
        "A[::] # lower, upper, step all take the default values"
      ],
      "execution_count": 0,
      "outputs": [
        {
          "output_type": "execute_result",
          "data": {
            "text/plain": [
              "array([ 1, -2, -3,  4,  5])"
            ]
          },
          "metadata": {
            "tags": []
          },
          "execution_count": 97
        }
      ]
    },
    {
      "metadata": {
        "colab_type": "code",
        "id": "BnA9S08MJrpQ",
        "outputId": "b1ad629e-0891-4ff4-c8ad-1142727f6bff",
        "colab": {
          "base_uri": "https://localhost:8080/",
          "height": 34
        }
      },
      "cell_type": "code",
      "source": [
        "A[::2] # step is 2, lower and upper defaults to the beginning and end of the array"
      ],
      "execution_count": 0,
      "outputs": [
        {
          "output_type": "execute_result",
          "data": {
            "text/plain": [
              "array([ 1, -3,  5])"
            ]
          },
          "metadata": {
            "tags": []
          },
          "execution_count": 98
        }
      ]
    },
    {
      "metadata": {
        "colab_type": "code",
        "id": "THHUSHPfJuaS",
        "outputId": "c4402fc3-dff4-4ca2-d56b-147c2758fb4f",
        "colab": {
          "base_uri": "https://localhost:8080/",
          "height": 34
        }
      },
      "cell_type": "code",
      "source": [
        "A[:3] # first three elements"
      ],
      "execution_count": 0,
      "outputs": [
        {
          "output_type": "execute_result",
          "data": {
            "text/plain": [
              "array([ 1, -2, -3])"
            ]
          },
          "metadata": {
            "tags": []
          },
          "execution_count": 99
        }
      ]
    },
    {
      "metadata": {
        "colab_type": "code",
        "id": "7mgU5PLyJv0c",
        "outputId": "c93826bd-6dcf-4c2d-f7f9-34e5322df348",
        "colab": {
          "base_uri": "https://localhost:8080/",
          "height": 34
        }
      },
      "cell_type": "code",
      "source": [
        "A[3:] # elements from index 3"
      ],
      "execution_count": 0,
      "outputs": [
        {
          "output_type": "execute_result",
          "data": {
            "text/plain": [
              "array([4, 5])"
            ]
          },
          "metadata": {
            "tags": []
          },
          "execution_count": 100
        }
      ]
    },
    {
      "metadata": {
        "colab_type": "text",
        "id": "yr0aFon_JzCE"
      },
      "cell_type": "markdown",
      "source": [
        "Negative indices counts from the end of the array (positive index from the begining):"
      ]
    },
    {
      "metadata": {
        "colab_type": "code",
        "id": "7OD1tDqYJxVT",
        "colab": {}
      },
      "cell_type": "code",
      "source": [
        "A = array([1,2,3,4,5])"
      ],
      "execution_count": 0,
      "outputs": []
    },
    {
      "metadata": {
        "colab_type": "code",
        "id": "wXGbE8ZQJ2qr",
        "outputId": "c703698f-f840-4e47-8bf9-c711e0c3a827",
        "colab": {
          "base_uri": "https://localhost:8080/",
          "height": 34
        }
      },
      "cell_type": "code",
      "source": [
        "A[-1] # the last element in the array"
      ],
      "execution_count": 0,
      "outputs": [
        {
          "output_type": "execute_result",
          "data": {
            "text/plain": [
              "5"
            ]
          },
          "metadata": {
            "tags": []
          },
          "execution_count": 102
        }
      ]
    },
    {
      "metadata": {
        "colab_type": "code",
        "id": "ph-hisdTJ4FY",
        "outputId": "8f60f080-548e-461e-b7fb-6edb259c824b",
        "colab": {
          "base_uri": "https://localhost:8080/",
          "height": 34
        }
      },
      "cell_type": "code",
      "source": [
        "A[-3:] # the last three elements\n"
      ],
      "execution_count": 0,
      "outputs": [
        {
          "output_type": "execute_result",
          "data": {
            "text/plain": [
              "array([3, 4, 5])"
            ]
          },
          "metadata": {
            "tags": []
          },
          "execution_count": 103
        }
      ]
    },
    {
      "metadata": {
        "colab_type": "text",
        "id": "Oe8eYie6J-cN"
      },
      "cell_type": "markdown",
      "source": [
        "Index slicing works exactly the same way for multidimensional arrays:\n"
      ]
    },
    {
      "metadata": {
        "colab_type": "code",
        "id": "rN4aB8HkJ5W7",
        "outputId": "62b77cbe-41de-47d0-a615-4c4586580d31",
        "colab": {
          "base_uri": "https://localhost:8080/",
          "height": 102
        }
      },
      "cell_type": "code",
      "source": [
        "A = array([[n+m*10 for n in range(5)] for m in range(5)])\n",
        "\n",
        "A"
      ],
      "execution_count": 0,
      "outputs": [
        {
          "output_type": "execute_result",
          "data": {
            "text/plain": [
              "array([[ 0,  1,  2,  3,  4],\n",
              "       [10, 11, 12, 13, 14],\n",
              "       [20, 21, 22, 23, 24],\n",
              "       [30, 31, 32, 33, 34],\n",
              "       [40, 41, 42, 43, 44]])"
            ]
          },
          "metadata": {
            "tags": []
          },
          "execution_count": 4
        }
      ]
    },
    {
      "metadata": {
        "colab_type": "code",
        "id": "R_tt5_S3KCCl",
        "outputId": "0a529e47-a12e-40a8-c881-04ffafdbf68b",
        "colab": {
          "base_uri": "https://localhost:8080/",
          "height": 68
        }
      },
      "cell_type": "code",
      "source": [
        "# a block from the original array\n",
        "A[1:4, 1:4]"
      ],
      "execution_count": 0,
      "outputs": [
        {
          "output_type": "execute_result",
          "data": {
            "text/plain": [
              "array([[11, 12, 13],\n",
              "       [21, 22, 23],\n",
              "       [31, 32, 33]])"
            ]
          },
          "metadata": {
            "tags": []
          },
          "execution_count": 105
        }
      ]
    },
    {
      "metadata": {
        "colab_type": "code",
        "id": "AohekOgeKKDL",
        "outputId": "35110424-026b-4fc4-fea9-6110d30ddbe1",
        "colab": {
          "base_uri": "https://localhost:8080/",
          "height": 68
        }
      },
      "cell_type": "code",
      "source": [
        "# strides\n",
        "A[::2, ::2]"
      ],
      "execution_count": 0,
      "outputs": [
        {
          "output_type": "execute_result",
          "data": {
            "text/plain": [
              "array([[ 0,  2,  4],\n",
              "       [20, 22, 24],\n",
              "       [40, 42, 44]])"
            ]
          },
          "metadata": {
            "tags": []
          },
          "execution_count": 106
        }
      ]
    },
    {
      "metadata": {
        "colab_type": "text",
        "id": "suvehokjLYbt"
      },
      "cell_type": "markdown",
      "source": [
        "### Fancy indexing\n",
        "Fancy indexing is the name for when an array or list is used in-place of an index:"
      ]
    },
    {
      "metadata": {
        "colab_type": "code",
        "id": "N9VZ_tDdKPOM",
        "outputId": "e6bcc98b-89f2-49a8-b368-9ed926a9f188",
        "colab": {
          "base_uri": "https://localhost:8080/",
          "height": 68
        }
      },
      "cell_type": "code",
      "source": [
        "row_indices = [1, 2, 3]\n",
        "A[row_indices]"
      ],
      "execution_count": 0,
      "outputs": [
        {
          "output_type": "execute_result",
          "data": {
            "text/plain": [
              "array([[10, 11, 12, 13, 14],\n",
              "       [20, 21, 22, 23, 24],\n",
              "       [30, 31, 32, 33, 34]])"
            ]
          },
          "metadata": {
            "tags": []
          },
          "execution_count": 107
        }
      ]
    },
    {
      "metadata": {
        "colab_type": "code",
        "id": "xCWphWLfLcMT",
        "outputId": "f02fc1b5-dc48-455b-c699-c7088b299a21",
        "colab": {
          "base_uri": "https://localhost:8080/",
          "height": 34
        }
      },
      "cell_type": "code",
      "source": [
        "col_indices = [1, 2, -1] # remember, index -1 means the last element\n",
        "A[row_indices, col_indices]"
      ],
      "execution_count": 0,
      "outputs": [
        {
          "output_type": "execute_result",
          "data": {
            "text/plain": [
              "array([11, 22, 34])"
            ]
          },
          "metadata": {
            "tags": []
          },
          "execution_count": 108
        }
      ]
    },
    {
      "metadata": {
        "colab_type": "text",
        "id": "2r1TAAFTN7fa"
      },
      "cell_type": "markdown",
      "source": [
        "We can also use index masks: If the index mask is an Numpy array of data type `bool`, then an element is selected (True) or not (False) depending on the value of the index mask at the position of each element:"
      ]
    },
    {
      "metadata": {
        "colab_type": "code",
        "id": "kGvNphJtLhvZ",
        "outputId": "6aa84c4f-4646-4064-8943-c0fcd0a62fdb",
        "colab": {
          "base_uri": "https://localhost:8080/",
          "height": 34
        }
      },
      "cell_type": "code",
      "source": [
        "B = array([n for n in range(5)])\n",
        "B"
      ],
      "execution_count": 0,
      "outputs": [
        {
          "output_type": "execute_result",
          "data": {
            "text/plain": [
              "array([0, 1, 2, 3, 4])"
            ]
          },
          "metadata": {
            "tags": []
          },
          "execution_count": 109
        }
      ]
    },
    {
      "metadata": {
        "colab_type": "code",
        "id": "fnaG0tr5OBAq",
        "outputId": "b5b99299-7df3-463c-8412-6768ae9160ba",
        "colab": {
          "base_uri": "https://localhost:8080/",
          "height": 34
        }
      },
      "cell_type": "code",
      "source": [
        "row_mask = array([True, False, True, False, False])\n",
        "B[row_mask]"
      ],
      "execution_count": 0,
      "outputs": [
        {
          "output_type": "execute_result",
          "data": {
            "text/plain": [
              "array([0, 2])"
            ]
          },
          "metadata": {
            "tags": []
          },
          "execution_count": 110
        }
      ]
    },
    {
      "metadata": {
        "colab_type": "code",
        "id": "8y2U2Z0_OFaz",
        "outputId": "fb7f9696-cb5b-4ffc-dcaa-309ccc17f62d",
        "colab": {
          "base_uri": "https://localhost:8080/",
          "height": 34
        }
      },
      "cell_type": "code",
      "source": [
        "# same thing\n",
        "row_mask = array([1,0,1,0,0], dtype=bool)\n",
        "B[row_mask]"
      ],
      "execution_count": 0,
      "outputs": [
        {
          "output_type": "execute_result",
          "data": {
            "text/plain": [
              "array([0, 2])"
            ]
          },
          "metadata": {
            "tags": []
          },
          "execution_count": 111
        }
      ]
    },
    {
      "metadata": {
        "colab_type": "text",
        "id": "Nq2hwgDMOK5v"
      },
      "cell_type": "markdown",
      "source": [
        "This feature is very useful to conditionally select elements from an array, using for example comparison operators:"
      ]
    },
    {
      "metadata": {
        "colab_type": "code",
        "id": "OB2w0cRCOIqk",
        "outputId": "7bc00494-0132-4d81-aa92-0b4df06acc92",
        "colab": {
          "base_uri": "https://localhost:8080/",
          "height": 51
        }
      },
      "cell_type": "code",
      "source": [
        "x = arange(0, 10, 0.5)\n",
        "x"
      ],
      "execution_count": 0,
      "outputs": [
        {
          "output_type": "execute_result",
          "data": {
            "text/plain": [
              "array([0. , 0.5, 1. , 1.5, 2. , 2.5, 3. , 3.5, 4. , 4.5, 5. , 5.5, 6. ,\n",
              "       6.5, 7. , 7.5, 8. , 8.5, 9. , 9.5])"
            ]
          },
          "metadata": {
            "tags": []
          },
          "execution_count": 112
        }
      ]
    },
    {
      "metadata": {
        "colab_type": "code",
        "id": "nzqksRlGON1O",
        "outputId": "9122d463-9341-4463-8188-d3fd31b27f0d",
        "colab": {
          "base_uri": "https://localhost:8080/",
          "height": 68
        }
      },
      "cell_type": "code",
      "source": [
        "mask = (5 < x) * (x < 7.5)\n",
        "mask"
      ],
      "execution_count": 0,
      "outputs": [
        {
          "output_type": "execute_result",
          "data": {
            "text/plain": [
              "array([False, False, False, False, False, False, False, False, False,\n",
              "       False, False,  True,  True,  True,  True, False, False, False,\n",
              "       False, False])"
            ]
          },
          "metadata": {
            "tags": []
          },
          "execution_count": 114
        }
      ]
    },
    {
      "metadata": {
        "colab_type": "code",
        "id": "i0T4IB87OPbs",
        "outputId": "c68b3487-972a-4a04-b8c4-247a4dd14a1f",
        "colab": {
          "base_uri": "https://localhost:8080/",
          "height": 34
        }
      },
      "cell_type": "code",
      "source": [
        "x[mask]"
      ],
      "execution_count": 0,
      "outputs": [
        {
          "output_type": "execute_result",
          "data": {
            "text/plain": [
              "array([5.5, 6. , 6.5, 7. ])"
            ]
          },
          "metadata": {
            "tags": []
          },
          "execution_count": 115
        }
      ]
    },
    {
      "metadata": {
        "colab_type": "code",
        "id": "SwwqV4DnOVdj",
        "outputId": "151f1fae-f9b7-4102-a361-056e07b47bb9",
        "colab": {
          "base_uri": "https://localhost:8080/",
          "height": 68
        }
      },
      "cell_type": "code",
      "source": [
        "( 5 < x ) * (x < 7.5)"
      ],
      "execution_count": 0,
      "outputs": [
        {
          "output_type": "execute_result",
          "data": {
            "text/plain": [
              "array([False, False, False, False, False, False, False, False, False,\n",
              "       False, False,  True,  True,  True,  True, False, False, False,\n",
              "       False, False])"
            ]
          },
          "metadata": {
            "tags": []
          },
          "execution_count": 117
        }
      ]
    },
    {
      "metadata": {
        "colab_type": "text",
        "id": "B193cBFiPzKQ"
      },
      "cell_type": "markdown",
      "source": [
        "### Functions for extracting data from arrays and creating arrays\n",
        "\n",
        "#### where\n",
        "The index mask can be converted to position index using the where function"
      ]
    },
    {
      "metadata": {
        "colab_type": "code",
        "id": "j5espRxlO2C2",
        "outputId": "5a2b5ab7-485d-4b31-ba01-602cdfcb7f8e",
        "colab": {
          "base_uri": "https://localhost:8080/",
          "height": 34
        }
      },
      "cell_type": "code",
      "source": [
        "indices = where(mask)\n",
        "\n",
        "indices"
      ],
      "execution_count": 0,
      "outputs": [
        {
          "output_type": "execute_result",
          "data": {
            "text/plain": [
              "(array([11, 12, 13, 14]),)"
            ]
          },
          "metadata": {
            "tags": []
          },
          "execution_count": 121
        }
      ]
    },
    {
      "metadata": {
        "colab_type": "code",
        "id": "idjzhjknP6OI",
        "outputId": "74a25b24-e280-40e4-f838-6c17660dcfaf",
        "colab": {
          "base_uri": "https://localhost:8080/",
          "height": 34
        }
      },
      "cell_type": "code",
      "source": [
        "x[indices] # this indexing is equivalent to the fancy indexing x[mask]"
      ],
      "execution_count": 0,
      "outputs": [
        {
          "output_type": "execute_result",
          "data": {
            "text/plain": [
              "array([5.5, 6. , 6.5, 7. ])"
            ]
          },
          "metadata": {
            "tags": []
          },
          "execution_count": 122
        }
      ]
    },
    {
      "metadata": {
        "colab_type": "text",
        "id": "a8CCpQ6eQBkl"
      },
      "cell_type": "markdown",
      "source": [
        "####diag\n",
        "With the diag function we can also extract the diagonal and subdiagonals of an array:"
      ]
    },
    {
      "metadata": {
        "colab_type": "code",
        "id": "7aqVSdH7P-pJ",
        "outputId": "7d9dc941-0afc-4c11-d2ff-2edf4a1bbdcb",
        "colab": {
          "base_uri": "https://localhost:8080/",
          "height": 102
        }
      },
      "cell_type": "code",
      "source": [
        "A"
      ],
      "execution_count": 0,
      "outputs": [
        {
          "output_type": "execute_result",
          "data": {
            "text/plain": [
              "array([[ 0,  1,  2,  3,  4],\n",
              "       [10, 11, 12, 13, 14],\n",
              "       [20, 21, 22, 23, 24],\n",
              "       [30, 31, 32, 33, 34],\n",
              "       [40, 41, 42, 43, 44]])"
            ]
          },
          "metadata": {
            "tags": []
          },
          "execution_count": 123
        }
      ]
    },
    {
      "metadata": {
        "colab_type": "code",
        "id": "vuncArCJQItv",
        "outputId": "dabb4f2d-ce7e-4268-adf2-c5c8cc8eb889",
        "colab": {
          "base_uri": "https://localhost:8080/",
          "height": 34
        }
      },
      "cell_type": "code",
      "source": [
        "diag(A)"
      ],
      "execution_count": 0,
      "outputs": [
        {
          "output_type": "execute_result",
          "data": {
            "text/plain": [
              "array([ 0, 11, 22, 33, 44])"
            ]
          },
          "metadata": {
            "tags": []
          },
          "execution_count": 124
        }
      ]
    },
    {
      "metadata": {
        "colab_type": "code",
        "id": "aXCKiMI8QJK7",
        "outputId": "3307fe17-7794-4ee8-bdb2-e3edcf42fc0c",
        "colab": {
          "base_uri": "https://localhost:8080/",
          "height": 34
        }
      },
      "cell_type": "code",
      "source": [
        "diag(A, -1)"
      ],
      "execution_count": 0,
      "outputs": [
        {
          "output_type": "execute_result",
          "data": {
            "text/plain": [
              "array([10, 21, 32, 43])"
            ]
          },
          "metadata": {
            "tags": []
          },
          "execution_count": 125
        }
      ]
    },
    {
      "metadata": {
        "colab_type": "text",
        "id": "w0r9A4YcQOLQ"
      },
      "cell_type": "markdown",
      "source": [
        "#### take\n",
        "The `take` function is similar to fancy indexing described above:"
      ]
    },
    {
      "metadata": {
        "colab_type": "code",
        "id": "Uiku_uf3QLQV",
        "outputId": "4c358b41-67f7-412c-bf99-8d15a4e55479",
        "colab": {
          "base_uri": "https://localhost:8080/",
          "height": 34
        }
      },
      "cell_type": "code",
      "source": [
        "v2 = arange(-3,3)\n",
        "v2"
      ],
      "execution_count": 0,
      "outputs": [
        {
          "output_type": "execute_result",
          "data": {
            "text/plain": [
              "array([-3, -2, -1,  0,  1,  2])"
            ]
          },
          "metadata": {
            "tags": []
          },
          "execution_count": 126
        }
      ]
    },
    {
      "metadata": {
        "colab_type": "code",
        "id": "KRSFAYBhQSq8",
        "outputId": "e9694c86-d1cd-4c9d-f5d7-6bd9623fb9f7",
        "colab": {
          "base_uri": "https://localhost:8080/",
          "height": 34
        }
      },
      "cell_type": "code",
      "source": [
        "row_indices = [1, 3, 5]\n",
        "v2[row_indices] # fancy indexing"
      ],
      "execution_count": 0,
      "outputs": [
        {
          "output_type": "execute_result",
          "data": {
            "text/plain": [
              "array([-2,  0,  2])"
            ]
          },
          "metadata": {
            "tags": []
          },
          "execution_count": 127
        }
      ]
    },
    {
      "metadata": {
        "colab_type": "code",
        "id": "3KI480ckQVAA",
        "outputId": "0b2dc739-3657-4899-abf3-a05b61913d7e",
        "colab": {
          "base_uri": "https://localhost:8080/",
          "height": 34
        }
      },
      "cell_type": "code",
      "source": [
        "v2.take(row_indices)"
      ],
      "execution_count": 0,
      "outputs": [
        {
          "output_type": "execute_result",
          "data": {
            "text/plain": [
              "array([-2,  0,  2])"
            ]
          },
          "metadata": {
            "tags": []
          },
          "execution_count": 128
        }
      ]
    },
    {
      "metadata": {
        "colab_type": "text",
        "id": "9HiKmU0JQaZ1"
      },
      "cell_type": "markdown",
      "source": [
        "But take also works on lists and other objects:\n"
      ]
    },
    {
      "metadata": {
        "colab_type": "code",
        "id": "jyEH17JWQYuj",
        "outputId": "b2da8276-c7bf-43e1-e7cc-988c88997d3b",
        "colab": {
          "base_uri": "https://localhost:8080/",
          "height": 34
        }
      },
      "cell_type": "code",
      "source": [
        "take([-3, -2, -1,  0,  1,  2], row_indices)"
      ],
      "execution_count": 0,
      "outputs": [
        {
          "output_type": "execute_result",
          "data": {
            "text/plain": [
              "array([-2,  0,  2])"
            ]
          },
          "metadata": {
            "tags": []
          },
          "execution_count": 129
        }
      ]
    },
    {
      "metadata": {
        "colab_type": "text",
        "id": "cJ8ug0c0R1yq"
      },
      "cell_type": "markdown",
      "source": [
        "####choose\n",
        "Constructs an array by picking elements from several arrays:"
      ]
    },
    {
      "metadata": {
        "colab_type": "code",
        "id": "-9qvEkyuQeg7",
        "outputId": "1e9a97b3-0f4d-40da-aa10-9f3ac359893d",
        "colab": {
          "base_uri": "https://localhost:8080/",
          "height": 34
        }
      },
      "cell_type": "code",
      "source": [
        "which = [1, 0, 1, 0]\n",
        "choices = [[1,2,3,4], [-1,-2,-3,-4]]\n",
        "\n",
        "choose(which, choices)"
      ],
      "execution_count": 0,
      "outputs": [
        {
          "output_type": "execute_result",
          "data": {
            "text/plain": [
              "array([-1,  2, -3,  4])"
            ]
          },
          "metadata": {
            "tags": []
          },
          "execution_count": 130
        }
      ]
    },
    {
      "metadata": {
        "colab_type": "text",
        "id": "Ni2Ec2ANSPFI"
      },
      "cell_type": "markdown",
      "source": [
        "## Linear algebra\n",
        "--------\n",
        "Vectorizing code is the key to writing efficient numerical calculation with Python/Numpy. That means that as much as possible of a program should be formulated in terms of matrix and vector operations, like matrix-matrix multiplication."
      ]
    },
    {
      "metadata": {
        "colab_type": "text",
        "id": "jqjwxXQXSTgT"
      },
      "cell_type": "markdown",
      "source": [
        "### Scalar-array operations\n",
        "We can use the usual arithmetic operators to multiply, add, subtract, and divide arrays with scalar numbers."
      ]
    },
    {
      "metadata": {
        "colab_type": "code",
        "id": "sGNxuEgdR-A5",
        "colab": {}
      },
      "cell_type": "code",
      "source": [
        "v1 = arange(0, 5)"
      ],
      "execution_count": 0,
      "outputs": []
    },
    {
      "metadata": {
        "colab_type": "code",
        "id": "VI0sNkPTSVWq",
        "outputId": "6fa744d5-0076-4fbc-a571-f0daae382121",
        "colab": {
          "base_uri": "https://localhost:8080/",
          "height": 34
        }
      },
      "cell_type": "code",
      "source": [
        "v1"
      ],
      "execution_count": 0,
      "outputs": [
        {
          "output_type": "execute_result",
          "data": {
            "text/plain": [
              "array([0, 1, 2, 3, 4])"
            ]
          },
          "metadata": {
            "tags": []
          },
          "execution_count": 132
        }
      ]
    },
    {
      "metadata": {
        "colab_type": "code",
        "id": "34i56iB9SZxs",
        "outputId": "31f4357b-2413-41aa-a5aa-5f0ed87ff1e7",
        "colab": {
          "base_uri": "https://localhost:8080/",
          "height": 34
        }
      },
      "cell_type": "code",
      "source": [
        "v1 * 2"
      ],
      "execution_count": 0,
      "outputs": [
        {
          "output_type": "execute_result",
          "data": {
            "text/plain": [
              "array([0, 2, 4, 6, 8])"
            ]
          },
          "metadata": {
            "tags": []
          },
          "execution_count": 133
        }
      ]
    },
    {
      "metadata": {
        "colab_type": "code",
        "id": "AKPWKGG5SbI5",
        "outputId": "7ead6e80-84be-485f-b0aa-b9c53346cebb",
        "colab": {
          "base_uri": "https://localhost:8080/",
          "height": 34
        }
      },
      "cell_type": "code",
      "source": [
        "v1 + 2"
      ],
      "execution_count": 0,
      "outputs": [
        {
          "output_type": "execute_result",
          "data": {
            "text/plain": [
              "array([2, 3, 4, 5, 6])"
            ]
          },
          "metadata": {
            "tags": []
          },
          "execution_count": 134
        }
      ]
    },
    {
      "metadata": {
        "colab_type": "code",
        "id": "VmrGbEF5So7k",
        "outputId": "6415da05-c034-4db3-ea72-c01e0ac23c07",
        "colab": {
          "base_uri": "https://localhost:8080/",
          "height": 102
        }
      },
      "cell_type": "code",
      "source": [
        "A"
      ],
      "execution_count": 0,
      "outputs": [
        {
          "output_type": "execute_result",
          "data": {
            "text/plain": [
              "array([[ 0,  1,  2,  3,  4],\n",
              "       [10, 11, 12, 13, 14],\n",
              "       [20, 21, 22, 23, 24],\n",
              "       [30, 31, 32, 33, 34],\n",
              "       [40, 41, 42, 43, 44]])"
            ]
          },
          "metadata": {
            "tags": []
          },
          "execution_count": 137
        }
      ]
    },
    {
      "metadata": {
        "colab_type": "code",
        "id": "JtiS2ydmScgy",
        "outputId": "132e665f-9070-4102-f5c2-7f17a95abe96",
        "colab": {
          "base_uri": "https://localhost:8080/",
          "height": 102
        }
      },
      "cell_type": "code",
      "source": [
        "A * 2"
      ],
      "execution_count": 0,
      "outputs": [
        {
          "output_type": "execute_result",
          "data": {
            "text/plain": [
              "array([[ 0,  2,  4,  6,  8],\n",
              "       [20, 22, 24, 26, 28],\n",
              "       [40, 42, 44, 46, 48],\n",
              "       [60, 62, 64, 66, 68],\n",
              "       [80, 82, 84, 86, 88]])"
            ]
          },
          "metadata": {
            "tags": []
          },
          "execution_count": 135
        }
      ]
    },
    {
      "metadata": {
        "colab_type": "code",
        "id": "BcMcNZSpSmjn",
        "outputId": "7b146aee-bc12-4076-8553-04cc474a84bc",
        "colab": {
          "base_uri": "https://localhost:8080/",
          "height": 102
        }
      },
      "cell_type": "code",
      "source": [
        "A + 2"
      ],
      "execution_count": 0,
      "outputs": [
        {
          "output_type": "execute_result",
          "data": {
            "text/plain": [
              "array([[ 2,  3,  4,  5,  6],\n",
              "       [12, 13, 14, 15, 16],\n",
              "       [22, 23, 24, 25, 26],\n",
              "       [32, 33, 34, 35, 36],\n",
              "       [42, 43, 44, 45, 46]])"
            ]
          },
          "metadata": {
            "tags": []
          },
          "execution_count": 136
        }
      ]
    },
    {
      "metadata": {
        "colab_type": "text",
        "id": "lDby75hPSuli"
      },
      "cell_type": "markdown",
      "source": [
        "### Element-wise array-array operations\n",
        "When we add, subtract, multiply and divide arrays with each other, the default behaviour is element-wise operations:"
      ]
    },
    {
      "metadata": {
        "colab_type": "code",
        "id": "_Po4tJ5wSzuf",
        "outputId": "d57cb9d8-2a04-48f8-b906-4ace6be04205",
        "colab": {
          "base_uri": "https://localhost:8080/",
          "height": 34
        }
      },
      "cell_type": "code",
      "source": [
        "v1 * v1"
      ],
      "execution_count": 0,
      "outputs": [
        {
          "output_type": "execute_result",
          "data": {
            "text/plain": [
              "array([ 0,  1,  4,  9, 16])"
            ]
          },
          "metadata": {
            "tags": []
          },
          "execution_count": 140
        }
      ]
    },
    {
      "metadata": {
        "colab_type": "code",
        "id": "kFtbwY05SnR2",
        "outputId": "205281cb-4350-4c30-f63f-d06c5f3e3059",
        "colab": {
          "base_uri": "https://localhost:8080/",
          "height": 102
        }
      },
      "cell_type": "code",
      "source": [
        "A * A"
      ],
      "execution_count": 0,
      "outputs": [
        {
          "output_type": "execute_result",
          "data": {
            "text/plain": [
              "array([[   0,    1,    4,    9,   16],\n",
              "       [ 100,  121,  144,  169,  196],\n",
              "       [ 400,  441,  484,  529,  576],\n",
              "       [ 900,  961, 1024, 1089, 1156],\n",
              "       [1600, 1681, 1764, 1849, 1936]])"
            ]
          },
          "metadata": {
            "tags": []
          },
          "execution_count": 139
        }
      ]
    },
    {
      "metadata": {
        "colab_type": "text",
        "id": "PTlkuS4MS8np"
      },
      "cell_type": "markdown",
      "source": [
        "If we multiply arrays with compatible shapes, we get an element-wise multiplication of each row:"
      ]
    },
    {
      "metadata": {
        "colab_type": "code",
        "id": "CI2bYMYTS3jM",
        "outputId": "d0bcfe4c-00e5-4ecc-f15a-c7c2c20d20d7",
        "colab": {
          "base_uri": "https://localhost:8080/",
          "height": 34
        }
      },
      "cell_type": "code",
      "source": [
        "A.shape"
      ],
      "execution_count": 0,
      "outputs": [
        {
          "output_type": "execute_result",
          "data": {
            "text/plain": [
              "(5, 5)"
            ]
          },
          "metadata": {
            "tags": []
          },
          "execution_count": 141
        }
      ]
    },
    {
      "metadata": {
        "colab_type": "code",
        "id": "uz-5BBQTS_Bf",
        "outputId": "521c5775-0920-4b83-b8d1-3a8b1de18670",
        "colab": {
          "base_uri": "https://localhost:8080/",
          "height": 34
        }
      },
      "cell_type": "code",
      "source": [
        "v1.shape"
      ],
      "execution_count": 0,
      "outputs": [
        {
          "output_type": "execute_result",
          "data": {
            "text/plain": [
              "(5,)"
            ]
          },
          "metadata": {
            "tags": []
          },
          "execution_count": 142
        }
      ]
    },
    {
      "metadata": {
        "colab_type": "code",
        "id": "tJBFWhglTFLE",
        "outputId": "8a5810fa-7eac-4987-d2bf-083e720d1275",
        "colab": {
          "base_uri": "https://localhost:8080/",
          "height": 34
        }
      },
      "cell_type": "code",
      "source": [
        "v1"
      ],
      "execution_count": 0,
      "outputs": [
        {
          "output_type": "execute_result",
          "data": {
            "text/plain": [
              "array([0, 1, 2, 3, 4])"
            ]
          },
          "metadata": {
            "tags": []
          },
          "execution_count": 144
        }
      ]
    },
    {
      "metadata": {
        "colab_type": "code",
        "id": "U7FS1NH_TFRf",
        "outputId": "ae4dd129-297b-4076-c0f9-93bf8730562f",
        "colab": {
          "base_uri": "https://localhost:8080/",
          "height": 102
        }
      },
      "cell_type": "code",
      "source": [
        "A"
      ],
      "execution_count": 0,
      "outputs": [
        {
          "output_type": "execute_result",
          "data": {
            "text/plain": [
              "array([[ 0,  1,  2,  3,  4],\n",
              "       [10, 11, 12, 13, 14],\n",
              "       [20, 21, 22, 23, 24],\n",
              "       [30, 31, 32, 33, 34],\n",
              "       [40, 41, 42, 43, 44]])"
            ]
          },
          "metadata": {
            "tags": []
          },
          "execution_count": 145
        }
      ]
    },
    {
      "metadata": {
        "colab_type": "code",
        "id": "JqQ8FuVNS__A",
        "outputId": "8901afd7-019b-46e0-883c-1f6f035cdff9",
        "colab": {
          "base_uri": "https://localhost:8080/",
          "height": 102
        }
      },
      "cell_type": "code",
      "source": [
        "A * v1"
      ],
      "execution_count": 0,
      "outputs": [
        {
          "output_type": "execute_result",
          "data": {
            "text/plain": [
              "array([[  0,   1,   4,   9,  16],\n",
              "       [  0,  11,  24,  39,  56],\n",
              "       [  0,  21,  44,  69,  96],\n",
              "       [  0,  31,  64,  99, 136],\n",
              "       [  0,  41,  84, 129, 176]])"
            ]
          },
          "metadata": {
            "tags": []
          },
          "execution_count": 143
        }
      ]
    },
    {
      "metadata": {
        "colab_type": "code",
        "id": "zkqIUV5-TBv3",
        "outputId": "26844ed7-6b17-4305-d55c-8d89cdec9663",
        "colab": {
          "base_uri": "https://localhost:8080/",
          "height": 102
        }
      },
      "cell_type": "code",
      "source": [
        "v1 * A"
      ],
      "execution_count": 0,
      "outputs": [
        {
          "output_type": "execute_result",
          "data": {
            "text/plain": [
              "array([[  0,   1,   4,   9,  16],\n",
              "       [  0,  11,  24,  39,  56],\n",
              "       [  0,  21,  44,  69,  96],\n",
              "       [  0,  31,  64,  99, 136],\n",
              "       [  0,  41,  84, 129, 176]])"
            ]
          },
          "metadata": {
            "tags": []
          },
          "execution_count": 146
        }
      ]
    },
    {
      "metadata": {
        "colab_type": "text",
        "id": "NcgXBvm-Tygo"
      },
      "cell_type": "markdown",
      "source": [
        "### Matrix algebra\n",
        "What about matrix mutiplication? There are two ways. We can either use the dot function, which applies a matrix-matrix, matrix-vector, or inner vector multiplication to its two arguments:"
      ]
    },
    {
      "metadata": {
        "colab_type": "text",
        "id": "B8i8Y79QUx2X"
      },
      "cell_type": "markdown",
      "source": [
        "Dot multiplication:\n",
        "\n",
        "$a\\cdot b=\\sum_{i=1}^n a_n b_n = a_1 b_1 + a_2 b_2 + ... + a_n b_n$"
      ]
    },
    {
      "metadata": {
        "colab_type": "code",
        "id": "t9IbX6JVXLpm",
        "outputId": "e8934a83-90e0-411c-f13c-086cbb5ec8a4",
        "colab": {
          "base_uri": "https://localhost:8080/",
          "height": 102
        }
      },
      "cell_type": "code",
      "source": [
        "A"
      ],
      "execution_count": 0,
      "outputs": [
        {
          "output_type": "execute_result",
          "data": {
            "text/plain": [
              "array([[ 0,  1,  2,  3,  4],\n",
              "       [10, 11, 12, 13, 14],\n",
              "       [20, 21, 22, 23, 24],\n",
              "       [30, 31, 32, 33, 34],\n",
              "       [40, 41, 42, 43, 44]])"
            ]
          },
          "metadata": {
            "tags": []
          },
          "execution_count": 156
        }
      ]
    },
    {
      "metadata": {
        "colab_type": "code",
        "id": "SNKbJGOCTRXB",
        "outputId": "ce544961-2cc7-4b4b-96cc-d02ed0d52cb1",
        "colab": {
          "base_uri": "https://localhost:8080/",
          "height": 102
        }
      },
      "cell_type": "code",
      "source": [
        "dot(A,A)"
      ],
      "execution_count": 0,
      "outputs": [
        {
          "output_type": "execute_result",
          "data": {
            "text/plain": [
              "array([[ 300,  310,  320,  330,  340],\n",
              "       [1300, 1360, 1420, 1480, 1540],\n",
              "       [2300, 2410, 2520, 2630, 2740],\n",
              "       [3300, 3460, 3620, 3780, 3940],\n",
              "       [4300, 4510, 4720, 4930, 5140]])"
            ]
          },
          "metadata": {
            "tags": []
          },
          "execution_count": 147
        }
      ]
    },
    {
      "metadata": {
        "colab_type": "code",
        "id": "PxOsCcAdV2mk",
        "colab": {}
      },
      "cell_type": "code",
      "source": [
        "t = array([[1,2],[3,4]])"
      ],
      "execution_count": 0,
      "outputs": []
    },
    {
      "metadata": {
        "colab_type": "code",
        "id": "uxQd8RWgWK5f",
        "outputId": "2d5931c9-0692-4eb8-9a0b-42e2c7bceac7",
        "colab": {
          "base_uri": "https://localhost:8080/",
          "height": 51
        }
      },
      "cell_type": "code",
      "source": [
        "t"
      ],
      "execution_count": 0,
      "outputs": [
        {
          "output_type": "execute_result",
          "data": {
            "text/plain": [
              "array([[1, 2],\n",
              "       [3, 4]])"
            ]
          },
          "metadata": {
            "tags": []
          },
          "execution_count": 152
        }
      ]
    },
    {
      "metadata": {
        "colab_type": "code",
        "id": "mO-s3GzAWa3g",
        "outputId": "71ba89eb-22ef-4d33-a749-8bb42f1c0f30",
        "colab": {
          "base_uri": "https://localhost:8080/",
          "height": 51
        }
      },
      "cell_type": "code",
      "source": [
        "dot(t,t)"
      ],
      "execution_count": 0,
      "outputs": [
        {
          "output_type": "execute_result",
          "data": {
            "text/plain": [
              "array([[ 7, 10],\n",
              "       [15, 22]])"
            ]
          },
          "metadata": {
            "tags": []
          },
          "execution_count": 153
        }
      ]
    },
    {
      "metadata": {
        "colab_type": "code",
        "id": "MtSlJh6pWhac",
        "outputId": "6325213c-d1d1-477a-d55b-eb825c1a8ad2",
        "colab": {
          "base_uri": "https://localhost:8080/",
          "height": 34
        }
      },
      "cell_type": "code",
      "source": [
        "z = array([1,2,3])\n",
        "dot(z,z)"
      ],
      "execution_count": 0,
      "outputs": [
        {
          "output_type": "execute_result",
          "data": {
            "text/plain": [
              "14"
            ]
          },
          "metadata": {
            "tags": []
          },
          "execution_count": 154
        }
      ]
    },
    {
      "metadata": {
        "colab_type": "code",
        "id": "5mlfZepOXH7C",
        "outputId": "9f4816c0-a588-4aa4-8dae-733baedd0e77",
        "colab": {
          "base_uri": "https://localhost:8080/",
          "height": 34
        }
      },
      "cell_type": "code",
      "source": [
        "dot([1,2],[1,3])"
      ],
      "execution_count": 0,
      "outputs": [
        {
          "output_type": "execute_result",
          "data": {
            "text/plain": [
              "7"
            ]
          },
          "metadata": {
            "tags": []
          },
          "execution_count": 157
        }
      ]
    },
    {
      "metadata": {
        "colab_type": "code",
        "id": "FuVNJJyIZEEc",
        "outputId": "5f602232-8b3a-4b48-cef0-688bb90f5de8",
        "colab": {
          "base_uri": "https://localhost:8080/",
          "height": 34
        }
      },
      "cell_type": "code",
      "source": [
        "v1"
      ],
      "execution_count": 0,
      "outputs": [
        {
          "output_type": "execute_result",
          "data": {
            "text/plain": [
              "array([0, 1, 2, 3, 4])"
            ]
          },
          "metadata": {
            "tags": []
          },
          "execution_count": 158
        }
      ]
    },
    {
      "metadata": {
        "colab_type": "code",
        "id": "uU-EQITHZT0t",
        "outputId": "d26cb43e-77b6-43b9-dc7f-164af93ea062",
        "colab": {
          "base_uri": "https://localhost:8080/",
          "height": 34
        }
      },
      "cell_type": "code",
      "source": [
        "dot(A,v1)"
      ],
      "execution_count": 0,
      "outputs": [
        {
          "output_type": "execute_result",
          "data": {
            "text/plain": [
              "array([ 30, 130, 230, 330, 430])"
            ]
          },
          "metadata": {
            "tags": []
          },
          "execution_count": 159
        }
      ]
    },
    {
      "metadata": {
        "colab_type": "code",
        "id": "W8nSj7Heagio",
        "colab": {}
      },
      "cell_type": "code",
      "source": [
        "from numpy.linalg import *"
      ],
      "execution_count": 0,
      "outputs": []
    },
    {
      "metadata": {
        "colab_type": "code",
        "id": "9WmOwBFcZcHa",
        "outputId": "49b132e1-6921-4a0d-ee51-79cfbcc20e0f",
        "colab": {
          "base_uri": "https://localhost:8080/",
          "height": 102
        }
      },
      "cell_type": "code",
      "source": [
        "A"
      ],
      "execution_count": 0,
      "outputs": [
        {
          "output_type": "execute_result",
          "data": {
            "text/plain": [
              "array([[ 0,  1,  2,  3,  4],\n",
              "       [10, 11, 12, 13, 14],\n",
              "       [20, 21, 22, 23, 24],\n",
              "       [30, 31, 32, 33, 34],\n",
              "       [40, 41, 42, 43, 44]])"
            ]
          },
          "metadata": {
            "tags": []
          },
          "execution_count": 168
        }
      ]
    },
    {
      "metadata": {
        "colab_type": "code",
        "id": "Q53xXVWFaGtn",
        "colab": {}
      },
      "cell_type": "code",
      "source": [
        "a = np.array([[[1., 2.], [3., 4.]], [[1, 3], [3, 5]]])"
      ],
      "execution_count": 0,
      "outputs": []
    },
    {
      "metadata": {
        "colab_type": "text",
        "id": "flTpwZI7bZjj"
      },
      "cell_type": "markdown",
      "source": [
        "### Data processing\n",
        "Often it is useful to store datasets in Numpy arrays. Numpy provides a number of functions to calculate statistics of datasets in arrays.\n",
        "\n",
        "For example, let's calculate some properties from the Stockholm temperature dataset used above."
      ]
    },
    {
      "metadata": {
        "colab_type": "code",
        "id": "LZWPwnJ4asnQ",
        "outputId": "785f7e2a-4d96-4a1c-e5f4-3ac4c4325c07",
        "colab": {
          "base_uri": "https://localhost:8080/",
          "height": 34
        }
      },
      "cell_type": "code",
      "source": [
        "# reminder, the tempeature dataset is stored in the data variable:\n",
        "shape(data)"
      ],
      "execution_count": 0,
      "outputs": [
        {
          "output_type": "execute_result",
          "data": {
            "text/plain": [
              "(77431, 7)"
            ]
          },
          "metadata": {
            "tags": []
          },
          "execution_count": 173
        }
      ]
    },
    {
      "metadata": {
        "colab_type": "text",
        "id": "ipuRl-brbf6k"
      },
      "cell_type": "markdown",
      "source": [
        "####mean"
      ]
    },
    {
      "metadata": {
        "colab_type": "code",
        "id": "rvIPlN7Aber7",
        "outputId": "fcfed0ed-6bbf-46ca-a571-e0bfa0f24c88",
        "colab": {
          "base_uri": "https://localhost:8080/",
          "height": 34
        }
      },
      "cell_type": "code",
      "source": [
        "# the temperature data is in column 3\n",
        "mean(data[:,3])"
      ],
      "execution_count": 0,
      "outputs": [
        {
          "output_type": "execute_result",
          "data": {
            "text/plain": [
              "6.197109684751585"
            ]
          },
          "metadata": {
            "tags": []
          },
          "execution_count": 174
        }
      ]
    },
    {
      "metadata": {
        "colab_type": "text",
        "id": "LKpujFNrblwo"
      },
      "cell_type": "markdown",
      "source": [
        "The daily mean temperature in Stockholm over the last 200 years has been about 6.2 C.\n",
        "\n"
      ]
    },
    {
      "metadata": {
        "colab_type": "text",
        "id": "keOx1KtDb-Yf"
      },
      "cell_type": "markdown",
      "source": [
        "#### SD and variance"
      ]
    },
    {
      "metadata": {
        "colab_type": "code",
        "id": "jT6kgPGSbjjm",
        "outputId": "316abc4c-5b78-404a-b775-2d0d8bef8d77",
        "colab": {
          "base_uri": "https://localhost:8080/",
          "height": 34
        }
      },
      "cell_type": "code",
      "source": [
        "std(data[:,3]), var(data[:,3])"
      ],
      "execution_count": 0,
      "outputs": [
        {
          "output_type": "execute_result",
          "data": {
            "text/plain": [
              "(8.282271621340573, 68.59602320966341)"
            ]
          },
          "metadata": {
            "tags": []
          },
          "execution_count": 175
        }
      ]
    },
    {
      "metadata": {
        "colab_type": "text",
        "id": "ZJVT0j9CcDKh"
      },
      "cell_type": "markdown",
      "source": [
        "####min and max"
      ]
    },
    {
      "metadata": {
        "colab_type": "code",
        "id": "cWtkTIRabp2q",
        "outputId": "70bd9025-32b1-4002-bc35-3ef2f2dfbf50",
        "colab": {
          "base_uri": "https://localhost:8080/",
          "height": 34
        }
      },
      "cell_type": "code",
      "source": [
        "# lowest daily average temperature\n",
        "data[:,3].min()"
      ],
      "execution_count": 0,
      "outputs": [
        {
          "output_type": "execute_result",
          "data": {
            "text/plain": [
              "-25.8"
            ]
          },
          "metadata": {
            "tags": []
          },
          "execution_count": 176
        }
      ]
    },
    {
      "metadata": {
        "colab_type": "code",
        "id": "SvYeD4-kb0h8",
        "outputId": "c7e27a3a-bd09-4bf1-8632-acd1a9e50827",
        "colab": {
          "base_uri": "https://localhost:8080/",
          "height": 34
        }
      },
      "cell_type": "code",
      "source": [
        "# highest daily average temperature\n",
        "data[:,3].max()"
      ],
      "execution_count": 0,
      "outputs": [
        {
          "output_type": "execute_result",
          "data": {
            "text/plain": [
              "28.3"
            ]
          },
          "metadata": {
            "tags": []
          },
          "execution_count": 178
        }
      ]
    },
    {
      "metadata": {
        "colab_type": "text",
        "id": "KhPPxd9Qgw80"
      },
      "cell_type": "markdown",
      "source": [
        "#### sum, prod, and trace"
      ]
    },
    {
      "metadata": {
        "colab_type": "code",
        "id": "rbefGcH7gvNu",
        "outputId": "be1b8013-9309-4807-a3bd-c65d64fefe7d",
        "colab": {
          "base_uri": "https://localhost:8080/",
          "height": 34
        }
      },
      "cell_type": "code",
      "source": [
        "d = arange(0, 10)\n",
        "d"
      ],
      "execution_count": 0,
      "outputs": [
        {
          "output_type": "execute_result",
          "data": {
            "text/plain": [
              "array([0, 1, 2, 3, 4, 5, 6, 7, 8, 9])"
            ]
          },
          "metadata": {
            "tags": []
          },
          "execution_count": 179
        }
      ]
    },
    {
      "metadata": {
        "colab_type": "code",
        "id": "KN4-4eo-g0qq",
        "outputId": "95c6c74f-0c57-4afa-cfa4-f16bd4ad3c4a",
        "colab": {
          "base_uri": "https://localhost:8080/",
          "height": 34
        }
      },
      "cell_type": "code",
      "source": [
        "# sum up all elements\n",
        "sum(d)"
      ],
      "execution_count": 0,
      "outputs": [
        {
          "output_type": "execute_result",
          "data": {
            "text/plain": [
              "45"
            ]
          },
          "metadata": {
            "tags": []
          },
          "execution_count": 180
        }
      ]
    },
    {
      "metadata": {
        "colab_type": "code",
        "id": "9aaiQSHug2Jw",
        "outputId": "0329935b-b583-4cfd-f668-590fbedebfc9",
        "colab": {
          "base_uri": "https://localhost:8080/",
          "height": 34
        }
      },
      "cell_type": "code",
      "source": [
        "# product of all elements\n",
        "prod(d+1)"
      ],
      "execution_count": 0,
      "outputs": [
        {
          "output_type": "execute_result",
          "data": {
            "text/plain": [
              "3628800"
            ]
          },
          "metadata": {
            "tags": []
          },
          "execution_count": 183
        }
      ]
    },
    {
      "metadata": {
        "colab_type": "code",
        "id": "70eR3NvLg369",
        "outputId": "ed718fd6-2d0c-4af6-84e4-96caf64f3c86",
        "colab": {
          "base_uri": "https://localhost:8080/",
          "height": 34
        }
      },
      "cell_type": "code",
      "source": [
        "d+1"
      ],
      "execution_count": 0,
      "outputs": [
        {
          "output_type": "execute_result",
          "data": {
            "text/plain": [
              "array([ 1,  2,  3,  4,  5,  6,  7,  8,  9, 10])"
            ]
          },
          "metadata": {
            "tags": []
          },
          "execution_count": 184
        }
      ]
    },
    {
      "metadata": {
        "colab_type": "code",
        "id": "DQWDLAoXg9so",
        "outputId": "ebbc2b0b-f5cd-49a7-8c7a-45b90d65ed2e",
        "colab": {
          "base_uri": "https://localhost:8080/",
          "height": 51
        }
      },
      "cell_type": "code",
      "source": [
        "# cummulative product\n",
        "cumprod(d+1)"
      ],
      "execution_count": 0,
      "outputs": [
        {
          "output_type": "execute_result",
          "data": {
            "text/plain": [
              "array([      1,       2,       6,      24,     120,     720,    5040,\n",
              "         40320,  362880, 3628800])"
            ]
          },
          "metadata": {
            "tags": []
          },
          "execution_count": 185
        }
      ]
    },
    {
      "metadata": {
        "colab_type": "code",
        "id": "MysSrePxhBj-",
        "outputId": "d64ee9bc-7394-45a8-cee6-c235a1d7e192",
        "colab": {
          "base_uri": "https://localhost:8080/",
          "height": 34
        }
      },
      "cell_type": "code",
      "source": [
        "# same as: diag(A).sum()\n",
        "trace(A)"
      ],
      "execution_count": 0,
      "outputs": [
        {
          "output_type": "execute_result",
          "data": {
            "text/plain": [
              "110"
            ]
          },
          "metadata": {
            "tags": []
          },
          "execution_count": 186
        }
      ]
    },
    {
      "metadata": {
        "colab_type": "text",
        "id": "5Rwl7mV7jsbl"
      },
      "cell_type": "markdown",
      "source": [
        "### Calculations with higher-dimensional data\n",
        "When functions such as min, max, etc. are applied to a multidimensional arrays, it is sometimes useful to apply the calculation to the entire array, and sometimes only on a row or column basis. Using the axis argument we can specify how these functions should behave:"
      ]
    },
    {
      "metadata": {
        "colab_type": "code",
        "id": "snZXExerhDKQ",
        "outputId": "2d86a8f0-6c26-4b83-c8e0-361064acf70a",
        "colab": {
          "base_uri": "https://localhost:8080/",
          "height": 68
        }
      },
      "cell_type": "code",
      "source": [
        "m = random.rand(3,3)\n",
        "m"
      ],
      "execution_count": 0,
      "outputs": [
        {
          "output_type": "execute_result",
          "data": {
            "text/plain": [
              "array([[0.08837097, 0.66213356, 0.52796773],\n",
              "       [0.89266726, 0.6477511 , 0.20665718],\n",
              "       [0.5914833 , 0.66556926, 0.54694865]])"
            ]
          },
          "metadata": {
            "tags": []
          },
          "execution_count": 4
        }
      ]
    },
    {
      "metadata": {
        "colab_type": "code",
        "id": "vtq64399j1VW",
        "outputId": "aec42222-d965-41f8-94a8-40e95ed44ef2",
        "colab": {
          "base_uri": "https://localhost:8080/",
          "height": 34
        }
      },
      "cell_type": "code",
      "source": [
        "# global max\n",
        "m.max()"
      ],
      "execution_count": 0,
      "outputs": [
        {
          "output_type": "execute_result",
          "data": {
            "text/plain": [
              "0.8926672624881014"
            ]
          },
          "metadata": {
            "tags": []
          },
          "execution_count": 5
        }
      ]
    },
    {
      "metadata": {
        "colab_type": "code",
        "id": "xB64zAT2j-bX",
        "outputId": "0bdbaa26-c9af-4ac7-d47f-49a4ca7ebc14",
        "colab": {
          "base_uri": "https://localhost:8080/",
          "height": 34
        }
      },
      "cell_type": "code",
      "source": [
        "# max in each column\n",
        "m.max(axis=0)"
      ],
      "execution_count": 0,
      "outputs": [
        {
          "output_type": "execute_result",
          "data": {
            "text/plain": [
              "array([0.89266726, 0.66556926, 0.54694865])"
            ]
          },
          "metadata": {
            "tags": []
          },
          "execution_count": 6
        }
      ]
    },
    {
      "metadata": {
        "colab_type": "code",
        "id": "eMhIQJMqj_4s",
        "outputId": "3a1c82a8-31fd-4f0d-b82b-15bf471156cb",
        "colab": {
          "base_uri": "https://localhost:8080/",
          "height": 34
        }
      },
      "cell_type": "code",
      "source": [
        "# max in each row\n",
        "m.max(axis=1)"
      ],
      "execution_count": 0,
      "outputs": [
        {
          "output_type": "execute_result",
          "data": {
            "text/plain": [
              "array([0.66213356, 0.89266726, 0.66556926])"
            ]
          },
          "metadata": {
            "tags": []
          },
          "execution_count": 7
        }
      ]
    },
    {
      "metadata": {
        "colab_type": "text",
        "id": "4MHoMxbQkG4O"
      },
      "cell_type": "markdown",
      "source": [
        "Many other functions and methods in the array and matrix classes accept the same (optional) axis keyword argument."
      ]
    },
    {
      "metadata": {
        "colab_type": "text",
        "id": "EgT7db_nDvl1"
      },
      "cell_type": "markdown",
      "source": [
        "## Reshaping, resizing and stacking arrays\n",
        "----------\n",
        "The shape of an Numpy array can be modified without copying the underlaying data, which makes it a fast operation even for large arrays."
      ]
    },
    {
      "metadata": {
        "colab_type": "code",
        "id": "OJszDcXpkBh_",
        "outputId": "d5f604ce-1245-4265-d1ae-06f7cef8dc70",
        "colab": {
          "base_uri": "https://localhost:8080/",
          "height": 102
        }
      },
      "cell_type": "code",
      "source": [
        "A"
      ],
      "execution_count": 0,
      "outputs": [
        {
          "output_type": "execute_result",
          "data": {
            "text/plain": [
              "array([[ 0,  1,  2,  3,  4],\n",
              "       [10, 11, 12, 13, 14],\n",
              "       [20, 21, 22, 23, 24],\n",
              "       [30, 31, 32, 33, 34],\n",
              "       [40, 41, 42, 43, 44]])"
            ]
          },
          "metadata": {
            "tags": []
          },
          "execution_count": 5
        }
      ]
    },
    {
      "metadata": {
        "colab_type": "code",
        "id": "8bzzeOerE2RH",
        "outputId": "471b7ccc-71d2-42ff-ef67-2dbf6f006bd9",
        "colab": {
          "base_uri": "https://localhost:8080/",
          "height": 34
        }
      },
      "cell_type": "code",
      "source": [
        "A.shape"
      ],
      "execution_count": 0,
      "outputs": [
        {
          "output_type": "execute_result",
          "data": {
            "text/plain": [
              "(5, 5)"
            ]
          },
          "metadata": {
            "tags": []
          },
          "execution_count": 7
        }
      ]
    },
    {
      "metadata": {
        "colab_type": "code",
        "id": "CRlxbCxEEyEN",
        "colab": {}
      },
      "cell_type": "code",
      "source": [
        "n, m = A.shape"
      ],
      "execution_count": 0,
      "outputs": []
    },
    {
      "metadata": {
        "colab_type": "code",
        "id": "vI78u0mAEz3o",
        "colab": {}
      },
      "cell_type": "code",
      "source": [
        "B = A.reshape((1,n*m))"
      ],
      "execution_count": 0,
      "outputs": []
    },
    {
      "metadata": {
        "colab_type": "code",
        "id": "Qgsi-PD8E-Cd",
        "outputId": "e4ffa326-6b70-473b-b90d-675843c61ffc",
        "colab": {
          "base_uri": "https://localhost:8080/",
          "height": 51
        }
      },
      "cell_type": "code",
      "source": [
        "B"
      ],
      "execution_count": 0,
      "outputs": [
        {
          "output_type": "execute_result",
          "data": {
            "text/plain": [
              "array([[ 0,  1,  2,  3,  4, 10, 11, 12, 13, 14, 20, 21, 22, 23, 24, 30,\n",
              "        31, 32, 33, 34, 40, 41, 42, 43, 44]])"
            ]
          },
          "metadata": {
            "tags": []
          },
          "execution_count": 9
        }
      ]
    },
    {
      "metadata": {
        "colab_type": "code",
        "id": "8bxkOo-uE-jL",
        "colab": {}
      },
      "cell_type": "code",
      "source": [
        "B[0,0:5] = 5"
      ],
      "execution_count": 0,
      "outputs": []
    },
    {
      "metadata": {
        "colab_type": "code",
        "id": "QmgdTttoFI_G",
        "outputId": "194df02a-adb5-4fff-8a79-e99ea649f067",
        "colab": {
          "base_uri": "https://localhost:8080/",
          "height": 51
        }
      },
      "cell_type": "code",
      "source": [
        "B"
      ],
      "execution_count": 0,
      "outputs": [
        {
          "output_type": "execute_result",
          "data": {
            "text/plain": [
              "array([[ 5,  5,  5,  5,  5, 10, 11, 12, 13, 14, 20, 21, 22, 23, 24, 30,\n",
              "        31, 32, 33, 34, 40, 41, 42, 43, 44]])"
            ]
          },
          "metadata": {
            "tags": []
          },
          "execution_count": 13
        }
      ]
    },
    {
      "metadata": {
        "colab_type": "code",
        "id": "RZ_HLQcbFJcM",
        "outputId": "847cbcb2-6e00-4318-baf4-52274fe22682",
        "colab": {
          "base_uri": "https://localhost:8080/",
          "height": 102
        }
      },
      "cell_type": "code",
      "source": [
        "A"
      ],
      "execution_count": 0,
      "outputs": [
        {
          "output_type": "execute_result",
          "data": {
            "text/plain": [
              "array([[ 5,  5,  5,  5,  5],\n",
              "       [10, 11, 12, 13, 14],\n",
              "       [20, 21, 22, 23, 24],\n",
              "       [30, 31, 32, 33, 34],\n",
              "       [40, 41, 42, 43, 44]])"
            ]
          },
          "metadata": {
            "tags": []
          },
          "execution_count": 14
        }
      ]
    },
    {
      "metadata": {
        "colab_type": "text",
        "id": "YeQQnU-wFTOp"
      },
      "cell_type": "markdown",
      "source": [
        "We can also use the function `flatten` to make a higher-dimensional array into a vector. But this function create a copy of the data."
      ]
    },
    {
      "metadata": {
        "colab_type": "code",
        "id": "ybpBuPheFRFs",
        "outputId": "07e724c0-92ef-4f33-d115-7426bc4fee2a",
        "colab": {
          "base_uri": "https://localhost:8080/",
          "height": 51
        }
      },
      "cell_type": "code",
      "source": [
        "B = A.flatten()\n",
        "\n",
        "B"
      ],
      "execution_count": 0,
      "outputs": [
        {
          "output_type": "execute_result",
          "data": {
            "text/plain": [
              "array([ 5,  5,  5,  5,  5, 10, 11, 12, 13, 14, 20, 21, 22, 23, 24, 30, 31,\n",
              "       32, 33, 34, 40, 41, 42, 43, 44])"
            ]
          },
          "metadata": {
            "tags": []
          },
          "execution_count": 15
        }
      ]
    },
    {
      "metadata": {
        "colab_type": "code",
        "id": "4wvKwg4hFbCY",
        "outputId": "da721fe5-6e16-4ad3-a309-9dfab7f9029b",
        "colab": {
          "base_uri": "https://localhost:8080/",
          "height": 51
        }
      },
      "cell_type": "code",
      "source": [
        "B[0:5] = 10\n",
        "\n",
        "B"
      ],
      "execution_count": 0,
      "outputs": [
        {
          "output_type": "execute_result",
          "data": {
            "text/plain": [
              "array([10, 10, 10, 10, 10, 10, 11, 12, 13, 14, 20, 21, 22, 23, 24, 30, 31,\n",
              "       32, 33, 34, 40, 41, 42, 43, 44])"
            ]
          },
          "metadata": {
            "tags": []
          },
          "execution_count": 16
        }
      ]
    },
    {
      "metadata": {
        "colab_type": "code",
        "id": "1Z0P22aQFhub",
        "outputId": "6c289d1d-4531-4dc8-8587-b0973ea0d55b",
        "colab": {
          "base_uri": "https://localhost:8080/",
          "height": 102
        }
      },
      "cell_type": "code",
      "source": [
        "A"
      ],
      "execution_count": 0,
      "outputs": [
        {
          "output_type": "execute_result",
          "data": {
            "text/plain": [
              "array([[ 5,  5,  5,  5,  5],\n",
              "       [10, 11, 12, 13, 14],\n",
              "       [20, 21, 22, 23, 24],\n",
              "       [30, 31, 32, 33, 34],\n",
              "       [40, 41, 42, 43, 44]])"
            ]
          },
          "metadata": {
            "tags": []
          },
          "execution_count": 17
        }
      ]
    },
    {
      "metadata": {
        "colab_type": "text",
        "id": "NccczGnzGsOY"
      },
      "cell_type": "markdown",
      "source": [
        "### Adding a new dimension: newaxis\n",
        "With `newaxis`, we can insert new dimensions in an array, for example converting a vector to a column or row matrix:"
      ]
    },
    {
      "metadata": {
        "colab_type": "code",
        "id": "mElFBjXpFjcM",
        "colab": {}
      },
      "cell_type": "code",
      "source": [
        "v = array([1,2,3])"
      ],
      "execution_count": 0,
      "outputs": []
    },
    {
      "metadata": {
        "colab_type": "code",
        "id": "rDOpMnyPG1pF",
        "outputId": "1de4e9dc-d697-4f56-e7d1-abeb3ebf28f1",
        "colab": {
          "base_uri": "https://localhost:8080/",
          "height": 34
        }
      },
      "cell_type": "code",
      "source": [
        "shape(v)\n"
      ],
      "execution_count": 0,
      "outputs": [
        {
          "output_type": "execute_result",
          "data": {
            "text/plain": [
              "(3,)"
            ]
          },
          "metadata": {
            "tags": []
          },
          "execution_count": 19
        }
      ]
    },
    {
      "metadata": {
        "colab_type": "code",
        "id": "u4DRov9MG3yq",
        "outputId": "b9b4fdd8-b76f-4f62-bad4-28f89c7ee645",
        "colab": {
          "base_uri": "https://localhost:8080/",
          "height": 68
        }
      },
      "cell_type": "code",
      "source": [
        "# make a column matrix of the vector v\n",
        "v[:, newaxis]"
      ],
      "execution_count": 0,
      "outputs": [
        {
          "output_type": "execute_result",
          "data": {
            "text/plain": [
              "array([[1],\n",
              "       [2],\n",
              "       [3]])"
            ]
          },
          "metadata": {
            "tags": []
          },
          "execution_count": 20
        }
      ]
    },
    {
      "metadata": {
        "colab_type": "code",
        "id": "-ZqnR5mxG5uE",
        "outputId": "64b2d697-c150-4014-9556-283e6b6f3558",
        "colab": {
          "base_uri": "https://localhost:8080/",
          "height": 34
        }
      },
      "cell_type": "code",
      "source": [
        "v[newaxis,:]"
      ],
      "execution_count": 0,
      "outputs": [
        {
          "output_type": "execute_result",
          "data": {
            "text/plain": [
              "array([[1, 2, 3]])"
            ]
          },
          "metadata": {
            "tags": []
          },
          "execution_count": 21
        }
      ]
    },
    {
      "metadata": {
        "colab_type": "code",
        "id": "OxD3JooOHF3J",
        "outputId": "43194722-97b1-467d-ea0e-2e2cdbbc2b18",
        "colab": {
          "base_uri": "https://localhost:8080/",
          "height": 34
        }
      },
      "cell_type": "code",
      "source": [
        "v[newaxis,:].shape"
      ],
      "execution_count": 0,
      "outputs": [
        {
          "output_type": "execute_result",
          "data": {
            "text/plain": [
              "(1, 3)"
            ]
          },
          "metadata": {
            "tags": []
          },
          "execution_count": 23
        }
      ]
    },
    {
      "metadata": {
        "colab_type": "text",
        "id": "7Z-KeEZeIlji"
      },
      "cell_type": "markdown",
      "source": [
        "### Stacking and repeating arrays\n",
        "Using function `repeat`,`tile`, `vstack`, `hstack`, and `concatenate` we can create larger vectors and matrices from smaller ones:"
      ]
    },
    {
      "metadata": {
        "colab_type": "text",
        "id": "b6VdjohBIxnn"
      },
      "cell_type": "markdown",
      "source": [
        "####tile and repeat"
      ]
    },
    {
      "metadata": {
        "colab_type": "code",
        "id": "mvqj3iIKHJ7n",
        "colab": {}
      },
      "cell_type": "code",
      "source": [
        "a = array([[1, 2], [3, 4]])"
      ],
      "execution_count": 0,
      "outputs": []
    },
    {
      "metadata": {
        "colab_type": "code",
        "id": "fQZtBUpbI3GS",
        "outputId": "5b130969-8964-4e28-b2cb-4432fbad187f",
        "colab": {
          "base_uri": "https://localhost:8080/",
          "height": 34
        }
      },
      "cell_type": "code",
      "source": [
        "# repeat each element 3 times\n",
        "repeat(a, 3)"
      ],
      "execution_count": 0,
      "outputs": [
        {
          "output_type": "execute_result",
          "data": {
            "text/plain": [
              "array([1, 1, 1, 2, 2, 2, 3, 3, 3, 4, 4, 4])"
            ]
          },
          "metadata": {
            "tags": []
          },
          "execution_count": 25
        }
      ]
    },
    {
      "metadata": {
        "colab_type": "code",
        "id": "WPMW0VbQI4sW",
        "outputId": "9fa1e852-e1f1-42e0-ede3-994217a82de1",
        "colab": {
          "base_uri": "https://localhost:8080/",
          "height": 51
        }
      },
      "cell_type": "code",
      "source": [
        "# tile the matrix 3 times \n",
        "tile(a, 3)"
      ],
      "execution_count": 0,
      "outputs": [
        {
          "output_type": "execute_result",
          "data": {
            "text/plain": [
              "array([[1, 2, 1, 2, 1, 2],\n",
              "       [3, 4, 3, 4, 3, 4]])"
            ]
          },
          "metadata": {
            "tags": []
          },
          "execution_count": 26
        }
      ]
    },
    {
      "metadata": {
        "colab_type": "text",
        "id": "K435-_GqI_wo"
      },
      "cell_type": "markdown",
      "source": [
        "####concatenate"
      ]
    },
    {
      "metadata": {
        "colab_type": "code",
        "id": "9qV4KMu6I7ji",
        "colab": {}
      },
      "cell_type": "code",
      "source": [
        "b = array([[5, 6]])"
      ],
      "execution_count": 0,
      "outputs": []
    },
    {
      "metadata": {
        "colab_type": "code",
        "id": "RM8utR4yJEgV",
        "outputId": "31a939c8-7def-4547-9f80-f5dc4db03807",
        "colab": {
          "base_uri": "https://localhost:8080/",
          "height": 68
        }
      },
      "cell_type": "code",
      "source": [
        "concatenate((a, b), axis=0)"
      ],
      "execution_count": 0,
      "outputs": [
        {
          "output_type": "execute_result",
          "data": {
            "text/plain": [
              "array([[1, 2],\n",
              "       [3, 4],\n",
              "       [5, 6]])"
            ]
          },
          "metadata": {
            "tags": []
          },
          "execution_count": 28
        }
      ]
    },
    {
      "metadata": {
        "colab_type": "code",
        "id": "3l8_Cu4FJTxu",
        "outputId": "cb996257-71e0-44ea-b5b4-10950f9006d9",
        "colab": {
          "base_uri": "https://localhost:8080/",
          "height": 51
        }
      },
      "cell_type": "code",
      "source": [
        "b.T"
      ],
      "execution_count": 0,
      "outputs": [
        {
          "output_type": "execute_result",
          "data": {
            "text/plain": [
              "array([[5],\n",
              "       [6]])"
            ]
          },
          "metadata": {
            "tags": []
          },
          "execution_count": 31
        }
      ]
    },
    {
      "metadata": {
        "colab_type": "code",
        "id": "MiCOuF-WJGNW",
        "outputId": "a62ef43c-4568-43c6-b30e-1f5c972b6081",
        "colab": {
          "base_uri": "https://localhost:8080/",
          "height": 51
        }
      },
      "cell_type": "code",
      "source": [
        "concatenate((a, b.T), axis=1)"
      ],
      "execution_count": 0,
      "outputs": [
        {
          "output_type": "execute_result",
          "data": {
            "text/plain": [
              "array([[1, 2, 5],\n",
              "       [3, 4, 6]])"
            ]
          },
          "metadata": {
            "tags": []
          },
          "execution_count": 30
        }
      ]
    },
    {
      "metadata": {
        "colab_type": "text",
        "id": "DT65AkznKnnj"
      },
      "cell_type": "markdown",
      "source": [
        "####vertical and horizontal stack"
      ]
    },
    {
      "metadata": {
        "colab_type": "code",
        "id": "u3qySAKwJKh2",
        "outputId": "fbfbaf62-9768-4cea-9451-4cd00e61b5df",
        "colab": {
          "base_uri": "https://localhost:8080/",
          "height": 68
        }
      },
      "cell_type": "code",
      "source": [
        "vstack((a,b))"
      ],
      "execution_count": 0,
      "outputs": [
        {
          "output_type": "execute_result",
          "data": {
            "text/plain": [
              "array([[1, 2],\n",
              "       [3, 4],\n",
              "       [5, 6]])"
            ]
          },
          "metadata": {
            "tags": []
          },
          "execution_count": 32
        }
      ]
    },
    {
      "metadata": {
        "colab_type": "code",
        "id": "Q67M2izaKtU0",
        "outputId": "a9dce26a-e45e-40a3-b6a1-2d422a05edcf",
        "colab": {
          "base_uri": "https://localhost:8080/",
          "height": 51
        }
      },
      "cell_type": "code",
      "source": [
        "hstack((a,b.T))"
      ],
      "execution_count": 0,
      "outputs": [
        {
          "output_type": "execute_result",
          "data": {
            "text/plain": [
              "array([[1, 2, 5],\n",
              "       [3, 4, 6]])"
            ]
          },
          "metadata": {
            "tags": []
          },
          "execution_count": 33
        }
      ]
    },
    {
      "metadata": {
        "colab_type": "text",
        "id": "HUv_nD_pK-gP"
      },
      "cell_type": "markdown",
      "source": [
        "## Copy versus \"deep copy\"\n",
        "-------\n",
        "To achieve high performance, assignments in Python usually do not copy the underlaying objects. This is important for example when objects are passed between functions, to avoid an excessive amount of memory copying when it is not necessary (technical term: pass by reference)."
      ]
    },
    {
      "metadata": {
        "colab_type": "code",
        "id": "S-4xZE-2KvEX",
        "outputId": "04e52696-6107-4061-d90e-483f8a650573",
        "colab": {
          "base_uri": "https://localhost:8080/",
          "height": 51
        }
      },
      "cell_type": "code",
      "source": [
        "A = array([[1, 2], [3, 4]])\n",
        "\n",
        "A"
      ],
      "execution_count": 0,
      "outputs": [
        {
          "output_type": "execute_result",
          "data": {
            "text/plain": [
              "array([[1, 2],\n",
              "       [3, 4]])"
            ]
          },
          "metadata": {
            "tags": []
          },
          "execution_count": 34
        }
      ]
    },
    {
      "metadata": {
        "colab_type": "code",
        "id": "BLlhPxsDLHs_",
        "colab": {}
      },
      "cell_type": "code",
      "source": [
        "# now B is referring to the same array data as A \n",
        "B = A"
      ],
      "execution_count": 0,
      "outputs": []
    },
    {
      "metadata": {
        "colab_type": "code",
        "id": "-sLAoTjFLJFy",
        "outputId": "4a6d2a49-90cc-4e55-b6e0-1edec06859fd",
        "colab": {
          "base_uri": "https://localhost:8080/",
          "height": 51
        }
      },
      "cell_type": "code",
      "source": [
        "# changing B affects A\n",
        "B[0,0] = 10\n",
        "\n",
        "B"
      ],
      "execution_count": 0,
      "outputs": [
        {
          "output_type": "execute_result",
          "data": {
            "text/plain": [
              "array([[10,  2],\n",
              "       [ 3,  4]])"
            ]
          },
          "metadata": {
            "tags": []
          },
          "execution_count": 36
        }
      ]
    },
    {
      "metadata": {
        "colab_type": "code",
        "id": "6wZ3SUEfLK2y",
        "outputId": "c56f8569-b4c1-4ad1-ee90-9dc86529d222",
        "colab": {
          "base_uri": "https://localhost:8080/",
          "height": 51
        }
      },
      "cell_type": "code",
      "source": [
        "A"
      ],
      "execution_count": 0,
      "outputs": [
        {
          "output_type": "execute_result",
          "data": {
            "text/plain": [
              "array([[10,  2],\n",
              "       [ 3,  4]])"
            ]
          },
          "metadata": {
            "tags": []
          },
          "execution_count": 37
        }
      ]
    },
    {
      "metadata": {
        "colab_type": "text",
        "id": "hfu_LwDILNx1"
      },
      "cell_type": "markdown",
      "source": [
        "If we want to avoid this behavior, so that when we get a new completely independent object B copied from A, then we need to do a so-called \"deep copy\" using the function `copy`:"
      ]
    },
    {
      "metadata": {
        "colab_type": "code",
        "id": "brfkCVuQLL2D",
        "colab": {}
      },
      "cell_type": "code",
      "source": [
        "B = copy(A)"
      ],
      "execution_count": 0,
      "outputs": []
    },
    {
      "metadata": {
        "colab_type": "code",
        "id": "HPrbN5WbLTCM",
        "outputId": "60d84700-923f-4036-a24d-8ec157d1ee21",
        "colab": {
          "base_uri": "https://localhost:8080/",
          "height": 51
        }
      },
      "cell_type": "code",
      "source": [
        "# now, if we modify B, A is not affected\n",
        "B[0,0] = -5\n",
        "\n",
        "B"
      ],
      "execution_count": 0,
      "outputs": [
        {
          "output_type": "execute_result",
          "data": {
            "text/plain": [
              "array([[-5,  2],\n",
              "       [ 3,  4]])"
            ]
          },
          "metadata": {
            "tags": []
          },
          "execution_count": 39
        }
      ]
    },
    {
      "metadata": {
        "colab_type": "code",
        "id": "-U3_JrtpLUwy",
        "outputId": "f362f820-6cb6-4c12-98a8-77a83d925808",
        "colab": {
          "base_uri": "https://localhost:8080/",
          "height": 51
        }
      },
      "cell_type": "code",
      "source": [
        "A"
      ],
      "execution_count": 0,
      "outputs": [
        {
          "output_type": "execute_result",
          "data": {
            "text/plain": [
              "array([[10,  2],\n",
              "       [ 3,  4]])"
            ]
          },
          "metadata": {
            "tags": []
          },
          "execution_count": 40
        }
      ]
    },
    {
      "metadata": {
        "colab_type": "text",
        "id": "6ysf7bi5L1iD"
      },
      "cell_type": "markdown",
      "source": [
        "## Iterating over array elements\n",
        "------\n",
        "Generally, we want to avoid iterating over the elements of arrays whenever we can (at all costs). The reason is that in a interpreted language like Python (or MATLAB), iterations are really slow compared to vectorized operations.\n",
        "\n",
        "However, sometimes iterations are unavoidable. For such cases, the Python `for` loop is the most convenient way to iterate over an array:"
      ]
    },
    {
      "metadata": {
        "colab_type": "code",
        "id": "o-YV47xjLW6z",
        "outputId": "ef285bf6-b859-4fe3-f2a2-70a64fa603e4",
        "colab": {
          "base_uri": "https://localhost:8080/",
          "height": 85
        }
      },
      "cell_type": "code",
      "source": [
        "v = array([1,2,3,4])\n",
        "\n",
        "for element in v:\n",
        "    print(element)"
      ],
      "execution_count": 0,
      "outputs": [
        {
          "output_type": "stream",
          "text": [
            "1\n",
            "2\n",
            "3\n",
            "4\n"
          ],
          "name": "stdout"
        }
      ]
    },
    {
      "metadata": {
        "colab_type": "code",
        "id": "ICbVxG0tL_ES",
        "outputId": "21def823-12b5-44d3-898c-e1e2299d78fc",
        "colab": {
          "base_uri": "https://localhost:8080/",
          "height": 119
        }
      },
      "cell_type": "code",
      "source": [
        "M = array([[1,2], [3,4]])\n",
        "\n",
        "for row in M:\n",
        "    print(\"row\", row)\n",
        "    \n",
        "    for element in row:\n",
        "        print(element)"
      ],
      "execution_count": 0,
      "outputs": [
        {
          "output_type": "stream",
          "text": [
            "row [1 2]\n",
            "1\n",
            "2\n",
            "row [3 4]\n",
            "3\n",
            "4\n"
          ],
          "name": "stdout"
        }
      ]
    },
    {
      "metadata": {
        "colab_type": "text",
        "id": "UxtfqMplMCjo"
      },
      "cell_type": "markdown",
      "source": [
        "When we need to iterate over each element of an array and modify its elements, it is convenient to use the `enumerate` function to obtain both the element and its index in the `for` loop:"
      ]
    },
    {
      "metadata": {
        "colab_type": "code",
        "id": "x9JXYjXcMAvO",
        "outputId": "61978f89-2b17-4d44-f5c1-616f21ac2067",
        "colab": {
          "base_uri": "https://localhost:8080/",
          "height": 119
        }
      },
      "cell_type": "code",
      "source": [
        "for row_idx, row in enumerate(M):\n",
        "    print(\"row_idx\", row_idx, \"row\", row)\n",
        "    \n",
        "    for col_idx, element in enumerate(row):\n",
        "        print(\"col_idx\", col_idx, \"element\", element)\n",
        "       \n",
        "        # update the matrix M: square each element\n",
        "        M[row_idx, col_idx] = element ** 2"
      ],
      "execution_count": 0,
      "outputs": [
        {
          "output_type": "stream",
          "text": [
            "row_idx 0 row [1 2]\n",
            "col_idx 0 element 1\n",
            "col_idx 1 element 2\n",
            "row_idx 1 row [3 4]\n",
            "col_idx 0 element 3\n",
            "col_idx 1 element 4\n"
          ],
          "name": "stdout"
        }
      ]
    },
    {
      "metadata": {
        "colab_type": "code",
        "id": "rjikyfvQMKM6",
        "outputId": "e18f128b-7c0c-4765-fd13-a55c5ae1dde3",
        "colab": {
          "base_uri": "https://localhost:8080/",
          "height": 51
        }
      },
      "cell_type": "code",
      "source": [
        "# each element in M is now squared\n",
        "M"
      ],
      "execution_count": 0,
      "outputs": [
        {
          "output_type": "execute_result",
          "data": {
            "text/plain": [
              "array([[ 1,  4],\n",
              "       [ 9, 16]])"
            ]
          },
          "metadata": {
            "tags": []
          },
          "execution_count": 44
        }
      ]
    },
    {
      "metadata": {
        "colab_type": "text",
        "id": "Sno3MvvZM-yw"
      },
      "cell_type": "markdown",
      "source": [
        "## Using arrays in conditions\n",
        "-------\n",
        "When using arrays in conditions,for example if statements and other boolean expressions, one needs to use `any` or `all`, which requires that any or all elements in the array evalutes to `True`:"
      ]
    },
    {
      "metadata": {
        "colab_type": "code",
        "id": "35WcBXr4MM46",
        "outputId": "5ec4c7c0-3568-49a2-e933-40edc57aa1ad",
        "colab": {
          "base_uri": "https://localhost:8080/",
          "height": 51
        }
      },
      "cell_type": "code",
      "source": [
        "M"
      ],
      "execution_count": 0,
      "outputs": [
        {
          "output_type": "execute_result",
          "data": {
            "text/plain": [
              "array([[ 1,  4],\n",
              "       [ 9, 16]])"
            ]
          },
          "metadata": {
            "tags": []
          },
          "execution_count": 45
        }
      ]
    },
    {
      "metadata": {
        "colab_type": "code",
        "id": "d_hy1qUHNOiQ",
        "outputId": "7cf6e70e-bc03-45b9-b95a-982bbebcd598",
        "colab": {
          "base_uri": "https://localhost:8080/",
          "height": 34
        }
      },
      "cell_type": "code",
      "source": [
        "if (M > 5).any():\n",
        "    print(\"at least one element in M is larger than 5\")\n",
        "else:\n",
        "    print(\"no element in M is larger than 5\")"
      ],
      "execution_count": 0,
      "outputs": [
        {
          "output_type": "stream",
          "text": [
            "at least one element in M is larger than 5\n"
          ],
          "name": "stdout"
        }
      ]
    },
    {
      "metadata": {
        "colab_type": "code",
        "id": "Fuo2_JVxNQPZ",
        "outputId": "3883b1bf-eaff-4625-8b7d-7e3ab93609af",
        "colab": {
          "base_uri": "https://localhost:8080/",
          "height": 34
        }
      },
      "cell_type": "code",
      "source": [
        "if (M > 5).all():\n",
        "    print(\"all elements in M are larger than 5\")\n",
        "else:\n",
        "    print(\"all elements in M are not larger than 5\")"
      ],
      "execution_count": 0,
      "outputs": [
        {
          "output_type": "stream",
          "text": [
            "all elements in M are not larger than 5\n"
          ],
          "name": "stdout"
        }
      ]
    },
    {
      "metadata": {
        "colab_type": "code",
        "id": "on5wL0CumjkP",
        "outputId": "fc19fc76-2467-4cc3-d3c0-f3241014d804",
        "colab": {
          "base_uri": "https://localhost:8080/",
          "height": 34
        }
      },
      "cell_type": "code",
      "source": [
        "M[any(M>5,axis=1)]"
      ],
      "execution_count": 0,
      "outputs": [
        {
          "output_type": "execute_result",
          "data": {
            "text/plain": [
              "array([[ 9, 16]])"
            ]
          },
          "metadata": {
            "tags": []
          },
          "execution_count": 115
        }
      ]
    },
    {
      "metadata": {
        "colab_type": "text",
        "id": "i9Vn2_YkNcZ7"
      },
      "cell_type": "markdown",
      "source": [
        "## Type casting\n",
        "---------\n",
        "Since Numpy arrays are statically typed, the type of an array does not change once created. But we can explicitly cast an array of some type to another using the `astype` functions (see also the similar `asarray` function). This always create a new array of new type:"
      ]
    },
    {
      "metadata": {
        "colab_type": "code",
        "id": "U7ztF1WENUIf",
        "outputId": "a1e6df3e-dc71-46eb-9f36-e92a40918e9e",
        "colab": {
          "base_uri": "https://localhost:8080/",
          "height": 34
        }
      },
      "cell_type": "code",
      "source": [
        "M.dtype"
      ],
      "execution_count": 0,
      "outputs": [
        {
          "output_type": "execute_result",
          "data": {
            "text/plain": [
              "dtype('int64')"
            ]
          },
          "metadata": {
            "tags": []
          },
          "execution_count": 48
        }
      ]
    },
    {
      "metadata": {
        "colab_type": "code",
        "id": "5LGDt3IENp2-",
        "outputId": "3a8f6a78-cd56-4142-9fb3-c5a08d8541f3",
        "colab": {
          "base_uri": "https://localhost:8080/",
          "height": 51
        }
      },
      "cell_type": "code",
      "source": [
        "M2 = M.astype(float)\n",
        "\n",
        "M2"
      ],
      "execution_count": 0,
      "outputs": [
        {
          "output_type": "execute_result",
          "data": {
            "text/plain": [
              "array([[ 1.,  4.],\n",
              "       [ 9., 16.]])"
            ]
          },
          "metadata": {
            "tags": []
          },
          "execution_count": 49
        }
      ]
    },
    {
      "metadata": {
        "colab_type": "code",
        "id": "4Q9d_AcKNrc_",
        "outputId": "f281282b-baeb-4be0-8625-1b7ee3466899",
        "colab": {
          "base_uri": "https://localhost:8080/",
          "height": 34
        }
      },
      "cell_type": "code",
      "source": [
        "M2.dtype"
      ],
      "execution_count": 0,
      "outputs": [
        {
          "output_type": "execute_result",
          "data": {
            "text/plain": [
              "dtype('float64')"
            ]
          },
          "metadata": {
            "tags": []
          },
          "execution_count": 50
        }
      ]
    },
    {
      "metadata": {
        "colab_type": "code",
        "id": "rk9rVdnENte5",
        "outputId": "569ef5ea-83d0-4226-db78-b937638d2427",
        "colab": {
          "base_uri": "https://localhost:8080/",
          "height": 51
        }
      },
      "cell_type": "code",
      "source": [
        "M3 = M.astype(bool)\n",
        "\n",
        "M3"
      ],
      "execution_count": 0,
      "outputs": [
        {
          "output_type": "execute_result",
          "data": {
            "text/plain": [
              "array([[ True,  True],\n",
              "       [ True,  True]])"
            ]
          },
          "metadata": {
            "tags": []
          },
          "execution_count": 51
        }
      ]
    },
    {
      "metadata": {
        "colab_type": "text",
        "id": "RYD0OMoTUPc_"
      },
      "cell_type": "markdown",
      "source": [
        "## Homework 1 with numpy"
      ]
    },
    {
      "metadata": {
        "colab_type": "code",
        "id": "SQSVveOUNvv_",
        "outputId": "8a9fd796-4589-46d6-e402-a027b1c2ad88",
        "colab": {
          "base_uri": "https://localhost:8080/",
          "height": 224
        }
      },
      "cell_type": "code",
      "source": [
        "# Get the datasets\n",
        "!wget https://nekrut.github.io/BMMB554/yeast_genes.txt"
      ],
      "execution_count": 0,
      "outputs": [
        {
          "output_type": "stream",
          "text": [
            "--2019-01-23 15:26:25--  https://nekrut.github.io/BMMB554/yeast_genes.txt\n",
            "Resolving nekrut.github.io (nekrut.github.io)... 185.199.108.153, 185.199.110.153, 185.199.109.153, ...\n",
            "Connecting to nekrut.github.io (nekrut.github.io)|185.199.108.153|:443... connected.\n",
            "HTTP request sent, awaiting response... 200 OK\n",
            "Length: 236742 (231K) [text/plain]\n",
            "Saving to: ‘yeast_genes.txt’\n",
            "\n",
            "\ryeast_genes.txt       0%[                    ]       0  --.-KB/s               \ryeast_genes.txt     100%[===================>] 231.19K  --.-KB/s    in 0.03s   \n",
            "\n",
            "2019-01-23 15:26:25 (7.79 MB/s) - ‘yeast_genes.txt’ saved [236742/236742]\n",
            "\n"
          ],
          "name": "stdout"
        }
      ]
    },
    {
      "metadata": {
        "colab_type": "code",
        "id": "IoeF1h7FXQTO",
        "outputId": "51006471-0663-45b9-c15f-03932d6e193c",
        "colab": {
          "base_uri": "https://localhost:8080/",
          "height": 323
        }
      },
      "cell_type": "code",
      "source": [
        "!cut -f 3 yeast_genes.txt | sort | uniq -c"
      ],
      "execution_count": 0,
      "outputs": [
        {
          "output_type": "stream",
          "text": [
            "    131 chrI\n",
            "    485 chrII\n",
            "    253 chrIII\n",
            "    889 chrIV\n",
            "    264 chrIX\n",
            "     58 chrmt\n",
            "      1 chrom\n",
            "    360 chrV\n",
            "    161 chrVI\n",
            "    642 chrVII\n",
            "    340 chrVIII\n",
            "    438 chrX\n",
            "    375 chrXI\n",
            "    644 chrXII\n",
            "    551 chrXIII\n",
            "    459 chrXIV\n",
            "    640 chrXV\n",
            "    548 chrXVI\n"
          ],
          "name": "stdout"
        }
      ]
    },
    {
      "metadata": {
        "colab_type": "code",
        "id": "PVUIJ4YOWWAq",
        "outputId": "bb2c5a15-f675-4295-d2f7-1d410a366315",
        "colab": {
          "base_uri": "https://localhost:8080/",
          "height": 306
        }
      },
      "cell_type": "code",
      "source": [
        "# First let's find out how many chromosomes:\n",
        "chrom = []\n",
        "for line in open('yeast_genes.txt','r'):\n",
        "  if not line.startswith('#'): # ignore header\n",
        "    chrom.append(line.split('\\t')[2]) #split line on tabs and access the third [2] element\n",
        "set(chrom)"
      ],
      "execution_count": 0,
      "outputs": [
        {
          "output_type": "execute_result",
          "data": {
            "text/plain": [
              "{'chrI',\n",
              " 'chrII',\n",
              " 'chrIII',\n",
              " 'chrIV',\n",
              " 'chrIX',\n",
              " 'chrV',\n",
              " 'chrVI',\n",
              " 'chrVII',\n",
              " 'chrVIII',\n",
              " 'chrX',\n",
              " 'chrXI',\n",
              " 'chrXII',\n",
              " 'chrXIII',\n",
              " 'chrXIV',\n",
              " 'chrXV',\n",
              " 'chrXVI',\n",
              " 'chrmt'}"
            ]
          },
          "metadata": {
            "tags": []
          },
          "execution_count": 54
        }
      ]
    },
    {
      "metadata": {
        "colab_type": "code",
        "id": "rLSX4SatYMDq",
        "colab": {}
      },
      "cell_type": "code",
      "source": [
        "# Let's create two arrays to translate between roman and integer\n",
        "# The trick here is than index of every element can be used to\n",
        "# Translate roman into integer\n",
        "# For example, chr_roman[1] is 'chrI'\n",
        "\n",
        "chr_roman = ['chrmt',\n",
        " 'chrI',       \n",
        " 'chrII',\n",
        " 'chrIII',\n",
        " 'chrIV',\n",
        " 'chrIX',\n",
        " 'chrV',\n",
        " 'chrVI',\n",
        " 'chrVII',\n",
        " 'chrVIII',\n",
        " 'chrX',\n",
        " 'chrXI',\n",
        " 'chrXII',\n",
        " 'chrXIII',\n",
        " 'chrXIV',\n",
        " 'chrXV',\n",
        " 'chrXVI']"
      ],
      "execution_count": 0,
      "outputs": []
    },
    {
      "metadata": {
        "colab_type": "code",
        "id": "r6mcc_eDfMfi",
        "outputId": "22b94c22-3226-4018-a306-5434b479fa47",
        "colab": {
          "base_uri": "https://localhost:8080/",
          "height": 34
        }
      },
      "cell_type": "code",
      "source": [
        "roman.index('chrI')"
      ],
      "execution_count": 0,
      "outputs": [
        {
          "output_type": "execute_result",
          "data": {
            "text/plain": [
              "1"
            ]
          },
          "metadata": {
            "tags": []
          },
          "execution_count": 73
        }
      ]
    },
    {
      "metadata": {
        "colab_type": "code",
        "id": "e6hd78R3Ucp2",
        "colab": {}
      },
      "cell_type": "code",
      "source": [
        "# Process the dataset\n",
        "\n",
        "names = [] # Initialize array for gene names\n",
        "coord = [] # Initialize array for coordinate data\n",
        "\n",
        "for line in open('yeast_genes.txt','r'):\n",
        "  if not line.startswith('#'): # ignore header\n",
        "    line = line.rstrip() # get rid of caret returns\n",
        "    fields = line.split('\\t') # split line on tabs to convert it into a list\n",
        "    name = fields[0]\n",
        "    chromosome = chr_roman.index(fields[2])\n",
        "    start = int( fields[3] )\n",
        "    end = int( fields[4] )\n",
        "    length = end-start+1 # compute the length\n",
        "    if name.split('-')[0].endswith('W'):\n",
        "      strand = 1 # encode positive strand as 1\n",
        "    elif name.split('-')[0].endswith('C'):\n",
        "      strand = 2 # encode negative strand as 2\n",
        "    else:        \n",
        "      strand = 0 # encode unknown strand as 0\n",
        "    names.append(name)\n",
        "    coord.append([chromosome,start,end,length,strand])\n",
        "      "
      ],
      "execution_count": 0,
      "outputs": []
    },
    {
      "metadata": {
        "colab_type": "code",
        "id": "o7mD6m-9hPQl",
        "outputId": "8e4b4887-3cc1-49cc-f5f7-ce59c9dd360f",
        "colab": {
          "base_uri": "https://localhost:8080/",
          "height": 34
        }
      },
      "cell_type": "code",
      "source": [
        "coord[:2]"
      ],
      "execution_count": 0,
      "outputs": [
        {
          "output_type": "execute_result",
          "data": {
            "text/plain": [
              "[[0, 61868, 62447, 580, 0], [0, 1, 11, 11, 0]]"
            ]
          },
          "metadata": {
            "tags": []
          },
          "execution_count": 98
        }
      ]
    },
    {
      "metadata": {
        "colab_type": "code",
        "id": "lrf7MFNZhsQT",
        "outputId": "41dc95c5-0e4f-4f9b-bf81-e53c77b52f5a",
        "colab": {
          "base_uri": "https://localhost:8080/",
          "height": 34
        }
      },
      "cell_type": "code",
      "source": [
        "names[:2]"
      ],
      "execution_count": 0,
      "outputs": [
        {
          "output_type": "execute_result",
          "data": {
            "text/plain": [
              "['21S_rRNA_4', '9S_rRNA_1']"
            ]
          },
          "metadata": {
            "tags": []
          },
          "execution_count": 99
        }
      ]
    },
    {
      "metadata": {
        "colab_type": "code",
        "id": "ukLdJBqDh5uz",
        "outputId": "99382b53-9af7-4beb-c7fe-bba10050891d",
        "colab": {
          "base_uri": "https://localhost:8080/",
          "height": 68
        }
      },
      "cell_type": "code",
      "source": [
        "!head -n 3 yeast_genes.txt"
      ],
      "execution_count": 0,
      "outputs": [
        {
          "output_type": "stream",
          "text": [
            "#systematic_name\tstandard_name\tchrom\tstart\tend\n",
            "21S_rRNA_4\t21S_RRNA_4\tchrmt\t61868\t62447\n",
            "9S_rRNA_1\t9S_RRNA_1\tchrmt\t1\t11\n"
          ],
          "name": "stdout"
        }
      ]
    },
    {
      "metadata": {
        "colab_type": "code",
        "id": "vwbq2D6giH_y",
        "colab": {}
      },
      "cell_type": "code",
      "source": [
        "# Convert coord array into numpy array\n",
        "coord = array(coord)"
      ],
      "execution_count": 0,
      "outputs": []
    },
    {
      "metadata": {
        "colab_type": "code",
        "id": "eBn3O7JwiUvD",
        "outputId": "fd58daf6-9cd5-4fb1-b79d-5bf2e0a379b6",
        "colab": {
          "base_uri": "https://localhost:8080/",
          "height": 51
        }
      },
      "cell_type": "code",
      "source": [
        "coord[:2]"
      ],
      "execution_count": 0,
      "outputs": [
        {
          "output_type": "execute_result",
          "data": {
            "text/plain": [
              "array([[    0, 61868, 62447,   580,     0],\n",
              "       [    0,     1,    11,    11,     0]])"
            ]
          },
          "metadata": {
            "tags": []
          },
          "execution_count": 102
        }
      ]
    },
    {
      "metadata": {
        "colab_type": "code",
        "id": "gE5tc9MMiWk9",
        "outputId": "c59fc29e-b7cf-4145-f7dd-c8b65edd800c",
        "colab": {
          "base_uri": "https://localhost:8080/",
          "height": 34
        }
      },
      "cell_type": "code",
      "source": [
        "coord.dtype"
      ],
      "execution_count": 0,
      "outputs": [
        {
          "output_type": "execute_result",
          "data": {
            "text/plain": [
              "dtype('int64')"
            ]
          },
          "metadata": {
            "tags": []
          },
          "execution_count": 103
        }
      ]
    },
    {
      "metadata": {
        "colab_type": "code",
        "id": "l0J0Yq_UibnD",
        "colab": {}
      },
      "cell_type": "code",
      "source": [
        "# Convert names array into numpy array\n",
        "names = array(names)"
      ],
      "execution_count": 0,
      "outputs": []
    },
    {
      "metadata": {
        "colab_type": "code",
        "id": "JPTkZ2eLif_C",
        "outputId": "b1be89d2-38be-40e5-916a-e075d79924c0",
        "colab": {
          "base_uri": "https://localhost:8080/",
          "height": 34
        }
      },
      "cell_type": "code",
      "source": [
        "names[:2]"
      ],
      "execution_count": 0,
      "outputs": [
        {
          "output_type": "execute_result",
          "data": {
            "text/plain": [
              "array(['21S_rRNA_4', '9S_rRNA_1'], dtype='<U10')"
            ]
          },
          "metadata": {
            "tags": []
          },
          "execution_count": 105
        }
      ]
    },
    {
      "metadata": {
        "colab_type": "code",
        "id": "a80Qr3Leih02",
        "outputId": "4519b019-784e-476c-df4a-81348a4c1609",
        "colab": {
          "base_uri": "https://localhost:8080/",
          "height": 34
        }
      },
      "cell_type": "code",
      "source": [
        "# The number of genes can be inferred from array shape\n",
        "coord.shape\n"
      ],
      "execution_count": 0,
      "outputs": [
        {
          "output_type": "execute_result",
          "data": {
            "text/plain": [
              "(7238, 5)"
            ]
          },
          "metadata": {
            "tags": []
          },
          "execution_count": 156
        }
      ]
    },
    {
      "metadata": {
        "colab_type": "code",
        "id": "6YMg8m_isf2v",
        "outputId": "8dfe9082-294b-4052-de48-22c2fd1e4f08",
        "colab": {
          "base_uri": "https://localhost:8080/",
          "height": 34
        }
      },
      "cell_type": "code",
      "source": [
        "# You can see that the file as many lines + 1 (header)\n",
        "!wc -l yeast_genes.txt"
      ],
      "execution_count": 0,
      "outputs": [
        {
          "output_type": "stream",
          "text": [
            "7239 yeast_genes.txt\n"
          ],
          "name": "stdout"
        }
      ]
    },
    {
      "metadata": {
        "colab_type": "code",
        "id": "8XAMy0XCjfWB",
        "outputId": "60b37ad4-91e3-4850-a875-55bca64ea8ca",
        "colab": {
          "base_uri": "https://localhost:8080/",
          "height": 34
        }
      },
      "cell_type": "code",
      "source": [
        "# Longest gene is the max of the dufference between start and end\n",
        "max(coord[:,2] - coord[:,1] + 1)"
      ],
      "execution_count": 0,
      "outputs": [
        {
          "output_type": "execute_result",
          "data": {
            "text/plain": [
              "14733"
            ]
          },
          "metadata": {
            "tags": []
          },
          "execution_count": 158
        }
      ]
    },
    {
      "metadata": {
        "colab_type": "code",
        "id": "Cke6N5kNlMzO",
        "outputId": "e3fd5922-28e1-4154-de12-1f7432613ec2",
        "colab": {
          "base_uri": "https://localhost:8080/",
          "height": 34
        }
      },
      "cell_type": "code",
      "source": [
        "# Or simply the maximum of the length column\n",
        "max(coord[:,3])"
      ],
      "execution_count": 0,
      "outputs": [
        {
          "output_type": "execute_result",
          "data": {
            "text/plain": [
              "14733"
            ]
          },
          "metadata": {
            "tags": []
          },
          "execution_count": 170
        }
      ]
    },
    {
      "metadata": {
        "colab_type": "code",
        "id": "fRaWf912uxWS",
        "outputId": "6ac0bdc5-a5bb-4afd-9444-4451d70db45c",
        "colab": {
          "base_uri": "https://localhost:8080/",
          "height": 34
        }
      },
      "cell_type": "code",
      "source": [
        "# Which gene is that?\n",
        "# The index of this gene in coord array is:\n",
        "argmax(coord[:,3])"
      ],
      "execution_count": 0,
      "outputs": [
        {
          "output_type": "execute_result",
          "data": {
            "text/plain": [
              "4740"
            ]
          },
          "metadata": {
            "tags": []
          },
          "execution_count": 171
        }
      ]
    },
    {
      "metadata": {
        "colab_type": "code",
        "id": "dOKp7Voau0mB",
        "outputId": "b5b82f54-6655-40bb-9fa4-f7ee9628a3c2",
        "colab": {
          "base_uri": "https://localhost:8080/",
          "height": 34
        }
      },
      "cell_type": "code",
      "source": [
        "# It has the same index in names array:\n",
        "names[4740]"
      ],
      "execution_count": 0,
      "outputs": [
        {
          "output_type": "execute_result",
          "data": {
            "text/plain": [
              "'YLR106C'"
            ]
          },
          "metadata": {
            "tags": []
          },
          "execution_count": 175
        }
      ]
    },
    {
      "metadata": {
        "colab_type": "code",
        "id": "jV340oH7mMk9",
        "outputId": "9e75020a-5c50-4a0e-9146-bd6d574b78ce",
        "colab": {
          "base_uri": "https://localhost:8080/",
          "height": 34
        }
      },
      "cell_type": "code",
      "source": [
        "# Shortest gene\n",
        "min(coord[:,3])"
      ],
      "execution_count": 0,
      "outputs": [
        {
          "output_type": "execute_result",
          "data": {
            "text/plain": [
              "1"
            ]
          },
          "metadata": {
            "tags": []
          },
          "execution_count": 109
        }
      ]
    },
    {
      "metadata": {
        "colab_type": "code",
        "id": "w73UIqq5pWOv",
        "outputId": "8f561771-6323-4906-b75f-a75b3018e634",
        "colab": {
          "base_uri": "https://localhost:8080/",
          "height": 34
        }
      },
      "cell_type": "code",
      "source": [
        "# The number of genes on chromsome 10\n",
        "shape(extract(coord[:,0] == 10,coord))"
      ],
      "execution_count": 0,
      "outputs": [
        {
          "output_type": "execute_result",
          "data": {
            "text/plain": [
              "(438,)"
            ]
          },
          "metadata": {
            "tags": []
          },
          "execution_count": 160
        }
      ]
    },
    {
      "metadata": {
        "colab_type": "code",
        "id": "s6N2fBRpoXOr",
        "outputId": "f51887c9-f4ea-4675-f99a-69465d884fd5",
        "colab": {
          "base_uri": "https://localhost:8080/",
          "height": 34
        }
      },
      "cell_type": "code",
      "source": [
        "# Longest gene on chromosome 10\n",
        "max(extract(coord[:,0] == 10,coord[:,3]))"
      ],
      "execution_count": 0,
      "outputs": [
        {
          "output_type": "execute_result",
          "data": {
            "text/plain": [
              "7413"
            ]
          },
          "metadata": {
            "tags": []
          },
          "execution_count": 162
        }
      ]
    },
    {
      "metadata": {
        "colab_type": "code",
        "id": "8rFAqumNoebK",
        "outputId": "b3e3dcf6-46d6-42aa-ca9d-3fa2d8088cc1",
        "colab": {
          "base_uri": "https://localhost:8080/",
          "height": 34
        }
      },
      "cell_type": "code",
      "source": [
        "# The number of genes of chromsome 1 that are on the + strand \n",
        "# (we encoded '+' as 1)\n",
        "size(extract(coord[:,0] == 1, coord[:,4] == 1))"
      ],
      "execution_count": 0,
      "outputs": [
        {
          "output_type": "execute_result",
          "data": {
            "text/plain": [
              "131"
            ]
          },
          "metadata": {
            "tags": []
          },
          "execution_count": 139
        }
      ]
    },
    {
      "metadata": {
        "colab_type": "code",
        "id": "5XqO7sOLrCKm",
        "outputId": "f83e8333-6317-404c-933f-762c36ca6cab",
        "colab": {
          "base_uri": "https://localhost:8080/",
          "height": 34
        }
      },
      "cell_type": "code",
      "source": [
        "# The number of genes of chromsome 1 that are on the - strand \n",
        "# (we encoded '-' as 2)\n",
        "size(extract(coord[:,0] == 2, coord[:,4] == 2))"
      ],
      "execution_count": 0,
      "outputs": [
        {
          "output_type": "execute_result",
          "data": {
            "text/plain": [
              "485"
            ]
          },
          "metadata": {
            "tags": []
          },
          "execution_count": 163
        }
      ]
    },
    {
      "metadata": {
        "colab_type": "code",
        "id": "_wO92gCprLcR",
        "outputId": "29554736-a2cd-41ea-97b2-ee819bb34446",
        "colab": {
          "base_uri": "https://localhost:8080/",
          "height": 353
        }
      },
      "cell_type": "code",
      "source": [
        "# Let's plot distribution of gene lengths\n",
        "sns.set_style('whitegrid')\n",
        "sns.distplot(coord[:,3])"
      ],
      "execution_count": 0,
      "outputs": [
        {
          "output_type": "stream",
          "text": [
            "/usr/local/lib/python3.6/dist-packages/matplotlib/axes/_axes.py:6521: MatplotlibDeprecationWarning: \n",
            "The 'normed' kwarg was deprecated in Matplotlib 2.1 and will be removed in 3.1. Use 'density' instead.\n",
            "  alternative=\"'density'\", removal=\"3.1\")\n"
          ],
          "name": "stderr"
        },
        {
          "output_type": "execute_result",
          "data": {
            "text/plain": [
              "<matplotlib.axes._subplots.AxesSubplot at 0x7f4513047550>"
            ]
          },
          "metadata": {
            "tags": []
          },
          "execution_count": 176
        },
        {
          "output_type": "display_data",
          "data": {
            "image/png": "[encoded data removed]",
            "text/plain": [
              "<Figure size 432x288 with 1 Axes>"
            ]
          },
          "metadata": {
            "tags": []
          }
        }
      ]
    },
    {
      "metadata": {
        "colab_type": "code",
        "id": "wanC9hqqucaS",
        "colab": {}
      },
      "cell_type": "code",
      "source": [
        ""
      ],
      "execution_count": 0,
      "outputs": []
    }
  ]
}