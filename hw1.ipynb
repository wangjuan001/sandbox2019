{
  "nbformat": 4,
  "nbformat_minor": 0,
  "metadata": {
    "colab": {
      "name": "hw1.ipynb",
      "version": "0.3.2",
      "provenance": [],
      "collapsed_sections": [],
      "include_colab_link": true
    },
    "kernelspec": {
      "name": "python3",
      "display_name": "Python 3"
    }
  },
  "cells": [
    {
      "cell_type": "markdown",
      "metadata": {
        "id": "view-in-github",
        "colab_type": "text"
      },
      "source": [
        "<a href=\"https://colab.research.google.com/github/wangjuan001/sandbox2019/blob/master/hw1.ipynb\" target=\"_parent\"><img src=\"https://colab.research.google.com/assets/colab-badge.svg\" alt=\"Open In Colab\"/></a>"
      ]
    },
    {
      "metadata": {
        "id": "HSuDjTSpdxLK",
        "colab_type": "text"
      },
      "cell_type": "markdown",
      "source": [
        "#Homework 1\n",
        "### by Juan Wang \n",
        "### 01/18/2019"
      ]
    },
    {
      "metadata": {
        "id": "qVGvdWARdnSQ",
        "colab_type": "code",
        "colab": {
          "base_uri": "https://localhost:8080/",
          "height": 204
        },
        "outputId": "f39e76df-9515-4fb1-dd9f-6f4724b8ab93"
      },
      "cell_type": "code",
      "source": [
        "# get the gene file.\n",
        "!wget 'http://nekrut.github.io/BMMB554/yeast_genes.txt'"
      ],
      "execution_count": 1,
      "outputs": [
        {
          "output_type": "stream",
          "text": [
            "--2019-01-19 04:56:06--  http://nekrut.github.io/BMMB554/yeast_genes.txt\n",
            "Resolving nekrut.github.io (nekrut.github.io)... 185.199.108.153, 185.199.110.153, 185.199.111.153, ...\n",
            "Connecting to nekrut.github.io (nekrut.github.io)|185.199.108.153|:80... connected.\n",
            "HTTP request sent, awaiting response... 200 OK\n",
            "Length: 236742 (231K) [text/plain]\n",
            "Saving to: ‘yeast_genes.txt’\n",
            "\n",
            "\ryeast_genes.txt       0%[                    ]       0  --.-KB/s               \ryeast_genes.txt     100%[===================>] 231.19K  --.-KB/s    in 0.05s   \n",
            "\n",
            "2019-01-19 04:56:06 (4.36 MB/s) - ‘yeast_genes.txt’ saved [236742/236742]\n",
            "\n"
          ],
          "name": "stdout"
        }
      ]
    },
    {
      "metadata": {
        "id": "CC7e9wlxd2D5",
        "colab_type": "code",
        "colab": {}
      },
      "cell_type": "code",
      "source": [
        "# readlines and store in a list.\n",
        "with open('yeast_genes.txt') as YeastGene:\n",
        "  genes=YeastGene.readlines() "
      ],
      "execution_count": 0,
      "outputs": []
    },
    {
      "metadata": {
        "id": "9ANRJy6Afa-e",
        "colab_type": "code",
        "colab": {
          "base_uri": "https://localhost:8080/",
          "height": 34
        },
        "outputId": "3a039a96-4aff-48f5-82a8-42c7d9e1b1f4"
      },
      "cell_type": "code",
      "source": [
        "# see how many elements in the list, which equals to the lines/genes in the file.\n",
        "len(genes)"
      ],
      "execution_count": 8,
      "outputs": [
        {
          "output_type": "execute_result",
          "data": {
            "text/plain": [
              "7239"
            ]
          },
          "metadata": {
            "tags": []
          },
          "execution_count": 8
        }
      ]
    },
    {
      "metadata": {
        "id": "szYOAaaNgDv2",
        "colab_type": "code",
        "colab": {}
      },
      "cell_type": "code",
      "source": [
        "## calculate gene lengths and store in a dict.\n",
        "## calculate how many genes are on ChrX\n",
        "count = 0\n",
        "genes = genes[1:]\n",
        "geneLengths={}\n",
        "for gene in genes:\n",
        "  genInfo = gene.rstrip().split('\\t')\n",
        "  gen = genInfo[1]\n",
        "  genChr = genInfo[2]\n",
        "  genStart = genInfo[3]\n",
        "  genEnd = genInfo[4]\n",
        "  genLen = int(genEnd) - int(genStart)\n",
        "  geneLengths[gen]=genLen\n",
        "  if genChr == 'chrX':\n",
        "    count += 1\n",
        "  \n"
      ],
      "execution_count": 0,
      "outputs": []
    },
    {
      "metadata": {
        "id": "90CRYbF7k6CA",
        "colab_type": "code",
        "colab": {
          "base_uri": "https://localhost:8080/",
          "height": 34
        },
        "outputId": "99a50131-c030-4cc7-f7ac-131a47decec3"
      },
      "cell_type": "code",
      "source": [
        "print(count)"
      ],
      "execution_count": 34,
      "outputs": [
        {
          "output_type": "stream",
          "text": [
            "0\n"
          ],
          "name": "stdout"
        }
      ]
    },
    {
      "metadata": {
        "id": "BFr3q-LAiQDS",
        "colab_type": "code",
        "colab": {
          "base_uri": "https://localhost:8080/",
          "height": 34
        },
        "outputId": "c4bb1be4-7915-4759-fb43-4b2a424c97cf"
      },
      "cell_type": "code",
      "source": [
        "# get the gene with the longest gene length.\n",
        "max(geneLengths, key=geneLengths.get)"
      ],
      "execution_count": 27,
      "outputs": [
        {
          "output_type": "execute_result",
          "data": {
            "text/plain": [
              "'MDN1'"
            ]
          },
          "metadata": {
            "tags": []
          },
          "execution_count": 27
        }
      ]
    },
    {
      "metadata": {
        "id": "pIUQ7cxmj_VC",
        "colab_type": "code",
        "colab": {
          "base_uri": "https://localhost:8080/",
          "height": 34
        },
        "outputId": "d9a6336d-5eec-47ca-9045-cd406fd2ad51"
      },
      "cell_type": "code",
      "source": [
        "# get the shortest gene.\n",
        "min(geneLengths, key = geneLengths.get)"
      ],
      "execution_count": 29,
      "outputs": [
        {
          "output_type": "execute_result",
          "data": {
            "text/plain": [
              "'ZOD1'"
            ]
          },
          "metadata": {
            "tags": []
          },
          "execution_count": 29
        }
      ]
    },
    {
      "metadata": {
        "id": "1kxEoMBWkSCB",
        "colab_type": "code",
        "colab": {
          "base_uri": "https://localhost:8080/",
          "height": 85
        },
        "outputId": "34f63993-7997-48c7-a39d-e9d88922ceed"
      },
      "cell_type": "code",
      "source": [
        "genes[1:5]"
      ],
      "execution_count": 32,
      "outputs": [
        {
          "output_type": "execute_result",
          "data": {
            "text/plain": [
              "['ETS1-2\\tETS1-2\\tchrXII\\t466870\\t467569\\n',\n",
              " 'ETS2-1\\tETS2-1\\tchrXII\\t451575\\t451785\\n',\n",
              " 'ETS2-2\\tETS2-2\\tchrXII\\t460712\\t460922\\n',\n",
              " 'HRA1\\tHRA1\\tchrI\\t99305\\t99868\\n']"
            ]
          },
          "metadata": {
            "tags": []
          },
          "execution_count": 32
        }
      ]
    }
  ]
}