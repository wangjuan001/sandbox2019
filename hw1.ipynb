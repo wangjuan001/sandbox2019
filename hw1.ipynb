{
  "nbformat": 4,
  "nbformat_minor": 0,
  "metadata": {
    "colab": {
      "name": "hw1.ipynb",
      "version": "0.3.2",
      "provenance": [],
      "collapsed_sections": [],
      "include_colab_link": true
    },
    "kernelspec": {
      "name": "python3",
      "display_name": "Python 3"
    }
  },
  "cells": [
    {
      "cell_type": "markdown",
      "metadata": {
        "id": "view-in-github",
        "colab_type": "text"
      },
      "source": [
        "<a href=\"https://colab.research.google.com/github/wangjuan001/sandbox2019/blob/master/hw1.ipynb\" target=\"_parent\"><img src=\"https://colab.research.google.com/assets/colab-badge.svg\" alt=\"Open In Colab\"/></a>"
      ]
    },
    {
      "metadata": {
        "id": "HSuDjTSpdxLK",
        "colab_type": "text"
      },
      "cell_type": "markdown",
      "source": [
        "#Homework 1\n",
        "### by Juan Wang \n",
        "### 01/18/2019"
      ]
    },
    {
      "metadata": {
        "id": "qVGvdWARdnSQ",
        "colab_type": "code",
        "colab": {}
      },
      "cell_type": "code",
      "source": [
        "# get the gene file.\n",
        "!wget 'http://nekrut.github.io/BMMB554/yeast_genes.txt'"
      ],
      "execution_count": 0,
      "outputs": []
    },
    {
      "metadata": {
        "id": "CC7e9wlxd2D5",
        "colab_type": "code",
        "colab": {}
      },
      "cell_type": "code",
      "source": [
        "# readlines and store in a list.\n",
        "with open('yeast_genes.txt') as YeastGene:\n",
        "  genes=YeastGene.readlines() "
      ],
      "execution_count": 0,
      "outputs": []
    },
    {
      "metadata": {
        "id": "9ANRJy6Afa-e",
        "colab_type": "code",
        "colab": {
          "base_uri": "https://localhost:8080/",
          "height": 34
        },
        "outputId": "963fa5fd-85f3-43d1-bf7b-6d4e2e0c8272"
      },
      "cell_type": "code",
      "source": [
        "# see how many elements in the list, which equals to the lines/genes in the file.\n",
        "len(genes)"
      ],
      "execution_count": 48,
      "outputs": [
        {
          "output_type": "execute_result",
          "data": {
            "text/plain": [
              "7239"
            ]
          },
          "metadata": {
            "tags": []
          },
          "execution_count": 48
        }
      ]
    },
    {
      "metadata": {
        "id": "szYOAaaNgDv2",
        "colab_type": "code",
        "colab": {}
      },
      "cell_type": "code",
      "source": [
        "## calculate gene lengths and store in a dict.\n",
        "## calculate how many genes are on ChrX\n",
        "count_chrX = 0\n",
        "count_chrI = 0\n",
        "count_chrII = 0\n",
        "genes = genes[1:]\n",
        "geneLengths={}  #open a dict to store gene length information\n",
        "for gene in genes:\n",
        "  genInfo = gene.rstrip().split('\\t')\n",
        "  gen = genInfo[1]\n",
        "  genChr = genInfo[2]\n",
        "  genStart = genInfo[-2]\n",
        "  genEnd = genInfo[-1]\n",
        "  genLen = abs(int(genEnd) - int(genStart))\n",
        "  geneLengths[gen]=genLen\n",
        "  if genChr == 'chrX':\n",
        "    count_chrX += 1\n",
        "  \n",
        "  if genChr == 'chrI':\n",
        "    if int(genEnd) - int(genStart) > 0:\n",
        "      count_chrI += 1\n",
        "  \n",
        "  if genChr == 'chrII':\n",
        "    if int(genEnd) - int(genStart) < 0:\n",
        "      count_chrII += 1\n",
        "  \n"
      ],
      "execution_count": 0,
      "outputs": []
    },
    {
      "metadata": {
        "id": "90CRYbF7k6CA",
        "colab_type": "code",
        "colab": {
          "base_uri": "https://localhost:8080/",
          "height": 34
        },
        "outputId": "346e52fd-bc0f-4138-d1a4-1594a9855c9c"
      },
      "cell_type": "code",
      "source": [
        "# genes on chromosom X.\n",
        "print(count_chrX)"
      ],
      "execution_count": 50,
      "outputs": [
        {
          "output_type": "stream",
          "text": [
            "438\n"
          ],
          "name": "stdout"
        }
      ]
    },
    {
      "metadata": {
        "id": "diSqpmz88Ofo",
        "colab_type": "code",
        "colab": {
          "base_uri": "https://localhost:8080/",
          "height": 34
        },
        "outputId": "8a2d1114-9822-48d7-e41b-7ad8fea8b98f"
      },
      "cell_type": "code",
      "source": [
        "# chrI gene on + strand.\n",
        "print(count_chrI)"
      ],
      "execution_count": 51,
      "outputs": [
        {
          "output_type": "stream",
          "text": [
            "131\n"
          ],
          "name": "stdout"
        }
      ]
    },
    {
      "metadata": {
        "id": "cc0QcocD8SQ-",
        "colab_type": "code",
        "colab": {
          "base_uri": "https://localhost:8080/",
          "height": 34
        },
        "outputId": "e267d777-d1d9-4871-ae87-d7b8dd70c612"
      },
      "cell_type": "code",
      "source": [
        "# chrII gene on - strand.\n",
        "print(count_chrII)"
      ],
      "execution_count": 52,
      "outputs": [
        {
          "output_type": "stream",
          "text": [
            "0\n"
          ],
          "name": "stdout"
        }
      ]
    },
    {
      "metadata": {
        "id": "BFr3q-LAiQDS",
        "colab_type": "code",
        "colab": {
          "base_uri": "https://localhost:8080/",
          "height": 34
        },
        "outputId": "bdd62e4a-4e41-492a-ee62-d5ee21af3d3d"
      },
      "cell_type": "code",
      "source": [
        "# get the gene with the longest gene length.\n",
        "max(geneLengths, key=geneLengths.get)"
      ],
      "execution_count": 53,
      "outputs": [
        {
          "output_type": "execute_result",
          "data": {
            "text/plain": [
              "'MDN1'"
            ]
          },
          "metadata": {
            "tags": []
          },
          "execution_count": 53
        }
      ]
    },
    {
      "metadata": {
        "id": "pIUQ7cxmj_VC",
        "colab_type": "code",
        "colab": {
          "base_uri": "https://localhost:8080/",
          "height": 34
        },
        "outputId": "05ef7f1d-ea70-4739-81dd-547fb32d291a"
      },
      "cell_type": "code",
      "source": [
        "# get the shortest gene.\n",
        "min(geneLengths, key = geneLengths.get)"
      ],
      "execution_count": 54,
      "outputs": [
        {
          "output_type": "execute_result",
          "data": {
            "text/plain": [
              "'9S_RRNA_1'"
            ]
          },
          "metadata": {
            "tags": []
          },
          "execution_count": 54
        }
      ]
    },
    {
      "metadata": {
        "id": "w-6Z0UJ7AeAF",
        "colab_type": "code",
        "colab": {}
      },
      "cell_type": "code",
      "source": [
        "sorted(geneLengths.items(), key=lambda kv: kv[1]) # check the result."
      ],
      "execution_count": 0,
      "outputs": []
    }
  ]
}