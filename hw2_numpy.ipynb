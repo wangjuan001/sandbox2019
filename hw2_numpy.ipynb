{
  "nbformat": 4,
  "nbformat_minor": 0,
  "metadata": {
    "colab": {
      "name": "hw2_numpy.ipynb",
      "version": "0.3.2",
      "provenance": [],
      "include_colab_link": true
    },
    "kernelspec": {
      "name": "python3",
      "display_name": "Python 3"
    }
  },
  "cells": [
    {
      "cell_type": "markdown",
      "metadata": {
        "id": "view-in-github",
        "colab_type": "text"
      },
      "source": [
        "<a href=\"https://colab.research.google.com/github/wangjuan001/sandbox2019/blob/master/hw2_numpy.ipynb\" target=\"_parent\"><img src=\"https://colab.research.google.com/assets/colab-badge.svg\" alt=\"Open In Colab\"/></a>"
      ]
    },
    {
      "metadata": {
        "id": "edLlIJKPf19u",
        "colab_type": "code",
        "colab": {
          "base_uri": "https://localhost:8080/",
          "height": 204
        },
        "outputId": "3bddb224-23c2-40d2-f3e5-4cb93d93e237"
      },
      "cell_type": "code",
      "source": [
        "# Get the datasets\n",
        "!wget https://nekrut.github.io/BMMB554/yeast_genes.txt"
      ],
      "execution_count": 2,
      "outputs": [
        {
          "output_type": "stream",
          "text": [
            "--2019-01-28 19:54:15--  https://nekrut.github.io/BMMB554/yeast_genes.txt\n",
            "Resolving nekrut.github.io (nekrut.github.io)... 185.199.110.153, 185.199.111.153, 185.199.108.153, ...\n",
            "Connecting to nekrut.github.io (nekrut.github.io)|185.199.110.153|:443... connected.\n",
            "HTTP request sent, awaiting response... 200 OK\n",
            "Length: 236742 (231K) [text/plain]\n",
            "Saving to: ‘yeast_genes.txt’\n",
            "\n",
            "\ryeast_genes.txt       0%[                    ]       0  --.-KB/s               \ryeast_genes.txt     100%[===================>] 231.19K  --.-KB/s    in 0.05s   \n",
            "\n",
            "2019-01-28 19:54:15 (4.27 MB/s) - ‘yeast_genes.txt’ saved [236742/236742]\n",
            "\n"
          ],
          "name": "stdout"
        }
      ]
    },
    {
      "metadata": {
        "id": "Yiu5wZPpgKI4",
        "colab_type": "code",
        "colab": {}
      },
      "cell_type": "code",
      "source": [
        "!tail -50 yeast_genes.txt"
      ],
      "execution_count": 0,
      "outputs": []
    },
    {
      "metadata": {
        "id": "HyEQSFhCCeCb",
        "colab_type": "code",
        "colab": {}
      },
      "cell_type": "code",
      "source": [
        "from numpy import *"
      ],
      "execution_count": 0,
      "outputs": []
    },
    {
      "metadata": {
        "id": "ygvG6w-lCCwq",
        "colab_type": "code",
        "colab": {}
      },
      "cell_type": "code",
      "source": [
        "chr_roman = ['chrmt',\n",
        " 'chrI',       \n",
        " 'chrII',\n",
        " 'chrIII',\n",
        " 'chrIV',\n",
        " 'chrV',\n",
        " 'chrVI',\n",
        " 'chrVII',\n",
        " 'chrVIII',\n",
        " 'chrIX',\n",
        " 'chrX',\n",
        " 'chrXI',\n",
        " 'chrXII',\n",
        " 'chrXIII',\n",
        " 'chrXIV',\n",
        " 'chrXV',\n",
        " 'chrXVI']"
      ],
      "execution_count": 0,
      "outputs": []
    },
    {
      "metadata": {
        "id": "WGHYSCxoBp59",
        "colab_type": "code",
        "colab": {}
      },
      "cell_type": "code",
      "source": [
        "# Process the dataset\n",
        "\n",
        "names = [] # Initialize array for gene names\n",
        "coord = [] # Initialize array for coordinate data\n",
        "\n",
        "for line in open('yeast_genes.txt','r'):\n",
        "  if not line.startswith('#'): # ignore header\n",
        "    line = line.rstrip() # get rid of caret returns\n",
        "    fields = line.split('\\t') # split line on tabs to convert it into a list\n",
        "    name = fields[0]\n",
        "    chromosome = chr_roman.index(fields[2])\n",
        "    start = int( fields[3] )\n",
        "    end = int( fields[4] )\n",
        "    length = end-start+1 # compute the length\n",
        "    if name.split('-')[0].endswith('W'):\n",
        "      strand = 1 # encode positive strand as 1\n",
        "    elif name.split('-')[0].endswith('C'):\n",
        "      strand = 2 # encode negative strand as 2\n",
        "    else:        \n",
        "      strand = 0 # encode unknown strand as 0\n",
        "    names.append(name)\n",
        "    coord.append([chromosome,start,end,length,strand])\n",
        "      "
      ],
      "execution_count": 0,
      "outputs": []
    },
    {
      "metadata": {
        "id": "Fd3t_rLqCZ7f",
        "colab_type": "code",
        "colab": {
          "base_uri": "https://localhost:8080/",
          "height": 34
        },
        "outputId": "b075cf5a-6159-4997-e787-36e776f6186b"
      },
      "cell_type": "code",
      "source": [
        "coord[ :2]"
      ],
      "execution_count": 10,
      "outputs": [
        {
          "output_type": "execute_result",
          "data": {
            "text/plain": [
              "[[0, 61868, 62447, 580, 0], [0, 1, 11, 11, 0]]"
            ]
          },
          "metadata": {
            "tags": []
          },
          "execution_count": 10
        }
      ]
    },
    {
      "metadata": {
        "id": "xGVLXO5gCtn_",
        "colab_type": "code",
        "colab": {}
      },
      "cell_type": "code",
      "source": [
        "# Convert coord array into numpy array\n",
        "coord = array(coord)"
      ],
      "execution_count": 0,
      "outputs": []
    },
    {
      "metadata": {
        "id": "Hwutf_AGC8Ws",
        "colab_type": "code",
        "colab": {
          "base_uri": "https://localhost:8080/",
          "height": 34
        },
        "outputId": "c19cab99-a7c5-4928-bd7d-e74cbf86daf5"
      },
      "cell_type": "code",
      "source": [
        "# The number of genes on chromsome 9\n",
        "shape(extract(coord[:,0] == 9,coord))"
      ],
      "execution_count": 14,
      "outputs": [
        {
          "output_type": "execute_result",
          "data": {
            "text/plain": [
              "(264,)"
            ]
          },
          "metadata": {
            "tags": []
          },
          "execution_count": 14
        }
      ]
    },
    {
      "metadata": {
        "id": "QF9WDuHEDZQl",
        "colab_type": "code",
        "colab": {
          "base_uri": "https://localhost:8080/",
          "height": 34
        },
        "outputId": "705382b8-cd37-42fe-d16e-6885a25befc0"
      },
      "cell_type": "code",
      "source": [
        "size(extract(coord[:,0] == 3, coord[:,4] == 1))"
      ],
      "execution_count": 23,
      "outputs": [
        {
          "output_type": "execute_result",
          "data": {
            "text/plain": [
              "253"
            ]
          },
          "metadata": {
            "tags": []
          },
          "execution_count": 23
        }
      ]
    },
    {
      "metadata": {
        "id": "-wTqm_JSFBz2",
        "colab_type": "code",
        "colab": {
          "base_uri": "https://localhost:8080/",
          "height": 34
        },
        "outputId": "fe5af9db-1638-4965-ab4f-e90025b782b3"
      },
      "cell_type": "code",
      "source": [
        "size(extract(coord[:,0] == 4, coord[:,4] == 2))"
      ],
      "execution_count": 24,
      "outputs": [
        {
          "output_type": "execute_result",
          "data": {
            "text/plain": [
              "889"
            ]
          },
          "metadata": {
            "tags": []
          },
          "execution_count": 24
        }
      ]
    },
    {
      "metadata": {
        "id": "DyUTmYnAEJMw",
        "colab_type": "code",
        "colab": {}
      },
      "cell_type": "code",
      "source": [
        "!cat yeast_genes.txt | grep 'chrIII'"
      ],
      "execution_count": 0,
      "outputs": []
    }
  ]
}