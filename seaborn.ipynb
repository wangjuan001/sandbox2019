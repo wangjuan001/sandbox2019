{
  "nbformat": 4,
  "nbformat_minor": 0,
  "metadata": {
    "colab": {
      "name": "seaborn.ipynb",
      "version": "0.3.2",
      "provenance": [],
      "include_colab_link": true
    },
    "kernelspec": {
      "name": "python3",
      "display_name": "Python 3"
    }
  },
  "cells": [
    {
      "cell_type": "markdown",
      "metadata": {
        "id": "view-in-github",
        "colab_type": "text"
      },
      "source": [
        "<a href=\"https://colab.research.google.com/github/wangjuan001/sandbox2019/blob/master/seaborn.ipynb\" target=\"_parent\"><img src=\"https://colab.research.google.com/assets/colab-badge.svg\" alt=\"Open In Colab\"/></a>"
      ]
    },
    {
      "metadata": {
        "id": "8AMOUWNHAbGt",
        "colab_type": "code",
        "colab": {
          "base_uri": "https://localhost:8080/",
          "height": 445
        },
        "outputId": "5f513742-452c-4a01-e3db-8eb7953b9b84"
      },
      "cell_type": "code",
      "source": [
        " # Colaboratory has an old version of seaborn, so let's upgrade \n",
        "!pip install seaborn --upgrade"
      ],
      "execution_count": 1,
      "outputs": [
        {
          "output_type": "stream",
          "text": [
            "Collecting seaborn\n",
            "\u001b[?25l  Downloading https://files.pythonhosted.org/packages/a8/76/220ba4420459d9c4c9c9587c6ce607bf56c25b3d3d2de62056efe482dadc/seaborn-0.9.0-py3-none-any.whl (208kB)\n",
            "\r\u001b[K    4% |█▋                              | 10kB 16.6MB/s eta 0:00:01\r\u001b[K    9% |███▏                            | 20kB 3.2MB/s eta 0:00:01\r\u001b[K    14% |████▊                           | 30kB 4.6MB/s eta 0:00:01\r\u001b[K    19% |██████▎                         | 40kB 3.0MB/s eta 0:00:01\r\u001b[K    24% |███████▉                        | 51kB 3.7MB/s eta 0:00:01\r\u001b[K    29% |█████████▌                      | 61kB 4.4MB/s eta 0:00:01\r\u001b[K    34% |███████████                     | 71kB 5.0MB/s eta 0:00:01\r\u001b[K    39% |████████████▋                   | 81kB 5.6MB/s eta 0:00:01\r\u001b[K    44% |██████████████▏                 | 92kB 6.3MB/s eta 0:00:01\r\u001b[K    49% |███████████████▊                | 102kB 4.9MB/s eta 0:00:01\r\u001b[K    54% |█████████████████▎              | 112kB 5.0MB/s eta 0:00:01\r\u001b[K    59% |███████████████████             | 122kB 6.9MB/s eta 0:00:01\r\u001b[K    63% |████████████████████▌           | 133kB 6.8MB/s eta 0:00:01\r\u001b[K    68% |██████████████████████          | 143kB 12.6MB/s eta 0:00:01\r\u001b[K    73% |███████████████████████▋        | 153kB 12.8MB/s eta 0:00:01\r\u001b[K    78% |█████████████████████████▏      | 163kB 12.8MB/s eta 0:00:01\r\u001b[K    83% |██████████████████████████▊     | 174kB 12.5MB/s eta 0:00:01\r\u001b[K    88% |████████████████████████████▍   | 184kB 12.6MB/s eta 0:00:01\r\u001b[K    93% |██████████████████████████████  | 194kB 12.7MB/s eta 0:00:01\r\u001b[K    98% |███████████████████████████████▌| 204kB 44.9MB/s eta 0:00:01\r\u001b[K    100% |████████████████████████████████| 215kB 29.5MB/s \n",
            "\u001b[?25hRequirement already satisfied, skipping upgrade: pandas>=0.15.2 in /usr/local/lib/python3.6/dist-packages (from seaborn) (0.22.0)\n",
            "Requirement already satisfied, skipping upgrade: numpy>=1.9.3 in /usr/local/lib/python3.6/dist-packages (from seaborn) (1.14.6)\n",
            "Requirement already satisfied, skipping upgrade: matplotlib>=1.4.3 in /usr/local/lib/python3.6/dist-packages (from seaborn) (3.0.2)\n",
            "Requirement already satisfied, skipping upgrade: scipy>=0.14.0 in /usr/local/lib/python3.6/dist-packages (from seaborn) (1.1.0)\n",
            "Requirement already satisfied, skipping upgrade: python-dateutil>=2 in /usr/local/lib/python3.6/dist-packages (from pandas>=0.15.2->seaborn) (2.5.3)\n",
            "Requirement already satisfied, skipping upgrade: pytz>=2011k in /usr/local/lib/python3.6/dist-packages (from pandas>=0.15.2->seaborn) (2018.9)\n",
            "Requirement already satisfied, skipping upgrade: kiwisolver>=1.0.1 in /usr/local/lib/python3.6/dist-packages (from matplotlib>=1.4.3->seaborn) (1.0.1)\n",
            "Requirement already satisfied, skipping upgrade: cycler>=0.10 in /usr/local/lib/python3.6/dist-packages (from matplotlib>=1.4.3->seaborn) (0.10.0)\n",
            "Requirement already satisfied, skipping upgrade: pyparsing!=2.0.4,!=2.1.2,!=2.1.6,>=2.0.1 in /usr/local/lib/python3.6/dist-packages (from matplotlib>=1.4.3->seaborn) (2.3.1)\n",
            "Requirement already satisfied, skipping upgrade: six>=1.5 in /usr/local/lib/python3.6/dist-packages (from python-dateutil>=2->pandas>=0.15.2->seaborn) (1.11.0)\n",
            "Requirement already satisfied, skipping upgrade: setuptools in /usr/local/lib/python3.6/dist-packages (from kiwisolver>=1.0.1->matplotlib>=1.4.3->seaborn) (40.7.1)\n",
            "Installing collected packages: seaborn\n",
            "  Found existing installation: seaborn 0.7.1\n",
            "    Uninstalling seaborn-0.7.1:\n",
            "      Successfully uninstalled seaborn-0.7.1\n",
            "Successfully installed seaborn-0.9.0\n"
          ],
          "name": "stdout"
        },
        {
          "output_type": "display_data",
          "data": {
            "application/vnd.colab-display-data+json": {
              "pip_warning": {
                "packages": [
                  "seaborn"
                ]
              }
            }
          },
          "metadata": {
            "tags": []
          }
        }
      ]
    },
    {
      "metadata": {
        "id": "CGU7w243AtY3",
        "colab_type": "code",
        "colab": {}
      },
      "cell_type": "code",
      "source": [
        "import seaborn as sns\n",
        "sns.set(style=\"ticks\")\n",
        "\n",
        "import pandas as pd\n",
        "import matplotlib.pyplot as plt"
      ],
      "execution_count": 0,
      "outputs": []
    },
    {
      "metadata": {
        "id": "6k9S_SkMA5GP",
        "colab_type": "code",
        "colab": {
          "base_uri": "https://localhost:8080/",
          "height": 3468
        },
        "outputId": "7c7ae872-2c28-4cd0-dcf4-7459ddfc51b4"
      },
      "cell_type": "code",
      "source": [
        "%%bash\n",
        "wget https://nekrut.github.io/BMMB554/tnseq_untreated.txt.gz\n",
        "wget https://nekrut.github.io/BMMB554/ta_gc.txt"
      ],
      "execution_count": 2,
      "outputs": [
        {
          "output_type": "stream",
          "text": [
            "--2019-02-04 20:15:34--  https://nekrut.github.io/BMMB554/tnseq_untreated.txt.gz\n",
            "Resolving nekrut.github.io (nekrut.github.io)... 185.199.109.153, 185.199.108.153, 185.199.111.153, ...\n",
            "Connecting to nekrut.github.io (nekrut.github.io)|185.199.109.153|:443... connected.\n",
            "HTTP request sent, awaiting response... 200 OK\n",
            "Length: 2012967 (1.9M) [application/gzip]\n",
            "Saving to: ‘tnseq_untreated.txt.gz.1’\n",
            "\n",
            "     0K .......... .......... .......... .......... ..........  2% 3.39M 1s\n",
            "    50K .......... .......... .......... .......... ..........  5% 6.88M 0s\n",
            "   100K .......... .......... .......... .......... ..........  7%  143M 0s\n",
            "   150K .......... .......... .......... .......... .......... 10%  174M 0s\n",
            "   200K .......... .......... .......... .......... .......... 12% 6.95M 0s\n",
            "   250K .......... .......... .......... .......... .......... 15%  190M 0s\n",
            "   300K .......... .......... .......... .......... .......... 17%  184M 0s\n",
            "   350K .......... .......... .......... .......... .......... 20% 7.62M 0s\n",
            "   400K .......... .......... .......... .......... .......... 22%  126M 0s\n",
            "   450K .......... .......... .......... .......... .......... 25%  163M 0s\n",
            "   500K .......... .......... .......... .......... .......... 27%  192M 0s\n",
            "   550K .......... .......... .......... .......... .......... 30%  173M 0s\n",
            "   600K .......... .......... .......... .......... .......... 33%  191M 0s\n",
            "   650K .......... .......... .......... .......... .......... 35%  195M 0s\n",
            "   700K .......... .......... .......... .......... .......... 38%  206M 0s\n",
            "   750K .......... .......... .......... .......... .......... 40% 9.15M 0s\n",
            "   800K .......... .......... .......... .......... .......... 43% 80.1M 0s\n",
            "   850K .......... .......... .......... .......... .......... 45%  159M 0s\n",
            "   900K .......... .......... .......... .......... .......... 48%  203M 0s\n",
            "   950K .......... .......... .......... .......... .......... 50%  156M 0s\n",
            "  1000K .......... .......... .......... .......... .......... 53%  206M 0s\n",
            "  1050K .......... .......... .......... .......... .......... 55%  182M 0s\n",
            "  1100K .......... .......... .......... .......... .......... 58%  191M 0s\n",
            "  1150K .......... .......... .......... .......... .......... 61%  166M 0s\n",
            "  1200K .......... .......... .......... .......... .......... 63%  208M 0s\n",
            "  1250K .......... .......... .......... .......... .......... 66%  199M 0s\n",
            "  1300K .......... .......... .......... .......... .......... 68% 11.1M 0s\n",
            "  1350K .......... .......... .......... .......... .......... 71%  154M 0s\n",
            "  1400K .......... .......... .......... .......... .......... 73%  125M 0s\n",
            "  1450K .......... .......... .......... .......... .......... 76%  153M 0s\n",
            "  1500K .......... .......... .......... .......... .......... 78%  197M 0s\n",
            "  1550K .......... .......... .......... .......... .......... 81%  165M 0s\n",
            "  1600K .......... .......... .......... .......... .......... 83%  194M 0s\n",
            "  1650K .......... .......... .......... .......... .......... 86%  200M 0s\n",
            "  1700K .......... .......... .......... .......... .......... 89%  209M 0s\n",
            "  1750K .......... .......... .......... .......... .......... 91%  179M 0s\n",
            "  1800K .......... .......... .......... .......... .......... 94%  198M 0s\n",
            "  1850K .......... .......... .......... .......... .......... 96%  198M 0s\n",
            "  1900K .......... .......... .......... .......... .......... 99%  218M 0s\n",
            "  1950K .......... .....                                      100%  193M=0.05s\n",
            "\n",
            "2019-02-04 20:15:34 (35.4 MB/s) - ‘tnseq_untreated.txt.gz.1’ saved [2012967/2012967]\n",
            "\n",
            "--2019-02-04 20:15:34--  https://nekrut.github.io/BMMB554/ta_gc.txt\n",
            "Resolving nekrut.github.io (nekrut.github.io)... 185.199.109.153, 185.199.108.153, 185.199.111.153, ...\n",
            "Connecting to nekrut.github.io (nekrut.github.io)|185.199.109.153|:443... connected.\n",
            "HTTP request sent, awaiting response... 200 OK\n",
            "Length: 7315570 (7.0M) [text/plain]\n",
            "Saving to: ‘ta_gc.txt.1’\n",
            "\n",
            "     0K .......... .......... .......... .......... ..........  0% 3.32M 2s\n",
            "    50K .......... .......... .......... .......... ..........  1% 6.78M 2s\n",
            "   100K .......... .......... .......... .......... ..........  2%  164M 1s\n",
            "   150K .......... .......... .......... .......... ..........  2% 7.03M 1s\n",
            "   200K .......... .......... .......... .......... ..........  3%  154M 1s\n",
            "   250K .......... .......... .......... .......... ..........  4%  200M 1s\n",
            "   300K .......... .......... .......... .......... ..........  4%  191M 1s\n",
            "   350K .......... .......... .......... .......... ..........  5% 7.57M 1s\n",
            "   400K .......... .......... .......... .......... ..........  6%  192M 1s\n",
            "   450K .......... .......... .......... .......... ..........  6%  174M 0s\n",
            "   500K .......... .......... .......... .......... ..........  7%  189M 0s\n",
            "   550K .......... .......... .......... .......... ..........  8%  194M 0s\n",
            "   600K .......... .......... .......... .......... ..........  9%  215M 0s\n",
            "   650K .......... .......... .......... .......... ..........  9%  203M 0s\n",
            "   700K .......... .......... .......... .......... .......... 10%  194M 0s\n",
            "   750K .......... .......... .......... .......... .......... 11% 8.96M 0s\n",
            "   800K .......... .......... .......... .......... .......... 11%  121M 0s\n",
            "   850K .......... .......... .......... .......... .......... 12%  150M 0s\n",
            "   900K .......... .......... .......... .......... .......... 13%  202M 0s\n",
            "   950K .......... .......... .......... .......... .......... 13%  175M 0s\n",
            "  1000K .......... .......... .......... .......... .......... 14%  205M 0s\n",
            "  1050K .......... .......... .......... .......... .......... 15%  206M 0s\n",
            "  1100K .......... .......... .......... .......... .......... 16%  201M 0s\n",
            "  1150K .......... .......... .......... .......... .......... 16%  157M 0s\n",
            "  1200K .......... .......... .......... .......... .......... 17%  201M 0s\n",
            "  1250K .......... .......... .......... .......... .......... 18% 10.2M 0s\n",
            "  1300K .......... .......... .......... .......... .......... 18%  124M 0s\n",
            "  1350K .......... .......... .......... .......... .......... 19%  109M 0s\n",
            "  1400K .......... .......... .......... .......... .......... 20%  179M 0s\n",
            "  1450K .......... .......... .......... .......... .......... 20%  133M 0s\n",
            "  1500K .......... .......... .......... .......... .......... 21%  264M 0s\n",
            "  1550K .......... .......... .......... .......... .......... 22%  261M 0s\n",
            "  1600K .......... .......... .......... .......... .......... 23%  267M 0s\n",
            "  1650K .......... .......... .......... .......... .......... 23%  294M 0s\n",
            "  1700K .......... .......... .......... .......... .......... 24%  313M 0s\n",
            "  1750K .......... .......... .......... .......... .......... 25%  292M 0s\n",
            "  1800K .......... .......... .......... .......... .......... 25%  319M 0s\n",
            "  1850K .......... .......... .......... .......... .......... 26%  331M 0s\n",
            "  1900K .......... .......... .......... .......... .......... 27%  277M 0s\n",
            "  1950K .......... .......... .......... .......... .......... 27%  260M 0s\n",
            "  2000K .......... .......... .......... .......... .......... 28%  333M 0s\n",
            "  2050K .......... .......... .......... .......... .......... 29%  331M 0s\n",
            "  2100K .......... .......... .......... .......... .......... 30%  327M 0s\n",
            "  2150K .......... .......... .......... .......... .......... 30%  289M 0s\n",
            "  2200K .......... .......... .......... .......... .......... 31%  285M 0s\n",
            "  2250K .......... .......... .......... .......... .......... 32%  319M 0s\n",
            "  2300K .......... .......... .......... .......... .......... 32%  287M 0s\n",
            "  2350K .......... .......... .......... .......... .......... 33% 14.2M 0s\n",
            "  2400K .......... .......... .......... .......... .......... 34% 17.2M 0s\n",
            "  2450K .......... .......... .......... .......... .......... 34%  202M 0s\n",
            "  2500K .......... .......... .......... .......... .......... 35%  188M 0s\n",
            "  2550K .......... .......... .......... .......... .......... 36%  161M 0s\n",
            "  2600K .......... .......... .......... .......... .......... 37%  185M 0s\n",
            "  2650K .......... .......... .......... .......... .......... 37%  181M 0s\n",
            "  2700K .......... .......... .......... .......... .......... 38%  195M 0s\n",
            "  2750K .......... .......... .......... .......... .......... 39%  172M 0s\n",
            "  2800K .......... .......... .......... .......... .......... 39%  191M 0s\n",
            "  2850K .......... .......... .......... .......... .......... 40%  185M 0s\n",
            "  2900K .......... .......... .......... .......... .......... 41%  182M 0s\n",
            "  2950K .......... .......... .......... .......... .......... 41%  169M 0s\n",
            "  3000K .......... .......... .......... .......... .......... 42%  196M 0s\n",
            "  3050K .......... .......... .......... .......... .......... 43%  183M 0s\n",
            "  3100K .......... .......... .......... .......... .......... 44%  130M 0s\n",
            "  3150K .......... .......... .......... .......... .......... 44%  104M 0s\n",
            "  3200K .......... .......... .......... .......... .......... 45%  162M 0s\n",
            "  3250K .......... .......... .......... .......... .......... 46%  176M 0s\n",
            "  3300K .......... .......... .......... .......... .......... 46%  173M 0s\n",
            "  3350K .......... .......... .......... .......... .......... 47%  171M 0s\n",
            "  3400K .......... .......... .......... .......... .......... 48%  192M 0s\n",
            "  3450K .......... .......... .......... .......... .......... 48%  203M 0s\n",
            "  3500K .......... .......... .......... .......... .......... 49%  196M 0s\n",
            "  3550K .......... .......... .......... .......... .......... 50%  139M 0s\n",
            "  3600K .......... .......... .......... .......... .......... 51%  189M 0s\n",
            "  3650K .......... .......... .......... .......... .......... 51%  169M 0s\n",
            "  3700K .......... .......... .......... .......... .......... 52%  145M 0s\n",
            "  3750K .......... .......... .......... .......... .......... 53%  136M 0s\n",
            "  3800K .......... .......... .......... .......... .......... 53%  139M 0s\n",
            "  3850K .......... .......... .......... .......... .......... 54%  137M 0s\n",
            "  3900K .......... .......... .......... .......... .......... 55%  143M 0s\n",
            "  3950K .......... .......... .......... .......... .......... 55%  159M 0s\n",
            "  4000K .......... .......... .......... .......... .......... 56%  195M 0s\n",
            "  4050K .......... .......... .......... .......... .......... 57%  192M 0s\n",
            "  4100K .......... .......... .......... .......... .......... 58%  197M 0s\n",
            "  4150K .......... .......... .......... .......... .......... 58%  171M 0s\n",
            "  4200K .......... .......... .......... .......... .......... 59%  192M 0s\n",
            "  4250K .......... .......... .......... .......... .......... 60%  176M 0s\n",
            "  4300K .......... .......... .......... .......... .......... 60%  158M 0s\n",
            "  4350K .......... .......... .......... .......... .......... 61%  119M 0s\n",
            "  4400K .......... .......... .......... .......... .......... 62%  151M 0s\n",
            "  4450K .......... .......... .......... .......... .......... 62%  141M 0s\n",
            "  4500K .......... .......... .......... .......... .......... 63%  137M 0s\n",
            "  4550K .......... .......... .......... .......... .......... 64%  121M 0s\n",
            "  4600K .......... .......... .......... .......... .......... 65%  189M 0s\n",
            "  4650K .......... .......... .......... .......... .......... 65%  182M 0s\n",
            "  4700K .......... .......... .......... .......... .......... 66%  166M 0s\n",
            "  4750K .......... .......... .......... .......... .......... 67%  174M 0s\n",
            "  4800K .......... .......... .......... .......... .......... 67%  155M 0s\n",
            "  4850K .......... .......... .......... .......... .......... 68%  147M 0s\n",
            "  4900K .......... .......... .......... .......... .......... 69%  176M 0s\n",
            "  4950K .......... .......... .......... .......... .......... 69%  178M 0s\n",
            "  5000K .......... .......... .......... .......... .......... 70%  197M 0s\n",
            "  5050K .......... .......... .......... .......... .......... 71%  191M 0s\n",
            "  5100K .......... .......... .......... .......... .......... 72%  202M 0s\n",
            "  5150K .......... .......... .......... .......... .......... 72%  164M 0s\n",
            "  5200K .......... .......... .......... .......... .......... 73%  215M 0s\n",
            "  5250K .......... .......... .......... .......... .......... 74%  285M 0s\n",
            "  5300K .......... .......... .......... .......... .......... 74%  307M 0s\n",
            "  5350K .......... .......... .......... .......... .......... 75%  275M 0s\n",
            "  5400K .......... .......... .......... .......... .......... 76%  303M 0s\n",
            "  5450K .......... .......... .......... .......... .......... 76%  311M 0s\n",
            "  5500K .......... .......... .......... .......... .......... 77%  163M 0s\n",
            "  5550K .......... .......... .......... .......... .......... 78%  165M 0s\n",
            "  5600K .......... .......... .......... .......... .......... 79%  198M 0s\n",
            "  5650K .......... .......... .......... .......... .......... 79%  196M 0s\n",
            "  5700K .......... .......... .......... .......... .......... 80%  199M 0s\n",
            "  5750K .......... .......... .......... .......... .......... 81%  183M 0s\n",
            "  5800K .......... .......... .......... .......... .......... 81%  202M 0s\n",
            "  5850K .......... .......... .......... .......... .......... 82%  199M 0s\n",
            "  5900K .......... .......... .......... .......... .......... 83%  203M 0s\n",
            "  5950K .......... .......... .......... .......... .......... 83%  177M 0s\n",
            "  6000K .......... .......... .......... .......... .......... 84%  243M 0s\n",
            "  6050K .......... .......... .......... .......... .......... 85%  263M 0s\n",
            "  6100K .......... .......... .......... .......... .......... 86%  237M 0s\n",
            "  6150K .......... .......... .......... .......... .......... 86%  207M 0s\n",
            "  6200K .......... .......... .......... .......... .......... 87%  227M 0s\n",
            "  6250K .......... .......... .......... .......... .......... 88%  257M 0s\n",
            "  6300K .......... .......... .......... .......... .......... 88%  338M 0s\n",
            "  6350K .......... .......... .......... .......... .......... 89%  184M 0s\n",
            "  6400K .......... .......... .......... .......... .......... 90%  196M 0s\n",
            "  6450K .......... .......... .......... .......... .......... 90%  184M 0s\n",
            "  6500K .......... .......... .......... .......... .......... 91%  252M 0s\n",
            "  6550K .......... .......... .......... .......... .......... 92%  153M 0s\n",
            "  6600K .......... .......... .......... .......... .......... 93%  218M 0s\n",
            "  6650K .......... .......... .......... .......... .......... 93%  316M 0s\n",
            "  6700K .......... .......... .......... .......... .......... 94%  314M 0s\n",
            "  6750K .......... .......... .......... .......... .......... 95%  276M 0s\n",
            "  6800K .......... .......... .......... .......... .......... 95%  229M 0s\n",
            "  6850K .......... .......... .......... .......... .......... 96%  200M 0s\n",
            "  6900K .......... .......... .......... .......... .......... 97%  210M 0s\n",
            "  6950K .......... .......... .......... .......... .......... 97%  180M 0s\n",
            "  7000K .......... .......... .......... .......... .......... 98%  198M 0s\n",
            "  7050K .......... .......... .......... .......... .......... 99%  205M 0s\n",
            "  7100K .......... .......... .......... .......... ....      100%  188M=0.09s\n",
            "\n",
            "2019-02-04 20:15:34 (80.7 MB/s) - ‘ta_gc.txt.1’ saved [7315570/7315570]\n",
            "\n"
          ],
          "name": "stderr"
        }
      ]
    },
    {
      "metadata": {
        "id": "VxcByzfCA8U1",
        "colab_type": "code",
        "colab": {}
      },
      "cell_type": "code",
      "source": [
        "data_file = 'tnseq_untreated.txt.gz'"
      ],
      "execution_count": 0,
      "outputs": []
    },
    {
      "metadata": {
        "id": "5liU0NT-A_Nt",
        "colab_type": "code",
        "colab": {}
      },
      "cell_type": "code",
      "source": [
        "# Process tnseq_untreated.txt.gz to correctly parse gene names\n",
        "\n",
        "import os\n",
        "f = open('data.txt','w')\n",
        "\n",
        "with os.popen('gunzip -c {}'.format(data_file)) as stream:\n",
        "  for line in stream:\n",
        "    if line.split( '\\t' )[7].startswith( '.' ):\n",
        "      f.write( '{}\\t{}\\n'.format( '\\t'.join( line.split( '\\t' )[:7] ) , 'intergenic'  ) )\n",
        "    elif line.split( '\\t' )[7].startswith( 'ID' ):\n",
        "      f.write( '{}\\t{}\\n'.format( '\\t'.join( line.split( '\\t' )[:7] ) , line.split( '\\t' )[7].split(';')[0][3:] ) )\n",
        "f.close()"
      ],
      "execution_count": 0,
      "outputs": []
    },
    {
      "metadata": {
        "id": "0Yn6XCVjBFZt",
        "colab_type": "code",
        "colab": {}
      },
      "cell_type": "code",
      "source": [
        "tnseq = pd.read_table('data.txt', header=None, names=['pos','blunt','cap','dual','erm','pen','tuf','gene'])\n",
        "\n",
        "gc = pd.read_table('ta_gc.txt', header=None, names=['pos','gc'])"
      ],
      "execution_count": 0,
      "outputs": []
    },
    {
      "metadata": {
        "id": "KPIqkA0PB5Ud",
        "colab_type": "code",
        "colab": {}
      },
      "cell_type": "code",
      "source": [
        "df=sns.load_dataset('anscombe')"
      ],
      "execution_count": 0,
      "outputs": []
    },
    {
      "metadata": {
        "id": "73a6N7j9CGIj",
        "colab_type": "code",
        "colab": {}
      },
      "cell_type": "code",
      "source": [
        "df"
      ],
      "execution_count": 0,
      "outputs": []
    },
    {
      "metadata": {
        "id": "U9rPmOmACGPl",
        "colab_type": "code",
        "colab": {
          "base_uri": "https://localhost:8080/",
          "height": 235
        },
        "outputId": "f19f0c0d-5738-44a6-a84f-82f94d4a989b"
      },
      "cell_type": "code",
      "source": [
        "df.groupby('dataset').describe()"
      ],
      "execution_count": 8,
      "outputs": [
        {
          "output_type": "execute_result",
          "data": {
            "text/html": [
              "<div>\n",
              "<style scoped>\n",
              "    .dataframe tbody tr th:only-of-type {\n",
              "        vertical-align: middle;\n",
              "    }\n",
              "\n",
              "    .dataframe tbody tr th {\n",
              "        vertical-align: top;\n",
              "    }\n",
              "\n",
              "    .dataframe thead tr th {\n",
              "        text-align: left;\n",
              "    }\n",
              "\n",
              "    .dataframe thead tr:last-of-type th {\n",
              "        text-align: right;\n",
              "    }\n",
              "</style>\n",
              "<table border=\"1\" class=\"dataframe\">\n",
              "  <thead>\n",
              "    <tr>\n",
              "      <th></th>\n",
              "      <th colspan=\"8\" halign=\"left\">x</th>\n",
              "      <th colspan=\"8\" halign=\"left\">y</th>\n",
              "    </tr>\n",
              "    <tr>\n",
              "      <th></th>\n",
              "      <th>count</th>\n",
              "      <th>mean</th>\n",
              "      <th>std</th>\n",
              "      <th>min</th>\n",
              "      <th>25%</th>\n",
              "      <th>50%</th>\n",
              "      <th>75%</th>\n",
              "      <th>max</th>\n",
              "      <th>count</th>\n",
              "      <th>mean</th>\n",
              "      <th>std</th>\n",
              "      <th>min</th>\n",
              "      <th>25%</th>\n",
              "      <th>50%</th>\n",
              "      <th>75%</th>\n",
              "      <th>max</th>\n",
              "    </tr>\n",
              "    <tr>\n",
              "      <th>dataset</th>\n",
              "      <th></th>\n",
              "      <th></th>\n",
              "      <th></th>\n",
              "      <th></th>\n",
              "      <th></th>\n",
              "      <th></th>\n",
              "      <th></th>\n",
              "      <th></th>\n",
              "      <th></th>\n",
              "      <th></th>\n",
              "      <th></th>\n",
              "      <th></th>\n",
              "      <th></th>\n",
              "      <th></th>\n",
              "      <th></th>\n",
              "      <th></th>\n",
              "    </tr>\n",
              "  </thead>\n",
              "  <tbody>\n",
              "    <tr>\n",
              "      <th>I</th>\n",
              "      <td>11.0</td>\n",
              "      <td>9.0</td>\n",
              "      <td>3.316625</td>\n",
              "      <td>4.0</td>\n",
              "      <td>6.5</td>\n",
              "      <td>9.0</td>\n",
              "      <td>11.5</td>\n",
              "      <td>14.0</td>\n",
              "      <td>11.0</td>\n",
              "      <td>7.500909</td>\n",
              "      <td>2.031568</td>\n",
              "      <td>4.26</td>\n",
              "      <td>6.315</td>\n",
              "      <td>7.58</td>\n",
              "      <td>8.57</td>\n",
              "      <td>10.84</td>\n",
              "    </tr>\n",
              "    <tr>\n",
              "      <th>II</th>\n",
              "      <td>11.0</td>\n",
              "      <td>9.0</td>\n",
              "      <td>3.316625</td>\n",
              "      <td>4.0</td>\n",
              "      <td>6.5</td>\n",
              "      <td>9.0</td>\n",
              "      <td>11.5</td>\n",
              "      <td>14.0</td>\n",
              "      <td>11.0</td>\n",
              "      <td>7.500909</td>\n",
              "      <td>2.031657</td>\n",
              "      <td>3.10</td>\n",
              "      <td>6.695</td>\n",
              "      <td>8.14</td>\n",
              "      <td>8.95</td>\n",
              "      <td>9.26</td>\n",
              "    </tr>\n",
              "    <tr>\n",
              "      <th>III</th>\n",
              "      <td>11.0</td>\n",
              "      <td>9.0</td>\n",
              "      <td>3.316625</td>\n",
              "      <td>4.0</td>\n",
              "      <td>6.5</td>\n",
              "      <td>9.0</td>\n",
              "      <td>11.5</td>\n",
              "      <td>14.0</td>\n",
              "      <td>11.0</td>\n",
              "      <td>7.500000</td>\n",
              "      <td>2.030424</td>\n",
              "      <td>5.39</td>\n",
              "      <td>6.250</td>\n",
              "      <td>7.11</td>\n",
              "      <td>7.98</td>\n",
              "      <td>12.74</td>\n",
              "    </tr>\n",
              "    <tr>\n",
              "      <th>IV</th>\n",
              "      <td>11.0</td>\n",
              "      <td>9.0</td>\n",
              "      <td>3.316625</td>\n",
              "      <td>8.0</td>\n",
              "      <td>8.0</td>\n",
              "      <td>8.0</td>\n",
              "      <td>8.0</td>\n",
              "      <td>19.0</td>\n",
              "      <td>11.0</td>\n",
              "      <td>7.500909</td>\n",
              "      <td>2.030579</td>\n",
              "      <td>5.25</td>\n",
              "      <td>6.170</td>\n",
              "      <td>7.04</td>\n",
              "      <td>8.19</td>\n",
              "      <td>12.50</td>\n",
              "    </tr>\n",
              "  </tbody>\n",
              "</table>\n",
              "</div>"
            ],
            "text/plain": [
              "            x                                               y            \\\n",
              "        count mean       std  min  25%  50%   75%   max count      mean   \n",
              "dataset                                                                   \n",
              "I        11.0  9.0  3.316625  4.0  6.5  9.0  11.5  14.0  11.0  7.500909   \n",
              "II       11.0  9.0  3.316625  4.0  6.5  9.0  11.5  14.0  11.0  7.500909   \n",
              "III      11.0  9.0  3.316625  4.0  6.5  9.0  11.5  14.0  11.0  7.500000   \n",
              "IV       11.0  9.0  3.316625  8.0  8.0  8.0   8.0  19.0  11.0  7.500909   \n",
              "\n",
              "                                                   \n",
              "              std   min    25%   50%   75%    max  \n",
              "dataset                                            \n",
              "I        2.031568  4.26  6.315  7.58  8.57  10.84  \n",
              "II       2.031657  3.10  6.695  8.14  8.95   9.26  \n",
              "III      2.030424  5.39  6.250  7.11  7.98  12.74  \n",
              "IV       2.030579  5.25  6.170  7.04  8.19  12.50  "
            ]
          },
          "metadata": {
            "tags": []
          },
          "execution_count": 8
        }
      ]
    },
    {
      "metadata": {
        "id": "B0e3IdfVCaMk",
        "colab_type": "code",
        "colab": {
          "base_uri": "https://localhost:8080/",
          "height": 742
        },
        "outputId": "2df99673-3312-41d9-a8a7-95b5474300c3"
      },
      "cell_type": "code",
      "source": [
        "sns.lmplot(x='x',y='y', col='dataset', hue='dataset',data=df, col_wrap=2, ci=None)"
      ],
      "execution_count": 9,
      "outputs": [
        {
          "output_type": "execute_result",
          "data": {
            "text/plain": [
              "<seaborn.axisgrid.FacetGrid at 0x7f3f869bb6a0>"
            ]
          },
          "metadata": {
            "tags": []
          },
          "execution_count": 9
        },
        {
          "output_type": "display_data",
          "data": {
            "image/png": "[encoded data removed]",
            "text/plain": [
              "<Figure size 720x720 with 4 Axes>"
            ]
          },
          "metadata": {
            "tags": []
          }
        }
      ]
    },
    {
      "metadata": {
        "id": "6A5F8iu7Dskz",
        "colab_type": "text"
      },
      "cell_type": "markdown",
      "source": [
        "# Back to Tnseq data"
      ]
    },
    {
      "metadata": {
        "id": "pV2Le3krDl_2",
        "colab_type": "code",
        "colab": {
          "base_uri": "https://localhost:8080/",
          "height": 204
        },
        "outputId": "a2e4623d-47fa-497d-9221-0fc499338028"
      },
      "cell_type": "code",
      "source": [
        "tnseq.head()"
      ],
      "execution_count": 10,
      "outputs": [
        {
          "output_type": "execute_result",
          "data": {
            "text/html": [
              "<div>\n",
              "<style scoped>\n",
              "    .dataframe tbody tr th:only-of-type {\n",
              "        vertical-align: middle;\n",
              "    }\n",
              "\n",
              "    .dataframe tbody tr th {\n",
              "        vertical-align: top;\n",
              "    }\n",
              "\n",
              "    .dataframe thead th {\n",
              "        text-align: right;\n",
              "    }\n",
              "</style>\n",
              "<table border=\"1\" class=\"dataframe\">\n",
              "  <thead>\n",
              "    <tr style=\"text-align: right;\">\n",
              "      <th></th>\n",
              "      <th>pos</th>\n",
              "      <th>blunt</th>\n",
              "      <th>cap</th>\n",
              "      <th>dual</th>\n",
              "      <th>erm</th>\n",
              "      <th>pen</th>\n",
              "      <th>tuf</th>\n",
              "      <th>gene</th>\n",
              "    </tr>\n",
              "  </thead>\n",
              "  <tbody>\n",
              "    <tr>\n",
              "      <th>0</th>\n",
              "      <td>2400002</td>\n",
              "      <td>0.0</td>\n",
              "      <td>0.0</td>\n",
              "      <td>1.0</td>\n",
              "      <td>0.0</td>\n",
              "      <td>0.0</td>\n",
              "      <td>1.0</td>\n",
              "      <td>intergenic</td>\n",
              "    </tr>\n",
              "    <tr>\n",
              "      <th>1</th>\n",
              "      <td>2400004</td>\n",
              "      <td>1.0</td>\n",
              "      <td>0.0</td>\n",
              "      <td>5.0</td>\n",
              "      <td>0.0</td>\n",
              "      <td>0.0</td>\n",
              "      <td>1.0</td>\n",
              "      <td>intergenic</td>\n",
              "    </tr>\n",
              "    <tr>\n",
              "      <th>2</th>\n",
              "      <td>2400006</td>\n",
              "      <td>1.0</td>\n",
              "      <td>0.0</td>\n",
              "      <td>5.0</td>\n",
              "      <td>1.0</td>\n",
              "      <td>0.0</td>\n",
              "      <td>1.0</td>\n",
              "      <td>intergenic</td>\n",
              "    </tr>\n",
              "    <tr>\n",
              "      <th>3</th>\n",
              "      <td>2400009</td>\n",
              "      <td>2.0</td>\n",
              "      <td>2.0</td>\n",
              "      <td>8.0</td>\n",
              "      <td>1.0</td>\n",
              "      <td>0.0</td>\n",
              "      <td>0.0</td>\n",
              "      <td>intergenic</td>\n",
              "    </tr>\n",
              "    <tr>\n",
              "      <th>4</th>\n",
              "      <td>2400029</td>\n",
              "      <td>6.0</td>\n",
              "      <td>1.0</td>\n",
              "      <td>0.0</td>\n",
              "      <td>1.0</td>\n",
              "      <td>0.0</td>\n",
              "      <td>1.0</td>\n",
              "      <td>intergenic</td>\n",
              "    </tr>\n",
              "  </tbody>\n",
              "</table>\n",
              "</div>"
            ],
            "text/plain": [
              "       pos  blunt  cap  dual  erm  pen  tuf        gene\n",
              "0  2400002    0.0  0.0   1.0  0.0  0.0  1.0  intergenic\n",
              "1  2400004    1.0  0.0   5.0  0.0  0.0  1.0  intergenic\n",
              "2  2400006    1.0  0.0   5.0  1.0  0.0  1.0  intergenic\n",
              "3  2400009    2.0  2.0   8.0  1.0  0.0  0.0  intergenic\n",
              "4  2400029    6.0  1.0   0.0  1.0  0.0  1.0  intergenic"
            ]
          },
          "metadata": {
            "tags": []
          },
          "execution_count": 10
        }
      ]
    },
    {
      "metadata": {
        "id": "Dqn-GkxlD0Il",
        "colab_type": "code",
        "colab": {
          "base_uri": "https://localhost:8080/",
          "height": 204
        },
        "outputId": "94ee8b9c-221c-4373-8171-3346943cd7fe"
      },
      "cell_type": "code",
      "source": [
        "gc.head()"
      ],
      "execution_count": 11,
      "outputs": [
        {
          "output_type": "execute_result",
          "data": {
            "text/html": [
              "<div>\n",
              "<style scoped>\n",
              "    .dataframe tbody tr th:only-of-type {\n",
              "        vertical-align: middle;\n",
              "    }\n",
              "\n",
              "    .dataframe tbody tr th {\n",
              "        vertical-align: top;\n",
              "    }\n",
              "\n",
              "    .dataframe thead th {\n",
              "        text-align: right;\n",
              "    }\n",
              "</style>\n",
              "<table border=\"1\" class=\"dataframe\">\n",
              "  <thead>\n",
              "    <tr style=\"text-align: right;\">\n",
              "      <th></th>\n",
              "      <th>pos</th>\n",
              "      <th>gc</th>\n",
              "    </tr>\n",
              "  </thead>\n",
              "  <tbody>\n",
              "    <tr>\n",
              "      <th>0</th>\n",
              "      <td>4</td>\n",
              "      <td>0.339286</td>\n",
              "    </tr>\n",
              "    <tr>\n",
              "      <th>1</th>\n",
              "      <td>10</td>\n",
              "      <td>0.354839</td>\n",
              "    </tr>\n",
              "    <tr>\n",
              "      <th>2</th>\n",
              "      <td>16</td>\n",
              "      <td>0.367647</td>\n",
              "    </tr>\n",
              "    <tr>\n",
              "      <th>3</th>\n",
              "      <td>42</td>\n",
              "      <td>0.372340</td>\n",
              "    </tr>\n",
              "    <tr>\n",
              "      <th>4</th>\n",
              "      <td>79</td>\n",
              "      <td>0.303922</td>\n",
              "    </tr>\n",
              "  </tbody>\n",
              "</table>\n",
              "</div>"
            ],
            "text/plain": [
              "   pos        gc\n",
              "0    4  0.339286\n",
              "1   10  0.354839\n",
              "2   16  0.367647\n",
              "3   42  0.372340\n",
              "4   79  0.303922"
            ]
          },
          "metadata": {
            "tags": []
          },
          "execution_count": 11
        }
      ]
    },
    {
      "metadata": {
        "id": "wCqix1T2D0PQ",
        "colab_type": "code",
        "colab": {}
      },
      "cell_type": "code",
      "source": [
        "tn_gc = tnseq.merge(gc, left_on=\"pos\", right_on=\"pos\", how = \"left\")"
      ],
      "execution_count": 0,
      "outputs": []
    },
    {
      "metadata": {
        "id": "oK9RF7vnEH_x",
        "colab_type": "code",
        "colab": {}
      },
      "cell_type": "code",
      "source": [
        "tn_gc.head()"
      ],
      "execution_count": 0,
      "outputs": []
    },
    {
      "metadata": {
        "id": "b4RkM2ICEQov",
        "colab_type": "code",
        "colab": {}
      },
      "cell_type": "code",
      "source": [
        "tdf = pd.melt(tn_gc, id_vars=['pos','gc','gene'], value_vars=['blunt','cap','dual','erm','pen','tuf'], var_name='construct', value_name='count')"
      ],
      "execution_count": 0,
      "outputs": []
    },
    {
      "metadata": {
        "id": "Fy3bek5MFk93",
        "colab_type": "code",
        "colab": {
          "base_uri": "https://localhost:8080/",
          "height": 204
        },
        "outputId": "45c75b18-c8f2-40fc-c7b5-38a4d38580ab"
      },
      "cell_type": "code",
      "source": [
        "tdf.head()"
      ],
      "execution_count": 15,
      "outputs": [
        {
          "output_type": "execute_result",
          "data": {
            "text/html": [
              "<div>\n",
              "<style scoped>\n",
              "    .dataframe tbody tr th:only-of-type {\n",
              "        vertical-align: middle;\n",
              "    }\n",
              "\n",
              "    .dataframe tbody tr th {\n",
              "        vertical-align: top;\n",
              "    }\n",
              "\n",
              "    .dataframe thead th {\n",
              "        text-align: right;\n",
              "    }\n",
              "</style>\n",
              "<table border=\"1\" class=\"dataframe\">\n",
              "  <thead>\n",
              "    <tr style=\"text-align: right;\">\n",
              "      <th></th>\n",
              "      <th>pos</th>\n",
              "      <th>gc</th>\n",
              "      <th>gene</th>\n",
              "      <th>construct</th>\n",
              "      <th>count</th>\n",
              "    </tr>\n",
              "  </thead>\n",
              "  <tbody>\n",
              "    <tr>\n",
              "      <th>0</th>\n",
              "      <td>2400002</td>\n",
              "      <td>0.225490</td>\n",
              "      <td>intergenic</td>\n",
              "      <td>blunt</td>\n",
              "      <td>0.0</td>\n",
              "    </tr>\n",
              "    <tr>\n",
              "      <th>1</th>\n",
              "      <td>2400004</td>\n",
              "      <td>0.225490</td>\n",
              "      <td>intergenic</td>\n",
              "      <td>blunt</td>\n",
              "      <td>1.0</td>\n",
              "    </tr>\n",
              "    <tr>\n",
              "      <th>2</th>\n",
              "      <td>2400006</td>\n",
              "      <td>0.215686</td>\n",
              "      <td>intergenic</td>\n",
              "      <td>blunt</td>\n",
              "      <td>1.0</td>\n",
              "    </tr>\n",
              "    <tr>\n",
              "      <th>3</th>\n",
              "      <td>2400009</td>\n",
              "      <td>0.225490</td>\n",
              "      <td>intergenic</td>\n",
              "      <td>blunt</td>\n",
              "      <td>2.0</td>\n",
              "    </tr>\n",
              "    <tr>\n",
              "      <th>4</th>\n",
              "      <td>2400029</td>\n",
              "      <td>0.215686</td>\n",
              "      <td>intergenic</td>\n",
              "      <td>blunt</td>\n",
              "      <td>6.0</td>\n",
              "    </tr>\n",
              "  </tbody>\n",
              "</table>\n",
              "</div>"
            ],
            "text/plain": [
              "       pos        gc        gene construct  count\n",
              "0  2400002  0.225490  intergenic     blunt    0.0\n",
              "1  2400004  0.225490  intergenic     blunt    1.0\n",
              "2  2400006  0.215686  intergenic     blunt    1.0\n",
              "3  2400009  0.225490  intergenic     blunt    2.0\n",
              "4  2400029  0.215686  intergenic     blunt    6.0"
            ]
          },
          "metadata": {
            "tags": []
          },
          "execution_count": 15
        }
      ]
    },
    {
      "metadata": {
        "id": "jXpmscHtGHhq",
        "colab_type": "code",
        "colab": {
          "base_uri": "https://localhost:8080/",
          "height": 204
        },
        "outputId": "63779af3-428f-41d9-bb3d-95cb6050faf6"
      },
      "cell_type": "code",
      "source": [
        "tdf[tdf['gene']!='intergenic'].head()"
      ],
      "execution_count": 16,
      "outputs": [
        {
          "output_type": "execute_result",
          "data": {
            "text/html": [
              "<div>\n",
              "<style scoped>\n",
              "    .dataframe tbody tr th:only-of-type {\n",
              "        vertical-align: middle;\n",
              "    }\n",
              "\n",
              "    .dataframe tbody tr th {\n",
              "        vertical-align: top;\n",
              "    }\n",
              "\n",
              "    .dataframe thead th {\n",
              "        text-align: right;\n",
              "    }\n",
              "</style>\n",
              "<table border=\"1\" class=\"dataframe\">\n",
              "  <thead>\n",
              "    <tr style=\"text-align: right;\">\n",
              "      <th></th>\n",
              "      <th>pos</th>\n",
              "      <th>gc</th>\n",
              "      <th>gene</th>\n",
              "      <th>construct</th>\n",
              "      <th>count</th>\n",
              "    </tr>\n",
              "  </thead>\n",
              "  <tbody>\n",
              "    <tr>\n",
              "      <th>26</th>\n",
              "      <td>2400206</td>\n",
              "      <td>0.303922</td>\n",
              "      <td>gene2461</td>\n",
              "      <td>blunt</td>\n",
              "      <td>2.0</td>\n",
              "    </tr>\n",
              "    <tr>\n",
              "      <th>27</th>\n",
              "      <td>2400211</td>\n",
              "      <td>0.323529</td>\n",
              "      <td>gene2461</td>\n",
              "      <td>blunt</td>\n",
              "      <td>0.0</td>\n",
              "    </tr>\n",
              "    <tr>\n",
              "      <th>28</th>\n",
              "      <td>2400226</td>\n",
              "      <td>0.294118</td>\n",
              "      <td>gene2461</td>\n",
              "      <td>blunt</td>\n",
              "      <td>0.0</td>\n",
              "    </tr>\n",
              "    <tr>\n",
              "      <th>29</th>\n",
              "      <td>2400231</td>\n",
              "      <td>0.303922</td>\n",
              "      <td>gene2461</td>\n",
              "      <td>blunt</td>\n",
              "      <td>0.0</td>\n",
              "    </tr>\n",
              "    <tr>\n",
              "      <th>30</th>\n",
              "      <td>2400243</td>\n",
              "      <td>0.294118</td>\n",
              "      <td>gene2461</td>\n",
              "      <td>blunt</td>\n",
              "      <td>3.0</td>\n",
              "    </tr>\n",
              "  </tbody>\n",
              "</table>\n",
              "</div>"
            ],
            "text/plain": [
              "        pos        gc      gene construct  count\n",
              "26  2400206  0.303922  gene2461     blunt    2.0\n",
              "27  2400211  0.323529  gene2461     blunt    0.0\n",
              "28  2400226  0.294118  gene2461     blunt    0.0\n",
              "29  2400231  0.303922  gene2461     blunt    0.0\n",
              "30  2400243  0.294118  gene2461     blunt    3.0"
            ]
          },
          "metadata": {
            "tags": []
          },
          "execution_count": 16
        }
      ]
    },
    {
      "metadata": {
        "id": "7Mjdd6c7GpFL",
        "colab_type": "code",
        "colab": {}
      },
      "cell_type": "code",
      "source": [
        "tdf.loc[tdf['gene']=='intergenic', 'genic'] = 'no'"
      ],
      "execution_count": 0,
      "outputs": []
    },
    {
      "metadata": {
        "id": "2EHrgpZAG7Pa",
        "colab_type": "code",
        "colab": {}
      },
      "cell_type": "code",
      "source": [
        "tdf.loc[tdf['gene']!='intergenic', 'genic'] = 'yes'"
      ],
      "execution_count": 0,
      "outputs": []
    },
    {
      "metadata": {
        "id": "xNrZQzBgG_bz",
        "colab_type": "code",
        "colab": {
          "base_uri": "https://localhost:8080/",
          "height": 204
        },
        "outputId": "154c0922-fa98-46fc-cd68-54e45e89c3bf"
      },
      "cell_type": "code",
      "source": [
        "tdf[tdf['gene']!='intergenic'].head()"
      ],
      "execution_count": 19,
      "outputs": [
        {
          "output_type": "execute_result",
          "data": {
            "text/html": [
              "<div>\n",
              "<style scoped>\n",
              "    .dataframe tbody tr th:only-of-type {\n",
              "        vertical-align: middle;\n",
              "    }\n",
              "\n",
              "    .dataframe tbody tr th {\n",
              "        vertical-align: top;\n",
              "    }\n",
              "\n",
              "    .dataframe thead th {\n",
              "        text-align: right;\n",
              "    }\n",
              "</style>\n",
              "<table border=\"1\" class=\"dataframe\">\n",
              "  <thead>\n",
              "    <tr style=\"text-align: right;\">\n",
              "      <th></th>\n",
              "      <th>pos</th>\n",
              "      <th>gc</th>\n",
              "      <th>gene</th>\n",
              "      <th>construct</th>\n",
              "      <th>count</th>\n",
              "      <th>genic</th>\n",
              "    </tr>\n",
              "  </thead>\n",
              "  <tbody>\n",
              "    <tr>\n",
              "      <th>26</th>\n",
              "      <td>2400206</td>\n",
              "      <td>0.303922</td>\n",
              "      <td>gene2461</td>\n",
              "      <td>blunt</td>\n",
              "      <td>2.0</td>\n",
              "      <td>yes</td>\n",
              "    </tr>\n",
              "    <tr>\n",
              "      <th>27</th>\n",
              "      <td>2400211</td>\n",
              "      <td>0.323529</td>\n",
              "      <td>gene2461</td>\n",
              "      <td>blunt</td>\n",
              "      <td>0.0</td>\n",
              "      <td>yes</td>\n",
              "    </tr>\n",
              "    <tr>\n",
              "      <th>28</th>\n",
              "      <td>2400226</td>\n",
              "      <td>0.294118</td>\n",
              "      <td>gene2461</td>\n",
              "      <td>blunt</td>\n",
              "      <td>0.0</td>\n",
              "      <td>yes</td>\n",
              "    </tr>\n",
              "    <tr>\n",
              "      <th>29</th>\n",
              "      <td>2400231</td>\n",
              "      <td>0.303922</td>\n",
              "      <td>gene2461</td>\n",
              "      <td>blunt</td>\n",
              "      <td>0.0</td>\n",
              "      <td>yes</td>\n",
              "    </tr>\n",
              "    <tr>\n",
              "      <th>30</th>\n",
              "      <td>2400243</td>\n",
              "      <td>0.294118</td>\n",
              "      <td>gene2461</td>\n",
              "      <td>blunt</td>\n",
              "      <td>3.0</td>\n",
              "      <td>yes</td>\n",
              "    </tr>\n",
              "  </tbody>\n",
              "</table>\n",
              "</div>"
            ],
            "text/plain": [
              "        pos        gc      gene construct  count genic\n",
              "26  2400206  0.303922  gene2461     blunt    2.0   yes\n",
              "27  2400211  0.323529  gene2461     blunt    0.0   yes\n",
              "28  2400226  0.294118  gene2461     blunt    0.0   yes\n",
              "29  2400231  0.303922  gene2461     blunt    0.0   yes\n",
              "30  2400243  0.294118  gene2461     blunt    3.0   yes"
            ]
          },
          "metadata": {
            "tags": []
          },
          "execution_count": 19
        }
      ]
    },
    {
      "metadata": {
        "id": "Qtgb_P3nHKdE",
        "colab_type": "code",
        "colab": {
          "base_uri": "https://localhost:8080/",
          "height": 308
        },
        "outputId": "c53d7963-f7ac-4955-a820-4b347028ab9c"
      },
      "cell_type": "code",
      "source": [
        "sns.distplot(tdf['gc'])"
      ],
      "execution_count": 20,
      "outputs": [
        {
          "output_type": "execute_result",
          "data": {
            "text/plain": [
              "<matplotlib.axes._subplots.AxesSubplot at 0x7f3f84820e80>"
            ]
          },
          "metadata": {
            "tags": []
          },
          "execution_count": 20
        },
        {
          "output_type": "display_data",
          "data": {
            "image/png": "[encoded data removed]",
            "text/plain": [
              "<Figure size 432x288 with 1 Axes>"
            ]
          },
          "metadata": {
            "tags": []
          }
        }
      ]
    },
    {
      "metadata": {
        "id": "exN-4tr5Hqd4",
        "colab_type": "code",
        "colab": {
          "base_uri": "https://localhost:8080/",
          "height": 308
        },
        "outputId": "37255eae-b8a2-4620-a961-2d859799b8b5"
      },
      "cell_type": "code",
      "source": [
        "sns.distplot(tdf['count'][(tdf['count']> 0) & (tdf['count']<200)])"
      ],
      "execution_count": 21,
      "outputs": [
        {
          "output_type": "execute_result",
          "data": {
            "text/plain": [
              "<matplotlib.axes._subplots.AxesSubplot at 0x7f3f821fc5c0>"
            ]
          },
          "metadata": {
            "tags": []
          },
          "execution_count": 21
        },
        {
          "output_type": "display_data",
          "data": {
            "image/png": "[encoded data removed]",
            "text/plain": [
              "<Figure size 432x288 with 1 Axes>"
            ]
          },
          "metadata": {
            "tags": []
          }
        }
      ]
    },
    {
      "metadata": {
        "id": "8iTS_He9IT_a",
        "colab_type": "code",
        "colab": {
          "base_uri": "https://localhost:8080/",
          "height": 314
        },
        "outputId": "14b88e13-c4af-4ea3-a108-dadf2145a62b"
      },
      "cell_type": "code",
      "source": [
        "g = sns.distplot(tdf['count'][(tdf['count']> 0) & (tdf['count']<200)])\n",
        "g.set(xscale='log')"
      ],
      "execution_count": 22,
      "outputs": [
        {
          "output_type": "execute_result",
          "data": {
            "text/plain": [
              "[None]"
            ]
          },
          "metadata": {
            "tags": []
          },
          "execution_count": 22
        },
        {
          "output_type": "display_data",
          "data": {
            "image/png": "[encoded data removed]",
            "text/plain": [
              "<Figure size 432x288 with 1 Axes>"
            ]
          },
          "metadata": {
            "tags": []
          }
        }
      ]
    },
    {
      "metadata": {
        "id": "XF_Rdh-4Ijqz",
        "colab_type": "code",
        "colab": {
          "base_uri": "https://localhost:8080/",
          "height": 382
        },
        "outputId": "699b65fe-221d-49f3-c499-8084acca0656"
      },
      "cell_type": "code",
      "source": [
        "sns.relplot(x='gc', y='count', data=tdf[tdf['count']>100],hue='construct',style='genic')"
      ],
      "execution_count": 24,
      "outputs": [
        {
          "output_type": "execute_result",
          "data": {
            "text/plain": [
              "<seaborn.axisgrid.FacetGrid at 0x7f3f84645b70>"
            ]
          },
          "metadata": {
            "tags": []
          },
          "execution_count": 24
        },
        {
          "output_type": "display_data",
          "data": {
            "image/png": "[encoded data removed]",
            "text/plain": [
              "<Figure size 451.6x360 with 1 Axes>"
            ]
          },
          "metadata": {
            "tags": []
          }
        }
      ]
    },
    {
      "metadata": {
        "id": "_EZwMrb7KicA",
        "colab_type": "code",
        "colab": {
          "base_uri": "https://localhost:8080/",
          "height": 382
        },
        "outputId": "004dbb42-dac6-4847-c8b5-1b17c64081dc"
      },
      "cell_type": "code",
      "source": [
        "sns.catplot(x='construct',y='count',data=tdf[tdf['count']>100])"
      ],
      "execution_count": 25,
      "outputs": [
        {
          "output_type": "execute_result",
          "data": {
            "text/plain": [
              "<seaborn.axisgrid.FacetGrid at 0x7f3f8480d710>"
            ]
          },
          "metadata": {
            "tags": []
          },
          "execution_count": 25
        },
        {
          "output_type": "display_data",
          "data": {
            "image/png": "[encoded data removed]",
            "text/plain": [
              "<Figure size 360x360 with 1 Axes>"
            ]
          },
          "metadata": {
            "tags": []
          }
        }
      ]
    },
    {
      "metadata": {
        "id": "gl68kyFtLN0s",
        "colab_type": "code",
        "colab": {
          "base_uri": "https://localhost:8080/",
          "height": 382
        },
        "outputId": "88cc30c7-f0e8-4ade-b77e-6eece3efe6ca"
      },
      "cell_type": "code",
      "source": [
        "sns.catplot(x='construct',y='count',data=tdf[tdf['count']>100],jitter=False)"
      ],
      "execution_count": 26,
      "outputs": [
        {
          "output_type": "execute_result",
          "data": {
            "text/plain": [
              "<seaborn.axisgrid.FacetGrid at 0x7f3f843936a0>"
            ]
          },
          "metadata": {
            "tags": []
          },
          "execution_count": 26
        },
        {
          "output_type": "display_data",
          "data": {
            "image/png": "[encoded data removed]",
            "text/plain": [
              "<Figure size 360x360 with 1 Axes>"
            ]
          },
          "metadata": {
            "tags": []
          }
        }
      ]
    },
    {
      "metadata": {
        "id": "rQNn6PEfLa2p",
        "colab_type": "code",
        "colab": {
          "base_uri": "https://localhost:8080/",
          "height": 382
        },
        "outputId": "55126ab0-1989-4258-c71d-a3f02c49659e"
      },
      "cell_type": "code",
      "source": [
        "sns.catplot(x='construct',y='count',data=tdf[tdf['count']>100],kind='swarm')"
      ],
      "execution_count": 27,
      "outputs": [
        {
          "output_type": "execute_result",
          "data": {
            "text/plain": [
              "<seaborn.axisgrid.FacetGrid at 0x7f3f843edd30>"
            ]
          },
          "metadata": {
            "tags": []
          },
          "execution_count": 27
        },
        {
          "output_type": "display_data",
          "data": {
            "image/png": "[encoded data removed]",
            "text/plain": [
              "<Figure size 360x360 with 1 Axes>"
            ]
          },
          "metadata": {
            "tags": []
          }
        }
      ]
    },
    {
      "metadata": {
        "id": "N_X0vlJZLwB3",
        "colab_type": "code",
        "colab": {
          "base_uri": "https://localhost:8080/",
          "height": 382
        },
        "outputId": "8e996cd5-77c9-4b73-b448-bee86b69f49f"
      },
      "cell_type": "code",
      "source": [
        "sns.catplot(x='construct',y='count',data=tdf[tdf['count']>100],hue='genic')"
      ],
      "execution_count": 28,
      "outputs": [
        {
          "output_type": "execute_result",
          "data": {
            "text/plain": [
              "<seaborn.axisgrid.FacetGrid at 0x7f3f84312978>"
            ]
          },
          "metadata": {
            "tags": []
          },
          "execution_count": 28
        },
        {
          "output_type": "display_data",
          "data": {
            "image/png": "[encoded data removed]",
            "text/plain": [
              "<Figure size 418.725x360 with 1 Axes>"
            ]
          },
          "metadata": {
            "tags": []
          }
        }
      ]
    },
    {
      "metadata": {
        "id": "wRf46sX4L9Wq",
        "colab_type": "code",
        "colab": {
          "base_uri": "https://localhost:8080/",
          "height": 382
        },
        "outputId": "b7d5eb9f-50b8-4789-a1da-d57c4e3db4c3"
      },
      "cell_type": "code",
      "source": [
        "sns.catplot(x='construct',y='count',data=tdf[(tdf['count']>100) & (tdf['count']<1000)],hue='genic',kind='boxen')"
      ],
      "execution_count": 35,
      "outputs": [
        {
          "output_type": "execute_result",
          "data": {
            "text/plain": [
              "<seaborn.axisgrid.FacetGrid at 0x7f3f83e2a3c8>"
            ]
          },
          "metadata": {
            "tags": []
          },
          "execution_count": 35
        },
        {
          "output_type": "display_data",
          "data": {
            "image/png": "[encoded data removed]",
            "text/plain": [
              "<Figure size 418.725x360 with 1 Axes>"
            ]
          },
          "metadata": {
            "tags": []
          }
        }
      ]
    },
    {
      "metadata": {
        "id": "WwJdIcSMNlil",
        "colab_type": "code",
        "colab": {}
      },
      "cell_type": "code",
      "source": [
        "small_df = tdf[(tdf['count']>100) & (tdf['count']<1000)]"
      ],
      "execution_count": 0,
      "outputs": []
    },
    {
      "metadata": {
        "id": "FAWq4AWxNzwP",
        "colab_type": "code",
        "colab": {
          "base_uri": "https://localhost:8080/",
          "height": 382
        },
        "outputId": "b0efffb1-3bc3-4714-8df3-8fb68069be1d"
      },
      "cell_type": "code",
      "source": [
        "sns.catplot(x='construct',y='count',data=small_df,kind='violin',hue='genic',split=True)"
      ],
      "execution_count": 40,
      "outputs": [
        {
          "output_type": "execute_result",
          "data": {
            "text/plain": [
              "<seaborn.axisgrid.FacetGrid at 0x7f3f83ddecc0>"
            ]
          },
          "metadata": {
            "tags": []
          },
          "execution_count": 40
        },
        {
          "output_type": "display_data",
          "data": {
            "image/png": "[encoded data removed]",
            "text/plain": [
              "<Figure size 418.725x360 with 1 Axes>"
            ]
          },
          "metadata": {
            "tags": []
          }
        }
      ]
    },
    {
      "metadata": {
        "id": "ndCr7CaCOozf",
        "colab_type": "code",
        "colab": {
          "base_uri": "https://localhost:8080/",
          "height": 382
        },
        "outputId": "aeecd264-dfb1-476e-c49b-d6385df718d8"
      },
      "cell_type": "code",
      "source": [
        "sns.catplot(x='construct',y='count',hue='genic',kind='bar', data=small_df)"
      ],
      "execution_count": 41,
      "outputs": [
        {
          "output_type": "execute_result",
          "data": {
            "text/plain": [
              "<seaborn.axisgrid.FacetGrid at 0x7f3f83a08940>"
            ]
          },
          "metadata": {
            "tags": []
          },
          "execution_count": 41
        },
        {
          "output_type": "display_data",
          "data": {
            "image/png": "[encoded data removed]",
            "text/plain": [
              "<Figure size 418.725x360 with 1 Axes>"
            ]
          },
          "metadata": {
            "tags": []
          }
        }
      ]
    }
  ]
}